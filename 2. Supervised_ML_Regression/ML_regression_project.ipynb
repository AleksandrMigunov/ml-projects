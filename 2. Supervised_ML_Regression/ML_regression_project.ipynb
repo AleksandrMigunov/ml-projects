{
 "cells": [
  {
   "cell_type": "markdown",
   "id": "88ec2f40",
   "metadata": {},
   "source": [
    "<h1>ML Regression (modified from previously completed Advance Data Science Capstone Project)</h1>"
   ]
  },
  {
   "cell_type": "markdown",
   "id": "2b132de8",
   "metadata": {},
   "source": [
    "<h1>Vaccination against COVID vs. New Cases of COVID</h1>\n",
    "<h2>(Machine Learning)</h2>\n",
    "\n",
    "Here I am going to develop models of the progress of vaccination and full vaccination in the world. "
   ]
  },
  {
   "cell_type": "markdown",
   "id": "26fbdbd1",
   "metadata": {},
   "source": [
    "Here I am going to develop models of the progress of vaccination and full vaccination in the world. "
   ]
  },
  {
   "cell_type": "code",
   "execution_count": 1,
   "id": "073d96f1",
   "metadata": {},
   "outputs": [],
   "source": [
    "#importing libraries\n",
    "import pandas as pd\n",
    "import numpy as np\n",
    "import matplotlib.pyplot as plt\n",
    "import seaborn as sns\n",
    "import scipy.stats\n",
    "%matplotlib inline\n",
    "from sklearn import linear_model\n",
    "from sklearn.metrics import r2_score\n",
    "from sklearn import metrics\n",
    "from sklearn.preprocessing import PolynomialFeatures"
   ]
  },
  {
   "cell_type": "code",
   "execution_count": 2,
   "id": "b9f3b0a5",
   "metadata": {},
   "outputs": [],
   "source": [
    "#reading datasets which was created in the previous notebook\n",
    "df_world1 = pd.read_csv(\"covid-data-world-vaccination.csv\")\n",
    "df_world2 = pd.read_csv(\"covid-data-world-full-vaccination.csv\")\n",
    "df_world3 = pd.read_csv(\"covid-data-world-revaccination.csv\")\n",
    "df_world1 = df_world1[['location','date','total_cases','new_cases','total_deaths','new_deaths',\n",
    "                     'total_vaccinations','people_vaccinated','people_fully_vaccinated',\n",
    "                     'total_boosters','new_vaccinations','population']]\n",
    "df_world2 = df_world2[['location','date','total_cases','new_cases','total_deaths','new_deaths',\n",
    "                     'total_vaccinations','people_vaccinated','people_fully_vaccinated',\n",
    "                     'total_boosters','new_vaccinations','population']]\n",
    "df_world3 = df_world3[['location','date','total_cases','new_cases','total_deaths','new_deaths',\n",
    "                     'total_vaccinations','people_vaccinated','people_fully_vaccinated',\n",
    "                     'total_boosters','new_vaccinations','population']]"
   ]
  },
  {
   "cell_type": "code",
   "execution_count": 3,
   "id": "4f47ee78",
   "metadata": {},
   "outputs": [
    {
     "data": {
      "text/html": [
       "<div>\n",
       "<style scoped>\n",
       "    .dataframe tbody tr th:only-of-type {\n",
       "        vertical-align: middle;\n",
       "    }\n",
       "\n",
       "    .dataframe tbody tr th {\n",
       "        vertical-align: top;\n",
       "    }\n",
       "\n",
       "    .dataframe thead th {\n",
       "        text-align: right;\n",
       "    }\n",
       "</style>\n",
       "<table border=\"1\" class=\"dataframe\">\n",
       "  <thead>\n",
       "    <tr style=\"text-align: right;\">\n",
       "      <th></th>\n",
       "      <th>location</th>\n",
       "      <th>date</th>\n",
       "      <th>total_cases</th>\n",
       "      <th>new_cases</th>\n",
       "      <th>total_deaths</th>\n",
       "      <th>new_deaths</th>\n",
       "      <th>total_vaccinations</th>\n",
       "      <th>people_vaccinated</th>\n",
       "      <th>people_fully_vaccinated</th>\n",
       "      <th>total_boosters</th>\n",
       "      <th>new_vaccinations</th>\n",
       "      <th>population</th>\n",
       "    </tr>\n",
       "  </thead>\n",
       "  <tbody>\n",
       "    <tr>\n",
       "      <th>0</th>\n",
       "      <td>World</td>\n",
       "      <td>2020-12-01</td>\n",
       "      <td>64019400.0</td>\n",
       "      <td>624844.0</td>\n",
       "      <td>1538676.0</td>\n",
       "      <td>12759.0</td>\n",
       "      <td>0.0</td>\n",
       "      <td>0.0</td>\n",
       "      <td>0.0</td>\n",
       "      <td>0.0</td>\n",
       "      <td>0.0</td>\n",
       "      <td>7.874966e+09</td>\n",
       "    </tr>\n",
       "    <tr>\n",
       "      <th>1</th>\n",
       "      <td>World</td>\n",
       "      <td>2020-12-02</td>\n",
       "      <td>64664686.0</td>\n",
       "      <td>645286.0</td>\n",
       "      <td>1551319.0</td>\n",
       "      <td>12643.0</td>\n",
       "      <td>0.0</td>\n",
       "      <td>0.0</td>\n",
       "      <td>0.0</td>\n",
       "      <td>0.0</td>\n",
       "      <td>0.0</td>\n",
       "      <td>7.874966e+09</td>\n",
       "    </tr>\n",
       "    <tr>\n",
       "      <th>2</th>\n",
       "      <td>World</td>\n",
       "      <td>2020-12-03</td>\n",
       "      <td>65357601.0</td>\n",
       "      <td>692915.0</td>\n",
       "      <td>1563919.0</td>\n",
       "      <td>12600.0</td>\n",
       "      <td>0.0</td>\n",
       "      <td>0.0</td>\n",
       "      <td>0.0</td>\n",
       "      <td>0.0</td>\n",
       "      <td>0.0</td>\n",
       "      <td>7.874966e+09</td>\n",
       "    </tr>\n",
       "    <tr>\n",
       "      <th>3</th>\n",
       "      <td>World</td>\n",
       "      <td>2020-12-04</td>\n",
       "      <td>66047271.0</td>\n",
       "      <td>689670.0</td>\n",
       "      <td>1576379.0</td>\n",
       "      <td>12460.0</td>\n",
       "      <td>1.0</td>\n",
       "      <td>1.0</td>\n",
       "      <td>0.0</td>\n",
       "      <td>0.0</td>\n",
       "      <td>0.0</td>\n",
       "      <td>7.874966e+09</td>\n",
       "    </tr>\n",
       "    <tr>\n",
       "      <th>4</th>\n",
       "      <td>World</td>\n",
       "      <td>2020-12-05</td>\n",
       "      <td>66694363.0</td>\n",
       "      <td>647092.0</td>\n",
       "      <td>1586717.0</td>\n",
       "      <td>10338.0</td>\n",
       "      <td>1.0</td>\n",
       "      <td>1.0</td>\n",
       "      <td>0.0</td>\n",
       "      <td>0.0</td>\n",
       "      <td>0.0</td>\n",
       "      <td>7.874966e+09</td>\n",
       "    </tr>\n",
       "  </tbody>\n",
       "</table>\n",
       "</div>"
      ],
      "text/plain": [
       "  location        date  total_cases  new_cases  total_deaths  new_deaths  \\\n",
       "0    World  2020-12-01   64019400.0   624844.0     1538676.0     12759.0   \n",
       "1    World  2020-12-02   64664686.0   645286.0     1551319.0     12643.0   \n",
       "2    World  2020-12-03   65357601.0   692915.0     1563919.0     12600.0   \n",
       "3    World  2020-12-04   66047271.0   689670.0     1576379.0     12460.0   \n",
       "4    World  2020-12-05   66694363.0   647092.0     1586717.0     10338.0   \n",
       "\n",
       "   total_vaccinations  people_vaccinated  people_fully_vaccinated  \\\n",
       "0                 0.0                0.0                      0.0   \n",
       "1                 0.0                0.0                      0.0   \n",
       "2                 0.0                0.0                      0.0   \n",
       "3                 1.0                1.0                      0.0   \n",
       "4                 1.0                1.0                      0.0   \n",
       "\n",
       "   total_boosters  new_vaccinations    population  \n",
       "0             0.0               0.0  7.874966e+09  \n",
       "1             0.0               0.0  7.874966e+09  \n",
       "2             0.0               0.0  7.874966e+09  \n",
       "3             0.0               0.0  7.874966e+09  \n",
       "4             0.0               0.0  7.874966e+09  "
      ]
     },
     "execution_count": 3,
     "metadata": {},
     "output_type": "execute_result"
    }
   ],
   "source": [
    "df_world1.head()"
   ]
  },
  {
   "cell_type": "markdown",
   "id": "0c2e1fd4",
   "metadata": {},
   "source": []
  },
  {
   "cell_type": "markdown",
   "id": "0a89b001",
   "metadata": {},
   "source": [
    "<h2>Feature Engineering</h2>"
   ]
  },
  {
   "cell_type": "markdown",
   "id": "5f95f28d",
   "metadata": {},
   "source": [
    "For machine training, dates need to be transformed into date_delta."
   ]
  },
  {
   "cell_type": "code",
   "execution_count": 4,
   "id": "cde68f20",
   "metadata": {},
   "outputs": [
    {
     "name": "stderr",
     "output_type": "stream",
     "text": [
      "/home/alexandr/.local/lib/python3.6/site-packages/ipykernel_launcher.py:2: SettingWithCopyWarning: \n",
      "A value is trying to be set on a copy of a slice from a DataFrame.\n",
      "Try using .loc[row_indexer,col_indexer] = value instead\n",
      "\n",
      "See the caveats in the documentation: https://pandas.pydata.org/pandas-docs/stable/user_guide/indexing.html#returning-a-view-versus-a-copy\n",
      "  \n",
      "/home/alexandr/.local/lib/python3.6/site-packages/ipykernel_launcher.py:3: SettingWithCopyWarning: \n",
      "A value is trying to be set on a copy of a slice from a DataFrame.\n",
      "Try using .loc[row_indexer,col_indexer] = value instead\n",
      "\n",
      "See the caveats in the documentation: https://pandas.pydata.org/pandas-docs/stable/user_guide/indexing.html#returning-a-view-versus-a-copy\n",
      "  This is separate from the ipykernel package so we can avoid doing imports until\n"
     ]
    },
    {
     "data": {
      "text/html": [
       "<div>\n",
       "<style scoped>\n",
       "    .dataframe tbody tr th:only-of-type {\n",
       "        vertical-align: middle;\n",
       "    }\n",
       "\n",
       "    .dataframe tbody tr th {\n",
       "        vertical-align: top;\n",
       "    }\n",
       "\n",
       "    .dataframe thead th {\n",
       "        text-align: right;\n",
       "    }\n",
       "</style>\n",
       "<table border=\"1\" class=\"dataframe\">\n",
       "  <thead>\n",
       "    <tr style=\"text-align: right;\">\n",
       "      <th></th>\n",
       "      <th>people_vaccinated</th>\n",
       "      <th>date</th>\n",
       "      <th>date_s</th>\n",
       "      <th>date_delta</th>\n",
       "    </tr>\n",
       "  </thead>\n",
       "  <tbody>\n",
       "    <tr>\n",
       "      <th>477</th>\n",
       "      <td>5.055125e+09</td>\n",
       "      <td>2022-03-23</td>\n",
       "      <td>2022-03-23</td>\n",
       "      <td>477.0</td>\n",
       "    </tr>\n",
       "    <tr>\n",
       "      <th>478</th>\n",
       "      <td>5.059154e+09</td>\n",
       "      <td>2022-03-24</td>\n",
       "      <td>2022-03-24</td>\n",
       "      <td>478.0</td>\n",
       "    </tr>\n",
       "    <tr>\n",
       "      <th>479</th>\n",
       "      <td>5.061634e+09</td>\n",
       "      <td>2022-03-25</td>\n",
       "      <td>2022-03-25</td>\n",
       "      <td>479.0</td>\n",
       "    </tr>\n",
       "    <tr>\n",
       "      <th>480</th>\n",
       "      <td>5.065062e+09</td>\n",
       "      <td>2022-03-26</td>\n",
       "      <td>2022-03-26</td>\n",
       "      <td>480.0</td>\n",
       "    </tr>\n",
       "    <tr>\n",
       "      <th>481</th>\n",
       "      <td>5.067449e+09</td>\n",
       "      <td>2022-03-27</td>\n",
       "      <td>2022-03-27</td>\n",
       "      <td>481.0</td>\n",
       "    </tr>\n",
       "  </tbody>\n",
       "</table>\n",
       "</div>"
      ],
      "text/plain": [
       "     people_vaccinated        date     date_s  date_delta\n",
       "477       5.055125e+09  2022-03-23 2022-03-23       477.0\n",
       "478       5.059154e+09  2022-03-24 2022-03-24       478.0\n",
       "479       5.061634e+09  2022-03-25 2022-03-25       479.0\n",
       "480       5.065062e+09  2022-03-26 2022-03-26       480.0\n",
       "481       5.067449e+09  2022-03-27 2022-03-27       481.0"
      ]
     },
     "execution_count": 4,
     "metadata": {},
     "output_type": "execute_result"
    }
   ],
   "source": [
    "df_world1_ml = df_world1[['people_vaccinated','date']]\n",
    "df_world1_ml['date_s'] = pd.to_datetime(df_world1_ml['date'])\n",
    "df_world1_ml['date_delta'] = (df_world1_ml['date_s'] - df_world1_ml['date_s'].min())  / np.timedelta64(1,'D')\n",
    "df_world1_ml.tail()"
   ]
  },
  {
   "cell_type": "code",
   "execution_count": 5,
   "id": "9813bf9e",
   "metadata": {},
   "outputs": [
    {
     "name": "stdout",
     "output_type": "stream",
     "text": [
      "<class 'pandas.core.frame.DataFrame'>\n",
      "RangeIndex: 482 entries, 0 to 481\n",
      "Data columns (total 4 columns):\n",
      " #   Column             Non-Null Count  Dtype         \n",
      "---  ------             --------------  -----         \n",
      " 0   people_vaccinated  482 non-null    float64       \n",
      " 1   date               482 non-null    object        \n",
      " 2   date_s             482 non-null    datetime64[ns]\n",
      " 3   date_delta         482 non-null    float64       \n",
      "dtypes: datetime64[ns](1), float64(2), object(1)\n",
      "memory usage: 15.2+ KB\n"
     ]
    }
   ],
   "source": [
    "df_world1_ml.info()"
   ]
  },
  {
   "cell_type": "code",
   "execution_count": 6,
   "id": "91f1fcc1",
   "metadata": {},
   "outputs": [
    {
     "data": {
      "image/png": "[encoded data removed]",
      "text/plain": [
       "<Figure size 432x288 with 1 Axes>"
      ]
     },
     "metadata": {
      "needs_background": "light"
     },
     "output_type": "display_data"
    }
   ],
   "source": [
    "plt.plot(df_world1_ml['date_delta'], df_world1_ml['people_vaccinated'])\n",
    "plt.xlabel(\"days of vaccination\")\n",
    "plt.ylabel(\"people vaccinated\")\n",
    "plt.title(\"vaccination against Covid in the world\")\n",
    "plt.show()"
   ]
  },
  {
   "cell_type": "markdown",
   "id": "c769e1c7",
   "metadata": {},
   "source": []
  },
  {
   "cell_type": "code",
   "execution_count": 7,
   "id": "bfb7caba",
   "metadata": {},
   "outputs": [
    {
     "name": "stderr",
     "output_type": "stream",
     "text": [
      "/home/alexandr/.local/lib/python3.6/site-packages/ipykernel_launcher.py:2: SettingWithCopyWarning: \n",
      "A value is trying to be set on a copy of a slice from a DataFrame.\n",
      "Try using .loc[row_indexer,col_indexer] = value instead\n",
      "\n",
      "See the caveats in the documentation: https://pandas.pydata.org/pandas-docs/stable/user_guide/indexing.html#returning-a-view-versus-a-copy\n",
      "  \n",
      "/home/alexandr/.local/lib/python3.6/site-packages/ipykernel_launcher.py:3: SettingWithCopyWarning: \n",
      "A value is trying to be set on a copy of a slice from a DataFrame.\n",
      "Try using .loc[row_indexer,col_indexer] = value instead\n",
      "\n",
      "See the caveats in the documentation: https://pandas.pydata.org/pandas-docs/stable/user_guide/indexing.html#returning-a-view-versus-a-copy\n",
      "  This is separate from the ipykernel package so we can avoid doing imports until\n"
     ]
    },
    {
     "data": {
      "text/html": [
       "<div>\n",
       "<style scoped>\n",
       "    .dataframe tbody tr th:only-of-type {\n",
       "        vertical-align: middle;\n",
       "    }\n",
       "\n",
       "    .dataframe tbody tr th {\n",
       "        vertical-align: top;\n",
       "    }\n",
       "\n",
       "    .dataframe thead th {\n",
       "        text-align: right;\n",
       "    }\n",
       "</style>\n",
       "<table border=\"1\" class=\"dataframe\">\n",
       "  <thead>\n",
       "    <tr style=\"text-align: right;\">\n",
       "      <th></th>\n",
       "      <th>people_fully_vaccinated</th>\n",
       "      <th>date</th>\n",
       "      <th>date_s</th>\n",
       "      <th>date_delta</th>\n",
       "    </tr>\n",
       "  </thead>\n",
       "  <tbody>\n",
       "    <tr>\n",
       "      <th>465</th>\n",
       "      <td>4.513876e+09</td>\n",
       "      <td>2022-03-23</td>\n",
       "      <td>2022-03-23</td>\n",
       "      <td>465.0</td>\n",
       "    </tr>\n",
       "    <tr>\n",
       "      <th>466</th>\n",
       "      <td>4.517634e+09</td>\n",
       "      <td>2022-03-24</td>\n",
       "      <td>2022-03-24</td>\n",
       "      <td>466.0</td>\n",
       "    </tr>\n",
       "    <tr>\n",
       "      <th>467</th>\n",
       "      <td>4.519827e+09</td>\n",
       "      <td>2022-03-25</td>\n",
       "      <td>2022-03-25</td>\n",
       "      <td>467.0</td>\n",
       "    </tr>\n",
       "    <tr>\n",
       "      <th>468</th>\n",
       "      <td>4.523293e+09</td>\n",
       "      <td>2022-03-26</td>\n",
       "      <td>2022-03-26</td>\n",
       "      <td>468.0</td>\n",
       "    </tr>\n",
       "    <tr>\n",
       "      <th>469</th>\n",
       "      <td>4.526680e+09</td>\n",
       "      <td>2022-03-27</td>\n",
       "      <td>2022-03-27</td>\n",
       "      <td>469.0</td>\n",
       "    </tr>\n",
       "  </tbody>\n",
       "</table>\n",
       "</div>"
      ],
      "text/plain": [
       "     people_fully_vaccinated        date     date_s  date_delta\n",
       "465             4.513876e+09  2022-03-23 2022-03-23       465.0\n",
       "466             4.517634e+09  2022-03-24 2022-03-24       466.0\n",
       "467             4.519827e+09  2022-03-25 2022-03-25       467.0\n",
       "468             4.523293e+09  2022-03-26 2022-03-26       468.0\n",
       "469             4.526680e+09  2022-03-27 2022-03-27       469.0"
      ]
     },
     "execution_count": 7,
     "metadata": {},
     "output_type": "execute_result"
    }
   ],
   "source": [
    "df_world2_ml = df_world2[['people_fully_vaccinated','date']]\n",
    "df_world2_ml['date_s'] = pd.to_datetime(df_world2_ml['date'])\n",
    "df_world2_ml['date_delta'] = (df_world2_ml['date_s'] - df_world2_ml['date_s'].min())  / np.timedelta64(1,'D')\n",
    "df_world2_ml.tail()"
   ]
  },
  {
   "cell_type": "code",
   "execution_count": 8,
   "id": "db1cd757",
   "metadata": {},
   "outputs": [
    {
     "name": "stdout",
     "output_type": "stream",
     "text": [
      "<class 'pandas.core.frame.DataFrame'>\n",
      "RangeIndex: 470 entries, 0 to 469\n",
      "Data columns (total 4 columns):\n",
      " #   Column                   Non-Null Count  Dtype         \n",
      "---  ------                   --------------  -----         \n",
      " 0   people_fully_vaccinated  470 non-null    float64       \n",
      " 1   date                     470 non-null    object        \n",
      " 2   date_s                   470 non-null    datetime64[ns]\n",
      " 3   date_delta               470 non-null    float64       \n",
      "dtypes: datetime64[ns](1), float64(2), object(1)\n",
      "memory usage: 14.8+ KB\n"
     ]
    }
   ],
   "source": [
    "df_world2_ml.info()"
   ]
  },
  {
   "cell_type": "code",
   "execution_count": 9,
   "id": "5c32934e",
   "metadata": {},
   "outputs": [
    {
     "data": {
      "image/png": "[encoded data removed]",
      "text/plain": [
       "<Figure size 432x288 with 1 Axes>"
      ]
     },
     "metadata": {
      "needs_background": "light"
     },
     "output_type": "display_data"
    }
   ],
   "source": [
    "plt.plot(df_world2_ml['date_delta'], df_world2_ml['people_fully_vaccinated'])\n",
    "plt.xlabel(\"days of full vaccination\")\n",
    "plt.ylabel(\"people fully vaccinated\")\n",
    "plt.title(\"full vaccination against Covid in the world\")\n",
    "plt.show()"
   ]
  },
  {
   "cell_type": "code",
   "execution_count": 93,
   "id": "bf2f8ece",
   "metadata": {},
   "outputs": [],
   "source": [
    "df_ml = df_world2_ml"
   ]
  },
  {
   "cell_type": "markdown",
   "id": "27d48055",
   "metadata": {},
   "source": []
  },
  {
   "cell_type": "markdown",
   "id": "46bc616d",
   "metadata": {},
   "source": [
    "<h2>Models of progress of vaccination (at least, one dose)</h2>"
   ]
  },
  {
   "cell_type": "markdown",
   "id": "da6bbe2d",
   "metadata": {},
   "source": [
    "<h3>(Model definition, training, and evaluation)</h3>"
   ]
  },
  {
   "cell_type": "markdown",
   "id": "1c0c6d73",
   "metadata": {},
   "source": [
    "<h3>1. Linear regression model</h3>"
   ]
  },
  {
   "cell_type": "code",
   "execution_count": 10,
   "id": "bea450e2",
   "metadata": {},
   "outputs": [],
   "source": [
    "model_dataset1 = np.random.rand(len(df_world1_ml)) < 0.8\n",
    "train1 = df_world1_ml[model_dataset1]\n",
    "test1 = df_world1_ml[~model_dataset1]"
   ]
  },
  {
   "cell_type": "code",
   "execution_count": 11,
   "id": "84c02b01",
   "metadata": {},
   "outputs": [
    {
     "data": {
      "image/png": "[encoded data removed]",
      "text/plain": [
       "<Figure size 432x288 with 1 Axes>"
      ]
     },
     "metadata": {
      "needs_background": "light"
     },
     "output_type": "display_data"
    }
   ],
   "source": [
    "plt.scatter(train1.date_delta, train1.people_vaccinated, color='blue')\n",
    "plt.xlabel(\"days of vaccination\")\n",
    "plt.ylabel(\"people vaccinated (milliards)\")\n",
    "plt.show()"
   ]
  },
  {
   "cell_type": "code",
   "execution_count": 12,
   "id": "126448f9",
   "metadata": {},
   "outputs": [
    {
     "name": "stdout",
     "output_type": "stream",
     "text": [
      "Coefficients:  [[13329417.36888516]]\n",
      "Intercept:  [-8.57489356e+08]\n"
     ]
    }
   ],
   "source": [
    "regr1 = linear_model.LinearRegression()\n",
    "train_x1 = np.asanyarray(train1[['date_delta']])\n",
    "train_y1 = np.asanyarray(train1[['people_vaccinated']])\n",
    "regr1.fit (train_x1, train_y1)\n",
    "# The coefficients\n",
    "print ('Coefficients: ', regr1.coef_)\n",
    "print ('Intercept: ',regr1.intercept_)"
   ]
  },
  {
   "cell_type": "code",
   "execution_count": 13,
   "id": "6e75d539",
   "metadata": {},
   "outputs": [
    {
     "data": {
      "image/png": "[encoded data removed]",
      "text/plain": [
       "<Figure size 432x288 with 1 Axes>"
      ]
     },
     "metadata": {
      "needs_background": "light"
     },
     "output_type": "display_data"
    }
   ],
   "source": [
    "plt.scatter(train1.date_delta, train1.people_vaccinated,  color='blue')\n",
    "plt.plot(train_x1, regr1.coef_[0][0]*train_x1 + regr1.intercept_[0], '-r')\n",
    "plt.xlabel(\"days of vaccination\")\n",
    "plt.ylabel(\"people vaccinated\")\n",
    "plt.show()"
   ]
  },
  {
   "cell_type": "code",
   "execution_count": 14,
   "id": "546d5272",
   "metadata": {},
   "outputs": [
    {
     "data": {
      "text/plain": [
       "0.964510975691826"
      ]
     },
     "execution_count": 14,
     "metadata": {},
     "output_type": "execute_result"
    }
   ],
   "source": [
    "test_x1 = np.asanyarray(test1[['date_delta']])\n",
    "test_y1 = np.asanyarray(test1[['people_vaccinated']])\n",
    "test_y_1 = regr1.predict(test_x1)\n",
    "\n",
    "metrics.r2_score(test_y1, test_y_1)"
   ]
  },
  {
   "cell_type": "markdown",
   "id": "d6f34b43",
   "metadata": {},
   "source": []
  },
  {
   "cell_type": "markdown",
   "id": "43065ca2",
   "metadata": {},
   "source": [
    "<h3>2. Polynomial regression models</h3>"
   ]
  },
  {
   "cell_type": "markdown",
   "id": "71469921",
   "metadata": {},
   "source": [
    "<b>2.1. Quadratic model</b>"
   ]
  },
  {
   "cell_type": "code",
   "execution_count": 15,
   "id": "8d8a14f8",
   "metadata": {},
   "outputs": [],
   "source": [
    "poly1_2 = PolynomialFeatures(degree=2)\n",
    "train_x_poly1_2 = poly1_2.fit_transform(train_x1)"
   ]
  },
  {
   "cell_type": "code",
   "execution_count": 16,
   "id": "73f86563",
   "metadata": {},
   "outputs": [
    {
     "name": "stdout",
     "output_type": "stream",
     "text": [
      "Coefficients:  [[0.00000000e+00 1.11300037e+07 4.57032022e+03]]\n",
      "Intercept:  [-6.81511676e+08]\n"
     ]
    }
   ],
   "source": [
    "clf1_2 = linear_model.LinearRegression()\n",
    "train_y_1_2 = clf1_2.fit(train_x_poly1_2, train_y1)\n",
    "# The coefficients\n",
    "print ('Coefficients: ', clf1_2.coef_)\n",
    "print ('Intercept: ',clf1_2.intercept_)"
   ]
  },
  {
   "cell_type": "code",
   "execution_count": 17,
   "id": "c55fcab7",
   "metadata": {},
   "outputs": [
    {
     "data": {
      "text/plain": [
       "Text(0, 0.5, 'people vaccinated')"
      ]
     },
     "execution_count": 17,
     "metadata": {},
     "output_type": "execute_result"
    },
    {
     "data": {
      "image/png": "[encoded data removed]",
      "text/plain": [
       "<Figure size 432x288 with 1 Axes>"
      ]
     },
     "metadata": {
      "needs_background": "light"
     },
     "output_type": "display_data"
    }
   ],
   "source": [
    "plt.scatter(train1.date_delta, train1.people_vaccinated, color='blue')\n",
    "XX = np.arange(0.0, 480.0, 0.1)\n",
    "yy = clf1_2.intercept_[0]+ clf1_2.coef_[0][1]*XX+ clf1_2.coef_[0][2]*np.power(XX, 2)\n",
    "plt.plot(XX, yy, '-r' )\n",
    "plt.xlabel(\"days of vaccination\")\n",
    "plt.ylabel(\"people vaccinated\")"
   ]
  },
  {
   "cell_type": "code",
   "execution_count": 18,
   "id": "d1c952a0",
   "metadata": {},
   "outputs": [
    {
     "data": {
      "text/plain": [
       "0.9668208537381482"
      ]
     },
     "execution_count": 18,
     "metadata": {},
     "output_type": "execute_result"
    }
   ],
   "source": [
    "test_x_poly1_2 = poly1_2.fit_transform(test_x1)\n",
    "test_y_1_2 = clf1_2.predict(test_x_poly1_2)\n",
    "\n",
    "metrics.r2_score(test_y1, test_y_1_2)"
   ]
  },
  {
   "cell_type": "markdown",
   "id": "040a078d",
   "metadata": {},
   "source": []
  },
  {
   "cell_type": "markdown",
   "id": "cee9103c",
   "metadata": {},
   "source": [
    "<b>2.2. Cubic model</b>"
   ]
  },
  {
   "cell_type": "code",
   "execution_count": 19,
   "id": "9387db60",
   "metadata": {},
   "outputs": [],
   "source": [
    "poly1_3 = PolynomialFeatures(degree=3)\n",
    "train_x_poly1_3 = poly1_3.fit_transform(train_x1)"
   ]
  },
  {
   "cell_type": "code",
   "execution_count": 20,
   "id": "1f847787",
   "metadata": {},
   "outputs": [
    {
     "name": "stdout",
     "output_type": "stream",
     "text": [
      "Coefficients:  [[ 0.00000000e+00 -1.02724509e+07  1.15465570e+05 -1.53669706e+02]]\n",
      "Intercept:  [1.88430646e+08]\n"
     ]
    },
    {
     "data": {
      "text/plain": [
       "0.9940951903527673"
      ]
     },
     "execution_count": 20,
     "metadata": {},
     "output_type": "execute_result"
    },
    {
     "data": {
      "image/png": "[encoded data removed]",
      "text/plain": [
       "<Figure size 432x288 with 1 Axes>"
      ]
     },
     "metadata": {
      "needs_background": "light"
     },
     "output_type": "display_data"
    }
   ],
   "source": [
    "clf1_3 = linear_model.LinearRegression()\n",
    "train_y_1_3 = clf1_3.fit(train_x_poly1_3, train_y1)\n",
    "# The coefficients\n",
    "print ('Coefficients: ', clf1_3.coef_)\n",
    "print ('Intercept: ',clf1_3.intercept_)\n",
    "\n",
    "plt.scatter(train1.date_delta, train1.people_vaccinated,  color='blue')\n",
    "XX = np.arange(0.0, 480.0, 0.1)\n",
    "yy = clf1_3.intercept_[0]+ clf1_3.coef_[0][1]*XX+ clf1_3.coef_[0][2]*np.power(XX, 2) + clf1_3.coef_[0][3]*np.power(XX, 3)\n",
    "plt.plot(XX, yy, '-r' )\n",
    "plt.xlabel(\"days of vaccination\")\n",
    "plt.ylabel(\"people vaccinated\")\n",
    "\n",
    "test_x_poly1_3 = poly1_3.fit_transform(test_x1)\n",
    "test_y_1_3 = clf1_3.predict(test_x_poly1_3)\n",
    "\n",
    "metrics.r2_score(test_y1, test_y_1_3)"
   ]
  },
  {
   "cell_type": "markdown",
   "id": "efff6af5",
   "metadata": {},
   "source": []
  },
  {
   "cell_type": "markdown",
   "id": "3bf92f9d",
   "metadata": {},
   "source": [
    "<h3>2.3. Degree 4 polynomial regression</h3>"
   ]
  },
  {
   "cell_type": "code",
   "execution_count": 21,
   "id": "0cf1352b",
   "metadata": {},
   "outputs": [],
   "source": [
    "poly1_4 = PolynomialFeatures(degree=4)\n",
    "train_x_poly1_4 = poly1_4.fit_transform(train_x1)"
   ]
  },
  {
   "cell_type": "code",
   "execution_count": 22,
   "id": "466e580f",
   "metadata": {},
   "outputs": [
    {
     "name": "stdout",
     "output_type": "stream",
     "text": [
      "Coefficients:  [[ 0.00000000e+00 -1.24879090e+07  1.36377166e+05 -2.21633392e+02\n",
      "   7.08661973e-02]]\n",
      "Intercept:  [2.41359253e+08]\n"
     ]
    },
    {
     "data": {
      "text/plain": [
       "0.9941763005488924"
      ]
     },
     "execution_count": 22,
     "metadata": {},
     "output_type": "execute_result"
    },
    {
     "data": {
      "image/png": "[encoded data removed]",
      "text/plain": [
       "<Figure size 432x288 with 1 Axes>"
      ]
     },
     "metadata": {
      "needs_background": "light"
     },
     "output_type": "display_data"
    }
   ],
   "source": [
    "clf1_4 = linear_model.LinearRegression()\n",
    "train_y_1_4 = clf1_4.fit(train_x_poly1_4, train_y1)\n",
    "# The coefficients\n",
    "print ('Coefficients: ', clf1_4.coef_)\n",
    "print ('Intercept: ',clf1_4.intercept_)\n",
    "\n",
    "plt.scatter(train1.date_delta, train1.people_vaccinated,  color='blue')\n",
    "XX = np.arange(0.0, 480.0, 0.1)\n",
    "yy = clf1_4.intercept_[0] + clf1_4.coef_[0][1]*XX + clf1_4.coef_[0][2]*np.power(XX, 2) + \\\n",
    "    clf1_4.coef_[0][3]*np.power(XX, 3) + clf1_4.coef_[0][4]*np.power(XX, 4)\n",
    "plt.plot(XX, yy, '-r' )\n",
    "plt.xlabel(\"days of vaccination\")\n",
    "plt.ylabel(\"people vaccinated\")\n",
    "\n",
    "test_x_poly1_4 = poly1_4.fit_transform(test_x1)\n",
    "test_y_1_4 = clf1_4.predict(test_x_poly1_4)\n",
    "\n",
    "metrics.r2_score(test_y1, test_y_1_4)"
   ]
  },
  {
   "cell_type": "markdown",
   "id": "8631f08b",
   "metadata": {},
   "source": []
  },
  {
   "cell_type": "markdown",
   "id": "b3e4c111",
   "metadata": {},
   "source": [
    "<h3>2.4. Degree 5 polynomial regression</h3>"
   ]
  },
  {
   "cell_type": "code",
   "execution_count": 23,
   "id": "7509b296",
   "metadata": {},
   "outputs": [],
   "source": [
    "poly1_5 = PolynomialFeatures(degree=5)\n",
    "train_x_poly1_5 = poly1_5.fit_transform(train_x1)"
   ]
  },
  {
   "cell_type": "code",
   "execution_count": 24,
   "id": "c1ad071e",
   "metadata": {},
   "outputs": [
    {
     "name": "stdout",
     "output_type": "stream",
     "text": [
      "Coefficients:  [[ 0.00000000e+00  5.43876065e+06 -1.23901988e+05  1.21879232e+03\n",
      "  -3.29558414e+00  2.79965252e-03]]\n",
      "Intercept:  [-45334062.92726898]\n"
     ]
    },
    {
     "data": {
      "text/plain": [
       "0.9956378310440684"
      ]
     },
     "execution_count": 24,
     "metadata": {},
     "output_type": "execute_result"
    },
    {
     "data": {
      "image/png": "[encoded data removed]",
      "text/plain": [
       "<Figure size 432x288 with 1 Axes>"
      ]
     },
     "metadata": {
      "needs_background": "light"
     },
     "output_type": "display_data"
    }
   ],
   "source": [
    "clf1_5 = linear_model.LinearRegression()\n",
    "train_y_1_5 = clf1_5.fit(train_x_poly1_5, train_y1)\n",
    "# The coefficients\n",
    "print ('Coefficients: ', clf1_5.coef_)\n",
    "print ('Intercept: ',clf1_5.intercept_)\n",
    "\n",
    "plt.scatter(train1.date_delta, train1.people_vaccinated,  color='blue')\n",
    "XX = np.arange(0.0, 480.0, 0.1)\n",
    "yy = clf1_5.intercept_[0] + clf1_5.coef_[0][1]*XX + clf1_5.coef_[0][2]*np.power(XX, 2) + \\\n",
    "    clf1_5.coef_[0][3]*np.power(XX, 3) + clf1_5.coef_[0][4]*np.power(XX, 4) + clf1_5.coef_[0][5]*np.power(XX, 5)\n",
    "plt.plot(XX, yy, '-r' )\n",
    "plt.xlabel(\"days of vaccination\")\n",
    "plt.ylabel(\"people vaccinated\")\n",
    "\n",
    "test_x_poly1_5 = poly1_5.fit_transform(test_x1)\n",
    "test_y_1_5 = clf1_5.predict(test_x_poly1_5)\n",
    "\n",
    "metrics.r2_score(test_y1, test_y_1_5)"
   ]
  },
  {
   "cell_type": "markdown",
   "id": "69d063ec",
   "metadata": {},
   "source": []
  },
  {
   "cell_type": "markdown",
   "id": "37ba2a99",
   "metadata": {},
   "source": [
    "<h2>Models of progress of full vaccination</h2>"
   ]
  },
  {
   "cell_type": "markdown",
   "id": "f1b6885a",
   "metadata": {},
   "source": [
    "<h3>(Model definition, training, and evaluation)</h3>"
   ]
  },
  {
   "cell_type": "markdown",
   "id": "b5a03a35",
   "metadata": {},
   "source": [
    "<h3>1. Simple linear regression model</h3>"
   ]
  },
  {
   "cell_type": "code",
   "execution_count": 102,
   "id": "a83e648b",
   "metadata": {},
   "outputs": [],
   "source": [
    "#importing libraries\n",
    "import pandas as pd\n",
    "import numpy as np\n",
    "import matplotlib.pyplot as plt\n",
    "import scipy.stats\n",
    "%matplotlib inline\n",
    "from sklearn import linear_model\n",
    "from sklearn.metrics import r2_score\n",
    "from sklearn.metrics import mean_squared_error\n",
    "from sklearn import metrics\n",
    "from sklearn.preprocessing import PolynomialFeatures"
   ]
  },
  {
   "cell_type": "code",
   "execution_count": 103,
   "id": "ad68a982",
   "metadata": {},
   "outputs": [],
   "source": [
    "model_dataset = np.random.rand(len(df_ml)) < 0.8\n",
    "train = df_ml[model_dataset]\n",
    "test = df_ml[~model_dataset]"
   ]
  },
  {
   "cell_type": "code",
   "execution_count": 104,
   "id": "5a20936d",
   "metadata": {},
   "outputs": [
    {
     "name": "stdout",
     "output_type": "stream",
     "text": [
      "Coefficients:  [[11944588.7752136]]\n",
      "Intercept:  [-1.00179379e+09]\n"
     ]
    }
   ],
   "source": [
    "regr = linear_model.LinearRegression()\n",
    "train_x = np.asanyarray(train[['date_delta']])\n",
    "train_y = np.asanyarray(train[['people_fully_vaccinated']])\n",
    "regr.fit (train_x, train_y)\n",
    "# The coefficients\n",
    "print ('Coefficients: ', regr.coef_)\n",
    "print ('Intercept: ',regr.intercept_)"
   ]
  },
  {
   "cell_type": "code",
   "execution_count": 105,
   "id": "cbb90324",
   "metadata": {},
   "outputs": [
    {
     "data": {
      "text/plain": [
       "0.9395020923756772"
      ]
     },
     "execution_count": 105,
     "metadata": {},
     "output_type": "execute_result"
    }
   ],
   "source": [
    "test_x = np.asanyarray(test[['date_delta']])\n",
    "test_y = np.asanyarray(test[['people_fully_vaccinated']])\n",
    "test_y_ = regr.predict(test_x)\n",
    "\n",
    "metrics.r2_score(test_y, test_y_)"
   ]
  },
  {
   "cell_type": "code",
   "execution_count": 106,
   "id": "acf58382",
   "metadata": {},
   "outputs": [
    {
     "data": {
      "text/plain": [
       "412677177.85102105"
      ]
     },
     "execution_count": 106,
     "metadata": {},
     "output_type": "execute_result"
    }
   ],
   "source": [
    "#mean_squared_error with squared=False returns RMSE \n",
    "#(root mean squared error)\n",
    "mean_squared_error(test_y, test_y_, squared=False)"
   ]
  },
  {
   "cell_type": "code",
   "execution_count": 25,
   "id": "d2678a14",
   "metadata": {},
   "outputs": [],
   "source": [
    "model_dataset2 = np.random.rand(len(df_world2_ml)) < 0.8\n",
    "train2 = df_world2_ml[model_dataset2]\n",
    "test2 = df_world2_ml[~model_dataset2]"
   ]
  },
  {
   "cell_type": "code",
   "execution_count": 26,
   "id": "0b165c0d",
   "metadata": {},
   "outputs": [
    {
     "data": {
      "image/png": "[encoded data removed]",
      "text/plain": [
       "<Figure size 432x288 with 1 Axes>"
      ]
     },
     "metadata": {
      "needs_background": "light"
     },
     "output_type": "display_data"
    }
   ],
   "source": [
    "plt.scatter(train2.date_delta, train2.people_fully_vaccinated, color='blue')\n",
    "plt.title(\"Progress of vaccination in the world\")\n",
    "plt.xlabel(\"days of full vaccination\")\n",
    "plt.ylabel(\"people fully vaccinated (milliards)\")\n",
    "plt.show()"
   ]
  },
  {
   "cell_type": "code",
   "execution_count": 27,
   "id": "867e55bf",
   "metadata": {},
   "outputs": [
    {
     "name": "stdout",
     "output_type": "stream",
     "text": [
      "Coefficients:  [[11835949.44693088]]\n",
      "Intercept:  [-9.66800227e+08]\n"
     ]
    }
   ],
   "source": [
    "regr2 = linear_model.LinearRegression()\n",
    "train_x2 = np.asanyarray(train2[['date_delta']])\n",
    "train_y2 = np.asanyarray(train2[['people_fully_vaccinated']])\n",
    "regr2.fit (train_x2, train_y2)\n",
    "# The coefficients\n",
    "print ('Coefficients: ', regr2.coef_)\n",
    "print ('Intercept: ',regr2.intercept_)"
   ]
  },
  {
   "cell_type": "code",
   "execution_count": 28,
   "id": "5a2e399b",
   "metadata": {},
   "outputs": [
    {
     "data": {
      "image/png": "[encoded data removed]",
      "text/plain": [
       "<Figure size 432x288 with 1 Axes>"
      ]
     },
     "metadata": {
      "needs_background": "light"
     },
     "output_type": "display_data"
    }
   ],
   "source": [
    "plt.scatter(train2.date_delta, train2.people_fully_vaccinated,  color='blue')\n",
    "plt.plot(train_x2, regr2.coef_[0][0]*train_x2 + regr2.intercept_[0], '-r')\n",
    "plt.title(\"Linear model\")\n",
    "plt.xlabel(\"days of full vaccination\")\n",
    "plt.ylabel(\"people fully vaccinated (millliards)\")\n",
    "plt.show()"
   ]
  },
  {
   "cell_type": "code",
   "execution_count": 29,
   "id": "ea62ede8",
   "metadata": {},
   "outputs": [
    {
     "data": {
      "text/plain": [
       "0.9379616026439974"
      ]
     },
     "execution_count": 29,
     "metadata": {},
     "output_type": "execute_result"
    }
   ],
   "source": [
    "test_x2 = np.asanyarray(test2[['date_delta']])\n",
    "test_y2 = np.asanyarray(test2[['people_fully_vaccinated']])\n",
    "test_y_2 = regr2.predict(test_x2)\n",
    "\n",
    "metrics.r2_score(test_y2, test_y_2)"
   ]
  },
  {
   "cell_type": "code",
   "execution_count": 30,
   "id": "d912fe36",
   "metadata": {},
   "outputs": [],
   "source": [
    "r2_score_linear = metrics.r2_score(test_y2, test_y_2)"
   ]
  },
  {
   "cell_type": "markdown",
   "id": "7b369137",
   "metadata": {},
   "source": []
  },
  {
   "cell_type": "markdown",
   "id": "b5ad8193",
   "metadata": {},
   "source": [
    "<h3>2. Polynomial regression models</h3>"
   ]
  },
  {
   "cell_type": "markdown",
   "id": "123308fb",
   "metadata": {},
   "source": [
    "<b>2.1. Quadratic model</b>"
   ]
  },
  {
   "cell_type": "code",
   "execution_count": null,
   "id": "f6659924",
   "metadata": {},
   "outputs": [],
   "source": []
  },
  {
   "cell_type": "markdown",
   "id": "0ae456f2",
   "metadata": {},
   "source": [
    "<h2>2. Regression models with polynomial features</h2>"
   ]
  },
  {
   "cell_type": "markdown",
   "id": "58b5ed53",
   "metadata": {},
   "source": [
    "<h3>2.1. Model with 2nd degree polynomial</h3>"
   ]
  },
  {
   "cell_type": "code",
   "execution_count": 107,
   "id": "0f072e02",
   "metadata": {},
   "outputs": [],
   "source": [
    "poly2 = PolynomialFeatures(degree=2)\n",
    "train_x_poly2 = poly2.fit_transform(train_x)"
   ]
  },
  {
   "cell_type": "code",
   "execution_count": 108,
   "id": "9a769b17",
   "metadata": {},
   "outputs": [
    {
     "name": "stdout",
     "output_type": "stream",
     "text": [
      "Coefficients:  [[      0.         3394011.44276129   18201.35440881]]\n",
      "Intercept:  [-3.26153974e+08]\n"
     ]
    }
   ],
   "source": [
    "model2 = linear_model.LinearRegression()\n",
    "train_y_2 = model2.fit(train_x_poly2, train_y)\n",
    "# The coefficients\n",
    "print ('Coefficients: ', model2.coef_)\n",
    "print ('Intercept: ', model2.intercept_)"
   ]
  },
  {
   "cell_type": "code",
   "execution_count": 110,
   "id": "9c52f908",
   "metadata": {},
   "outputs": [
    {
     "data": {
      "text/plain": [
       "0.9606546969370706"
      ]
     },
     "execution_count": 110,
     "metadata": {},
     "output_type": "execute_result"
    }
   ],
   "source": [
    "test_x_poly2 = poly2.fit_transform(test_x)\n",
    "test_y_2 = model2.predict(test_x_poly2)\n",
    "\n",
    "metrics.r2_score(test_y, test_y_2)"
   ]
  },
  {
   "cell_type": "code",
   "execution_count": 111,
   "id": "c5094e9f",
   "metadata": {},
   "outputs": [
    {
     "data": {
      "text/plain": [
       "332802608.87779015"
      ]
     },
     "execution_count": 111,
     "metadata": {},
     "output_type": "execute_result"
    }
   ],
   "source": [
    "#mean_squared_error with squared=False returns RMSE \n",
    "#(root mean squared error)\n",
    "mean_squared_error(test_y, test_y_2, squared=False)"
   ]
  },
  {
   "cell_type": "markdown",
   "id": "84dd8ca2",
   "metadata": {},
   "source": [
    "<h3>2.2. Model with 5th degree polynomial</h3>"
   ]
  },
  {
   "cell_type": "code",
   "execution_count": 113,
   "id": "54f02ee6",
   "metadata": {},
   "outputs": [],
   "source": [
    "poly5 = PolynomialFeatures(degree=5)\n",
    "train_x_poly5 = poly5.fit_transform(train_x)"
   ]
  },
  {
   "cell_type": "code",
   "execution_count": 114,
   "id": "0e86bd4b",
   "metadata": {},
   "outputs": [
    {
     "name": "stdout",
     "output_type": "stream",
     "text": [
      "Coefficients:  [[ 0.00000000e+00  1.56662262e+07 -2.75150072e+05  1.82370739e+03\n",
      "  -4.24338880e+00  3.31082754e-03]]\n",
      "Intercept:  [-1.8668068e+08]\n"
     ]
    }
   ],
   "source": [
    "model5 = linear_model.LinearRegression()\n",
    "train_y_5 = model5.fit(train_x_poly5, train_y)\n",
    "# The coefficients\n",
    "print ('Coefficients: ', model5.coef_)\n",
    "print ('Intercept: ', model5.intercept_)"
   ]
  },
  {
   "cell_type": "code",
   "execution_count": 115,
   "id": "990d8eed",
   "metadata": {},
   "outputs": [
    {
     "data": {
      "text/plain": [
       "0.9922301019754194"
      ]
     },
     "execution_count": 115,
     "metadata": {},
     "output_type": "execute_result"
    }
   ],
   "source": [
    "test_x_poly5 = poly5.fit_transform(test_x)\n",
    "test_y_5 = model5.predict(test_x_poly5)\n",
    "\n",
    "metrics.r2_score(test_y, test_y_5)"
   ]
  },
  {
   "cell_type": "code",
   "execution_count": 116,
   "id": "9d6a8645",
   "metadata": {},
   "outputs": [
    {
     "data": {
      "text/plain": [
       "147893107.43883035"
      ]
     },
     "execution_count": 116,
     "metadata": {},
     "output_type": "execute_result"
    }
   ],
   "source": [
    "#mean_squared_error with squared=False returns RMSE \n",
    "#(root mean squared error)\n",
    "mean_squared_error(test_y, test_y_5, squared=False)"
   ]
  },
  {
   "cell_type": "markdown",
   "id": "6a4af878",
   "metadata": {},
   "source": [
    "<h3>2.3. Model with 10th degree polynomial</h3"
   ]
  },
  {
   "cell_type": "code",
   "execution_count": 117,
   "id": "9971e774",
   "metadata": {},
   "outputs": [],
   "source": [
    "poly10 = PolynomialFeatures(degree=10)\n",
    "train_x_poly10 = poly10.fit_transform(train_x)"
   ]
  },
  {
   "cell_type": "code",
   "execution_count": 118,
   "id": "3b5c306a",
   "metadata": {},
   "outputs": [
    {
     "name": "stdout",
     "output_type": "stream",
     "text": [
      "Coefficients:  [[ 0.00000000e+00 -1.30706056e-07  7.43568540e-13  4.00875545e-11\n",
      "   5.73625015e-09  6.42454858e-07  4.37536671e-05 -2.20197565e-07\n",
      "   2.36511482e-10  3.46276319e-13 -5.75002281e-16]]\n",
      "Intercept:  [49365275.17496228]\n"
     ]
    }
   ],
   "source": [
    "model10 = linear_model.LinearRegression()\n",
    "train_y_10 = model10.fit(train_x_poly10, train_y)\n",
    "# The coefficients\n",
    "print ('Coefficients: ', model10.coef_)\n",
    "print ('Intercept: ', model10.intercept_)"
   ]
  },
  {
   "cell_type": "code",
   "execution_count": 119,
   "id": "08b70b1d",
   "metadata": {},
   "outputs": [
    {
     "data": {
      "text/plain": [
       "0.9935916344684672"
      ]
     },
     "execution_count": 119,
     "metadata": {},
     "output_type": "execute_result"
    }
   ],
   "source": [
    "test_x_poly10 = poly10.fit_transform(test_x)\n",
    "test_y_10 = model10.predict(test_x_poly10)\n",
    "\n",
    "metrics.r2_score(test_y, test_y_10)"
   ]
  },
  {
   "cell_type": "code",
   "execution_count": 120,
   "id": "61f3ddac",
   "metadata": {},
   "outputs": [
    {
     "data": {
      "text/plain": [
       "134311720.5770464"
      ]
     },
     "execution_count": 120,
     "metadata": {},
     "output_type": "execute_result"
    }
   ],
   "source": [
    "#mean_squared_error with squared=False returns RMSE \n",
    "#(root mean squared error)\n",
    "mean_squared_error(test_y, test_y_10, squared=False)"
   ]
  },
  {
   "cell_type": "code",
   "execution_count": 31,
   "id": "e4a32933",
   "metadata": {},
   "outputs": [],
   "source": [
    "poly2_2 = PolynomialFeatures(degree=2)\n",
    "train_x_poly2_2 = poly2_2.fit_transform(train_x2)"
   ]
  },
  {
   "cell_type": "code",
   "execution_count": 32,
   "id": "471b79cb",
   "metadata": {},
   "outputs": [
    {
     "name": "stdout",
     "output_type": "stream",
     "text": [
      "Coefficients:  [[      0.         3728188.64950171   17331.29791999]]\n",
      "Intercept:  [-3.35924329e+08]\n"
     ]
    }
   ],
   "source": [
    "clf2_2 = linear_model.LinearRegression()\n",
    "train_y_2_2 = clf2_2.fit(train_x_poly2_2, train_y2)\n",
    "# The coefficients\n",
    "print ('Coefficients: ', clf2_2.coef_)\n",
    "print ('Intercept: ',clf2_2.intercept_)"
   ]
  },
  {
   "cell_type": "code",
   "execution_count": 33,
   "id": "61f4975d",
   "metadata": {},
   "outputs": [
    {
     "data": {
      "text/plain": [
       "Text(0, 0.5, 'people fully vaccinated (milliards)')"
      ]
     },
     "execution_count": 33,
     "metadata": {},
     "output_type": "execute_result"
    },
    {
     "data": {
      "image/png": "[encoded data removed]",
      "text/plain": [
       "<Figure size 432x288 with 1 Axes>"
      ]
     },
     "metadata": {
      "needs_background": "light"
     },
     "output_type": "display_data"
    }
   ],
   "source": [
    "plt.scatter(train2.date_delta, train2.people_fully_vaccinated,  color='blue')\n",
    "XX = np.arange(0.0, 470.0, 0.1)\n",
    "yy = clf2_2.intercept_[0]+ clf2_2.coef_[0][1]*XX+ clf2_2.coef_[0][2]*np.power(XX, 2)\n",
    "plt.plot(XX, yy, '-r' )\n",
    "plt.title(\"2-degree polynomial model\")\n",
    "plt.xlabel(\"days of full vaccination\")\n",
    "plt.ylabel(\"people fully vaccinated (milliards)\")"
   ]
  },
  {
   "cell_type": "code",
   "execution_count": 34,
   "id": "7accec68",
   "metadata": {},
   "outputs": [
    {
     "data": {
      "text/plain": [
       "0.9670665742423123"
      ]
     },
     "execution_count": 34,
     "metadata": {},
     "output_type": "execute_result"
    }
   ],
   "source": [
    "test_x_poly2_2 = poly2_2.fit_transform(test_x2)\n",
    "test_y_2_2 = clf2_2.predict(test_x_poly2_2)\n",
    "\n",
    "metrics.r2_score(test_y2, test_y_2_2)"
   ]
  },
  {
   "cell_type": "code",
   "execution_count": 35,
   "id": "1b72000f",
   "metadata": {},
   "outputs": [],
   "source": [
    "r2_score_2_degree = metrics.r2_score(test_y2, test_y_2_2)"
   ]
  },
  {
   "cell_type": "markdown",
   "id": "329cc882",
   "metadata": {},
   "source": []
  },
  {
   "cell_type": "markdown",
   "id": "d7ccc6d6",
   "metadata": {},
   "source": [
    "<b>2.2. Cubic model</b>"
   ]
  },
  {
   "cell_type": "code",
   "execution_count": 36,
   "id": "92e7d228",
   "metadata": {},
   "outputs": [],
   "source": [
    "poly2_3 = PolynomialFeatures(degree=3)\n",
    "train_x_poly2_3 = poly2_3.fit_transform(train_x2)"
   ]
  },
  {
   "cell_type": "code",
   "execution_count": 37,
   "id": "5e591f2f",
   "metadata": {},
   "outputs": [
    {
     "name": "stdout",
     "output_type": "stream",
     "text": [
      "Coefficients:  [[ 0.00000000e+00 -1.38949657e+07  1.11242640e+05 -1.33319295e+02]]\n",
      "Intercept:  [3.47179231e+08]\n"
     ]
    },
    {
     "data": {
      "text/plain": [
       "0.9900135387548205"
      ]
     },
     "execution_count": 37,
     "metadata": {},
     "output_type": "execute_result"
    },
    {
     "data": {
      "image/png": "[encoded data removed]",
      "text/plain": [
       "<Figure size 432x288 with 1 Axes>"
      ]
     },
     "metadata": {
      "needs_background": "light"
     },
     "output_type": "display_data"
    }
   ],
   "source": [
    "clf2_3 = linear_model.LinearRegression()\n",
    "train_y_2_3 = clf2_3.fit(train_x_poly2_3, train_y2)\n",
    "# The coefficients\n",
    "print ('Coefficients: ', clf2_3.coef_)\n",
    "print ('Intercept: ',clf2_3.intercept_)\n",
    "\n",
    "plt.scatter(train2.date_delta, train2.people_fully_vaccinated,  color='blue')\n",
    "XX = np.arange(0.0, 470.0, 0.1)\n",
    "yy = clf2_3.intercept_[0]+ clf2_3.coef_[0][1]*XX + clf2_3.coef_[0][2]*np.power(XX, 2) + clf2_3.coef_[0][3]*np.power(XX, 3)\n",
    "plt.plot(XX, yy, '-r' )\n",
    "plt.xlabel(\"days of full vaccination\")\n",
    "plt.ylabel(\"people fully vaccinated\")\n",
    "\n",
    "test_x_poly2_3 = poly2_3.fit_transform(test_x2)\n",
    "test_y_2_3 = clf2_3.predict(test_x_poly2_3)\n",
    "\n",
    "metrics.r2_score(test_y2, test_y_2_3)"
   ]
  },
  {
   "cell_type": "markdown",
   "id": "bdb01aef",
   "metadata": {},
   "source": []
  },
  {
   "cell_type": "markdown",
   "id": "4c615669",
   "metadata": {},
   "source": [
    "<h3>2.3. Degree 4 polynomial regression</h3>"
   ]
  },
  {
   "cell_type": "code",
   "execution_count": 38,
   "id": "daa421ba",
   "metadata": {},
   "outputs": [],
   "source": [
    "poly2_4 = PolynomialFeatures(degree=4)\n",
    "train_x_poly2_4 = poly2_4.fit_transform(train_x2)"
   ]
  },
  {
   "cell_type": "code",
   "execution_count": 39,
   "id": "c37111a5",
   "metadata": {},
   "outputs": [
    {
     "name": "stdout",
     "output_type": "stream",
     "text": [
      "Coefficients:  [[ 0.00000000e+00 -3.10033109e+06  7.22286869e+03  2.12554194e+02\n",
      "  -3.69264756e-01]]\n",
      "Intercept:  [97139255.80431199]\n"
     ]
    },
    {
     "data": {
      "text/plain": [
       "0.9919347057308225"
      ]
     },
     "execution_count": 39,
     "metadata": {},
     "output_type": "execute_result"
    },
    {
     "data": {
      "image/png": "[encoded data removed]",
      "text/plain": [
       "<Figure size 432x288 with 1 Axes>"
      ]
     },
     "metadata": {
      "needs_background": "light"
     },
     "output_type": "display_data"
    }
   ],
   "source": [
    "clf2_4 = linear_model.LinearRegression()\n",
    "train_y_2_4 = clf2_4.fit(train_x_poly2_4, train_y2)\n",
    "# The coefficients\n",
    "print ('Coefficients: ', clf2_4.coef_)\n",
    "print ('Intercept: ',clf2_4.intercept_)\n",
    "\n",
    "plt.scatter(train2.date_delta, train2.people_fully_vaccinated, color='blue')\n",
    "XX = np.arange(0.0, 470.0, 0.1)\n",
    "yy = clf2_4.intercept_[0] + clf2_4.coef_[0][1]*XX + clf2_4.coef_[0][2]*np.power(XX, 2) + \\\n",
    "    clf2_4.coef_[0][3]*np.power(XX, 3) + clf2_4.coef_[0][4]*np.power(XX, 4)\n",
    "plt.plot(XX, yy, '-r' )\n",
    "plt.xlabel(\"days of full vaccination\")\n",
    "plt.ylabel(\"people fully vaccinated\")\n",
    "\n",
    "test_x_poly2_4 = poly2_4.fit_transform(test_x2)\n",
    "test_y_2_4 = clf2_4.predict(test_x_poly2_4)\n",
    "\n",
    "metrics.r2_score(test_y2, test_y_2_4)"
   ]
  },
  {
   "cell_type": "markdown",
   "id": "cc00a68a",
   "metadata": {},
   "source": []
  },
  {
   "cell_type": "markdown",
   "id": "24765f98",
   "metadata": {},
   "source": [
    "<h3>2.4. Degree 5 polynomial regression</h3>"
   ]
  },
  {
   "cell_type": "code",
   "execution_count": 40,
   "id": "dad0835d",
   "metadata": {},
   "outputs": [],
   "source": [
    "poly2_5 = PolynomialFeatures(degree=5)\n",
    "train_x_poly2_5 = poly2_5.fit_transform(train_x2)"
   ]
  },
  {
   "cell_type": "code",
   "execution_count": 41,
   "id": "857d9d18",
   "metadata": {},
   "outputs": [
    {
     "name": "stdout",
     "output_type": "stream",
     "text": [
      "Coefficients:  [[ 0.00000000e+00  1.50755904e+07 -2.67844027e+05  1.78778938e+03\n",
      "  -4.16419577e+00  3.24575976e-03]]\n",
      "Intercept:  [-1.78034801e+08]\n"
     ]
    },
    {
     "data": {
      "text/plain": [
       "0.9941983050500076"
      ]
     },
     "execution_count": 41,
     "metadata": {},
     "output_type": "execute_result"
    },
    {
     "data": {
      "image/png": "[encoded data removed]",
      "text/plain": [
       "<Figure size 432x288 with 1 Axes>"
      ]
     },
     "metadata": {
      "needs_background": "light"
     },
     "output_type": "display_data"
    }
   ],
   "source": [
    "clf2_5 = linear_model.LinearRegression()\n",
    "train_y_2_5 = clf2_5.fit(train_x_poly2_5, train_y2)\n",
    "# The coefficients\n",
    "print ('Coefficients: ', clf2_5.coef_)\n",
    "print ('Intercept: ',clf2_5.intercept_)\n",
    "\n",
    "plt.scatter(train2.date_delta, train2.people_fully_vaccinated,  color='blue')\n",
    "XX = np.arange(0.0, 470.0, 0.1)\n",
    "yy = clf2_5.intercept_[0] + clf2_5.coef_[0][1]*XX + clf2_5.coef_[0][2]*np.power(XX, 2) + \\\n",
    "    clf2_5.coef_[0][3]*np.power(XX, 3) + clf2_5.coef_[0][4]*np.power(XX, 4) + clf2_5.coef_[0][5]*np.power(XX, 5)\n",
    "plt.plot(XX, yy, '-r' )\n",
    "plt.title(\"5-degree polynomial model\")\n",
    "plt.xlabel(\"days of full vaccination\")\n",
    "plt.ylabel(\"people fully vaccinated (milliards)\")\n",
    "\n",
    "test_x_poly2_5 = poly2_5.fit_transform(test_x2)\n",
    "test_y_2_5 = clf2_5.predict(test_x_poly2_5)\n",
    "\n",
    "metrics.r2_score(test_y2, test_y_2_5)"
   ]
  },
  {
   "cell_type": "code",
   "execution_count": 42,
   "id": "c5067fc3",
   "metadata": {},
   "outputs": [],
   "source": [
    "r2_score_5_degree = metrics.r2_score(test_y2, test_y_2_5)"
   ]
  },
  {
   "cell_type": "markdown",
   "id": "3aae48a0",
   "metadata": {},
   "source": []
  },
  {
   "cell_type": "code",
   "execution_count": 144,
   "id": "55dfb4fc",
   "metadata": {},
   "outputs": [],
   "source": [
    "import warnings\n",
    "warnings.filterwarnings('ignore')"
   ]
  },
  {
   "cell_type": "markdown",
   "id": "59b3c77c",
   "metadata": {},
   "source": [
    "<h2>3. Regularization</h2>"
   ]
  },
  {
   "cell_type": "code",
   "execution_count": 145,
   "id": "93f8e6f2",
   "metadata": {},
   "outputs": [],
   "source": [
    "from sklearn.linear_model import Ridge\n",
    "from sklearn.linear_model import Lasso\n",
    "from sklearn.linear_model import ElasticNet"
   ]
  },
  {
   "cell_type": "markdown",
   "id": "57f7b19e",
   "metadata": {},
   "source": [
    "<h3>3.1. Ridge regression</h3>"
   ]
  },
  {
   "cell_type": "code",
   "execution_count": 146,
   "id": "b12d70e5",
   "metadata": {},
   "outputs": [],
   "source": [
    "ridge = Ridge(alpha=80).fit(train_x_poly10, train_y)"
   ]
  },
  {
   "cell_type": "code",
   "execution_count": 147,
   "id": "c4310bdb",
   "metadata": {},
   "outputs": [
    {
     "name": "stdout",
     "output_type": "stream",
     "text": [
      "0.9955601401464049\n"
     ]
    }
   ],
   "source": [
    "test_y_ridge = ridge.predict(test_x_poly10)\n",
    "print(r2_score(test_y, test_y_ridge))"
   ]
  },
  {
   "cell_type": "code",
   "execution_count": 148,
   "id": "d2928f4e",
   "metadata": {},
   "outputs": [
    {
     "data": {
      "text/plain": [
       "111795650.0316397"
      ]
     },
     "execution_count": 148,
     "metadata": {},
     "output_type": "execute_result"
    }
   ],
   "source": [
    "mean_squared_error(test_y, test_y_ridge, squared=False)"
   ]
  },
  {
   "cell_type": "markdown",
   "id": "24e04dee",
   "metadata": {},
   "source": [
    "<h3>3.2. Lasso regression</h3>"
   ]
  },
  {
   "cell_type": "code",
   "execution_count": 154,
   "id": "a1b4372c",
   "metadata": {},
   "outputs": [],
   "source": [
    "lasso = Lasso(alpha=0.0005).fit(train_x_poly10, train_y)"
   ]
  },
  {
   "cell_type": "code",
   "execution_count": 155,
   "id": "5298abc1",
   "metadata": {},
   "outputs": [
    {
     "name": "stdout",
     "output_type": "stream",
     "text": [
      "0.9902882163970492\n"
     ]
    }
   ],
   "source": [
    "test_y_lasso = lasso.predict(test_x_poly10)\n",
    "print(r2_score(test_y, test_y_lasso))"
   ]
  },
  {
   "cell_type": "code",
   "execution_count": 156,
   "id": "a5146e41",
   "metadata": {},
   "outputs": [
    {
     "data": {
      "text/plain": [
       "165344507.6045687"
      ]
     },
     "execution_count": 156,
     "metadata": {},
     "output_type": "execute_result"
    }
   ],
   "source": [
    "mean_squared_error(test_y, test_y_lasso, squared=False)"
   ]
  },
  {
   "cell_type": "markdown",
   "id": "eb35d2e7",
   "metadata": {},
   "source": [
    "<h3>3.3. ElasticNet regression</h3>"
   ]
  },
  {
   "cell_type": "code",
   "execution_count": 157,
   "id": "434a1ccc",
   "metadata": {},
   "outputs": [],
   "source": [
    "elasticnet = ElasticNet(alpha=1e-05, l1_ratio=0.9).fit(train_x_poly10, train_y)"
   ]
  },
  {
   "cell_type": "code",
   "execution_count": 158,
   "id": "b797cfdd",
   "metadata": {},
   "outputs": [
    {
     "name": "stdout",
     "output_type": "stream",
     "text": [
      "0.9902882164060266\n"
     ]
    }
   ],
   "source": [
    "test_y_elasticnet = elasticnet.predict(test_x_poly10)\n",
    "print(r2_score(test_y, test_y_elasticnet))"
   ]
  },
  {
   "cell_type": "code",
   "execution_count": 159,
   "id": "394ef004",
   "metadata": {},
   "outputs": [
    {
     "data": {
      "text/plain": [
       "165344507.52814832"
      ]
     },
     "execution_count": 159,
     "metadata": {},
     "output_type": "execute_result"
    }
   ],
   "source": [
    "mean_squared_error(test_y, test_y_elasticnet, squared=False)"
   ]
  },
  {
   "cell_type": "markdown",
   "id": "241badb3",
   "metadata": {},
   "source": [
    "<h2>3. Regularization</h2>"
   ]
  },
  {
   "cell_type": "code",
   "execution_count": 43,
   "id": "3bcf5d10",
   "metadata": {},
   "outputs": [],
   "source": [
    "from sklearn.linear_model import RidgeCV\n",
    "from sklearn.linear_model import LassoCV\n",
    "from sklearn.linear_model import ElasticNetCV\n",
    "from sklearn.linear_model import Ridge\n",
    "from sklearn.linear_model import Lasso\n",
    "from sklearn.linear_model import ElasticNet"
   ]
  },
  {
   "cell_type": "markdown",
   "id": "0b290f23",
   "metadata": {},
   "source": []
  },
  {
   "cell_type": "markdown",
   "id": "dcc01cb1",
   "metadata": {},
   "source": [
    "<h3>3.0. Degree 10 polynomial regression</h3>"
   ]
  },
  {
   "cell_type": "code",
   "execution_count": 44,
   "id": "92fcda54",
   "metadata": {},
   "outputs": [
    {
     "name": "stdout",
     "output_type": "stream",
     "text": [
      "Coefficients:  [[ 0.00000000e+00  1.23599946e-07 -1.28930603e-11  3.88615865e-11\n",
      "   5.55870689e-09  6.22738929e-07  4.24357618e-05 -2.06585633e-07\n",
      "   1.84897462e-10  4.31609260e-13 -6.26979823e-16]]\n",
      "Intercept:  [48827017.95623326]\n"
     ]
    },
    {
     "data": {
      "text/plain": [
       "0.9951826169598792"
      ]
     },
     "execution_count": 44,
     "metadata": {},
     "output_type": "execute_result"
    },
    {
     "data": {
      "image/png": "[encoded data removed]",
      "text/plain": [
       "<Figure size 432x288 with 1 Axes>"
      ]
     },
     "metadata": {
      "needs_background": "light"
     },
     "output_type": "display_data"
    }
   ],
   "source": [
    "poly2_10 = PolynomialFeatures(degree=10)\n",
    "train_x_poly2_10 = poly2_10.fit_transform(train_x2)\n",
    "clf2_10 = linear_model.LinearRegression()\n",
    "train_y_2_10 = clf2_10.fit(train_x_poly2_10, train_y2)\n",
    "# The coefficients\n",
    "print ('Coefficients: ', clf2_10.coef_)\n",
    "print ('Intercept: ',clf2_10.intercept_)\n",
    "\n",
    "plt.scatter(train2.date_delta, train2.people_fully_vaccinated,  color='blue')\n",
    "XX = np.arange(0.0, 470.0, 0.1)\n",
    "yy = clf2_10.intercept_[0] + clf2_10.coef_[0][1]*XX + clf2_10.coef_[0][2]*np.power(XX, 2) + \\\n",
    "    clf2_10.coef_[0][3]*np.power(XX, 3) + clf2_10.coef_[0][4]*np.power(XX, 4) + \\\n",
    "    clf2_10.coef_[0][5]*np.power(XX, 5) + clf2_10.coef_[0][6]*np.power(XX, 6) + \\\n",
    "    clf2_10.coef_[0][7]*np.power(XX, 7) + clf2_10.coef_[0][8]*np.power(XX, 8) + \\\n",
    "    clf2_10.coef_[0][9]*np.power(XX, 9) + clf2_10.coef_[0][10]*np.power(XX, 10)\n",
    "plt.plot(XX, yy, '-r' )\n",
    "plt.title(\"10-degree polynomial model\")\n",
    "plt.xlabel(\"days of full vaccination\")\n",
    "plt.ylabel(\"people fully vaccinated (milliards)\")\n",
    "\n",
    "test_x_poly2_10 = poly2_10.fit_transform(test_x2)\n",
    "test_y_2_10 = clf2_10.predict(test_x_poly2_10)\n",
    "\n",
    "metrics.r2_score(test_y2, test_y_2_10)"
   ]
  },
  {
   "cell_type": "code",
   "execution_count": 45,
   "id": "07d9ef88",
   "metadata": {},
   "outputs": [],
   "source": [
    "r2_score_10_degree = metrics.r2_score(test_y2, test_y_2_10)"
   ]
  },
  {
   "cell_type": "markdown",
   "id": "7b2198f3",
   "metadata": {},
   "source": []
  },
  {
   "cell_type": "markdown",
   "id": "0ae74b89",
   "metadata": {},
   "source": [
    "<h3>3.1. Ridge regularization</h3>"
   ]
  },
  {
   "cell_type": "code",
   "execution_count": 46,
   "id": "8291188d",
   "metadata": {},
   "outputs": [],
   "source": [
    "from sklearn.metrics import mean_squared_error\n",
    "\n",
    "\n",
    "def rmse(ytrue, ypredicted):\n",
    "    return np.sqrt(mean_squared_error(ytrue, ypredicted))"
   ]
  },
  {
   "cell_type": "code",
   "execution_count": 47,
   "id": "1822e935",
   "metadata": {},
   "outputs": [
    {
     "name": "stdout",
     "output_type": "stream",
     "text": [
      "80.0 92892736.51358064\n"
     ]
    },
    {
     "name": "stderr",
     "output_type": "stream",
     "text": [
      "/home/alexandr/.local/lib/python3.6/site-packages/sklearn/linear_model/_ridge.py:148: LinAlgWarning: Ill-conditioned matrix (rcond=1.3171e-57): result may not be accurate.\n",
      "  overwrite_a=True).T\n",
      "/home/alexandr/.local/lib/python3.6/site-packages/sklearn/linear_model/_ridge.py:148: LinAlgWarning: Ill-conditioned matrix (rcond=1.31668e-57): result may not be accurate.\n",
      "  overwrite_a=True).T\n",
      "/home/alexandr/.local/lib/python3.6/site-packages/sklearn/linear_model/_ridge.py:148: LinAlgWarning: Ill-conditioned matrix (rcond=1.29031e-57): result may not be accurate.\n",
      "  overwrite_a=True).T\n",
      "/home/alexandr/.local/lib/python3.6/site-packages/sklearn/linear_model/_ridge.py:148: LinAlgWarning: Ill-conditioned matrix (rcond=5.59107e-55): result may not be accurate.\n",
      "  overwrite_a=True).T\n",
      "/home/alexandr/.local/lib/python3.6/site-packages/sklearn/linear_model/_ridge.py:148: LinAlgWarning: Ill-conditioned matrix (rcond=1.31336e-56): result may not be accurate.\n",
      "  overwrite_a=True).T\n",
      "/home/alexandr/.local/lib/python3.6/site-packages/sklearn/linear_model/_ridge.py:148: LinAlgWarning: Ill-conditioned matrix (rcond=1.31668e-56): result may not be accurate.\n",
      "  overwrite_a=True).T\n",
      "/home/alexandr/.local/lib/python3.6/site-packages/sklearn/linear_model/_ridge.py:148: LinAlgWarning: Ill-conditioned matrix (rcond=1.29031e-56): result may not be accurate.\n",
      "  overwrite_a=True).T\n",
      "/home/alexandr/.local/lib/python3.6/site-packages/sklearn/linear_model/_ridge.py:148: LinAlgWarning: Ill-conditioned matrix (rcond=5.59107e-54): result may not be accurate.\n",
      "  overwrite_a=True).T\n",
      "/home/alexandr/.local/lib/python3.6/site-packages/sklearn/linear_model/_ridge.py:148: LinAlgWarning: Ill-conditioned matrix (rcond=2.59774e-56): result may not be accurate.\n",
      "  overwrite_a=True).T\n",
      "/home/alexandr/.local/lib/python3.6/site-packages/sklearn/linear_model/_ridge.py:148: LinAlgWarning: Ill-conditioned matrix (rcond=2.63337e-56): result may not be accurate.\n",
      "  overwrite_a=True).T\n",
      "/home/alexandr/.local/lib/python3.6/site-packages/sklearn/linear_model/_ridge.py:148: LinAlgWarning: Ill-conditioned matrix (rcond=2.58063e-56): result may not be accurate.\n",
      "  overwrite_a=True).T\n",
      "/home/alexandr/.local/lib/python3.6/site-packages/sklearn/linear_model/_ridge.py:148: LinAlgWarning: Ill-conditioned matrix (rcond=1.11821e-53): result may not be accurate.\n",
      "  overwrite_a=True).T\n",
      "/home/alexandr/.local/lib/python3.6/site-packages/sklearn/linear_model/_ridge.py:148: LinAlgWarning: Ill-conditioned matrix (rcond=7.77895e-56): result may not be accurate.\n",
      "  overwrite_a=True).T\n",
      "/home/alexandr/.local/lib/python3.6/site-packages/sklearn/linear_model/_ridge.py:148: LinAlgWarning: Ill-conditioned matrix (rcond=7.9001e-56): result may not be accurate.\n",
      "  overwrite_a=True).T\n",
      "/home/alexandr/.local/lib/python3.6/site-packages/sklearn/linear_model/_ridge.py:148: LinAlgWarning: Ill-conditioned matrix (rcond=7.74188e-56): result may not be accurate.\n",
      "  overwrite_a=True).T\n",
      "/home/alexandr/.local/lib/python3.6/site-packages/sklearn/linear_model/_ridge.py:148: LinAlgWarning: Ill-conditioned matrix (rcond=3.35464e-53): result may not be accurate.\n",
      "  overwrite_a=True).T\n",
      "/home/alexandr/.local/lib/python3.6/site-packages/sklearn/linear_model/_ridge.py:148: LinAlgWarning: Ill-conditioned matrix (rcond=2.59108e-55): result may not be accurate.\n",
      "  overwrite_a=True).T\n",
      "/home/alexandr/.local/lib/python3.6/site-packages/sklearn/linear_model/_ridge.py:148: LinAlgWarning: Ill-conditioned matrix (rcond=2.63337e-55): result may not be accurate.\n",
      "  overwrite_a=True).T\n",
      "/home/alexandr/.local/lib/python3.6/site-packages/sklearn/linear_model/_ridge.py:148: LinAlgWarning: Ill-conditioned matrix (rcond=2.58063e-55): result may not be accurate.\n",
      "  overwrite_a=True).T\n",
      "/home/alexandr/.local/lib/python3.6/site-packages/sklearn/linear_model/_ridge.py:148: LinAlgWarning: Ill-conditioned matrix (rcond=1.11821e-52): result may not be accurate.\n",
      "  overwrite_a=True).T\n",
      "/home/alexandr/.local/lib/python3.6/site-packages/sklearn/linear_model/_ridge.py:148: LinAlgWarning: Ill-conditioned matrix (rcond=7.77273e-55): result may not be accurate.\n",
      "  overwrite_a=True).T\n",
      "/home/alexandr/.local/lib/python3.6/site-packages/sklearn/linear_model/_ridge.py:148: LinAlgWarning: Ill-conditioned matrix (rcond=7.9001e-55): result may not be accurate.\n",
      "  overwrite_a=True).T\n",
      "/home/alexandr/.local/lib/python3.6/site-packages/sklearn/linear_model/_ridge.py:148: LinAlgWarning: Ill-conditioned matrix (rcond=7.74188e-55): result may not be accurate.\n",
      "  overwrite_a=True).T\n",
      "/home/alexandr/.local/lib/python3.6/site-packages/sklearn/linear_model/_ridge.py:148: LinAlgWarning: Ill-conditioned matrix (rcond=3.35464e-52): result may not be accurate.\n",
      "  overwrite_a=True).T\n",
      "/home/alexandr/.local/lib/python3.6/site-packages/sklearn/linear_model/_ridge.py:148: LinAlgWarning: Ill-conditioned matrix (rcond=1.3171e-54): result may not be accurate.\n",
      "  overwrite_a=True).T\n",
      "/home/alexandr/.local/lib/python3.6/site-packages/sklearn/linear_model/_ridge.py:148: LinAlgWarning: Ill-conditioned matrix (rcond=1.31668e-54): result may not be accurate.\n",
      "  overwrite_a=True).T\n",
      "/home/alexandr/.local/lib/python3.6/site-packages/sklearn/linear_model/_ridge.py:148: LinAlgWarning: Ill-conditioned matrix (rcond=1.29031e-54): result may not be accurate.\n",
      "  overwrite_a=True).T\n",
      "/home/alexandr/.local/lib/python3.6/site-packages/sklearn/linear_model/_ridge.py:148: LinAlgWarning: Ill-conditioned matrix (rcond=5.59107e-52): result may not be accurate.\n",
      "  overwrite_a=True).T\n",
      "/home/alexandr/.local/lib/python3.6/site-packages/sklearn/linear_model/_ridge.py:148: LinAlgWarning: Ill-conditioned matrix (rcond=2.63419e-54): result may not be accurate.\n",
      "  overwrite_a=True).T\n",
      "/home/alexandr/.local/lib/python3.6/site-packages/sklearn/linear_model/_ridge.py:148: LinAlgWarning: Ill-conditioned matrix (rcond=2.63337e-54): result may not be accurate.\n",
      "  overwrite_a=True).T\n",
      "/home/alexandr/.local/lib/python3.6/site-packages/sklearn/linear_model/_ridge.py:148: LinAlgWarning: Ill-conditioned matrix (rcond=2.58063e-54): result may not be accurate.\n",
      "  overwrite_a=True).T\n",
      "/home/alexandr/.local/lib/python3.6/site-packages/sklearn/linear_model/_ridge.py:148: LinAlgWarning: Ill-conditioned matrix (rcond=1.11821e-51): result may not be accurate.\n",
      "  overwrite_a=True).T\n",
      "/home/alexandr/.local/lib/python3.6/site-packages/sklearn/linear_model/_ridge.py:148: LinAlgWarning: Ill-conditioned matrix (rcond=3.95129e-54): result may not be accurate.\n",
      "  overwrite_a=True).T\n",
      "/home/alexandr/.local/lib/python3.6/site-packages/sklearn/linear_model/_ridge.py:148: LinAlgWarning: Ill-conditioned matrix (rcond=3.95005e-54): result may not be accurate.\n",
      "  overwrite_a=True).T\n",
      "/home/alexandr/.local/lib/python3.6/site-packages/sklearn/linear_model/_ridge.py:148: LinAlgWarning: Ill-conditioned matrix (rcond=3.87094e-54): result may not be accurate.\n",
      "  overwrite_a=True).T\n",
      "/home/alexandr/.local/lib/python3.6/site-packages/sklearn/linear_model/_ridge.py:148: LinAlgWarning: Ill-conditioned matrix (rcond=1.67732e-51): result may not be accurate.\n",
      "  overwrite_a=True).T\n",
      "/home/alexandr/.local/lib/python3.6/site-packages/sklearn/linear_model/_ridge.py:148: LinAlgWarning: Ill-conditioned matrix (rcond=7.90257e-54): result may not be accurate.\n",
      "  overwrite_a=True).T\n",
      "/home/alexandr/.local/lib/python3.6/site-packages/sklearn/linear_model/_ridge.py:148: LinAlgWarning: Ill-conditioned matrix (rcond=7.9001e-54): result may not be accurate.\n",
      "  overwrite_a=True).T\n",
      "/home/alexandr/.local/lib/python3.6/site-packages/sklearn/linear_model/_ridge.py:148: LinAlgWarning: Ill-conditioned matrix (rcond=7.74188e-54): result may not be accurate.\n",
      "  overwrite_a=True).T\n",
      "/home/alexandr/.local/lib/python3.6/site-packages/sklearn/linear_model/_ridge.py:148: LinAlgWarning: Ill-conditioned matrix (rcond=3.35464e-51): result may not be accurate.\n",
      "  overwrite_a=True).T\n",
      "/home/alexandr/.local/lib/python3.6/site-packages/sklearn/linear_model/_ridge.py:148: LinAlgWarning: Ill-conditioned matrix (rcond=2.10735e-53): result may not be accurate.\n",
      "  overwrite_a=True).T\n",
      "/home/alexandr/.local/lib/python3.6/site-packages/sklearn/linear_model/_ridge.py:148: LinAlgWarning: Ill-conditioned matrix (rcond=2.10669e-53): result may not be accurate.\n",
      "  overwrite_a=True).T\n",
      "/home/alexandr/.local/lib/python3.6/site-packages/sklearn/linear_model/_ridge.py:148: LinAlgWarning: Ill-conditioned matrix (rcond=2.0645e-53): result may not be accurate.\n",
      "  overwrite_a=True).T\n",
      "/home/alexandr/.local/lib/python3.6/site-packages/sklearn/linear_model/_ridge.py:148: LinAlgWarning: Ill-conditioned matrix (rcond=8.94572e-51): result may not be accurate.\n",
      "  overwrite_a=True).T\n",
      "/home/alexandr/.local/lib/python3.6/site-packages/sklearn/linear_model/_ridge.py:148: LinAlgWarning: Ill-conditioned matrix (rcond=1.96216e-53): result may not be accurate.\n",
      "  overwrite_a=True).T\n"
     ]
    }
   ],
   "source": [
    "alphas = [0.005, 0.05, 0.1, 0.3, 1, 3, 5, 10, 15, 30, 80]\n",
    "\n",
    "ridgeCV = RidgeCV(alphas=alphas, \n",
    "                  cv=4).fit(train_x_poly2_10, train_y2)\n",
    "\n",
    "ridgeCV_rmse = rmse(test_y2, ridgeCV.predict(test_x_poly2_10))\n",
    "\n",
    "print(ridgeCV.alpha_, ridgeCV_rmse)"
   ]
  },
  {
   "cell_type": "code",
   "execution_count": 49,
   "id": "f99e4639",
   "metadata": {},
   "outputs": [
    {
     "name": "stdout",
     "output_type": "stream",
     "text": [
      "0.9969999142330616\n"
     ]
    }
   ],
   "source": [
    "y_pred_ridge = ridgeCV.predict(test_x_poly2_10)\n",
    "print(r2_score(test_y2, y_pred_ridge))"
   ]
  },
  {
   "cell_type": "code",
   "execution_count": 50,
   "id": "adb41d24",
   "metadata": {},
   "outputs": [],
   "source": [
    "r2_score_ridge = r2_score(test_y2, y_pred_ridge)"
   ]
  },
  {
   "cell_type": "markdown",
   "id": "65000e5d",
   "metadata": {},
   "source": []
  },
  {
   "cell_type": "markdown",
   "id": "5547c4ba",
   "metadata": {},
   "source": [
    "<h3>3.2. Lasso regularization</h3>"
   ]
  },
  {
   "cell_type": "code",
   "execution_count": 51,
   "id": "2cb23709",
   "metadata": {},
   "outputs": [
    {
     "name": "stderr",
     "output_type": "stream",
     "text": [
      "/home/alexandr/.local/lib/python3.6/site-packages/sklearn/utils/validation.py:63: DataConversionWarning: A column-vector y was passed when a 1d array was expected. Please change the shape of y to (n_samples, ), for example using ravel().\n",
      "  return f(*args, **kwargs)\n",
      "/home/alexandr/.local/lib/python3.6/site-packages/sklearn/linear_model/_coordinate_descent.py:528: ConvergenceWarning: Objective did not converge. You might want to increase the number of iterations. Duality gap: 2.0307591313559526e+18, tolerance: 4.955647770288563e+16\n",
      "  tol, rng, random, positive)\n",
      "/home/alexandr/.local/lib/python3.6/site-packages/sklearn/linear_model/_coordinate_descent.py:528: ConvergenceWarning: Objective did not converge. You might want to increase the number of iterations. Duality gap: 1.9731936056862725e+18, tolerance: 4.955647770288563e+16\n",
      "  tol, rng, random, positive)\n",
      "/home/alexandr/.local/lib/python3.6/site-packages/sklearn/linear_model/_coordinate_descent.py:528: ConvergenceWarning: Objective did not converge. You might want to increase the number of iterations. Duality gap: 1.9401357067226212e+18, tolerance: 4.955647770288563e+16\n",
      "  tol, rng, random, positive)\n",
      "/home/alexandr/.local/lib/python3.6/site-packages/sklearn/linear_model/_coordinate_descent.py:528: ConvergenceWarning: Objective did not converge. You might want to increase the number of iterations. Duality gap: 1.9213619376433265e+18, tolerance: 4.955647770288563e+16\n",
      "  tol, rng, random, positive)\n",
      "/home/alexandr/.local/lib/python3.6/site-packages/sklearn/linear_model/_coordinate_descent.py:528: ConvergenceWarning: Objective did not converge. You might want to increase the number of iterations. Duality gap: 1.2103476156358707e+18, tolerance: 2.2598847933712388e+16\n",
      "  tol, rng, random, positive)\n",
      "/home/alexandr/.local/lib/python3.6/site-packages/sklearn/linear_model/_coordinate_descent.py:528: ConvergenceWarning: Objective did not converge. You might want to increase the number of iterations. Duality gap: 1.1712688434342177e+18, tolerance: 2.2598847933712388e+16\n",
      "  tol, rng, random, positive)\n",
      "/home/alexandr/.local/lib/python3.6/site-packages/sklearn/linear_model/_coordinate_descent.py:528: ConvergenceWarning: Objective did not converge. You might want to increase the number of iterations. Duality gap: 1.161690506546596e+18, tolerance: 2.2598847933712388e+16\n",
      "  tol, rng, random, positive)\n",
      "/home/alexandr/.local/lib/python3.6/site-packages/sklearn/linear_model/_coordinate_descent.py:528: ConvergenceWarning: Objective did not converge. You might want to increase the number of iterations. Duality gap: 1.1566672328668672e+18, tolerance: 2.2598847933712388e+16\n",
      "  tol, rng, random, positive)\n"
     ]
    },
    {
     "name": "stdout",
     "output_type": "stream",
     "text": [
      "0.0005 114762706.9955747\n"
     ]
    },
    {
     "name": "stderr",
     "output_type": "stream",
     "text": [
      "/home/alexandr/.local/lib/python3.6/site-packages/sklearn/linear_model/_coordinate_descent.py:532: ConvergenceWarning: Objective did not converge. You might want to increase the number of iterations. Duality gap: 2.9775593912388337e+18, tolerance: 1.0535201825908427e+17\n",
      "  positive)\n"
     ]
    }
   ],
   "source": [
    "alphas2 = np.array([1e-5, 5e-5, 0.0001, 0.0005])\n",
    "\n",
    "lassoCV = LassoCV(alphas=alphas2,\n",
    "                  max_iter=5e6,\n",
    "                  cv=3).fit(train_x_poly2_10, train_y2)\n",
    "\n",
    "lassoCV_rmse = rmse(test_y2, lassoCV.predict(test_x_poly2_10))\n",
    "\n",
    "print(lassoCV.alpha_, lassoCV_rmse)  # Lasso is slower"
   ]
  },
  {
   "cell_type": "code",
   "execution_count": 53,
   "id": "a0cf82d2",
   "metadata": {},
   "outputs": [
    {
     "name": "stdout",
     "output_type": "stream",
     "text": [
      "0.995420988605152\n"
     ]
    }
   ],
   "source": [
    "y_pred_lasso = lassoCV.predict(test_x_poly2_10)\n",
    "print(r2_score(test_y2, y_pred_lasso))"
   ]
  },
  {
   "cell_type": "code",
   "execution_count": 54,
   "id": "249f545b",
   "metadata": {},
   "outputs": [],
   "source": [
    "r2_score_lasso = r2_score(test_y2, y_pred_lasso)"
   ]
  },
  {
   "cell_type": "markdown",
   "id": "fa2fdb41",
   "metadata": {},
   "source": []
  },
  {
   "cell_type": "markdown",
   "id": "7ef0c2df",
   "metadata": {},
   "source": [
    "<h3>3.3. ElasticNet regularization</h3>"
   ]
  },
  {
   "cell_type": "code",
   "execution_count": 55,
   "id": "c589dc03",
   "metadata": {},
   "outputs": [
    {
     "name": "stderr",
     "output_type": "stream",
     "text": [
      "/home/alexandr/.local/lib/python3.6/site-packages/sklearn/utils/validation.py:63: DataConversionWarning: A column-vector y was passed when a 1d array was expected. Please change the shape of y to (n_samples, ), for example using ravel().\n",
      "  return f(*args, **kwargs)\n",
      "/home/alexandr/.local/lib/python3.6/site-packages/sklearn/linear_model/_coordinate_descent.py:528: ConvergenceWarning: Objective did not converge. You might want to increase the number of iterations. Duality gap: 2.9498141618500767e+18, tolerance: 7.480046304612226e+16\n",
      "  tol, rng, random, positive)\n",
      "/home/alexandr/.local/lib/python3.6/site-packages/sklearn/linear_model/_coordinate_descent.py:528: ConvergenceWarning: Objective did not converge. You might want to increase the number of iterations. Duality gap: 2.7322779001807647e+18, tolerance: 7.480046304612226e+16\n",
      "  tol, rng, random, positive)\n",
      "/home/alexandr/.local/lib/python3.6/site-packages/sklearn/linear_model/_coordinate_descent.py:528: ConvergenceWarning: Objective did not converge. You might want to increase the number of iterations. Duality gap: 2.6401412548027003e+18, tolerance: 7.480046304612226e+16\n",
      "  tol, rng, random, positive)\n",
      "/home/alexandr/.local/lib/python3.6/site-packages/sklearn/linear_model/_coordinate_descent.py:528: ConvergenceWarning: Objective did not converge. You might want to increase the number of iterations. Duality gap: 2.5985367447574994e+18, tolerance: 7.480046304612226e+16\n",
      "  tol, rng, random, positive)\n",
      "/home/alexandr/.local/lib/python3.6/site-packages/sklearn/linear_model/_coordinate_descent.py:528: ConvergenceWarning: Objective did not converge. You might want to increase the number of iterations. Duality gap: 2.520077070093311e+18, tolerance: 8.370991781517312e+16\n",
      "  tol, rng, random, positive)\n",
      "/home/alexandr/.local/lib/python3.6/site-packages/sklearn/linear_model/_coordinate_descent.py:528: ConvergenceWarning: Objective did not converge. You might want to increase the number of iterations. Duality gap: 2.500393885597285e+18, tolerance: 8.370991781517312e+16\n",
      "  tol, rng, random, positive)\n",
      "/home/alexandr/.local/lib/python3.6/site-packages/sklearn/linear_model/_coordinate_descent.py:528: ConvergenceWarning: Objective did not converge. You might want to increase the number of iterations. Duality gap: 2.482383936708819e+18, tolerance: 8.370991781517312e+16\n",
      "  tol, rng, random, positive)\n",
      "/home/alexandr/.local/lib/python3.6/site-packages/sklearn/linear_model/_coordinate_descent.py:528: ConvergenceWarning: Objective did not converge. You might want to increase the number of iterations. Duality gap: 2.4668619875141376e+18, tolerance: 8.370991781517312e+16\n",
      "  tol, rng, random, positive)\n",
      "/home/alexandr/.local/lib/python3.6/site-packages/sklearn/linear_model/_coordinate_descent.py:528: ConvergenceWarning: Objective did not converge. You might want to increase the number of iterations. Duality gap: 4.492636876415549e+17, tolerance: 9.995555016568178e+16\n",
      "  tol, rng, random, positive)\n",
      "/home/alexandr/.local/lib/python3.6/site-packages/sklearn/linear_model/_coordinate_descent.py:528: ConvergenceWarning: Objective did not converge. You might want to increase the number of iterations. Duality gap: 4.350682556283792e+17, tolerance: 9.995555016568178e+16\n",
      "  tol, rng, random, positive)\n",
      "/home/alexandr/.local/lib/python3.6/site-packages/sklearn/linear_model/_coordinate_descent.py:528: ConvergenceWarning: Objective did not converge. You might want to increase the number of iterations. Duality gap: 4.23182531313595e+17, tolerance: 9.995555016568178e+16\n",
      "  tol, rng, random, positive)\n",
      "/home/alexandr/.local/lib/python3.6/site-packages/sklearn/linear_model/_coordinate_descent.py:528: ConvergenceWarning: Objective did not converge. You might want to increase the number of iterations. Duality gap: 4.133985460302065e+17, tolerance: 9.995555016568178e+16\n",
      "  tol, rng, random, positive)\n",
      "/home/alexandr/.local/lib/python3.6/site-packages/sklearn/linear_model/_coordinate_descent.py:528: ConvergenceWarning: Objective did not converge. You might want to increase the number of iterations. Duality gap: 2.8301461365358607e+18, tolerance: 8.805964316020717e+16\n",
      "  tol, rng, random, positive)\n",
      "/home/alexandr/.local/lib/python3.6/site-packages/sklearn/linear_model/_coordinate_descent.py:528: ConvergenceWarning: Objective did not converge. You might want to increase the number of iterations. Duality gap: 2.6471495301877135e+18, tolerance: 8.805964316020717e+16\n",
      "  tol, rng, random, positive)\n",
      "/home/alexandr/.local/lib/python3.6/site-packages/sklearn/linear_model/_coordinate_descent.py:528: ConvergenceWarning: Objective did not converge. You might want to increase the number of iterations. Duality gap: 2.4990939264845676e+18, tolerance: 8.805964316020717e+16\n",
      "  tol, rng, random, positive)\n",
      "/home/alexandr/.local/lib/python3.6/site-packages/sklearn/linear_model/_coordinate_descent.py:528: ConvergenceWarning: Objective did not converge. You might want to increase the number of iterations. Duality gap: 2.3800521292951045e+18, tolerance: 8.805964316020717e+16\n",
      "  tol, rng, random, positive)\n",
      "/home/alexandr/.local/lib/python3.6/site-packages/sklearn/linear_model/_coordinate_descent.py:528: ConvergenceWarning: Objective did not converge. You might want to increase the number of iterations. Duality gap: 1.9632026921785597e+18, tolerance: 4.994556088864014e+16\n",
      "  tol, rng, random, positive)\n",
      "/home/alexandr/.local/lib/python3.6/site-packages/sklearn/linear_model/_coordinate_descent.py:528: ConvergenceWarning: Objective did not converge. You might want to increase the number of iterations. Duality gap: 1.9611911620594156e+18, tolerance: 4.994556088864014e+16\n",
      "  tol, rng, random, positive)\n",
      "/home/alexandr/.local/lib/python3.6/site-packages/sklearn/linear_model/_coordinate_descent.py:528: ConvergenceWarning: Objective did not converge. You might want to increase the number of iterations. Duality gap: 1.9591720630392796e+18, tolerance: 4.994556088864014e+16\n",
      "  tol, rng, random, positive)\n",
      "/home/alexandr/.local/lib/python3.6/site-packages/sklearn/linear_model/_coordinate_descent.py:528: ConvergenceWarning: Objective did not converge. You might want to increase the number of iterations. Duality gap: 1.957120492604365e+18, tolerance: 4.994556088864014e+16\n",
      "  tol, rng, random, positive)\n",
      "/home/alexandr/.local/lib/python3.6/site-packages/sklearn/linear_model/_coordinate_descent.py:528: ConvergenceWarning: Objective did not converge. You might want to increase the number of iterations. Duality gap: 2.94981773812827e+18, tolerance: 7.480046304612226e+16\n",
      "  tol, rng, random, positive)\n",
      "/home/alexandr/.local/lib/python3.6/site-packages/sklearn/linear_model/_coordinate_descent.py:528: ConvergenceWarning: Objective did not converge. You might want to increase the number of iterations. Duality gap: 2.732272261331802e+18, tolerance: 7.480046304612226e+16\n",
      "  tol, rng, random, positive)\n",
      "/home/alexandr/.local/lib/python3.6/site-packages/sklearn/linear_model/_coordinate_descent.py:528: ConvergenceWarning: Objective did not converge. You might want to increase the number of iterations. Duality gap: 2.6401336140938317e+18, tolerance: 7.480046304612226e+16\n",
      "  tol, rng, random, positive)\n",
      "/home/alexandr/.local/lib/python3.6/site-packages/sklearn/linear_model/_coordinate_descent.py:528: ConvergenceWarning: Objective did not converge. You might want to increase the number of iterations. Duality gap: 2.598533859206673e+18, tolerance: 7.480046304612226e+16\n",
      "  tol, rng, random, positive)\n",
      "/home/alexandr/.local/lib/python3.6/site-packages/sklearn/linear_model/_coordinate_descent.py:528: ConvergenceWarning: Objective did not converge. You might want to increase the number of iterations. Duality gap: 2.5200752743760195e+18, tolerance: 8.370991781517312e+16\n",
      "  tol, rng, random, positive)\n",
      "/home/alexandr/.local/lib/python3.6/site-packages/sklearn/linear_model/_coordinate_descent.py:528: ConvergenceWarning: Objective did not converge. You might want to increase the number of iterations. Duality gap: 2.5003937114395924e+18, tolerance: 8.370991781517312e+16\n",
      "  tol, rng, random, positive)\n",
      "/home/alexandr/.local/lib/python3.6/site-packages/sklearn/linear_model/_coordinate_descent.py:528: ConvergenceWarning: Objective did not converge. You might want to increase the number of iterations. Duality gap: 2.482383924785865e+18, tolerance: 8.370991781517312e+16\n",
      "  tol, rng, random, positive)\n"
     ]
    },
    {
     "name": "stderr",
     "output_type": "stream",
     "text": [
      "/home/alexandr/.local/lib/python3.6/site-packages/sklearn/linear_model/_coordinate_descent.py:528: ConvergenceWarning: Objective did not converge. You might want to increase the number of iterations. Duality gap: 2.466862046711202e+18, tolerance: 8.370991781517312e+16\n",
      "  tol, rng, random, positive)\n",
      "/home/alexandr/.local/lib/python3.6/site-packages/sklearn/linear_model/_coordinate_descent.py:528: ConvergenceWarning: Objective did not converge. You might want to increase the number of iterations. Duality gap: 4.492634124701296e+17, tolerance: 9.995555016568178e+16\n",
      "  tol, rng, random, positive)\n",
      "/home/alexandr/.local/lib/python3.6/site-packages/sklearn/linear_model/_coordinate_descent.py:528: ConvergenceWarning: Objective did not converge. You might want to increase the number of iterations. Duality gap: 4.350682723172932e+17, tolerance: 9.995555016568178e+16\n",
      "  tol, rng, random, positive)\n",
      "/home/alexandr/.local/lib/python3.6/site-packages/sklearn/linear_model/_coordinate_descent.py:528: ConvergenceWarning: Objective did not converge. You might want to increase the number of iterations. Duality gap: 4.231825748216386e+17, tolerance: 9.995555016568178e+16\n",
      "  tol, rng, random, positive)\n",
      "/home/alexandr/.local/lib/python3.6/site-packages/sklearn/linear_model/_coordinate_descent.py:528: ConvergenceWarning: Objective did not converge. You might want to increase the number of iterations. Duality gap: 4.133985979683237e+17, tolerance: 9.995555016568178e+16\n",
      "  tol, rng, random, positive)\n",
      "/home/alexandr/.local/lib/python3.6/site-packages/sklearn/linear_model/_coordinate_descent.py:528: ConvergenceWarning: Objective did not converge. You might want to increase the number of iterations. Duality gap: 2.8301459958363786e+18, tolerance: 8.805964316020717e+16\n",
      "  tol, rng, random, positive)\n",
      "/home/alexandr/.local/lib/python3.6/site-packages/sklearn/linear_model/_coordinate_descent.py:528: ConvergenceWarning: Objective did not converge. You might want to increase the number of iterations. Duality gap: 2.64714982549933e+18, tolerance: 8.805964316020717e+16\n",
      "  tol, rng, random, positive)\n",
      "/home/alexandr/.local/lib/python3.6/site-packages/sklearn/linear_model/_coordinate_descent.py:528: ConvergenceWarning: Objective did not converge. You might want to increase the number of iterations. Duality gap: 2.4990942635710546e+18, tolerance: 8.805964316020717e+16\n",
      "  tol, rng, random, positive)\n",
      "/home/alexandr/.local/lib/python3.6/site-packages/sklearn/linear_model/_coordinate_descent.py:528: ConvergenceWarning: Objective did not converge. You might want to increase the number of iterations. Duality gap: 2.380051933261887e+18, tolerance: 8.805964316020717e+16\n",
      "  tol, rng, random, positive)\n",
      "/home/alexandr/.local/lib/python3.6/site-packages/sklearn/linear_model/_coordinate_descent.py:528: ConvergenceWarning: Objective did not converge. You might want to increase the number of iterations. Duality gap: 1.963201981112202e+18, tolerance: 4.994556088864014e+16\n",
      "  tol, rng, random, positive)\n",
      "/home/alexandr/.local/lib/python3.6/site-packages/sklearn/linear_model/_coordinate_descent.py:528: ConvergenceWarning: Objective did not converge. You might want to increase the number of iterations. Duality gap: 1.9611920678309425e+18, tolerance: 4.994556088864014e+16\n",
      "  tol, rng, random, positive)\n",
      "/home/alexandr/.local/lib/python3.6/site-packages/sklearn/linear_model/_coordinate_descent.py:528: ConvergenceWarning: Objective did not converge. You might want to increase the number of iterations. Duality gap: 1.9591704211231872e+18, tolerance: 4.994556088864014e+16\n",
      "  tol, rng, random, positive)\n",
      "/home/alexandr/.local/lib/python3.6/site-packages/sklearn/linear_model/_coordinate_descent.py:528: ConvergenceWarning: Objective did not converge. You might want to increase the number of iterations. Duality gap: 1.957121497726241e+18, tolerance: 4.994556088864014e+16\n",
      "  tol, rng, random, positive)\n",
      "/home/alexandr/.local/lib/python3.6/site-packages/sklearn/linear_model/_coordinate_descent.py:528: ConvergenceWarning: Objective did not converge. You might want to increase the number of iterations. Duality gap: 2.949821342211019e+18, tolerance: 7.480046304612226e+16\n",
      "  tol, rng, random, positive)\n",
      "/home/alexandr/.local/lib/python3.6/site-packages/sklearn/linear_model/_coordinate_descent.py:528: ConvergenceWarning: Objective did not converge. You might want to increase the number of iterations. Duality gap: 2.732266607644631e+18, tolerance: 7.480046304612226e+16\n",
      "  tol, rng, random, positive)\n",
      "/home/alexandr/.local/lib/python3.6/site-packages/sklearn/linear_model/_coordinate_descent.py:528: ConvergenceWarning: Objective did not converge. You might want to increase the number of iterations. Duality gap: 2.64012631271942e+18, tolerance: 7.480046304612226e+16\n",
      "  tol, rng, random, positive)\n",
      "/home/alexandr/.local/lib/python3.6/site-packages/sklearn/linear_model/_coordinate_descent.py:528: ConvergenceWarning: Objective did not converge. You might want to increase the number of iterations. Duality gap: 2.5985311378507397e+18, tolerance: 7.480046304612226e+16\n",
      "  tol, rng, random, positive)\n",
      "/home/alexandr/.local/lib/python3.6/site-packages/sklearn/linear_model/_coordinate_descent.py:528: ConvergenceWarning: Objective did not converge. You might want to increase the number of iterations. Duality gap: 2.5200734967701903e+18, tolerance: 8.370991781517312e+16\n",
      "  tol, rng, random, positive)\n",
      "/home/alexandr/.local/lib/python3.6/site-packages/sklearn/linear_model/_coordinate_descent.py:528: ConvergenceWarning: Objective did not converge. You might want to increase the number of iterations. Duality gap: 2.500393564956226e+18, tolerance: 8.370991781517312e+16\n",
      "  tol, rng, random, positive)\n",
      "/home/alexandr/.local/lib/python3.6/site-packages/sklearn/linear_model/_coordinate_descent.py:528: ConvergenceWarning: Objective did not converge. You might want to increase the number of iterations. Duality gap: 2.482384009896249e+18, tolerance: 8.370991781517312e+16\n",
      "  tol, rng, random, positive)\n",
      "/home/alexandr/.local/lib/python3.6/site-packages/sklearn/linear_model/_coordinate_descent.py:528: ConvergenceWarning: Objective did not converge. You might want to increase the number of iterations. Duality gap: 2.466862280381806e+18, tolerance: 8.370991781517312e+16\n",
      "  tol, rng, random, positive)\n",
      "/home/alexandr/.local/lib/python3.6/site-packages/sklearn/linear_model/_coordinate_descent.py:528: ConvergenceWarning: Objective did not converge. You might want to increase the number of iterations. Duality gap: 4.4926312681673146e+17, tolerance: 9.995555016568178e+16\n",
      "  tol, rng, random, positive)\n",
      "/home/alexandr/.local/lib/python3.6/site-packages/sklearn/linear_model/_coordinate_descent.py:528: ConvergenceWarning: Objective did not converge. You might want to increase the number of iterations. Duality gap: 4.350682867351832e+17, tolerance: 9.995555016568178e+16\n",
      "  tol, rng, random, positive)\n",
      "/home/alexandr/.local/lib/python3.6/site-packages/sklearn/linear_model/_coordinate_descent.py:528: ConvergenceWarning: Objective did not converge. You might want to increase the number of iterations. Duality gap: 4.2318260457409606e+17, tolerance: 9.995555016568178e+16\n",
      "  tol, rng, random, positive)\n",
      "/home/alexandr/.local/lib/python3.6/site-packages/sklearn/linear_model/_coordinate_descent.py:528: ConvergenceWarning: Objective did not converge. You might want to increase the number of iterations. Duality gap: 4.133986284939872e+17, tolerance: 9.995555016568178e+16\n",
      "  tol, rng, random, positive)\n",
      "/home/alexandr/.local/lib/python3.6/site-packages/sklearn/linear_model/_coordinate_descent.py:528: ConvergenceWarning: Objective did not converge. You might want to increase the number of iterations. Duality gap: 2.8301458577931156e+18, tolerance: 8.805964316020717e+16\n",
      "  tol, rng, random, positive)\n",
      "/home/alexandr/.local/lib/python3.6/site-packages/sklearn/linear_model/_coordinate_descent.py:528: ConvergenceWarning: Objective did not converge. You might want to increase the number of iterations. Duality gap: 2.64715003765272e+18, tolerance: 8.805964316020717e+16\n",
      "  tol, rng, random, positive)\n",
      "/home/alexandr/.local/lib/python3.6/site-packages/sklearn/linear_model/_coordinate_descent.py:528: ConvergenceWarning: Objective did not converge. You might want to increase the number of iterations. Duality gap: 2.499094428896036e+18, tolerance: 8.805964316020717e+16\n",
      "  tol, rng, random, positive)\n"
     ]
    },
    {
     "name": "stderr",
     "output_type": "stream",
     "text": [
      "/home/alexandr/.local/lib/python3.6/site-packages/sklearn/linear_model/_coordinate_descent.py:528: ConvergenceWarning: Objective did not converge. You might want to increase the number of iterations. Duality gap: 2.3800517357816463e+18, tolerance: 8.805964316020717e+16\n",
      "  tol, rng, random, positive)\n",
      "/home/alexandr/.local/lib/python3.6/site-packages/sklearn/linear_model/_coordinate_descent.py:528: ConvergenceWarning: Objective did not converge. You might want to increase the number of iterations. Duality gap: 1.963201279042925e+18, tolerance: 4.994556088864014e+16\n",
      "  tol, rng, random, positive)\n",
      "/home/alexandr/.local/lib/python3.6/site-packages/sklearn/linear_model/_coordinate_descent.py:528: ConvergenceWarning: Objective did not converge. You might want to increase the number of iterations. Duality gap: 1.9611916400112197e+18, tolerance: 4.994556088864014e+16\n",
      "  tol, rng, random, positive)\n",
      "/home/alexandr/.local/lib/python3.6/site-packages/sklearn/linear_model/_coordinate_descent.py:528: ConvergenceWarning: Objective did not converge. You might want to increase the number of iterations. Duality gap: 1.9591689266205253e+18, tolerance: 4.994556088864014e+16\n",
      "  tol, rng, random, positive)\n",
      "/home/alexandr/.local/lib/python3.6/site-packages/sklearn/linear_model/_coordinate_descent.py:528: ConvergenceWarning: Objective did not converge. You might want to increase the number of iterations. Duality gap: 1.9571203663650002e+18, tolerance: 4.994556088864014e+16\n",
      "  tol, rng, random, positive)\n",
      "/home/alexandr/.local/lib/python3.6/site-packages/sklearn/linear_model/_coordinate_descent.py:528: ConvergenceWarning: Objective did not converge. You might want to increase the number of iterations. Duality gap: 2.9498248991165174e+18, tolerance: 7.480046304612226e+16\n",
      "  tol, rng, random, positive)\n",
      "/home/alexandr/.local/lib/python3.6/site-packages/sklearn/linear_model/_coordinate_descent.py:528: ConvergenceWarning: Objective did not converge. You might want to increase the number of iterations. Duality gap: 2.7322609125710075e+18, tolerance: 7.480046304612226e+16\n",
      "  tol, rng, random, positive)\n",
      "/home/alexandr/.local/lib/python3.6/site-packages/sklearn/linear_model/_coordinate_descent.py:528: ConvergenceWarning: Objective did not converge. You might want to increase the number of iterations. Duality gap: 2.640118530689843e+18, tolerance: 7.480046304612226e+16\n",
      "  tol, rng, random, positive)\n",
      "/home/alexandr/.local/lib/python3.6/site-packages/sklearn/linear_model/_coordinate_descent.py:528: ConvergenceWarning: Objective did not converge. You might want to increase the number of iterations. Duality gap: 2.5985284314370227e+18, tolerance: 7.480046304612226e+16\n",
      "  tol, rng, random, positive)\n",
      "/home/alexandr/.local/lib/python3.6/site-packages/sklearn/linear_model/_coordinate_descent.py:528: ConvergenceWarning: Objective did not converge. You might want to increase the number of iterations. Duality gap: 2.5200716315873746e+18, tolerance: 8.370991781517312e+16\n",
      "  tol, rng, random, positive)\n",
      "/home/alexandr/.local/lib/python3.6/site-packages/sklearn/linear_model/_coordinate_descent.py:528: ConvergenceWarning: Objective did not converge. You might want to increase the number of iterations. Duality gap: 2.5003934404383964e+18, tolerance: 8.370991781517312e+16\n",
      "  tol, rng, random, positive)\n",
      "/home/alexandr/.local/lib/python3.6/site-packages/sklearn/linear_model/_coordinate_descent.py:528: ConvergenceWarning: Objective did not converge. You might want to increase the number of iterations. Duality gap: 2.482384096341149e+18, tolerance: 8.370991781517312e+16\n",
      "  tol, rng, random, positive)\n",
      "/home/alexandr/.local/lib/python3.6/site-packages/sklearn/linear_model/_coordinate_descent.py:528: ConvergenceWarning: Objective did not converge. You might want to increase the number of iterations. Duality gap: 2.4668624077466015e+18, tolerance: 8.370991781517312e+16\n",
      "  tol, rng, random, positive)\n",
      "/home/alexandr/.local/lib/python3.6/site-packages/sklearn/linear_model/_coordinate_descent.py:528: ConvergenceWarning: Objective did not converge. You might want to increase the number of iterations. Duality gap: 4.4926286754628294e+17, tolerance: 9.995555016568178e+16\n",
      "  tol, rng, random, positive)\n",
      "/home/alexandr/.local/lib/python3.6/site-packages/sklearn/linear_model/_coordinate_descent.py:528: ConvergenceWarning: Objective did not converge. You might want to increase the number of iterations. Duality gap: 4.3506828061994995e+17, tolerance: 9.995555016568178e+16\n",
      "  tol, rng, random, positive)\n",
      "/home/alexandr/.local/lib/python3.6/site-packages/sklearn/linear_model/_coordinate_descent.py:528: ConvergenceWarning: Objective did not converge. You might want to increase the number of iterations. Duality gap: 4.2318263982731245e+17, tolerance: 9.995555016568178e+16\n",
      "  tol, rng, random, positive)\n",
      "/home/alexandr/.local/lib/python3.6/site-packages/sklearn/linear_model/_coordinate_descent.py:528: ConvergenceWarning: Objective did not converge. You might want to increase the number of iterations. Duality gap: 4.133986751488332e+17, tolerance: 9.995555016568178e+16\n",
      "  tol, rng, random, positive)\n",
      "/home/alexandr/.local/lib/python3.6/site-packages/sklearn/linear_model/_coordinate_descent.py:528: ConvergenceWarning: Objective did not converge. You might want to increase the number of iterations. Duality gap: 2.8301457053587246e+18, tolerance: 8.805964316020717e+16\n",
      "  tol, rng, random, positive)\n",
      "/home/alexandr/.local/lib/python3.6/site-packages/sklearn/linear_model/_coordinate_descent.py:528: ConvergenceWarning: Objective did not converge. You might want to increase the number of iterations. Duality gap: 2.647150305493422e+18, tolerance: 8.805964316020717e+16\n",
      "  tol, rng, random, positive)\n",
      "/home/alexandr/.local/lib/python3.6/site-packages/sklearn/linear_model/_coordinate_descent.py:528: ConvergenceWarning: Objective did not converge. You might want to increase the number of iterations. Duality gap: 2.499094790371219e+18, tolerance: 8.805964316020717e+16\n",
      "  tol, rng, random, positive)\n",
      "/home/alexandr/.local/lib/python3.6/site-packages/sklearn/linear_model/_coordinate_descent.py:528: ConvergenceWarning: Objective did not converge. You might want to increase the number of iterations. Duality gap: 2.380051879452463e+18, tolerance: 8.805964316020717e+16\n",
      "  tol, rng, random, positive)\n",
      "/home/alexandr/.local/lib/python3.6/site-packages/sklearn/linear_model/_coordinate_descent.py:528: ConvergenceWarning: Objective did not converge. You might want to increase the number of iterations. Duality gap: 1.963200584238803e+18, tolerance: 4.994556088864014e+16\n",
      "  tol, rng, random, positive)\n",
      "/home/alexandr/.local/lib/python3.6/site-packages/sklearn/linear_model/_coordinate_descent.py:528: ConvergenceWarning: Objective did not converge. You might want to increase the number of iterations. Duality gap: 1.9611908247412534e+18, tolerance: 4.994556088864014e+16\n",
      "  tol, rng, random, positive)\n",
      "/home/alexandr/.local/lib/python3.6/site-packages/sklearn/linear_model/_coordinate_descent.py:528: ConvergenceWarning: Objective did not converge. You might want to increase the number of iterations. Duality gap: 1.9591704223072005e+18, tolerance: 4.994556088864014e+16\n",
      "  tol, rng, random, positive)\n",
      "/home/alexandr/.local/lib/python3.6/site-packages/sklearn/linear_model/_coordinate_descent.py:528: ConvergenceWarning: Objective did not converge. You might want to increase the number of iterations. Duality gap: 1.9571192524430848e+18, tolerance: 4.994556088864014e+16\n",
      "  tol, rng, random, positive)\n",
      "/home/alexandr/.local/lib/python3.6/site-packages/sklearn/linear_model/_coordinate_descent.py:528: ConvergenceWarning: Objective did not converge. You might want to increase the number of iterations. Duality gap: 2.9498284970287227e+18, tolerance: 7.480046304612226e+16\n",
      "  tol, rng, random, positive)\n",
      "/home/alexandr/.local/lib/python3.6/site-packages/sklearn/linear_model/_coordinate_descent.py:528: ConvergenceWarning: Objective did not converge. You might want to increase the number of iterations. Duality gap: 2.7322552716638807e+18, tolerance: 7.480046304612226e+16\n",
      "  tol, rng, random, positive)\n",
      "/home/alexandr/.local/lib/python3.6/site-packages/sklearn/linear_model/_coordinate_descent.py:528: ConvergenceWarning: Objective did not converge. You might want to increase the number of iterations. Duality gap: 2.640111109793004e+18, tolerance: 7.480046304612226e+16\n",
      "  tol, rng, random, positive)\n"
     ]
    },
    {
     "name": "stderr",
     "output_type": "stream",
     "text": [
      "/home/alexandr/.local/lib/python3.6/site-packages/sklearn/linear_model/_coordinate_descent.py:528: ConvergenceWarning: Objective did not converge. You might want to increase the number of iterations. Duality gap: 2.598525536702921e+18, tolerance: 7.480046304612226e+16\n",
      "  tol, rng, random, positive)\n",
      "/home/alexandr/.local/lib/python3.6/site-packages/sklearn/linear_model/_coordinate_descent.py:528: ConvergenceWarning: Objective did not converge. You might want to increase the number of iterations. Duality gap: 2.5200698191199e+18, tolerance: 8.370991781517312e+16\n",
      "  tol, rng, random, positive)\n",
      "/home/alexandr/.local/lib/python3.6/site-packages/sklearn/linear_model/_coordinate_descent.py:528: ConvergenceWarning: Objective did not converge. You might want to increase the number of iterations. Duality gap: 2.500393257326082e+18, tolerance: 8.370991781517312e+16\n",
      "  tol, rng, random, positive)\n",
      "/home/alexandr/.local/lib/python3.6/site-packages/sklearn/linear_model/_coordinate_descent.py:528: ConvergenceWarning: Objective did not converge. You might want to increase the number of iterations. Duality gap: 2.482384106209475e+18, tolerance: 8.370991781517312e+16\n",
      "  tol, rng, random, positive)\n",
      "/home/alexandr/.local/lib/python3.6/site-packages/sklearn/linear_model/_coordinate_descent.py:528: ConvergenceWarning: Objective did not converge. You might want to increase the number of iterations. Duality gap: 2.4668625683873833e+18, tolerance: 8.370991781517312e+16\n",
      "  tol, rng, random, positive)\n",
      "/home/alexandr/.local/lib/python3.6/site-packages/sklearn/linear_model/_coordinate_descent.py:528: ConvergenceWarning: Objective did not converge. You might want to increase the number of iterations. Duality gap: 4.4926258783817446e+17, tolerance: 9.995555016568178e+16\n",
      "  tol, rng, random, positive)\n",
      "/home/alexandr/.local/lib/python3.6/site-packages/sklearn/linear_model/_coordinate_descent.py:528: ConvergenceWarning: Objective did not converge. You might want to increase the number of iterations. Duality gap: 4.350683022922114e+17, tolerance: 9.995555016568178e+16\n",
      "  tol, rng, random, positive)\n",
      "/home/alexandr/.local/lib/python3.6/site-packages/sklearn/linear_model/_coordinate_descent.py:528: ConvergenceWarning: Objective did not converge. You might want to increase the number of iterations. Duality gap: 4.23182612255215e+17, tolerance: 9.995555016568178e+16\n",
      "  tol, rng, random, positive)\n",
      "/home/alexandr/.local/lib/python3.6/site-packages/sklearn/linear_model/_coordinate_descent.py:528: ConvergenceWarning: Objective did not converge. You might want to increase the number of iterations. Duality gap: 4.133987227442495e+17, tolerance: 9.995555016568178e+16\n",
      "  tol, rng, random, positive)\n",
      "/home/alexandr/.local/lib/python3.6/site-packages/sklearn/linear_model/_coordinate_descent.py:528: ConvergenceWarning: Objective did not converge. You might want to increase the number of iterations. Duality gap: 2.8301455845664343e+18, tolerance: 8.805964316020717e+16\n",
      "  tol, rng, random, positive)\n",
      "/home/alexandr/.local/lib/python3.6/site-packages/sklearn/linear_model/_coordinate_descent.py:528: ConvergenceWarning: Objective did not converge. You might want to increase the number of iterations. Duality gap: 2.647150633241057e+18, tolerance: 8.805964316020717e+16\n",
      "  tol, rng, random, positive)\n",
      "/home/alexandr/.local/lib/python3.6/site-packages/sklearn/linear_model/_coordinate_descent.py:528: ConvergenceWarning: Objective did not converge. You might want to increase the number of iterations. Duality gap: 2.4990950350611543e+18, tolerance: 8.805964316020717e+16\n",
      "  tol, rng, random, positive)\n",
      "/home/alexandr/.local/lib/python3.6/site-packages/sklearn/linear_model/_coordinate_descent.py:528: ConvergenceWarning: Objective did not converge. You might want to increase the number of iterations. Duality gap: 2.3800511470201825e+18, tolerance: 8.805964316020717e+16\n",
      "  tol, rng, random, positive)\n",
      "/home/alexandr/.local/lib/python3.6/site-packages/sklearn/linear_model/_coordinate_descent.py:528: ConvergenceWarning: Objective did not converge. You might want to increase the number of iterations. Duality gap: 1.9631998750797517e+18, tolerance: 4.994556088864014e+16\n",
      "  tol, rng, random, positive)\n",
      "/home/alexandr/.local/lib/python3.6/site-packages/sklearn/linear_model/_coordinate_descent.py:528: ConvergenceWarning: Objective did not converge. You might want to increase the number of iterations. Duality gap: 1.9611920365662597e+18, tolerance: 4.994556088864014e+16\n",
      "  tol, rng, random, positive)\n",
      "/home/alexandr/.local/lib/python3.6/site-packages/sklearn/linear_model/_coordinate_descent.py:528: ConvergenceWarning: Objective did not converge. You might want to increase the number of iterations. Duality gap: 1.959171897101755e+18, tolerance: 4.994556088864014e+16\n",
      "  tol, rng, random, positive)\n",
      "/home/alexandr/.local/lib/python3.6/site-packages/sklearn/linear_model/_coordinate_descent.py:528: ConvergenceWarning: Objective did not converge. You might want to increase the number of iterations. Duality gap: 1.9571180241864256e+18, tolerance: 4.994556088864014e+16\n",
      "  tol, rng, random, positive)\n",
      "/home/alexandr/.local/lib/python3.6/site-packages/sklearn/linear_model/_coordinate_descent.py:528: ConvergenceWarning: Objective did not converge. You might want to increase the number of iterations. Duality gap: 2.949832120306702e+18, tolerance: 7.480046304612226e+16\n",
      "  tol, rng, random, positive)\n",
      "/home/alexandr/.local/lib/python3.6/site-packages/sklearn/linear_model/_coordinate_descent.py:528: ConvergenceWarning: Objective did not converge. You might want to increase the number of iterations. Duality gap: 2.7322496218011366e+18, tolerance: 7.480046304612226e+16\n",
      "  tol, rng, random, positive)\n",
      "/home/alexandr/.local/lib/python3.6/site-packages/sklearn/linear_model/_coordinate_descent.py:528: ConvergenceWarning: Objective did not converge. You might want to increase the number of iterations. Duality gap: 2.640103527761383e+18, tolerance: 7.480046304612226e+16\n",
      "  tol, rng, random, positive)\n",
      "/home/alexandr/.local/lib/python3.6/site-packages/sklearn/linear_model/_coordinate_descent.py:528: ConvergenceWarning: Objective did not converge. You might want to increase the number of iterations. Duality gap: 2.598523017878576e+18, tolerance: 7.480046304612226e+16\n",
      "  tol, rng, random, positive)\n",
      "/home/alexandr/.local/lib/python3.6/site-packages/sklearn/linear_model/_coordinate_descent.py:528: ConvergenceWarning: Objective did not converge. You might want to increase the number of iterations. Duality gap: 2.520068060828631e+18, tolerance: 8.370991781517312e+16\n",
      "  tol, rng, random, positive)\n",
      "/home/alexandr/.local/lib/python3.6/site-packages/sklearn/linear_model/_coordinate_descent.py:528: ConvergenceWarning: Objective did not converge. You might want to increase the number of iterations. Duality gap: 2.500393190864922e+18, tolerance: 8.370991781517312e+16\n",
      "  tol, rng, random, positive)\n",
      "/home/alexandr/.local/lib/python3.6/site-packages/sklearn/linear_model/_coordinate_descent.py:528: ConvergenceWarning: Objective did not converge. You might want to increase the number of iterations. Duality gap: 2.482384138825813e+18, tolerance: 8.370991781517312e+16\n",
      "  tol, rng, random, positive)\n",
      "/home/alexandr/.local/lib/python3.6/site-packages/sklearn/linear_model/_coordinate_descent.py:528: ConvergenceWarning: Objective did not converge. You might want to increase the number of iterations. Duality gap: 2.4668627185097646e+18, tolerance: 8.370991781517312e+16\n",
      "  tol, rng, random, positive)\n",
      "/home/alexandr/.local/lib/python3.6/site-packages/sklearn/linear_model/_coordinate_descent.py:528: ConvergenceWarning: Objective did not converge. You might want to increase the number of iterations. Duality gap: 4.492622991935264e+17, tolerance: 9.995555016568178e+16\n",
      "  tol, rng, random, positive)\n",
      "/home/alexandr/.local/lib/python3.6/site-packages/sklearn/linear_model/_coordinate_descent.py:528: ConvergenceWarning: Objective did not converge. You might want to increase the number of iterations. Duality gap: 4.3506831686691526e+17, tolerance: 9.995555016568178e+16\n",
      "  tol, rng, random, positive)\n",
      "/home/alexandr/.local/lib/python3.6/site-packages/sklearn/linear_model/_coordinate_descent.py:528: ConvergenceWarning: Objective did not converge. You might want to increase the number of iterations. Duality gap: 4.2318264206401024e+17, tolerance: 9.995555016568178e+16\n",
      "  tol, rng, random, positive)\n"
     ]
    },
    {
     "name": "stderr",
     "output_type": "stream",
     "text": [
      "/home/alexandr/.local/lib/python3.6/site-packages/sklearn/linear_model/_coordinate_descent.py:528: ConvergenceWarning: Objective did not converge. You might want to increase the number of iterations. Duality gap: 4.1339879740496525e+17, tolerance: 9.995555016568178e+16\n",
      "  tol, rng, random, positive)\n",
      "/home/alexandr/.local/lib/python3.6/site-packages/sklearn/linear_model/_coordinate_descent.py:528: ConvergenceWarning: Objective did not converge. You might want to increase the number of iterations. Duality gap: 2.830145418828688e+18, tolerance: 8.805964316020717e+16\n",
      "  tol, rng, random, positive)\n",
      "/home/alexandr/.local/lib/python3.6/site-packages/sklearn/linear_model/_coordinate_descent.py:528: ConvergenceWarning: Objective did not converge. You might want to increase the number of iterations. Duality gap: 2.6471508775079107e+18, tolerance: 8.805964316020717e+16\n",
      "  tol, rng, random, positive)\n",
      "/home/alexandr/.local/lib/python3.6/site-packages/sklearn/linear_model/_coordinate_descent.py:528: ConvergenceWarning: Objective did not converge. You might want to increase the number of iterations. Duality gap: 2.499095261857567e+18, tolerance: 8.805964316020717e+16\n",
      "  tol, rng, random, positive)\n",
      "/home/alexandr/.local/lib/python3.6/site-packages/sklearn/linear_model/_coordinate_descent.py:528: ConvergenceWarning: Objective did not converge. You might want to increase the number of iterations. Duality gap: 2.3800516238488033e+18, tolerance: 8.805964316020717e+16\n",
      "  tol, rng, random, positive)\n",
      "/home/alexandr/.local/lib/python3.6/site-packages/sklearn/linear_model/_coordinate_descent.py:528: ConvergenceWarning: Objective did not converge. You might want to increase the number of iterations. Duality gap: 1.9631991232973842e+18, tolerance: 4.994556088864014e+16\n",
      "  tol, rng, random, positive)\n",
      "/home/alexandr/.local/lib/python3.6/site-packages/sklearn/linear_model/_coordinate_descent.py:528: ConvergenceWarning: Objective did not converge. You might want to increase the number of iterations. Duality gap: 1.9611910417563858e+18, tolerance: 4.994556088864014e+16\n",
      "  tol, rng, random, positive)\n",
      "/home/alexandr/.local/lib/python3.6/site-packages/sklearn/linear_model/_coordinate_descent.py:528: ConvergenceWarning: Objective did not converge. You might want to increase the number of iterations. Duality gap: 1.959171417349287e+18, tolerance: 4.994556088864014e+16\n",
      "  tol, rng, random, positive)\n",
      "/home/alexandr/.local/lib/python3.6/site-packages/sklearn/linear_model/_coordinate_descent.py:528: ConvergenceWarning: Objective did not converge. You might want to increase the number of iterations. Duality gap: 1.9571188849845036e+18, tolerance: 4.994556088864014e+16\n",
      "  tol, rng, random, positive)\n",
      "/home/alexandr/.local/lib/python3.6/site-packages/sklearn/linear_model/_coordinate_descent.py:528: ConvergenceWarning: Objective did not converge. You might want to increase the number of iterations. Duality gap: 2.949835702385582e+18, tolerance: 7.480046304612226e+16\n",
      "  tol, rng, random, positive)\n",
      "/home/alexandr/.local/lib/python3.6/site-packages/sklearn/linear_model/_coordinate_descent.py:528: ConvergenceWarning: Objective did not converge. You might want to increase the number of iterations. Duality gap: 2.7322440002913085e+18, tolerance: 7.480046304612226e+16\n",
      "  tol, rng, random, positive)\n",
      "/home/alexandr/.local/lib/python3.6/site-packages/sklearn/linear_model/_coordinate_descent.py:528: ConvergenceWarning: Objective did not converge. You might want to increase the number of iterations. Duality gap: 2.6400958328907075e+18, tolerance: 7.480046304612226e+16\n",
      "  tol, rng, random, positive)\n",
      "/home/alexandr/.local/lib/python3.6/site-packages/sklearn/linear_model/_coordinate_descent.py:528: ConvergenceWarning: Objective did not converge. You might want to increase the number of iterations. Duality gap: 2.598520313485117e+18, tolerance: 7.480046304612226e+16\n",
      "  tol, rng, random, positive)\n",
      "/home/alexandr/.local/lib/python3.6/site-packages/sklearn/linear_model/_coordinate_descent.py:528: ConvergenceWarning: Objective did not converge. You might want to increase the number of iterations. Duality gap: 2.520066281894518e+18, tolerance: 8.370991781517312e+16\n",
      "  tol, rng, random, positive)\n",
      "/home/alexandr/.local/lib/python3.6/site-packages/sklearn/linear_model/_coordinate_descent.py:528: ConvergenceWarning: Objective did not converge. You might want to increase the number of iterations. Duality gap: 2.500393014141683e+18, tolerance: 8.370991781517312e+16\n",
      "  tol, rng, random, positive)\n",
      "/home/alexandr/.local/lib/python3.6/site-packages/sklearn/linear_model/_coordinate_descent.py:528: ConvergenceWarning: Objective did not converge. You might want to increase the number of iterations. Duality gap: 2.4823842189248333e+18, tolerance: 8.370991781517312e+16\n",
      "  tol, rng, random, positive)\n",
      "/home/alexandr/.local/lib/python3.6/site-packages/sklearn/linear_model/_coordinate_descent.py:528: ConvergenceWarning: Objective did not converge. You might want to increase the number of iterations. Duality gap: 2.4668629096592123e+18, tolerance: 8.370991781517312e+16\n",
      "  tol, rng, random, positive)\n",
      "/home/alexandr/.local/lib/python3.6/site-packages/sklearn/linear_model/_coordinate_descent.py:528: ConvergenceWarning: Objective did not converge. You might want to increase the number of iterations. Duality gap: 4.492620287219391e+17, tolerance: 9.995555016568178e+16\n",
      "  tol, rng, random, positive)\n",
      "/home/alexandr/.local/lib/python3.6/site-packages/sklearn/linear_model/_coordinate_descent.py:528: ConvergenceWarning: Objective did not converge. You might want to increase the number of iterations. Duality gap: 4.3506833859895174e+17, tolerance: 9.995555016568178e+16\n",
      "  tol, rng, random, positive)\n",
      "/home/alexandr/.local/lib/python3.6/site-packages/sklearn/linear_model/_coordinate_descent.py:528: ConvergenceWarning: Objective did not converge. You might want to increase the number of iterations. Duality gap: 4.231826984263348e+17, tolerance: 9.995555016568178e+16\n",
      "  tol, rng, random, positive)\n",
      "/home/alexandr/.local/lib/python3.6/site-packages/sklearn/linear_model/_coordinate_descent.py:528: ConvergenceWarning: Objective did not converge. You might want to increase the number of iterations. Duality gap: 4.1339884616086246e+17, tolerance: 9.995555016568178e+16\n",
      "  tol, rng, random, positive)\n",
      "/home/alexandr/.local/lib/python3.6/site-packages/sklearn/linear_model/_coordinate_descent.py:528: ConvergenceWarning: Objective did not converge. You might want to increase the number of iterations. Duality gap: 2.830145282510287e+18, tolerance: 8.805964316020717e+16\n",
      "  tol, rng, random, positive)\n",
      "/home/alexandr/.local/lib/python3.6/site-packages/sklearn/linear_model/_coordinate_descent.py:528: ConvergenceWarning: Objective did not converge. You might want to increase the number of iterations. Duality gap: 2.6471511562426793e+18, tolerance: 8.805964316020717e+16\n",
      "  tol, rng, random, positive)\n",
      "/home/alexandr/.local/lib/python3.6/site-packages/sklearn/linear_model/_coordinate_descent.py:528: ConvergenceWarning: Objective did not converge. You might want to increase the number of iterations. Duality gap: 2.4990956276520934e+18, tolerance: 8.805964316020717e+16\n",
      "  tol, rng, random, positive)\n",
      "/home/alexandr/.local/lib/python3.6/site-packages/sklearn/linear_model/_coordinate_descent.py:528: ConvergenceWarning: Objective did not converge. You might want to increase the number of iterations. Duality gap: 2.3800519538400957e+18, tolerance: 8.805964316020717e+16\n",
      "  tol, rng, random, positive)\n",
      "/home/alexandr/.local/lib/python3.6/site-packages/sklearn/linear_model/_coordinate_descent.py:528: ConvergenceWarning: Objective did not converge. You might want to increase the number of iterations. Duality gap: 1.963198437610828e+18, tolerance: 4.994556088864014e+16\n",
      "  tol, rng, random, positive)\n",
      "/home/alexandr/.local/lib/python3.6/site-packages/sklearn/linear_model/_coordinate_descent.py:528: ConvergenceWarning: Objective did not converge. You might want to increase the number of iterations. Duality gap: 1.9611907350826324e+18, tolerance: 4.994556088864014e+16\n",
      "  tol, rng, random, positive)\n",
      "/home/alexandr/.local/lib/python3.6/site-packages/sklearn/linear_model/_coordinate_descent.py:528: ConvergenceWarning: Objective did not converge. You might want to increase the number of iterations. Duality gap: 1.9591715481457213e+18, tolerance: 4.994556088864014e+16\n",
      "  tol, rng, random, positive)\n"
     ]
    },
    {
     "name": "stderr",
     "output_type": "stream",
     "text": [
      "/home/alexandr/.local/lib/python3.6/site-packages/sklearn/linear_model/_coordinate_descent.py:528: ConvergenceWarning: Objective did not converge. You might want to increase the number of iterations. Duality gap: 1.957120034638984e+18, tolerance: 4.994556088864014e+16\n",
      "  tol, rng, random, positive)\n",
      "/home/alexandr/.local/lib/python3.6/site-packages/sklearn/linear_model/_coordinate_descent.py:528: ConvergenceWarning: Objective did not converge. You might want to increase the number of iterations. Duality gap: 2.9498393037125714e+18, tolerance: 7.480046304612226e+16\n",
      "  tol, rng, random, positive)\n",
      "/home/alexandr/.local/lib/python3.6/site-packages/sklearn/linear_model/_coordinate_descent.py:528: ConvergenceWarning: Objective did not converge. You might want to increase the number of iterations. Duality gap: 2.732238514889453e+18, tolerance: 7.480046304612226e+16\n",
      "  tol, rng, random, positive)\n",
      "/home/alexandr/.local/lib/python3.6/site-packages/sklearn/linear_model/_coordinate_descent.py:528: ConvergenceWarning: Objective did not converge. You might want to increase the number of iterations. Duality gap: 2.640088481474822e+18, tolerance: 7.480046304612226e+16\n",
      "  tol, rng, random, positive)\n",
      "/home/alexandr/.local/lib/python3.6/site-packages/sklearn/linear_model/_coordinate_descent.py:528: ConvergenceWarning: Objective did not converge. You might want to increase the number of iterations. Duality gap: 2.5985173551501706e+18, tolerance: 7.480046304612226e+16\n",
      "  tol, rng, random, positive)\n",
      "/home/alexandr/.local/lib/python3.6/site-packages/sklearn/linear_model/_coordinate_descent.py:528: ConvergenceWarning: Objective did not converge. You might want to increase the number of iterations. Duality gap: 2.520064431348453e+18, tolerance: 8.370991781517312e+16\n",
      "  tol, rng, random, positive)\n",
      "/home/alexandr/.local/lib/python3.6/site-packages/sklearn/linear_model/_coordinate_descent.py:528: ConvergenceWarning: Objective did not converge. You might want to increase the number of iterations. Duality gap: 2.500392837478479e+18, tolerance: 8.370991781517312e+16\n",
      "  tol, rng, random, positive)\n",
      "/home/alexandr/.local/lib/python3.6/site-packages/sklearn/linear_model/_coordinate_descent.py:528: ConvergenceWarning: Objective did not converge. You might want to increase the number of iterations. Duality gap: 2.4823842292160215e+18, tolerance: 8.370991781517312e+16\n",
      "  tol, rng, random, positive)\n",
      "/home/alexandr/.local/lib/python3.6/site-packages/sklearn/linear_model/_coordinate_descent.py:528: ConvergenceWarning: Objective did not converge. You might want to increase the number of iterations. Duality gap: 2.466862978709736e+18, tolerance: 8.370991781517312e+16\n",
      "  tol, rng, random, positive)\n",
      "/home/alexandr/.local/lib/python3.6/site-packages/sklearn/linear_model/_coordinate_descent.py:528: ConvergenceWarning: Objective did not converge. You might want to increase the number of iterations. Duality gap: 4.49261756961229e+17, tolerance: 9.995555016568178e+16\n",
      "  tol, rng, random, positive)\n",
      "/home/alexandr/.local/lib/python3.6/site-packages/sklearn/linear_model/_coordinate_descent.py:528: ConvergenceWarning: Objective did not converge. You might want to increase the number of iterations. Duality gap: 4.350683568323839e+17, tolerance: 9.995555016568178e+16\n",
      "  tol, rng, random, positive)\n",
      "/home/alexandr/.local/lib/python3.6/site-packages/sklearn/linear_model/_coordinate_descent.py:528: ConvergenceWarning: Objective did not converge. You might want to increase the number of iterations. Duality gap: 4.2318272386553e+17, tolerance: 9.995555016568178e+16\n",
      "  tol, rng, random, positive)\n",
      "/home/alexandr/.local/lib/python3.6/site-packages/sklearn/linear_model/_coordinate_descent.py:528: ConvergenceWarning: Objective did not converge. You might want to increase the number of iterations. Duality gap: 4.1339886245860026e+17, tolerance: 9.995555016568178e+16\n",
      "  tol, rng, random, positive)\n",
      "/home/alexandr/.local/lib/python3.6/site-packages/sklearn/linear_model/_coordinate_descent.py:528: ConvergenceWarning: Objective did not converge. You might want to increase the number of iterations. Duality gap: 2.8301451174048676e+18, tolerance: 8.805964316020717e+16\n",
      "  tol, rng, random, positive)\n",
      "/home/alexandr/.local/lib/python3.6/site-packages/sklearn/linear_model/_coordinate_descent.py:528: ConvergenceWarning: Objective did not converge. You might want to increase the number of iterations. Duality gap: 2.647151439316593e+18, tolerance: 8.805964316020717e+16\n",
      "  tol, rng, random, positive)\n",
      "/home/alexandr/.local/lib/python3.6/site-packages/sklearn/linear_model/_coordinate_descent.py:528: ConvergenceWarning: Objective did not converge. You might want to increase the number of iterations. Duality gap: 2.499095715720648e+18, tolerance: 8.805964316020717e+16\n",
      "  tol, rng, random, positive)\n",
      "/home/alexandr/.local/lib/python3.6/site-packages/sklearn/linear_model/_coordinate_descent.py:528: ConvergenceWarning: Objective did not converge. You might want to increase the number of iterations. Duality gap: 2.3800529431959076e+18, tolerance: 8.805964316020717e+16\n",
      "  tol, rng, random, positive)\n",
      "/home/alexandr/.local/lib/python3.6/site-packages/sklearn/linear_model/_coordinate_descent.py:528: ConvergenceWarning: Objective did not converge. You might want to increase the number of iterations. Duality gap: 1.9631976738987164e+18, tolerance: 4.994556088864014e+16\n",
      "  tol, rng, random, positive)\n",
      "/home/alexandr/.local/lib/python3.6/site-packages/sklearn/linear_model/_coordinate_descent.py:528: ConvergenceWarning: Objective did not converge. You might want to increase the number of iterations. Duality gap: 1.9611918829408166e+18, tolerance: 4.994556088864014e+16\n",
      "  tol, rng, random, positive)\n",
      "/home/alexandr/.local/lib/python3.6/site-packages/sklearn/linear_model/_coordinate_descent.py:528: ConvergenceWarning: Objective did not converge. You might want to increase the number of iterations. Duality gap: 1.9591698809566787e+18, tolerance: 4.994556088864014e+16\n",
      "  tol, rng, random, positive)\n",
      "/home/alexandr/.local/lib/python3.6/site-packages/sklearn/linear_model/_coordinate_descent.py:528: ConvergenceWarning: Objective did not converge. You might want to increase the number of iterations. Duality gap: 1.957121214707303e+18, tolerance: 4.994556088864014e+16\n",
      "  tol, rng, random, positive)\n",
      "/home/alexandr/.local/lib/python3.6/site-packages/sklearn/linear_model/_coordinate_descent.py:528: ConvergenceWarning: Objective did not converge. You might want to increase the number of iterations. Duality gap: 2.9498429369331763e+18, tolerance: 7.480046304612226e+16\n",
      "  tol, rng, random, positive)\n",
      "/home/alexandr/.local/lib/python3.6/site-packages/sklearn/linear_model/_coordinate_descent.py:528: ConvergenceWarning: Objective did not converge. You might want to increase the number of iterations. Duality gap: 2.732232739844168e+18, tolerance: 7.480046304612226e+16\n",
      "  tol, rng, random, positive)\n",
      "/home/alexandr/.local/lib/python3.6/site-packages/sklearn/linear_model/_coordinate_descent.py:528: ConvergenceWarning: Objective did not converge. You might want to increase the number of iterations. Duality gap: 2.64008080732444e+18, tolerance: 7.480046304612226e+16\n",
      "  tol, rng, random, positive)\n",
      "/home/alexandr/.local/lib/python3.6/site-packages/sklearn/linear_model/_coordinate_descent.py:528: ConvergenceWarning: Objective did not converge. You might want to increase the number of iterations. Duality gap: 2.598514703597201e+18, tolerance: 7.480046304612226e+16\n",
      "  tol, rng, random, positive)\n",
      "/home/alexandr/.local/lib/python3.6/site-packages/sklearn/linear_model/_coordinate_descent.py:528: ConvergenceWarning: Objective did not converge. You might want to increase the number of iterations. Duality gap: 2.520062621111239e+18, tolerance: 8.370991781517312e+16\n",
      "  tol, rng, random, positive)\n",
      "/home/alexandr/.local/lib/python3.6/site-packages/sklearn/linear_model/_coordinate_descent.py:528: ConvergenceWarning: Objective did not converge. You might want to increase the number of iterations. Duality gap: 2.500392751996448e+18, tolerance: 8.370991781517312e+16\n",
      "  tol, rng, random, positive)\n",
      "/home/alexandr/.local/lib/python3.6/site-packages/sklearn/linear_model/_coordinate_descent.py:528: ConvergenceWarning: Objective did not converge. You might want to increase the number of iterations. Duality gap: 2.4823842404269276e+18, tolerance: 8.370991781517312e+16\n",
      "  tol, rng, random, positive)\n"
     ]
    },
    {
     "name": "stderr",
     "output_type": "stream",
     "text": [
      "/home/alexandr/.local/lib/python3.6/site-packages/sklearn/linear_model/_coordinate_descent.py:528: ConvergenceWarning: Objective did not converge. You might want to increase the number of iterations. Duality gap: 2.46686315211654e+18, tolerance: 8.370991781517312e+16\n",
      "  tol, rng, random, positive)\n",
      "/home/alexandr/.local/lib/python3.6/site-packages/sklearn/linear_model/_coordinate_descent.py:528: ConvergenceWarning: Objective did not converge. You might want to increase the number of iterations. Duality gap: 4.492614809080013e+17, tolerance: 9.995555016568178e+16\n",
      "  tol, rng, random, positive)\n",
      "/home/alexandr/.local/lib/python3.6/site-packages/sklearn/linear_model/_coordinate_descent.py:528: ConvergenceWarning: Objective did not converge. You might want to increase the number of iterations. Duality gap: 4.3506835512639546e+17, tolerance: 9.995555016568178e+16\n",
      "  tol, rng, random, positive)\n",
      "/home/alexandr/.local/lib/python3.6/site-packages/sklearn/linear_model/_coordinate_descent.py:528: ConvergenceWarning: Objective did not converge. You might want to increase the number of iterations. Duality gap: 4.2318287191799936e+17, tolerance: 9.995555016568178e+16\n",
      "  tol, rng, random, positive)\n",
      "/home/alexandr/.local/lib/python3.6/site-packages/sklearn/linear_model/_coordinate_descent.py:528: ConvergenceWarning: Objective did not converge. You might want to increase the number of iterations. Duality gap: 4.1339892883421805e+17, tolerance: 9.995555016568178e+16\n",
      "  tol, rng, random, positive)\n",
      "/home/alexandr/.local/lib/python3.6/site-packages/sklearn/linear_model/_coordinate_descent.py:528: ConvergenceWarning: Objective did not converge. You might want to increase the number of iterations. Duality gap: 2.830145005003759e+18, tolerance: 8.805964316020717e+16\n",
      "  tol, rng, random, positive)\n",
      "/home/alexandr/.local/lib/python3.6/site-packages/sklearn/linear_model/_coordinate_descent.py:528: ConvergenceWarning: Objective did not converge. You might want to increase the number of iterations. Duality gap: 2.647151741303814e+18, tolerance: 8.805964316020717e+16\n",
      "  tol, rng, random, positive)\n",
      "/home/alexandr/.local/lib/python3.6/site-packages/sklearn/linear_model/_coordinate_descent.py:528: ConvergenceWarning: Objective did not converge. You might want to increase the number of iterations. Duality gap: 2.499096177742356e+18, tolerance: 8.805964316020717e+16\n",
      "  tol, rng, random, positive)\n",
      "/home/alexandr/.local/lib/python3.6/site-packages/sklearn/linear_model/_coordinate_descent.py:528: ConvergenceWarning: Objective did not converge. You might want to increase the number of iterations. Duality gap: 2.3800540385144776e+18, tolerance: 8.805964316020717e+16\n",
      "  tol, rng, random, positive)\n",
      "/home/alexandr/.local/lib/python3.6/site-packages/sklearn/linear_model/_coordinate_descent.py:528: ConvergenceWarning: Objective did not converge. You might want to increase the number of iterations. Duality gap: 1.9631969063705423e+18, tolerance: 4.994556088864014e+16\n",
      "  tol, rng, random, positive)\n",
      "/home/alexandr/.local/lib/python3.6/site-packages/sklearn/linear_model/_coordinate_descent.py:528: ConvergenceWarning: Objective did not converge. You might want to increase the number of iterations. Duality gap: 1.9611903172607903e+18, tolerance: 4.994556088864014e+16\n",
      "  tol, rng, random, positive)\n",
      "/home/alexandr/.local/lib/python3.6/site-packages/sklearn/linear_model/_coordinate_descent.py:528: ConvergenceWarning: Objective did not converge. You might want to increase the number of iterations. Duality gap: 1.9591688745642094e+18, tolerance: 4.994556088864014e+16\n",
      "  tol, rng, random, positive)\n",
      "/home/alexandr/.local/lib/python3.6/site-packages/sklearn/linear_model/_coordinate_descent.py:528: ConvergenceWarning: Objective did not converge. You might want to increase the number of iterations. Duality gap: 1.9571210716701094e+18, tolerance: 4.994556088864014e+16\n",
      "  tol, rng, random, positive)\n"
     ]
    },
    {
     "name": "stdout",
     "output_type": "stream",
     "text": [
      "1e-05 0.9 121977783.31835766\n"
     ]
    },
    {
     "name": "stderr",
     "output_type": "stream",
     "text": [
      "/home/alexandr/.local/lib/python3.6/site-packages/sklearn/linear_model/_coordinate_descent.py:532: ConvergenceWarning: Objective did not converge. You might want to increase the number of iterations. Duality gap: 3.358790216827815e+18, tolerance: 1.0535201825908427e+17\n",
      "  positive)\n"
     ]
    }
   ],
   "source": [
    "l1_ratios = np.linspace(0.1, 0.9, 9)\n",
    "\n",
    "elasticNetCV = ElasticNetCV(alphas=alphas2, \n",
    "                            l1_ratio=l1_ratios,\n",
    "                            max_iter=1e6).fit(train_x_poly2_10, train_y2)\n",
    "elasticNetCV_rmse = rmse(test_y2, elasticNetCV.predict(test_x_poly2_10))\n",
    "\n",
    "print(elasticNetCV.alpha_, elasticNetCV.l1_ratio_, elasticNetCV_rmse)"
   ]
  },
  {
   "cell_type": "code",
   "execution_count": 57,
   "id": "fe11f1d8",
   "metadata": {},
   "outputs": [
    {
     "name": "stdout",
     "output_type": "stream",
     "text": [
      "0.9948271292134738\n"
     ]
    }
   ],
   "source": [
    "y_pred_elasticNet = elasticNetCV.predict(test_x_poly2_10)\n",
    "print(r2_score(test_y2, y_pred_elasticNet))"
   ]
  },
  {
   "cell_type": "code",
   "execution_count": 58,
   "id": "100d7887",
   "metadata": {},
   "outputs": [],
   "source": [
    "r2_score_elasticNet = r2_score(test_y2, y_pred_elasticNet)"
   ]
  },
  {
   "cell_type": "markdown",
   "id": "642b254a",
   "metadata": {},
   "source": []
  },
  {
   "cell_type": "markdown",
   "id": "148ceee8",
   "metadata": {},
   "source": [
    "<h3>3.4. Summary</h3>"
   ]
  },
  {
   "cell_type": "code",
   "execution_count": 59,
   "id": "5612e3f3",
   "metadata": {},
   "outputs": [],
   "source": [
    "clf2_10_rmse = rmse(test_y2, clf2_10.predict(test_x_poly2_10))\n",
    "regr2_rmse = rmse(test_y2, regr2.predict(test_x2))\n",
    "clf2_2_rmse = rmse(test_y2, clf2_2.predict(test_x_poly2_2))\n",
    "clf2_5_rmse = rmse(test_y2, clf2_5.predict(test_x_poly2_5))"
   ]
  },
  {
   "cell_type": "code",
   "execution_count": 60,
   "id": "1ab85858",
   "metadata": {},
   "outputs": [
    {
     "data": {
      "text/html": [
       "<div>\n",
       "<style scoped>\n",
       "    .dataframe tbody tr th:only-of-type {\n",
       "        vertical-align: middle;\n",
       "    }\n",
       "\n",
       "    .dataframe tbody tr th {\n",
       "        vertical-align: top;\n",
       "    }\n",
       "\n",
       "    .dataframe thead th {\n",
       "        text-align: right;\n",
       "    }\n",
       "</style>\n",
       "<table border=\"1\" class=\"dataframe\">\n",
       "  <thead>\n",
       "    <tr style=\"text-align: right;\">\n",
       "      <th></th>\n",
       "      <th>r2_score</th>\n",
       "    </tr>\n",
       "  </thead>\n",
       "  <tbody>\n",
       "    <tr>\n",
       "      <th>Linear</th>\n",
       "      <td>0.937962</td>\n",
       "    </tr>\n",
       "    <tr>\n",
       "      <th>2-degree polynomial</th>\n",
       "      <td>0.967067</td>\n",
       "    </tr>\n",
       "    <tr>\n",
       "      <th>5-degree polynomial</th>\n",
       "      <td>0.994198</td>\n",
       "    </tr>\n",
       "    <tr>\n",
       "      <th>10-degree polynomial</th>\n",
       "      <td>0.995183</td>\n",
       "    </tr>\n",
       "    <tr>\n",
       "      <th>Ridge</th>\n",
       "      <td>0.997000</td>\n",
       "    </tr>\n",
       "    <tr>\n",
       "      <th>Lasso</th>\n",
       "      <td>0.995421</td>\n",
       "    </tr>\n",
       "    <tr>\n",
       "      <th>ElasticNet</th>\n",
       "      <td>0.994827</td>\n",
       "    </tr>\n",
       "  </tbody>\n",
       "</table>\n",
       "</div>"
      ],
      "text/plain": [
       "                      r2_score\n",
       "Linear                0.937962\n",
       "2-degree polynomial   0.967067\n",
       "5-degree polynomial   0.994198\n",
       "10-degree polynomial  0.995183\n",
       "Ridge                 0.997000\n",
       "Lasso                 0.995421\n",
       "ElasticNet            0.994827"
      ]
     },
     "execution_count": 60,
     "metadata": {},
     "output_type": "execute_result"
    }
   ],
   "source": [
    "r2_score_vals = [r2_score_linear, r2_score_2_degree, r2_score_5_degree, r2_score_10_degree, r2_score_ridge,\n",
    "                r2_score_lasso, r2_score_elasticNet]\n",
    "\n",
    "labels = ['Linear', '2-degree polynomial', '5-degree polynomial', '10-degree polynomial', 'Ridge', 'Lasso',\n",
    "          'ElasticNet']\n",
    "\n",
    "r2_score_df = pd.Series(r2_score_vals, index=labels).to_frame()\n",
    "r2_score_df.rename(columns={0: 'r2_score'}, inplace=1)\n",
    "r2_score_df"
   ]
  },
  {
   "cell_type": "code",
   "execution_count": 61,
   "id": "037ebced",
   "metadata": {},
   "outputs": [
    {
     "data": {
      "text/html": [
       "<div>\n",
       "<style scoped>\n",
       "    .dataframe tbody tr th:only-of-type {\n",
       "        vertical-align: middle;\n",
       "    }\n",
       "\n",
       "    .dataframe tbody tr th {\n",
       "        vertical-align: top;\n",
       "    }\n",
       "\n",
       "    .dataframe thead th {\n",
       "        text-align: right;\n",
       "    }\n",
       "</style>\n",
       "<table border=\"1\" class=\"dataframe\">\n",
       "  <thead>\n",
       "    <tr style=\"text-align: right;\">\n",
       "      <th></th>\n",
       "      <th>RMSE</th>\n",
       "    </tr>\n",
       "  </thead>\n",
       "  <tbody>\n",
       "    <tr>\n",
       "      <th>Linear</th>\n",
       "      <td>4.224207e+08</td>\n",
       "    </tr>\n",
       "    <tr>\n",
       "      <th>2-degree polynomial</th>\n",
       "      <td>3.077750e+08</td>\n",
       "    </tr>\n",
       "    <tr>\n",
       "      <th>5-degree polynomial</th>\n",
       "      <td>1.291791e+08</td>\n",
       "    </tr>\n",
       "    <tr>\n",
       "      <th>10-degree polynomial</th>\n",
       "      <td>1.177119e+08</td>\n",
       "    </tr>\n",
       "    <tr>\n",
       "      <th>Ridge</th>\n",
       "      <td>9.289274e+07</td>\n",
       "    </tr>\n",
       "    <tr>\n",
       "      <th>Lasso</th>\n",
       "      <td>1.147627e+08</td>\n",
       "    </tr>\n",
       "    <tr>\n",
       "      <th>ElasticNet</th>\n",
       "      <td>1.219778e+08</td>\n",
       "    </tr>\n",
       "  </tbody>\n",
       "</table>\n",
       "</div>"
      ],
      "text/plain": [
       "                              RMSE\n",
       "Linear                4.224207e+08\n",
       "2-degree polynomial   3.077750e+08\n",
       "5-degree polynomial   1.291791e+08\n",
       "10-degree polynomial  1.177119e+08\n",
       "Ridge                 9.289274e+07\n",
       "Lasso                 1.147627e+08\n",
       "ElasticNet            1.219778e+08"
      ]
     },
     "execution_count": 61,
     "metadata": {},
     "output_type": "execute_result"
    }
   ],
   "source": [
    "rmse_vals = [regr2_rmse, clf2_2_rmse, clf2_5_rmse, clf2_10_rmse, ridgeCV_rmse, lassoCV_rmse, elasticNetCV_rmse]\n",
    "\n",
    "labels = ['Linear', '2-degree polynomial', '5-degree polynomial', '10-degree polynomial', 'Ridge', 'Lasso',\n",
    "          'ElasticNet']\n",
    "\n",
    "rmse_df = pd.Series(rmse_vals, index=labels).to_frame()\n",
    "rmse_df.rename(columns={0: 'RMSE'}, inplace=1)\n",
    "rmse_df"
   ]
  },
  {
   "cell_type": "code",
   "execution_count": 62,
   "id": "b0642987",
   "metadata": {},
   "outputs": [
    {
     "data": {
      "text/html": [
       "<div>\n",
       "<style scoped>\n",
       "    .dataframe tbody tr th:only-of-type {\n",
       "        vertical-align: middle;\n",
       "    }\n",
       "\n",
       "    .dataframe tbody tr th {\n",
       "        vertical-align: top;\n",
       "    }\n",
       "\n",
       "    .dataframe thead th {\n",
       "        text-align: right;\n",
       "    }\n",
       "</style>\n",
       "<table border=\"1\" class=\"dataframe\">\n",
       "  <thead>\n",
       "    <tr style=\"text-align: right;\">\n",
       "      <th></th>\n",
       "      <th>r2_score</th>\n",
       "      <th>RMSE</th>\n",
       "    </tr>\n",
       "  </thead>\n",
       "  <tbody>\n",
       "    <tr>\n",
       "      <th>Linear</th>\n",
       "      <td>0.937962</td>\n",
       "      <td>4.224207e+08</td>\n",
       "    </tr>\n",
       "    <tr>\n",
       "      <th>2-degree polynomial</th>\n",
       "      <td>0.967067</td>\n",
       "      <td>3.077750e+08</td>\n",
       "    </tr>\n",
       "    <tr>\n",
       "      <th>5-degree polynomial</th>\n",
       "      <td>0.994198</td>\n",
       "      <td>1.291791e+08</td>\n",
       "    </tr>\n",
       "    <tr>\n",
       "      <th>10-degree polynomial</th>\n",
       "      <td>0.995183</td>\n",
       "      <td>1.177119e+08</td>\n",
       "    </tr>\n",
       "    <tr>\n",
       "      <th>Ridge</th>\n",
       "      <td>0.997000</td>\n",
       "      <td>9.289274e+07</td>\n",
       "    </tr>\n",
       "    <tr>\n",
       "      <th>Lasso</th>\n",
       "      <td>0.995421</td>\n",
       "      <td>1.147627e+08</td>\n",
       "    </tr>\n",
       "    <tr>\n",
       "      <th>ElasticNet</th>\n",
       "      <td>0.994827</td>\n",
       "      <td>1.219778e+08</td>\n",
       "    </tr>\n",
       "  </tbody>\n",
       "</table>\n",
       "</div>"
      ],
      "text/plain": [
       "                      r2_score          RMSE\n",
       "Linear                0.937962  4.224207e+08\n",
       "2-degree polynomial   0.967067  3.077750e+08\n",
       "5-degree polynomial   0.994198  1.291791e+08\n",
       "10-degree polynomial  0.995183  1.177119e+08\n",
       "Ridge                 0.997000  9.289274e+07\n",
       "Lasso                 0.995421  1.147627e+08\n",
       "ElasticNet            0.994827  1.219778e+08"
      ]
     },
     "execution_count": 62,
     "metadata": {},
     "output_type": "execute_result"
    }
   ],
   "source": [
    "metrics_df = r2_score_df.join(rmse_df)\n",
    "metrics_df"
   ]
  },
  {
   "cell_type": "code",
   "execution_count": 160,
   "id": "47a36de0",
   "metadata": {},
   "outputs": [
    {
     "data": {
      "image/png": "[encoded data removed]",
      "text/plain": [
       "<Figure size 720x432 with 1 Axes>"
      ]
     },
     "metadata": {
      "needs_background": "light"
     },
     "output_type": "display_data"
    }
   ],
   "source": [
    "f = plt.figure(figsize=(10,6))\n",
    "ax = plt.axes()\n",
    "\n",
    "ax.plot(test_y2, regr2.predict(test_x2), \n",
    "             marker='o', ls='', ms=3.0, label='Linear')\n",
    "ax.plot(test_y2, clf2_2.predict(test_x_poly2_2), \n",
    "             marker='o', ls='', ms=3.0, label='2-degree polynomial')\n",
    "ax.plot(test_y2, clf2_5.predict(test_x_poly2_5), \n",
    "             marker='o', ls='', ms=3.0, label='5-degree polynomial')\n",
    "\n",
    "labels = ['10-degree polynomial', \n",
    "          'Ridge', 'Lasso', 'ElasticNet']\n",
    "\n",
    "models = [clf2_10, ridgeCV, lassoCV, elasticNetCV]\n",
    "\n",
    "for mod, lab in zip(models, labels):\n",
    "    ax.plot(test_y2, mod.predict(test_x_poly2_10), \n",
    "             marker='o', ls='', ms=3.0, label=lab)\n",
    "\n",
    "\n",
    "leg = plt.legend(frameon=True)\n",
    "leg.get_frame().set_edgecolor('black')\n",
    "leg.get_frame().set_linewidth(1.0)\n",
    "\n",
    "ax.set(xlabel='Actual number of fully vaccinated people (milliards)', \n",
    "       ylabel='Predicted number of fully vaccinated people (milliards)', \n",
    "       title='Regression models results');"
   ]
  },
  {
   "cell_type": "code",
   "execution_count": 64,
   "id": "75fd7309",
   "metadata": {},
   "outputs": [],
   "source": [
    "length = len(test_y_2)\n",
    "actual_last = test_y2[length-1][0]\n",
    "pred_last_linear = test_y_2[length-1][0]\n",
    "pred_last_2_degree = test_y_2_2[length-1][0]\n",
    "pred_last_5_degree = test_y_2_5[length-1][0]\n",
    "pred_last_10_degree = test_y_2_10[length-1][0]\n",
    "pred_last_ridge = y_pred_ridge[length-1][0]\n",
    "pred_last_lasso = y_pred_lasso[length-1]\n",
    "pred_last_elasticNet = y_pred_elasticNet[length-1]\n"
   ]
  },
  {
   "cell_type": "code",
   "execution_count": 66,
   "id": "5fd109a7",
   "metadata": {},
   "outputs": [
    {
     "data": {
      "text/html": [
       "<div>\n",
       "<style scoped>\n",
       "    .dataframe tbody tr th:only-of-type {\n",
       "        vertical-align: middle;\n",
       "    }\n",
       "\n",
       "    .dataframe tbody tr th {\n",
       "        vertical-align: top;\n",
       "    }\n",
       "\n",
       "    .dataframe thead th {\n",
       "        text-align: right;\n",
       "    }\n",
       "</style>\n",
       "<table border=\"1\" class=\"dataframe\">\n",
       "  <thead>\n",
       "    <tr style=\"text-align: right;\">\n",
       "      <th></th>\n",
       "      <th>values for the last day</th>\n",
       "    </tr>\n",
       "  </thead>\n",
       "  <tbody>\n",
       "    <tr>\n",
       "      <th>Actual</th>\n",
       "      <td>4.519827e+09</td>\n",
       "    </tr>\n",
       "    <tr>\n",
       "      <th>Linear</th>\n",
       "      <td>4.560588e+09</td>\n",
       "    </tr>\n",
       "    <tr>\n",
       "      <th>2-degree polynomial</th>\n",
       "      <td>5.184905e+09</td>\n",
       "    </tr>\n",
       "    <tr>\n",
       "      <th>5-degree polynomial</th>\n",
       "      <td>4.563836e+09</td>\n",
       "    </tr>\n",
       "    <tr>\n",
       "      <th>10-degree polynomial</th>\n",
       "      <td>4.437980e+09</td>\n",
       "    </tr>\n",
       "    <tr>\n",
       "      <th>Ridge</th>\n",
       "      <td>4.612120e+09</td>\n",
       "    </tr>\n",
       "    <tr>\n",
       "      <th>Lasso</th>\n",
       "      <td>4.473864e+09</td>\n",
       "    </tr>\n",
       "    <tr>\n",
       "      <th>ElasticNet</th>\n",
       "      <td>4.519871e+09</td>\n",
       "    </tr>\n",
       "  </tbody>\n",
       "</table>\n",
       "</div>"
      ],
      "text/plain": [
       "                      values for the last day\n",
       "Actual                           4.519827e+09\n",
       "Linear                           4.560588e+09\n",
       "2-degree polynomial              5.184905e+09\n",
       "5-degree polynomial              4.563836e+09\n",
       "10-degree polynomial             4.437980e+09\n",
       "Ridge                            4.612120e+09\n",
       "Lasso                            4.473864e+09\n",
       "ElasticNet                       4.519871e+09"
      ]
     },
     "execution_count": 66,
     "metadata": {},
     "output_type": "execute_result"
    }
   ],
   "source": [
    "last_vals = [actual_last, pred_last_linear, pred_last_2_degree, pred_last_5_degree, pred_last_10_degree, \n",
    "             pred_last_ridge, pred_last_lasso, pred_last_elasticNet]\n",
    "\n",
    "labels = ['Actual', 'Linear', '2-degree polynomial', '5-degree polynomial', '10-degree polynomial', 'Ridge',\n",
    "         'Lasso', 'ElasticNet']\n",
    "\n",
    "\n",
    "last_df = pd.Series(last_vals, index=labels).to_frame()\n",
    "last_df.rename(columns={0: 'values for the last day'}, inplace=1)\n",
    "last_df"
   ]
  },
  {
   "cell_type": "code",
   "execution_count": 69,
   "id": "a4ac7271",
   "metadata": {},
   "outputs": [
    {
     "data": {
      "image/png": "[encoded data removed]",
      "text/plain": [
       "<Figure size 720x432 with 1 Axes>"
      ]
     },
     "metadata": {
      "needs_background": "light"
     },
     "output_type": "display_data"
    }
   ],
   "source": [
    "f = plt.figure(figsize=(10,6))\n",
    "ax = plt.axes()\n",
    "\n",
    "labels = ['10-degree polynomial', \n",
    "          'Ridge', 'Lasso', 'ElasticNet']\n",
    "\n",
    "models = [clf2_10, ridgeCV, lassoCV, elasticNetCV]\n",
    "\n",
    "for mod, lab in zip(models, labels):\n",
    "    ax.plot(test_y2, mod.predict(test_x_poly2_10), \n",
    "             marker='o', ls='', ms=3.0, label=lab)\n",
    "\n",
    "\n",
    "leg = plt.legend(frameon=True)\n",
    "leg.get_frame().set_edgecolor('black')\n",
    "leg.get_frame().set_linewidth(1.0)\n",
    "\n",
    "ax.set(xlabel='Actual Number of Full Vaccinations', \n",
    "       ylabel='Predicted Number of Full Vaccinations', \n",
    "       title='Linear Regression Results');"
   ]
  },
  {
   "cell_type": "markdown",
   "id": "c925426e",
   "metadata": {},
   "source": []
  },
  {
   "cell_type": "markdown",
   "id": "e95c735a",
   "metadata": {},
   "source": [
    "<h2>Prognosis of completed vaccination</h2>"
   ]
  },
  {
   "cell_type": "markdown",
   "id": "ef4bc0c4",
   "metadata": {},
   "source": [
    "<h3>1. Completion of vaccination with, at least, one dose of vaccine</h3>"
   ]
  },
  {
   "cell_type": "code",
   "execution_count": 70,
   "id": "ba02fcb1",
   "metadata": {},
   "outputs": [
    {
     "name": "stdout",
     "output_type": "stream",
     "text": [
      "World population: 7874965730\n"
     ]
    }
   ],
   "source": [
    "last_date = df_world1['date'].max()\n",
    "df_date = df_world1['date']==last_date\n",
    "df_last_date = df_world1[df_date]\n",
    "last_date_index = df_last_date.index[0]\n",
    "world_population = df_last_date.loc[last_date_index,'population']\n",
    "print(\"World population: %.0f\" % world_population)"
   ]
  },
  {
   "cell_type": "markdown",
   "id": "b22d4f2d",
   "metadata": {},
   "source": [
    "<b>1.1. Linear regression model</b>"
   ]
  },
  {
   "cell_type": "code",
   "execution_count": 71,
   "id": "b28416e4",
   "metadata": {},
   "outputs": [
    {
     "name": "stdout",
     "output_type": "stream",
     "text": [
      "According to the linear model vaccination will be completed in 45 days\n"
     ]
    }
   ],
   "source": [
    "#calculating when all the people will be vaccinated (according to the linear regression model)\n",
    "x_1 = (world_population + regr1.intercept_[0])/regr1.coef_[0,0]\n",
    "x_1_comp = x_1 - df_world1_ml['date_delta'].max()\n",
    "print(\"According to the linear model vaccination will be completed in %.0f\" % x_1_comp, \"days\")"
   ]
  },
  {
   "cell_type": "markdown",
   "id": "72f46f1e",
   "metadata": {},
   "source": []
  },
  {
   "cell_type": "markdown",
   "id": "d82f5bbe",
   "metadata": {},
   "source": [
    "<b>1.2. Polynomial quadratic regression model</b>"
   ]
  },
  {
   "cell_type": "code",
   "execution_count": 72,
   "id": "bd46e15e",
   "metadata": {},
   "outputs": [
    {
     "name": "stdout",
     "output_type": "stream",
     "text": [
      "According to the quadratic model vaccination will be completed in 133 days\n"
     ]
    }
   ],
   "source": [
    "#calculating when all the people will be vaccinated (according to the polynomial quadratic regression model)\n",
    "a = clf1_2.coef_[0,2]\n",
    "b = clf1_2.coef_[0,1]\n",
    "c = clf1_2.intercept_[0] - world_population\n",
    "from math import sqrt\n",
    "D = b**2 - 4*a*c\n",
    "x_1_1 = (-b + sqrt(D))/(2*a)\n",
    "x_1_2 = (-b - sqrt(D))/(2*a)  #this root is negative, so we drop it\n",
    "x_1_1_comp = x_1_1 - df_world1_ml['date_delta'].max()\n",
    "print(\"According to the quadratic model vaccination will be completed in %.0f\" % x_1_1_comp, \"days\")"
   ]
  },
  {
   "cell_type": "markdown",
   "id": "ba988bfd",
   "metadata": {},
   "source": []
  },
  {
   "cell_type": "markdown",
   "id": "2c292281",
   "metadata": {},
   "source": [
    "<b>1.3. Polynomial cubic regression model</b>"
   ]
  },
  {
   "cell_type": "code",
   "execution_count": 73,
   "id": "8d16e320",
   "metadata": {},
   "outputs": [
    {
     "data": {
      "text/plain": [
       "array([ 474.24079314+169.94977819j,  474.24079314-169.94977819j,\n",
       "       -197.09360831  +0.j        ])"
      ]
     },
     "execution_count": 73,
     "metadata": {},
     "output_type": "execute_result"
    }
   ],
   "source": [
    "#calculations using cubic regression model\n",
    "x_3 = clf1_3.coef_[0]\n",
    "x_3[0] = clf1_3.intercept_[0] - world_population\n",
    "x_3_tr = np.flip(x_3)\n",
    "np.roots(x_3_tr)"
   ]
  },
  {
   "cell_type": "markdown",
   "id": "d216d069",
   "metadata": {},
   "source": [
    "The cubic model has only complex and negative roots, which means that according to this model, the whole population of the world will never be vaccinated. Let's find the maximum number of people that will be vaccinated."
   ]
  },
  {
   "cell_type": "raw",
   "id": "9042f033",
   "metadata": {},
   "source": [
    "The function of the model is clf1_3.intercept_[0] + clf1_3.coef_[0][1]*XX + clf1_3.coef_[0][2]*np.power(XX,2) + clf1_3.coef_[0][3]*np.power(XX,3).\n",
    "Therefore its differential is clf1_3.coef_[0][1] + 2*clf1_3.coef_[0][2]*XX + 3*clf1_3.coef_[0][3]*np.power(XX,2)"
   ]
  },
  {
   "cell_type": "code",
   "execution_count": 74,
   "id": "d7f45b1d",
   "metadata": {},
   "outputs": [
    {
     "data": {
      "text/plain": [
       "array([451.58205373,  49.34326492])"
      ]
     },
     "execution_count": 74,
     "metadata": {},
     "output_type": "execute_result"
    }
   ],
   "source": [
    "x_3_dif = x_3_tr\n",
    "x_3_dif[0] = 3*x_3_dif[0]\n",
    "x_3_dif[1] = 2*x_3_dif[1]\n",
    "x_3_diff = x_3_dif[:-1]\n",
    "roots_3 = np.roots(x_3_diff)\n",
    "roots_3"
   ]
  },
  {
   "cell_type": "code",
   "execution_count": 75,
   "id": "5e673973",
   "metadata": {},
   "outputs": [
    {
     "name": "stdout",
     "output_type": "stream",
     "text": [
      "Maximum will be reached in: 45 days\n",
      "Maximum of people who will be vaccinated: 188430646\n",
      "Percentage of the total population: 2.392780517559247 %\n",
      "Number of people already vaccinated: 5067448898\n",
      "Percentage of the total population: 64.34883746471873 %\n"
     ]
    }
   ],
   "source": [
    "day_max1 = roots_3[0] - df_world1_ml['date_delta'].max()\n",
    "print(\"Maximum will be reached in: %.0f\" % x_1_comp, \"days\")\n",
    "people_max1 = clf1_3.intercept_[0] + clf1_3.coef_[0][1]*roots_3[0] +\\\n",
    "clf1_3.coef_[0][2]*np.power(roots_3[0],2) + clf1_3.coef_[0][3]*np.power(roots_3[0],3)\n",
    "print(\"Maximum of people who will be vaccinated: %.0f\" % people_max1)\n",
    "print(\"Percentage of the total population:\", (people_max1/world_population)*100, \"%\")\n",
    "print(\"Number of people already vaccinated: %.0f\" % df_world1['people_vaccinated'].max())\n",
    "print(\"Percentage of the total population:\", (df_world1['people_vaccinated'].max()/world_population)*100, \"%\")"
   ]
  },
  {
   "cell_type": "markdown",
   "id": "107d285d",
   "metadata": {},
   "source": [
    "This result is obviously incorrect because the number of people who have been already vaccinated is higher than this model predicts. This means that the cubic regression model for vaccination progress cannot be used for prediction when the whole population of the world will be vaccinated or when the maximum number of people vaccinated will be reached."
   ]
  },
  {
   "cell_type": "markdown",
   "id": "b00887d4",
   "metadata": {},
   "source": []
  },
  {
   "cell_type": "markdown",
   "id": "bac6949c",
   "metadata": {},
   "source": [
    "<b>1.4. Polynomial 4-degree regression model</b>"
   ]
  },
  {
   "cell_type": "code",
   "execution_count": 76,
   "id": "d4d2bb09",
   "metadata": {},
   "outputs": [
    {
     "data": {
      "text/plain": [
       "array([2348.24851001  +0.j        ,  477.22706718+184.56085876j,\n",
       "        477.22706718-184.56085876j, -175.21167141  +0.j        ])"
      ]
     },
     "execution_count": 76,
     "metadata": {},
     "output_type": "execute_result"
    }
   ],
   "source": [
    "#calculations using 4-degree model\n",
    "x_4 = clf1_4.coef_[0]\n",
    "x_4[0] = clf1_4.intercept_[0] - world_population\n",
    "x_4_tr = np.flip(x_4)\n",
    "np.roots(x_4_tr)"
   ]
  },
  {
   "cell_type": "markdown",
   "id": "dc2eae5b",
   "metadata": {},
   "source": [
    "This model has only complex roots."
   ]
  },
  {
   "cell_type": "raw",
   "id": "51ee2852",
   "metadata": {},
   "source": [
    "The function of the model is clf1_4.intercept_[0] + clf1_4.coef_[0][1]*XX + clf1_4.coef_[0][2]*np.power(XX,2) + clf1_4.coef_[0][3]*np.power(XX,3) + clf1_4.coef_[0][4]*np.power(XX,3).\n",
    "Therefore its differential is clf1_4.coef_[0][1] + 2*clf1_4.coef_[0][2]*XX + 3*clf1_4.coef_[0][3]*np.power(XX,2) + 4*clf1_4.coef_[0][4]*np.power(XX,3)"
   ]
  },
  {
   "cell_type": "code",
   "execution_count": 77,
   "id": "e4a3f965",
   "metadata": {},
   "outputs": [
    {
     "data": {
      "text/plain": [
       "array([-0.00395198,  0.00150326,  0.00122179])"
      ]
     },
     "execution_count": 77,
     "metadata": {},
     "output_type": "execute_result"
    }
   ],
   "source": [
    "x_4_dif = x_4\n",
    "x_4_dif[0] = 4*x_4_dif[0]\n",
    "x_4_dif[1] = 3*x_4_dif[1]\n",
    "x_4_dif[2] = 2*x_4_dif[2]\n",
    "x_4_diff = x_4_dif[:-1]\n",
    "roots_4 = np.roots(x_4_diff)\n",
    "roots_4"
   ]
  },
  {
   "cell_type": "markdown",
   "id": "c37e142b",
   "metadata": {},
   "source": [
    "All the extremums of this function were already reached. This means that this function cannot be used in order to prognose the progress of vaccination in future."
   ]
  },
  {
   "cell_type": "markdown",
   "id": "840dcac5",
   "metadata": {},
   "source": []
  },
  {
   "cell_type": "markdown",
   "id": "389fee30",
   "metadata": {},
   "source": [
    "<b>1.5. Polynomial 5-degree regression model</b>"
   ]
  },
  {
   "cell_type": "code",
   "execution_count": 78,
   "id": "a7458c45",
   "metadata": {},
   "outputs": [
    {
     "data": {
      "text/plain": [
       "array([554.53526447  +0.j        , 387.81007092+173.49685051j,\n",
       "       387.81007092-173.49685051j, -76.5074927 +149.70231574j,\n",
       "       -76.5074927 -149.70231574j])"
      ]
     },
     "execution_count": 78,
     "metadata": {},
     "output_type": "execute_result"
    }
   ],
   "source": [
    "#calculations using 5-degree model\n",
    "x_5 = clf1_5.coef_[0]\n",
    "x_5[0] = clf1_5.intercept_[0] - world_population\n",
    "x_5_tr = np.flip(x_5)\n",
    "np.roots(x_5_tr)"
   ]
  },
  {
   "cell_type": "code",
   "execution_count": 79,
   "id": "6fabbcaa",
   "metadata": {},
   "outputs": [
    {
     "name": "stdout",
     "output_type": "stream",
     "text": [
      "According to the 5-degree model vaccination will be completed in 74 days\n"
     ]
    }
   ],
   "source": [
    "roots_5 = np.roots(x_5_tr)\n",
    "x_1_5_comp = np.real(roots_5[0]) - df_world1_ml['date_delta'].max()\n",
    "print(\"According to the 5-degree model vaccination will be completed in %.0f\" % x_1_5_comp, \"days\")"
   ]
  },
  {
   "cell_type": "markdown",
   "id": "b6f9887d",
   "metadata": {},
   "source": []
  },
  {
   "cell_type": "markdown",
   "id": "733026b3",
   "metadata": {},
   "source": [
    "<b>Conclusion</b>"
   ]
  },
  {
   "cell_type": "code",
   "execution_count": 80,
   "id": "82031749",
   "metadata": {},
   "outputs": [
    {
     "name": "stdout",
     "output_type": "stream",
     "text": [
      "According to the linear model vaccination will be completed in 45 days\n",
      "According to the quadratic model vaccination will be completed in 133 days\n",
      "According to the 5-degree model vaccination will be completed in 74 days\n"
     ]
    }
   ],
   "source": [
    "print(\"According to the linear model vaccination will be completed in %.0f\" % x_1_comp, \"days\")\n",
    "print(\"According to the quadratic model vaccination will be completed in %.0f\" % x_1_1_comp, \"days\")\n",
    "print(\"According to the 5-degree model vaccination will be completed in %.0f\" % x_1_5_comp, \"days\")"
   ]
  },
  {
   "cell_type": "markdown",
   "id": "5def6adc",
   "metadata": {},
   "source": [
    "Therefore, these three models give similar results."
   ]
  },
  {
   "cell_type": "markdown",
   "id": "66ce7e69",
   "metadata": {},
   "source": []
  },
  {
   "cell_type": "markdown",
   "id": "837925c2",
   "metadata": {},
   "source": [
    "<h3>2. Completion of full vaccination</h3>"
   ]
  },
  {
   "cell_type": "markdown",
   "id": "29ea9a7c",
   "metadata": {},
   "source": [
    "<b>2.1. Linear regression model</b>"
   ]
  },
  {
   "cell_type": "code",
   "execution_count": 81,
   "id": "eb0a98fa",
   "metadata": {},
   "outputs": [
    {
     "name": "stdout",
     "output_type": "stream",
     "text": [
      "According to the linear model full vaccination will be completed in 115 days\n"
     ]
    }
   ],
   "source": [
    "#calculating when all the people will be fully vaccinated (according to the linear regression model)\n",
    "x_2 = (world_population + regr2.intercept_[0])/regr2.coef_[0,0]\n",
    "x_2_comp = x_2 - df_world2_ml['date_delta'].max()\n",
    "print(\"According to the linear model full vaccination will be completed in %.0f\" % x_2_comp, \"days\")"
   ]
  },
  {
   "cell_type": "markdown",
   "id": "62762a2b",
   "metadata": {},
   "source": []
  },
  {
   "cell_type": "markdown",
   "id": "ac4af35d",
   "metadata": {},
   "source": [
    "<b>2.2. Polynomial quadratic regression model</b>"
   ]
  },
  {
   "cell_type": "code",
   "execution_count": 82,
   "id": "00f41dba",
   "metadata": {},
   "outputs": [
    {
     "name": "stdout",
     "output_type": "stream",
     "text": [
      "According to the quadratic model full vaccination will be completed in 120 days\n"
     ]
    }
   ],
   "source": [
    "#calculating when all the people will be vaccinated (according to the polynomial quadratic regression model)\n",
    "a = clf2_2.coef_[0,2]\n",
    "b = clf2_2.coef_[0,1]\n",
    "c = clf2_2.intercept_[0] - world_population\n",
    "from math import sqrt\n",
    "D = b**2 - 4*a*c\n",
    "x_2_1 = (-b + sqrt(D))/(2*a)\n",
    "x_2_2 = (-b - sqrt(D))/(2*a) #this root is negative, so we drop it\n",
    "x_2_1_comp = x_2_1 - df_world2_ml['date_delta'].max()\n",
    "print(\"According to the quadratic model full vaccination will be completed in %.0f\" % x_2_1_comp, \"days\")"
   ]
  },
  {
   "cell_type": "markdown",
   "id": "f434191a",
   "metadata": {},
   "source": []
  },
  {
   "cell_type": "markdown",
   "id": "e65517d2",
   "metadata": {},
   "source": [
    "<b>2.3. Polynomial cubic regression model</b>"
   ]
  },
  {
   "cell_type": "code",
   "execution_count": 83,
   "id": "6e884cd3",
   "metadata": {},
   "outputs": [
    {
     "data": {
      "text/plain": [
       "array([ 511.90199885+189.95866307j,  511.90199885-189.95866307j,\n",
       "       -189.39634371  +0.j        ])"
      ]
     },
     "execution_count": 83,
     "metadata": {},
     "output_type": "execute_result"
    }
   ],
   "source": [
    "#calculations using cubic model\n",
    "x_3_2 = clf2_3.coef_[0]\n",
    "x_3_2[0] = clf2_3.intercept_[0] - world_population\n",
    "x_3_2_tr = np.flip(x_3_2)\n",
    "np.roots(x_3_2_tr)"
   ]
  },
  {
   "cell_type": "markdown",
   "id": "b6e17bbe",
   "metadata": {},
   "source": [
    "The cubic model has only complex and negative roots, which means that according to this model, the whole population of the world will never be vaccinated. Let's find the maximum number of people that will be vaccinated."
   ]
  },
  {
   "cell_type": "raw",
   "id": "b913832a",
   "metadata": {},
   "source": [
    "The function of the model is clf2_3.intercept_[0] + clf2_3.coef_[0][1]*XX + clf2_3.coef_[0][2]*np.power(XX,2) + clf2_3.coef_[0][3]*np.power(XX,3).\n",
    "Therefore its differential is clf2_3.coef_[0][1] + 2*clf2_3.coef_[0][2]*XX + 3*clf2_3.coef_[0][3]*np.power(XX,2)"
   ]
  },
  {
   "cell_type": "code",
   "execution_count": 84,
   "id": "9042a4e2",
   "metadata": {},
   "outputs": [
    {
     "data": {
      "text/plain": [
       "array([484.57836636,  71.69340297])"
      ]
     },
     "execution_count": 84,
     "metadata": {},
     "output_type": "execute_result"
    }
   ],
   "source": [
    "x_3_2_dif = x_3_2_tr\n",
    "x_3_2_dif[0] = 3*x_3_2_dif[0]\n",
    "x_3_2_dif[1] = 2*x_3_2_dif[1]\n",
    "x_3_2_diff = x_3_2_dif[:-1]\n",
    "roots_3_2 = np.roots(x_3_2_diff)\n",
    "roots_3_2"
   ]
  },
  {
   "cell_type": "code",
   "execution_count": 85,
   "id": "67037bde",
   "metadata": {},
   "outputs": [
    {
     "name": "stdout",
     "output_type": "stream",
     "text": [
      "Maximum will be reached in: 16 days\n",
      "Maximum of people who will be fully vaccinated: 347179231\n",
      "Percentage of the total population: 4.408644344254 %\n",
      "Number of people already fully vaccinated:  4526680264\n",
      "Percentage of the total population: 57.48190429268065 %\n"
     ]
    }
   ],
   "source": [
    "day_max2 = roots_3_2[0] - df_world2_ml['date_delta'].max()\n",
    "print(\"Maximum will be reached in: %.0f\" % day_max2, \"days\")\n",
    "people_max2 = clf2_3.intercept_[0] + clf2_3.coef_[0][1]*roots_3_2[0] +\\\n",
    "clf2_3.coef_[0][2]*np.power(roots_3_2[0],2) + clf2_3.coef_[0][3]*np.power(roots_3_2[0],3)\n",
    "print(\"Maximum of people who will be fully vaccinated: %.0f\" % people_max2)\n",
    "print(\"Percentage of the total population:\", (people_max2/world_population)*100, \"%\")\n",
    "print(\"Number of people already fully vaccinated:  %.0f\" % df_world2['people_fully_vaccinated'].max())\n",
    "print(\"Percentage of the total population:\", (df_world2['people_fully_vaccinated'].max()/world_population)*100, \"%\")"
   ]
  },
  {
   "cell_type": "markdown",
   "id": "a000f88c",
   "metadata": {},
   "source": [
    "This result is obviously incorrect because the number of people who have been already vaccinated is higher than this model predicts. This means that the cubic regression model for vaccination progress cannot be used for prediction when the whole population of the world will be vaccinated or when the maximum number of people vaccinated will be reached."
   ]
  },
  {
   "cell_type": "markdown",
   "id": "4747c988",
   "metadata": {},
   "source": []
  },
  {
   "cell_type": "markdown",
   "id": "8d88ed28",
   "metadata": {},
   "source": [
    "<b>2.4. Polynomial 4-degree regression model</b>"
   ]
  },
  {
   "cell_type": "code",
   "execution_count": 86,
   "id": "7447ab36",
   "metadata": {},
   "outputs": [
    {
     "data": {
      "text/plain": [
       "array([ 472.72953336+142.12595727j,  472.72953336-142.12595727j,\n",
       "       -184.92222125+228.56819223j, -184.92222125-228.56819223j])"
      ]
     },
     "execution_count": 86,
     "metadata": {},
     "output_type": "execute_result"
    }
   ],
   "source": [
    "x_4_2 = clf2_4.coef_[0]\n",
    "x_4_2[0] = clf2_4.intercept_[0] - world_population\n",
    "x_4_2_tr = np.flip(x_4_2)\n",
    "np.roots(x_4_2_tr)"
   ]
  },
  {
   "cell_type": "markdown",
   "id": "87ff3de6",
   "metadata": {},
   "source": [
    "This model has only complex roots."
   ]
  },
  {
   "cell_type": "raw",
   "id": "058917af",
   "metadata": {},
   "source": [
    "The function of the model is clf1_4.intercept_[0] + clf1_4.coef_[0][1]*XX + clf1_4.coef_[0][2]*np.power(XX,2) + clf1_4.coef_[0][3]*np.power(XX,3) + clf1_4.coef_[0][4]*np.power(XX,3).\n",
    "Therefore its differential is clf1_4.coef_[0][1] + 2*clf1_4.coef_[0][2]*XX + 3*clf1_4.coef_[0][3]*np.power(XX,2) + 4*clf1_4.coef_[0][4]*np.power(XX,3)"
   ]
  },
  {
   "cell_type": "code",
   "execution_count": 87,
   "id": "a9b077fc",
   "metadata": {},
   "outputs": [
    {
     "data": {
      "text/plain": [
       "array([-0.00108964+0.00156401j, -0.00108964-0.00156401j,\n",
       "        0.00188033+0.j        ])"
      ]
     },
     "execution_count": 87,
     "metadata": {},
     "output_type": "execute_result"
    }
   ],
   "source": [
    "x_4_2_dif = x_4_2\n",
    "x_4_2_dif[0] = 4*x_4_2_dif[0]\n",
    "x_4_2_dif[1] = 3*x_4_2_dif[1]\n",
    "x_4_2_dif[2] = 2*x_4_2_dif[2]\n",
    "x_4_2_diff = x_4_2_dif[:-1]\n",
    "roots_4_2 = np.roots(x_4_2_diff)\n",
    "roots_4_2"
   ]
  },
  {
   "cell_type": "markdown",
   "id": "e2539adf",
   "metadata": {},
   "source": [
    "All the extremums of this function were already reached. This means that this function cannot be used in order to prognose the progress of vaccination in future."
   ]
  },
  {
   "cell_type": "markdown",
   "id": "52a8a0e7",
   "metadata": {},
   "source": []
  },
  {
   "cell_type": "markdown",
   "id": "f6f164d3",
   "metadata": {},
   "source": [
    "<b>2.5. Polynomial 5-degree regression model</b>"
   ]
  },
  {
   "cell_type": "code",
   "execution_count": 88,
   "id": "b96d1a3c",
   "metadata": {},
   "outputs": [
    {
     "data": {
      "text/plain": [
       "array([565.81548491  +0.j        , 403.71712014+180.32162316j,\n",
       "       403.71712014-180.32162316j, -45.14242359+142.79804058j,\n",
       "       -45.14242359-142.79804058j])"
      ]
     },
     "execution_count": 88,
     "metadata": {},
     "output_type": "execute_result"
    }
   ],
   "source": [
    "x_5_2 = clf2_5.coef_[0]\n",
    "x_5_2[0] = clf2_5.intercept_[0] - world_population\n",
    "x_5_2_tr = np.flip(x_5_2)\n",
    "np.roots(x_5_2_tr)"
   ]
  },
  {
   "cell_type": "code",
   "execution_count": 89,
   "id": "396daf84",
   "metadata": {},
   "outputs": [
    {
     "name": "stdout",
     "output_type": "stream",
     "text": [
      "According to the 5-degree model full vaccination will be completed in 97 days\n"
     ]
    }
   ],
   "source": [
    "roots_5_2 = np.roots(x_5_2_tr)\n",
    "x_2_5_comp = np.real(roots_5_2[0]) - df_world2_ml['date_delta'].max()\n",
    "print(\"According to the 5-degree model full vaccination will be completed in %.0f\" % x_2_5_comp, \"days\")"
   ]
  },
  {
   "cell_type": "markdown",
   "id": "0e10af59",
   "metadata": {},
   "source": []
  },
  {
   "cell_type": "markdown",
   "id": "d00a9be6",
   "metadata": {},
   "source": [
    "<b>Conclusion</b>"
   ]
  },
  {
   "cell_type": "code",
   "execution_count": 90,
   "id": "13248a95",
   "metadata": {},
   "outputs": [
    {
     "name": "stdout",
     "output_type": "stream",
     "text": [
      "According to the linear model full vaccination will be completed in 115 days\n",
      "According to the quadratic model full vaccination will be completed in 120 days\n",
      "According to the 5-degree model full vaccination will be completed in 97 days\n"
     ]
    }
   ],
   "source": [
    "print(\"According to the linear model full vaccination will be completed in %.0f\" % x_2_comp, \"days\")\n",
    "print(\"According to the quadratic model full vaccination will be completed in %.0f\" % x_2_1_comp, \"days\")\n",
    "print(\"According to the 5-degree model full vaccination will be completed in %.0f\" % x_2_5_comp, \"days\")"
   ]
  },
  {
   "cell_type": "markdown",
   "id": "3a79948c",
   "metadata": {},
   "source": [
    "These models give very different results. However, polynomial regression models with degrees 6 and higher cannot be used for prediction because they give either very fast growth or very fast drop after the dates from the dataset. That is, they give either too optimistic results (completion of full vaccination in less then 30 days, which is much earlier than completion of vaccination with 1 dose of vaccine and therefore is impossible) or they give too pessimistic results (fast drop of the number of new fully vaccinated people in a very short time). Therefore, these models cannot be used. LASSO and Rigde models do not give goo result either."
   ]
  },
  {
   "cell_type": "markdown",
   "id": "523769f3",
   "metadata": {},
   "source": [
    "The diagram of data from dataset of the full vaccination looks like this:"
   ]
  },
  {
   "cell_type": "code",
   "execution_count": 91,
   "id": "f1b3155b",
   "metadata": {},
   "outputs": [
    {
     "data": {
      "image/png": "[encoded data removed]",
      "text/plain": [
       "<Figure size 432x288 with 1 Axes>"
      ]
     },
     "metadata": {
      "needs_background": "light"
     },
     "output_type": "display_data"
    }
   ],
   "source": [
    "plt.scatter(df_world2_ml.date_delta, df_world2_ml.people_fully_vaccinated, color='blue')\n",
    "plt.xlabel(\"days of full vaccination\")\n",
    "plt.ylabel(\"people fully vaccinated (milliards)\")\n",
    "plt.show()"
   ]
  },
  {
   "cell_type": "markdown",
   "id": "ee617dcf",
   "metadata": {},
   "source": [
    "From this diagram, it is clear that other non-linear funtions (exponential, logarithmic, etc.) cannot be used for approximation."
   ]
  },
  {
   "cell_type": "markdown",
   "id": "15db7bb2",
   "metadata": {},
   "source": [
    "On the other hand, for the models for vaccination (with one dose of vaccine), the results are following:"
   ]
  },
  {
   "cell_type": "code",
   "execution_count": 92,
   "id": "13730b5e",
   "metadata": {},
   "outputs": [
    {
     "name": "stdout",
     "output_type": "stream",
     "text": [
      "According to the linear model vaccination will be completed in 45 days\n",
      "According to the quadratic model vaccination will be completed in 133 days\n",
      "According to the 5-degree model vaccination will be completed in 74 days\n"
     ]
    }
   ],
   "source": [
    "print(\"According to the linear model vaccination will be completed in %.0f\" % x_1_comp, \"days\")\n",
    "print(\"According to the quadratic model vaccination will be completed in %.0f\" % x_1_1_comp, \"days\")\n",
    "print(\"According to the 5-degree model vaccination will be completed in %.0f\" % x_1_5_comp, \"days\")"
   ]
  },
  {
   "cell_type": "markdown",
   "id": "f8e93e37",
   "metadata": {},
   "source": [
    "Since most vaccines require two doses (and some require only one dose) and the interval between the two doses usually should be 14, 21, or 28 days, it can be concluded that the full vaccination should be completed about 28 days after the vaccination with one dose of vaccine."
   ]
  },
  {
   "cell_type": "markdown",
   "id": "1088dd60",
   "metadata": {},
   "source": []
  }
 ],
 "metadata": {
  "kernelspec": {
   "display_name": "Python 3",
   "language": "python",
   "name": "python3"
  },
  "language_info": {
   "codemirror_mode": {
    "name": "ipython",
    "version": 3
   },
   "file_extension": ".py",
   "mimetype": "text/x-python",
   "name": "python",
   "nbconvert_exporter": "python",
   "pygments_lexer": "ipython3",
   "version": "3.8.10"
  }
 },
 "nbformat": 4,
 "nbformat_minor": 5
}
