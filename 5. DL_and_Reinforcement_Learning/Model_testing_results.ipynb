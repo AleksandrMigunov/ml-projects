{
 "cells": [
  {
   "cell_type": "markdown",
   "id": "6f1d8045",
   "metadata": {},
   "source": [
    "<h2>Results of testing models</h2>"
   ]
  },
  {
   "cell_type": "markdown",
   "id": "00d10083",
   "metadata": {},
   "source": [
    "| Model (softmax)                                             | Loss        | Accuracy |\n",
    "|-------------------------------------------------------------|-------------|----------|\n",
    "| CNN (examples = 2401, epochs = 15, no aug, softmax, adam)   | 51.618988   | 0.846361 |\n",
    "| CNN (examples = 3899, epochs = 15, no aug, softmax, adam)   | 18.367886   | 0.916442 |\n",
    "| CNN (examples = 3899, epochs = 15, with aug, softmax, adam) | 109.247787  | 0.746631 |\n",
    "| CNN (examples = 3899, epochs = 100, no aug, softmax, adam)  | 35.793457   | 0.946092 |\n",
    "| CNN (examples = 3899, epochs = 100, with aug, softmax, adam)| 15.772952   | 0.950135 |\n"
   ]
  },
  {
   "cell_type": "markdown",
   "id": "53a4f4f4",
   "metadata": {},
   "source": []
  },
  {
   "cell_type": "markdown",
   "id": "e382535e",
   "metadata": {},
   "source": [
    "| Model (sigmoid)                                       | Loss        | Accuracy |\n",
    "|-------------------------------------------------------|-------------|----------|\n",
    "| CNN (examples = 2401, epochs = 15, no augmentation)   | 581.121338  | 0.5      |\n",
    "| CNN (examples = 3899, epochs = 15, no augmentation)   | 310.087402  | 0.5      |\n",
    "| CNN (examples = 3899, epochs = 40, no augmentation)  | 2163.611816 | 0.5      |\n",
    "| CNN (examples = 3899, epochs = 15, with augmentation) | 746.914185  | 0.5      |\n",
    "| CNN (examples = 3899, epochs = 40, with augmentation)| 1432.146606 | 0.5      |\n",
    "| CNN (examples = 3899, epochs = 15, no aug, adam)      | 534.997741  | 0.5      |\n",
    "| CNN (examples = 3899, epochs = 15, with augn, adam)   | 849.512817  | 0.5      |"
   ]
  },
  {
   "cell_type": "markdown",
   "id": "e2adbd88",
   "metadata": {},
   "source": [
    "| Model           \t  | Loss \t | Accuracy |\n",
    "|---------------------|----------|----------|\n",
    "| resnet50  \t      | 0.024689 | 0.990566 |\n",
    "| resnet101  \t      | 0.022430 | 0.993261 |\n",
    "| resnet152  \t      | 0.036423 | 0.986523 |\n",
    "| vgg16  \t          | 0.336455 | 0.921833 |\n",
    "| vgg19  \t          | 0.285416 | 0.923181 |\n",
    "| inception_v3  \t  | 0.039829 | 0.985175 |\n",
    "| inception_resnet_v2 |\t0.016802 | 0.993261 |"
   ]
  },
  {
   "cell_type": "markdown",
   "id": "1d11500b",
   "metadata": {},
   "source": [
    "| Model (testing without image augmentation)         \t                              | Loss \t | Accuracy |\n",
    "|-------------------------------------------------------------------------------------|----------|----------|\n",
    "|inception_resnet_v2 (training examples = 2401, no augmentation, epochs = 2)          | 0.016802 | 0.993261 |\n",
    "|inception_resnet_v2 (training examples = 3899, no augmentation, epochs = 2)          | 0.014949 | 0.993261 |\n",
    "|inception_resnet_v2 (training examples = 3899, no augmentation, epochs = 10)         | 0.004592 | 1.000000 |\n",
    "|inception_resnet_v2 (training examples = 3899, no augmentation, epochs = 40)         | 0.002143 | 1.000000 |\n",
    "|inception_resnet_v2 (training examples = 3899, with augmentation, epochs = 2)        | 0.425450 | 0.824798 |\n",
    "|inception_resnet_v2 (training examples = 3899, with augmentation, epochs = 10)       | 3.140969 | 0.535040 |\n",
    "|inception_resnet_v2 (training examples = 3899, with augmentation, epochs = 40)       | 14.981770| 0.525606 |"
   ]
  },
  {
   "cell_type": "markdown",
   "id": "28a7e2cb",
   "metadata": {},
   "source": [
    "| Model (testing with image augmentation)            \t                           | Loss \t  | Accuracy |\n",
    "|----------------------------------------------------------------------------------|----------|----------|\n",
    "|inception_resnet_v2 (training examples = 2401, no augmentation, epochs = 2)       | 0.708961 | 0.512129 |\n",
    "|inception_resnet_v2 (training examples = 3899, no augmentation, epochs = 2)       | 0.725235 | 0.487871 |\n",
    "|inception_resnet_v2 (training examples = 3899, no augmentation, epochs = 10)      | 0.757049 | 0.487871 |\n",
    "|inception_resnet_v2 (training examples = 3899, no augmentation, epochs = 40)      | 0.942501 | 0.487871 |\n",
    "|inception_resnet_v2 (training examples = 3899, with augmentation, epochs = 2)     | 0.674945 | 0.578167 |\n",
    "|inception_resnet_v2 (training examples = 3899, with augmentation, epochs = 10)    | 0.622732 | 0.708895 |\n",
    "|inception_resnet_v2 (training examples = 3899, with augmentation, epochs = 40)    | 0.547358 | 0.749326 |"
   ]
  },
  {
   "cell_type": "markdown",
   "id": "dca2fd81",
   "metadata": {},
   "source": [
    "| CNN model                                                | Loss        | Accuracy |\n",
    "|----------------------------------------------------------|-------------|----------|\n",
    "| training examples = 2401, epochs = 15, no augmentation   | 51.618988   | 0.846361 |\n",
    "| training examples = 3899, epochs = 15, no augmentation   | 18.367886   | 0.916442 |\n",
    "| training examples = 3899, epochs = 15, with augmentation | 109.247787  | 0.746631 |\n",
    "| training examples = 3899, epochs = 100, no augmentation  | 35.793457   | 0.946092 |\n",
    "| training examples = 3899, epochs = 100, with augmentation| 15.772952   | 0.950135 |"
   ]
  },
  {
   "cell_type": "markdown",
   "id": "1d67a5f4",
   "metadata": {},
   "source": [
    "| Model         \t                              | Loss \t | Accuracy |\n",
    "|-------------------------------------------------------------------------------------|----------|----------|\n",
    "|inception_resnet_v2 (training examples = 2401, no augmentation, epochs = 2)          | 0.016802 | 0.993261 |\n",
    "|inception_resnet_v2 (training examples = 3899, no augmentation, epochs = 2)          | 0.014949 | 0.993261 |\n",
    "|inception_resnet_v2 (training examples = 3899, no augmentation, epochs = 10)         | 0.004592 | 1.000000 |\n",
    "|inception_resnet_v2 (training examples = 3899, no augmentation, epochs = 40)         | 0.002143 | 1.000000 |\n",
    "|inception_resnet_v2 (training examples = 3899, with augmentation, epochs = 2)        | 0.425450 | 0.824798 |\n",
    "|inception_resnet_v2 (training examples = 3899, with augmentation, epochs = 10)       | 3.140969 | 0.535040 |\n",
    "|inception_resnet_v2 (training examples = 3899, with augmentation, epochs = 40)       | 14.981770| 0.525606 |"
   ]
  }
 ],
 "metadata": {
  "kernelspec": {
   "display_name": "Python 3",
   "language": "python",
   "name": "python3"
  },
  "language_info": {
   "codemirror_mode": {
    "name": "ipython",
    "version": 3
   },
   "file_extension": ".py",
   "mimetype": "text/x-python",
   "name": "python",
   "nbconvert_exporter": "python",
   "pygments_lexer": "ipython3",
   "version": "3.8.10"
  }
 },
 "nbformat": 4,
 "nbformat_minor": 5
}
