{
 "cells": [
  {
   "cell_type": "markdown",
   "id": "bce965e8",
   "metadata": {},
   "source": [
    "<h1>Training CNN (examples = 2401, epochs = 15, no augmentation, activation = softmax, optimizer = adam)</h1>"
   ]
  },
  {
   "cell_type": "code",
   "execution_count": 1,
   "id": "a138b200",
   "metadata": {},
   "outputs": [],
   "source": [
    "import tensorflow as tf"
   ]
  },
  {
   "cell_type": "code",
   "execution_count": 2,
   "id": "62f1fcbe",
   "metadata": {},
   "outputs": [],
   "source": [
    "model = tf.keras.models.Sequential([\n",
    "    # Note the input shape is the desired size of the image 300x300 with 3 bytes color\n",
    "    # This is the first convolution\n",
    "    tf.keras.layers.Conv2D(16, (3,3), activation='relu', input_shape=(256, 256, 3)),\n",
    "    tf.keras.layers.MaxPooling2D(2, 2),\n",
    "    # The second convolution\n",
    "    tf.keras.layers.Conv2D(32, (3,3), activation='relu'),\n",
    "    tf.keras.layers.MaxPooling2D(2,2),\n",
    "    # The third convolution\n",
    "    tf.keras.layers.Conv2D(64, (3,3), activation='relu'),\n",
    "    tf.keras.layers.MaxPooling2D(2,2),\n",
    "    # The fourth convolution\n",
    "    tf.keras.layers.Conv2D(64, (3,3), activation='relu'),\n",
    "    tf.keras.layers.MaxPooling2D(2,2),\n",
    "    # The fifth convolution\n",
    "    tf.keras.layers.Conv2D(64, (3,3), activation='relu'),\n",
    "    tf.keras.layers.MaxPooling2D(2,2),\n",
    "    # Flatten the results to feed into a DNN\n",
    "    tf.keras.layers.Flatten(),\n",
    "    # 512 neuron hidden layer\n",
    "    tf.keras.layers.Dense(512, activation='relu'),\n",
    "    # Only 1 output neuron. It will contain a value from 0-1 where 0 for 1 class ('horses') and 1 for the other ('humans')\n",
    "#    tf.keras.layers.Dense(1, activation='sigmoid')\n",
    "    tf.keras.layers.Dense(2, activation='softmax')\n",
    "])"
   ]
  },
  {
   "cell_type": "code",
   "execution_count": 3,
   "id": "c9f831e6",
   "metadata": {},
   "outputs": [],
   "source": [
    "from tensorflow.keras.optimizers import RMSprop\n",
    "\n",
    "model.compile(loss='categorical_crossentropy',\n",
    "              optimizer='adam',\n",
    "              metrics=['acc'])"
   ]
  },
  {
   "cell_type": "code",
   "execution_count": 4,
   "id": "92616e21",
   "metadata": {},
   "outputs": [
    {
     "name": "stdout",
     "output_type": "stream",
     "text": [
      "Found 2401 images belonging to 2 classes.\n",
      "Found 260 images belonging to 2 classes.\n"
     ]
    }
   ],
   "source": [
    "from tensorflow.keras.preprocessing.image import ImageDataGenerator\n",
    "\n",
    "# All images will be augmented\n",
    "train_datagen = ImageDataGenerator(\n",
    "      rescale=1./255,\n",
    ")\n",
    "\n",
    "# Flow training images in batches of 128 using train_datagen generator\n",
    "train_generator = train_datagen.flow_from_directory(\n",
    "        'horse2zebra/train',  # This is the source directory for training images\n",
    "        target_size=(256, 256),  # All images will be resized to 150x150\n",
    "        batch_size=128,\n",
    "        # Since we use binary_crossentropy loss, we need binary labels\n",
    "        class_mode='categorical')\n",
    "\n",
    "validation_datagen = ImageDataGenerator(rescale=1/255)\n",
    "\n",
    "validation_generator = train_datagen.flow_from_directory(\n",
    "        'horse2zebra/test',\n",
    "        target_size=(256, 256),\n",
    "        class_mode='categorical')"
   ]
  },
  {
   "cell_type": "code",
   "execution_count": 5,
   "id": "b11aee00",
   "metadata": {},
   "outputs": [
    {
     "name": "stderr",
     "output_type": "stream",
     "text": [
      "/home/alexandr/.local/lib/python3.6/site-packages/keras/engine/training.py:1972: UserWarning: `Model.fit_generator` is deprecated and will be removed in a future version. Please use `Model.fit`, which supports generators.\n",
      "  warnings.warn('`Model.fit_generator` is deprecated and '\n"
     ]
    },
    {
     "name": "stdout",
     "output_type": "stream",
     "text": [
      "Epoch 1/15\n",
      "8/8 [==============================] - 73s 9s/step - loss: 0.7438 - acc: 0.5680 - val_loss: 0.6857 - val_acc: 0.5115\n",
      "Epoch 2/15\n",
      "8/8 [==============================] - 44s 5s/step - loss: 0.6397 - acc: 0.6193 - val_loss: 0.5084 - val_acc: 0.8423\n",
      "Epoch 3/15\n",
      "8/8 [==============================] - 68s 8s/step - loss: 0.5166 - acc: 0.7441 - val_loss: 0.4076 - val_acc: 0.8154\n",
      "Epoch 4/15\n",
      "8/8 [==============================] - 45s 6s/step - loss: 0.4066 - acc: 0.8268 - val_loss: 0.3805 - val_acc: 0.8385\n",
      "Epoch 5/15\n",
      "8/8 [==============================] - 35s 4s/step - loss: 0.3509 - acc: 0.8555 - val_loss: 0.3135 - val_acc: 0.8538\n",
      "Epoch 6/15\n",
      "8/8 [==============================] - 45s 6s/step - loss: 0.3209 - acc: 0.8761 - val_loss: 0.3247 - val_acc: 0.8615\n",
      "Epoch 7/15\n",
      "8/8 [==============================] - 30s 3s/step - loss: 0.2810 - acc: 0.8936 - val_loss: 0.2566 - val_acc: 0.8846\n",
      "Epoch 8/15\n",
      "8/8 [==============================] - 31s 4s/step - loss: 0.2655 - acc: 0.8926 - val_loss: 0.2315 - val_acc: 0.9038\n",
      "Epoch 9/15\n",
      "8/8 [==============================] - 49s 6s/step - loss: 0.2458 - acc: 0.8887 - val_loss: 0.1987 - val_acc: 0.9385\n",
      "Epoch 10/15\n",
      "8/8 [==============================] - 33s 4s/step - loss: 0.2415 - acc: 0.9082 - val_loss: 0.1824 - val_acc: 0.9385\n",
      "Epoch 11/15\n",
      "8/8 [==============================] - 32s 4s/step - loss: 0.2228 - acc: 0.9082 - val_loss: 0.1958 - val_acc: 0.9346\n",
      "Epoch 12/15\n",
      "8/8 [==============================] - 34s 4s/step - loss: 0.1984 - acc: 0.9209 - val_loss: 0.1573 - val_acc: 0.9423\n",
      "Epoch 13/15\n",
      "8/8 [==============================] - 46s 5s/step - loss: 0.2016 - acc: 0.9170 - val_loss: 0.1694 - val_acc: 0.9462\n",
      "Epoch 14/15\n",
      "8/8 [==============================] - 33s 4s/step - loss: 0.1781 - acc: 0.9275 - val_loss: 0.1620 - val_acc: 0.9423\n",
      "Epoch 15/15\n",
      "8/8 [==============================] - 30s 4s/step - loss: 0.1775 - acc: 0.9277 - val_loss: 0.1707 - val_acc: 0.9385\n"
     ]
    }
   ],
   "source": [
    "history = model.fit_generator(\n",
    "      train_generator,\n",
    "      steps_per_epoch=8,  \n",
    "      epochs=15,\n",
    "      verbose=1,\n",
    "      validation_data=validation_generator)"
   ]
  },
  {
   "cell_type": "code",
   "execution_count": 6,
   "id": "dacf477a",
   "metadata": {},
   "outputs": [
    {
     "name": "stdout",
     "output_type": "stream",
     "text": [
      "Found 742 images belonging to 2 classes.\n"
     ]
    }
   ],
   "source": [
    "test_generator = train_datagen.flow_from_directory(\n",
    "    'horse2zebra/testing',\n",
    "#    target_size=(image_resize, image_resize),\n",
    "    shuffle=False)"
   ]
  },
  {
   "cell_type": "code",
   "execution_count": 7,
   "id": "c4580a3f",
   "metadata": {},
   "outputs": [
    {
     "name": "stderr",
     "output_type": "stream",
     "text": [
      "/home/alexandr/.local/lib/python3.6/site-packages/keras/engine/training.py:2006: UserWarning: `Model.evaluate_generator` is deprecated and will be removed in a future version. Please use `Model.evaluate`, which supports generators.\n",
      "  warnings.warn('`Model.evaluate_generator` is deprecated and '\n"
     ]
    },
    {
     "name": "stdout",
     "output_type": "stream",
     "text": [
      "Loss =  0.2199813723564148\n",
      "Accuracy =  0.9056603908538818\n"
     ]
    }
   ],
   "source": [
    "scores = model.evaluate_generator(test_generator,len(test_generator)) \n",
    "print(\"Loss = \", scores[0])\n",
    "print(\"Accuracy = \", scores[1])"
   ]
  },
  {
   "cell_type": "markdown",
   "id": "9d59cc39",
   "metadata": {},
   "source": [
    "| Model                                               | Loss     | Accuracy |\n",
    "|-----------------------------------------------------|----------|----------|\n",
    "| CNN (examples = 2401, epochs = 15, no augmentation) | 581.121338 | 0.5      |\n",
    "| CNN (examples = 2401, epochs = 15, no aug, softmax, adam) | 51.618988 | 0.846361\n"
   ]
  },
  {
   "cell_type": "code",
   "execution_count": 8,
   "id": "a9ba4bbd",
   "metadata": {},
   "outputs": [],
   "source": [
    "model.save('classifier_CNN_model_7.h5')"
   ]
  },
  {
   "cell_type": "code",
   "execution_count": 9,
   "id": "4baf61d0",
   "metadata": {},
   "outputs": [],
   "source": [
    "testing_datagen = ImageDataGenerator()"
   ]
  },
  {
   "cell_type": "code",
   "execution_count": 10,
   "id": "a75c88ad",
   "metadata": {},
   "outputs": [
    {
     "name": "stdout",
     "output_type": "stream",
     "text": [
      "Found 742 images belonging to 2 classes.\n"
     ]
    }
   ],
   "source": [
    "test_generator = testing_datagen.flow_from_directory(\n",
    "    'horse2zebra/testing',\n",
    "#    target_size=(image_resize, image_resize),\n",
    "    shuffle=False)"
   ]
  },
  {
   "cell_type": "code",
   "execution_count": 11,
   "id": "1873a5b7",
   "metadata": {},
   "outputs": [
    {
     "name": "stdout",
     "output_type": "stream",
     "text": [
      "Loss =  51.618988037109375\n",
      "Accuracy =  0.8463611602783203\n"
     ]
    }
   ],
   "source": [
    "scores = model.evaluate_generator(test_generator,len(test_generator)) \n",
    "print(\"Loss = \", scores[0])\n",
    "print(\"Accuracy = \", scores[1])"
   ]
  },
  {
   "cell_type": "code",
   "execution_count": null,
   "id": "9859964e",
   "metadata": {},
   "outputs": [],
   "source": []
  }
 ],
 "metadata": {
  "kernelspec": {
   "display_name": "Python 3",
   "language": "python",
   "name": "python3"
  },
  "language_info": {
   "codemirror_mode": {
    "name": "ipython",
    "version": 3
   },
   "file_extension": ".py",
   "mimetype": "text/x-python",
   "name": "python",
   "nbconvert_exporter": "python",
   "pygments_lexer": "ipython3",
   "version": "3.8.10"
  }
 },
 "nbformat": 4,
 "nbformat_minor": 5
}
