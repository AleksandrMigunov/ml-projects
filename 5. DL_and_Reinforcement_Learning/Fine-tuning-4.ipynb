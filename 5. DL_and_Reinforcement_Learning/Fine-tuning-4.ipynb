{
 "cells": [
  {
   "cell_type": "markdown",
   "metadata": {},
   "source": [
    "<h1>Pre-Trained Model VGG19</h1>"
   ]
  },
  {
   "cell_type": "code",
   "execution_count": 1,
   "metadata": {
    "id": "2-xG3cwaahjR"
   },
   "outputs": [],
   "source": [
    "from keras.preprocessing.image import ImageDataGenerator\n",
    "import keras\n",
    "from keras.models import Sequential\n",
    "from keras.layers import Dense\n",
    "#from keras.applications import VGG19\n",
    "from keras.applications.vgg19 import VGG19\n",
    "from keras.applications.vgg19 import preprocess_input"
   ]
  },
  {
   "cell_type": "code",
   "execution_count": 2,
   "metadata": {
    "id": "7fAtF6jCahjS"
   },
   "outputs": [],
   "source": [
    "batch_size_training = 100\n",
    "batch_size_validation = 100"
   ]
  },
  {
   "cell_type": "code",
   "execution_count": 3,
   "metadata": {
    "id": "qqEQUfxjahjS",
    "scrolled": true
   },
   "outputs": [],
   "source": [
    "image_resize = 224\n",
    "num_classes = 2"
   ]
  },
  {
   "cell_type": "code",
   "execution_count": 4,
   "metadata": {
    "id": "w-w_GRYNahjS"
   },
   "outputs": [],
   "source": [
    "data_generator = ImageDataGenerator(\n",
    "    preprocessing_function=preprocess_input,\n",
    ")"
   ]
  },
  {
   "cell_type": "code",
   "execution_count": 5,
   "metadata": {
    "colab": {
     "base_uri": "https://localhost:8080/"
    },
    "id": "Td5IMBVIahjS",
    "outputId": "00c30cc3-7a00-413d-887f-13a62e7e31d8"
   },
   "outputs": [
    {
     "name": "stdout",
     "output_type": "stream",
     "text": [
      "Found 2401 images belonging to 2 classes.\n"
     ]
    }
   ],
   "source": [
    "train_generator = data_generator.flow_from_directory(\n",
    "    'horse2zebra/train',\n",
    "    target_size=(image_resize, image_resize),\n",
    "    batch_size=batch_size_training,\n",
    "    class_mode='categorical')"
   ]
  },
  {
   "cell_type": "code",
   "execution_count": 6,
   "metadata": {
    "colab": {
     "base_uri": "https://localhost:8080/"
    },
    "id": "e31prYJXahjS",
    "outputId": "9dd10e6c-c87b-43e5-9014-21a0e25dc5ef"
   },
   "outputs": [
    {
     "name": "stdout",
     "output_type": "stream",
     "text": [
      "Found 260 images belonging to 2 classes.\n"
     ]
    }
   ],
   "source": [
    "validation_generator = data_generator.flow_from_directory(\n",
    "    'horse2zebra/test',\n",
    "    target_size=(image_resize, image_resize),\n",
    "    batch_size=batch_size_validation,\n",
    "    class_mode='categorical')"
   ]
  },
  {
   "cell_type": "code",
   "execution_count": 7,
   "metadata": {
    "id": "yDF1uV2yahjS"
   },
   "outputs": [],
   "source": [
    "model = Sequential()"
   ]
  },
  {
   "cell_type": "code",
   "execution_count": 8,
   "metadata": {
    "colab": {
     "base_uri": "https://localhost:8080/"
    },
    "id": "Uer8slDaahjT",
    "outputId": "b774a815-80cd-4064-e498-5a8d578b868a"
   },
   "outputs": [
    {
     "name": "stdout",
     "output_type": "stream",
     "text": [
      "Downloading data from https://storage.googleapis.com/tensorflow/keras-applications/vgg19/vgg19_weights_tf_dim_ordering_tf_kernels_notop.h5\n",
      "80142336/80134624 [==============================] - 145s 2us/step\n",
      "80150528/80134624 [==============================] - 145s 2us/step\n"
     ]
    }
   ],
   "source": [
    "model.add(VGG19(\n",
    "    include_top=False,\n",
    "    pooling='avg',\n",
    "    weights='imagenet',\n",
    "    ))"
   ]
  },
  {
   "cell_type": "code",
   "execution_count": 9,
   "metadata": {
    "colab": {
     "base_uri": "https://localhost:8080/"
    },
    "id": "_qgvVNlZahjT",
    "outputId": "6b653348-c3e5-489d-d191-ddacdc0007b6"
   },
   "outputs": [
    {
     "data": {
      "text/plain": [
       "[<keras.engine.functional.Functional at 0x7fe427b07850>,\n",
       " <keras.layers.core.dense.Dense at 0x7fe424120b20>]"
      ]
     },
     "execution_count": 9,
     "metadata": {},
     "output_type": "execute_result"
    }
   ],
   "source": [
    "model.add(Dense(num_classes, activation='softmax'))\n",
    "model.layers"
   ]
  },
  {
   "cell_type": "code",
   "execution_count": 10,
   "metadata": {
    "colab": {
     "base_uri": "https://localhost:8080/"
    },
    "id": "URT1Ew9EahjT",
    "outputId": "08ba16f3-7b07-48a1-bfd4-fbc5096690a2"
   },
   "outputs": [
    {
     "data": {
      "text/plain": [
       "[<keras.engine.input_layer.InputLayer at 0x7fe42628c5b0>,\n",
       " <keras.layers.convolutional.Conv2D at 0x7fe42628ca00>,\n",
       " <keras.layers.convolutional.Conv2D at 0x7fe4c051ecd0>,\n",
       " <keras.layers.pooling.MaxPooling2D at 0x7fe4c051ed90>,\n",
       " <keras.layers.convolutional.Conv2D at 0x7fe424238370>,\n",
       " <keras.layers.convolutional.Conv2D at 0x7fe424238ee0>,\n",
       " <keras.layers.pooling.MaxPooling2D at 0x7fe42426fd90>,\n",
       " <keras.layers.convolutional.Conv2D at 0x7fe4241bca60>,\n",
       " <keras.layers.convolutional.Conv2D at 0x7fe4241c8880>,\n",
       " <keras.layers.convolutional.Conv2D at 0x7fe4241cfc40>,\n",
       " <keras.layers.convolutional.Conv2D at 0x7fe4241c8b20>,\n",
       " <keras.layers.pooling.MaxPooling2D at 0x7fe4241c1640>,\n",
       " <keras.layers.convolutional.Conv2D at 0x7fe4241df730>,\n",
       " <keras.layers.convolutional.Conv2D at 0x7fe4241df9a0>,\n",
       " <keras.layers.convolutional.Conv2D at 0x7fe4241bc400>,\n",
       " <keras.layers.convolutional.Conv2D at 0x7fe4241e9a00>,\n",
       " <keras.layers.pooling.MaxPooling2D at 0x7fe4241dfb20>,\n",
       " <keras.layers.convolutional.Conv2D at 0x7fe4241e6e50>,\n",
       " <keras.layers.convolutional.Conv2D at 0x7fe4241f2ca0>,\n",
       " <keras.layers.convolutional.Conv2D at 0x7fe4241bd490>,\n",
       " <keras.layers.convolutional.Conv2D at 0x7fe4241f5910>,\n",
       " <keras.layers.pooling.MaxPooling2D at 0x7fe4241bd070>,\n",
       " <keras.layers.pooling.GlobalAveragePooling2D at 0x7fe4241c8c40>]"
      ]
     },
     "execution_count": 10,
     "metadata": {},
     "output_type": "execute_result"
    }
   ],
   "source": [
    "model.layers[0].layers"
   ]
  },
  {
   "cell_type": "code",
   "execution_count": 11,
   "metadata": {
    "colab": {
     "base_uri": "https://localhost:8080/"
    },
    "id": "DZJAiJdpahjT",
    "outputId": "044595de-28ca-4f06-d116-3f927890c91a"
   },
   "outputs": [
    {
     "name": "stdout",
     "output_type": "stream",
     "text": [
      "Model: \"sequential\"\n",
      "_________________________________________________________________\n",
      " Layer (type)                Output Shape              Param #   \n",
      "=================================================================\n",
      " vgg19 (Functional)          (None, 512)               20024384  \n",
      "                                                                 \n",
      " dense (Dense)               (None, 2)                 1026      \n",
      "                                                                 \n",
      "=================================================================\n",
      "Total params: 20,025,410\n",
      "Trainable params: 1,026\n",
      "Non-trainable params: 20,024,384\n",
      "_________________________________________________________________\n"
     ]
    }
   ],
   "source": [
    "model.layers[0].trainable = False\n",
    "model.summary()"
   ]
  },
  {
   "cell_type": "code",
   "execution_count": 12,
   "metadata": {
    "id": "hbKytRdexJ4g"
   },
   "outputs": [],
   "source": [
    "model.compile(optimizer='adam', loss='categorical_crossentropy', metrics=['accuracy'])"
   ]
  },
  {
   "cell_type": "code",
   "execution_count": 13,
   "metadata": {
    "id": "5q8kv4gUxPGF"
   },
   "outputs": [],
   "source": [
    "steps_per_epoch_training = len(train_generator)\n",
    "steps_per_epoch_validation = len(validation_generator)\n",
    "num_epochs = 2"
   ]
  },
  {
   "cell_type": "code",
   "execution_count": 14,
   "metadata": {
    "colab": {
     "base_uri": "https://localhost:8080/"
    },
    "id": "3pvNfZSDxrCL",
    "outputId": "44e25eb1-01c9-4918-9cbc-d5a1ce9073b1"
   },
   "outputs": [
    {
     "name": "stdout",
     "output_type": "stream",
     "text": [
      "Epoch 1/2\n",
      "25/25 [==============================] - 631s 25s/step - loss: 0.3000 - accuracy: 0.9113 - val_loss: 0.2325 - val_accuracy: 0.9269\n",
      "Epoch 2/2\n",
      "25/25 [==============================] - 652s 26s/step - loss: 0.1675 - accuracy: 0.9496 - val_loss: 0.1258 - val_accuracy: 0.9538\n"
     ]
    }
   ],
   "source": [
    "#fit_history = model.fit_generator(\n",
    "fit_history = model.fit(    \n",
    "    train_generator,\n",
    "    steps_per_epoch=steps_per_epoch_training,\n",
    "    epochs=num_epochs,\n",
    "    validation_data=validation_generator,\n",
    "    validation_steps=steps_per_epoch_validation,\n",
    "    verbose=1,\n",
    ")"
   ]
  },
  {
   "cell_type": "code",
   "execution_count": 15,
   "metadata": {
    "id": "YCOMt5_s-xox"
   },
   "outputs": [],
   "source": [
    "model.save('classifier_vgg19_model.h5')"
   ]
  },
  {
   "cell_type": "code",
   "execution_count": null,
   "metadata": {},
   "outputs": [],
   "source": []
  }
 ],
 "metadata": {
  "colab": {
   "collapsed_sections": [],
   "name": "DL0321EN-4-1-Comparing-Models-py-v1.0-checkpoint.ipynb",
   "provenance": []
  },
  "kernelspec": {
   "display_name": "Python 3",
   "language": "python",
   "name": "python3"
  },
  "language_info": {
   "codemirror_mode": {
    "name": "ipython",
    "version": 3
   },
   "file_extension": ".py",
   "mimetype": "text/x-python",
   "name": "python",
   "nbconvert_exporter": "python",
   "pygments_lexer": "ipython3",
   "version": "3.8.10"
  }
 },
 "nbformat": 4,
 "nbformat_minor": 1
}
