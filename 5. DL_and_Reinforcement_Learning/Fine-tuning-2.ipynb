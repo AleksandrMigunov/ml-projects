{
 "cells": [
  {
   "cell_type": "markdown",
   "metadata": {},
   "source": [
    "<h1>Pre-Trained Model ResNet152</h1>"
   ]
  },
  {
   "cell_type": "code",
   "execution_count": 1,
   "metadata": {
    "button": false,
    "new_sheet": false,
    "run_control": {
     "read_only": false
    }
   },
   "outputs": [],
   "source": [
    "from tensorflow.keras.preprocessing.image import ImageDataGenerator"
   ]
  },
  {
   "cell_type": "code",
   "execution_count": 2,
   "metadata": {
    "button": false,
    "new_sheet": false,
    "run_control": {
     "read_only": false
    }
   },
   "outputs": [],
   "source": [
    "import tensorflow.keras\n",
    "from tensorflow.keras.models import Sequential\n",
    "from tensorflow.keras.layers import Dense"
   ]
  },
  {
   "cell_type": "code",
   "execution_count": 3,
   "metadata": {
    "button": false,
    "new_sheet": false,
    "run_control": {
     "read_only": false
    }
   },
   "outputs": [],
   "source": [
    "from tensorflow.keras.applications.resnet import ResNet152\n",
    "from tensorflow.keras.applications.resnet import preprocess_input"
   ]
  },
  {
   "cell_type": "code",
   "execution_count": 4,
   "metadata": {
    "button": false,
    "new_sheet": false,
    "run_control": {
     "read_only": false
    }
   },
   "outputs": [],
   "source": [
    "num_classes = 2\n",
    "\n",
    "image_resize = 224\n",
    "\n",
    "batch_size_training = 100\n",
    "batch_size_validation = 100"
   ]
  },
  {
   "cell_type": "code",
   "execution_count": 5,
   "metadata": {
    "button": false,
    "new_sheet": false,
    "run_control": {
     "read_only": false
    }
   },
   "outputs": [],
   "source": [
    "data_generator = ImageDataGenerator(\n",
    "    preprocessing_function=preprocess_input,\n",
    ")"
   ]
  },
  {
   "cell_type": "code",
   "execution_count": 6,
   "metadata": {
    "button": false,
    "new_sheet": false,
    "run_control": {
     "read_only": false
    }
   },
   "outputs": [
    {
     "name": "stdout",
     "output_type": "stream",
     "text": [
      "Found 2401 images belonging to 2 classes.\n"
     ]
    }
   ],
   "source": [
    "train_generator = data_generator.flow_from_directory(\n",
    "    'horse2zebra/train',\n",
    "    target_size=(image_resize, image_resize),\n",
    "    batch_size=batch_size_training,\n",
    "    class_mode='categorical')"
   ]
  },
  {
   "cell_type": "code",
   "execution_count": 7,
   "metadata": {
    "button": false,
    "new_sheet": false,
    "run_control": {
     "read_only": false
    }
   },
   "outputs": [
    {
     "name": "stdout",
     "output_type": "stream",
     "text": [
      "Found 260 images belonging to 2 classes.\n"
     ]
    }
   ],
   "source": [
    "validation_generator = data_generator.flow_from_directory(\n",
    "    'horse2zebra/test',\n",
    "    target_size=(image_resize, image_resize),\n",
    "    batch_size=batch_size_validation,\n",
    "    class_mode='categorical')"
   ]
  },
  {
   "cell_type": "code",
   "execution_count": 8,
   "metadata": {
    "button": false,
    "new_sheet": false,
    "run_control": {
     "read_only": false
    }
   },
   "outputs": [],
   "source": [
    "model = Sequential()"
   ]
  },
  {
   "cell_type": "code",
   "execution_count": 9,
   "metadata": {
    "button": false,
    "new_sheet": false,
    "run_control": {
     "read_only": false
    }
   },
   "outputs": [
    {
     "name": "stdout",
     "output_type": "stream",
     "text": [
      "Downloading data from https://storage.googleapis.com/tensorflow/keras-applications/resnet/resnet152_weights_tf_dim_ordering_tf_kernels_notop.h5\n",
      "234700800/234698864 [==============================] - 43s 0us/step\n",
      "234708992/234698864 [==============================] - 43s 0us/step\n"
     ]
    }
   ],
   "source": [
    "model.add(ResNet152(\n",
    "    include_top=False,\n",
    "    pooling='avg',\n",
    "    weights='imagenet',\n",
    "    ))"
   ]
  },
  {
   "cell_type": "code",
   "execution_count": 10,
   "metadata": {
    "button": false,
    "new_sheet": false,
    "run_control": {
     "read_only": false
    }
   },
   "outputs": [],
   "source": [
    "model.add(Dense(num_classes, activation='softmax'))"
   ]
  },
  {
   "cell_type": "code",
   "execution_count": 11,
   "metadata": {
    "button": false,
    "new_sheet": false,
    "run_control": {
     "read_only": false
    }
   },
   "outputs": [
    {
     "data": {
      "text/plain": [
       "[<keras.engine.functional.Functional at 0x7f73d4f425c0>,\n",
       " <keras.layers.core.Dense at 0x7f73d49c8128>]"
      ]
     },
     "execution_count": 11,
     "metadata": {},
     "output_type": "execute_result"
    }
   ],
   "source": [
    "model.layers"
   ]
  },
  {
   "cell_type": "code",
   "execution_count": 12,
   "metadata": {
    "button": false,
    "new_sheet": false,
    "run_control": {
     "read_only": false
    },
    "scrolled": true
   },
   "outputs": [
    {
     "data": {
      "text/plain": [
       "[<keras.engine.input_layer.InputLayer at 0x7f73d49c8390>,\n",
       " <keras.layers.convolutional.ZeroPadding2D at 0x7f73d49c8940>,\n",
       " <keras.layers.convolutional.Conv2D at 0x7f73d49c8ac8>,\n",
       " <keras.layers.normalization.batch_normalization.BatchNormalization at 0x7f73d498bbe0>,\n",
       " <keras.layers.core.Activation at 0x7f73d49596d8>,\n",
       " <keras.layers.convolutional.ZeroPadding2D at 0x7f73d4970a90>,\n",
       " <keras.layers.pooling.MaxPooling2D at 0x7f73d49085f8>,\n",
       " <keras.layers.convolutional.Conv2D at 0x7f73d4918fd0>,\n",
       " <keras.layers.normalization.batch_normalization.BatchNormalization at 0x7f73d4912978>,\n",
       " <keras.layers.core.Activation at 0x7f73d4937f98>,\n",
       " <keras.layers.convolutional.Conv2D at 0x7f73d49379b0>,\n",
       " <keras.layers.normalization.batch_normalization.BatchNormalization at 0x7f73d4937d68>,\n",
       " <keras.layers.core.Activation at 0x7f73d48cc860>,\n",
       " <keras.layers.convolutional.Conv2D at 0x7f73d49122e8>,\n",
       " <keras.layers.convolutional.Conv2D at 0x7f73d48d1be0>,\n",
       " <keras.layers.normalization.batch_normalization.BatchNormalization at 0x7f73d49125c0>,\n",
       " <keras.layers.normalization.batch_normalization.BatchNormalization at 0x7f73d48e2da0>,\n",
       " <keras.layers.merge.Add at 0x7f73d48eaa90>,\n",
       " <keras.layers.core.Activation at 0x7f73d48f8be0>,\n",
       " <keras.layers.convolutional.Conv2D at 0x7f73d48f8a20>,\n",
       " <keras.layers.normalization.batch_normalization.BatchNormalization at 0x7f73d48e26d8>,\n",
       " <keras.layers.core.Activation at 0x7f73d48d7c88>,\n",
       " <keras.layers.convolutional.Conv2D at 0x7f73d492cf98>,\n",
       " <keras.layers.normalization.batch_normalization.BatchNormalization at 0x7f73d4937c88>,\n",
       " <keras.layers.core.Activation at 0x7f73d4912550>,\n",
       " <keras.layers.convolutional.Conv2D at 0x7f73d4922518>,\n",
       " <keras.layers.normalization.batch_normalization.BatchNormalization at 0x7f73d494dcf8>,\n",
       " <keras.layers.merge.Add at 0x7f73d496db00>,\n",
       " <keras.layers.core.Activation at 0x7f73d4890780>,\n",
       " <keras.layers.convolutional.Conv2D at 0x7f73d4902748>,\n",
       " <keras.layers.normalization.batch_normalization.BatchNormalization at 0x7f73d496ddd8>,\n",
       " <keras.layers.core.Activation at 0x7f73d489fc88>,\n",
       " <keras.layers.convolutional.Conv2D at 0x7f73d48a7ef0>,\n",
       " <keras.layers.normalization.batch_normalization.BatchNormalization at 0x7f73d48a7dd8>,\n",
       " <keras.layers.core.Activation at 0x7f73d48bb5f8>,\n",
       " <keras.layers.convolutional.Conv2D at 0x7f73d48c09e8>,\n",
       " <keras.layers.normalization.batch_normalization.BatchNormalization at 0x7f73d4852e80>,\n",
       " <keras.layers.merge.Add at 0x7f73d4859b00>,\n",
       " <keras.layers.core.Activation at 0x7f73d4866d68>,\n",
       " <keras.layers.convolutional.Conv2D at 0x7f73d4866438>,\n",
       " <keras.layers.normalization.batch_normalization.BatchNormalization at 0x7f73d487c518>,\n",
       " <keras.layers.core.Activation at 0x7f73d487c5f8>,\n",
       " <keras.layers.convolutional.Conv2D at 0x7f73d48523c8>,\n",
       " <keras.layers.normalization.batch_normalization.BatchNormalization at 0x7f73d4859b70>,\n",
       " <keras.layers.core.Activation at 0x7f73d4849d68>,\n",
       " <keras.layers.convolutional.Conv2D at 0x7f73d4866eb8>,\n",
       " <keras.layers.convolutional.Conv2D at 0x7f73d48c0278>,\n",
       " <keras.layers.normalization.batch_normalization.BatchNormalization at 0x7f73d486fba8>,\n",
       " <keras.layers.normalization.batch_normalization.BatchNormalization at 0x7f73d48a7940>,\n",
       " <keras.layers.merge.Add at 0x7f73d4890c88>,\n",
       " <keras.layers.core.Activation at 0x7f73d48d1ac8>,\n",
       " <keras.layers.convolutional.Conv2D at 0x7f73d49371d0>,\n",
       " <keras.layers.normalization.batch_normalization.BatchNormalization at 0x7f73d4927160>,\n",
       " <keras.layers.core.Activation at 0x7f73d48d7d30>,\n",
       " <keras.layers.convolutional.Conv2D at 0x7f73d48eada0>,\n",
       " <keras.layers.normalization.batch_normalization.BatchNormalization at 0x7f73d4828f28>,\n",
       " <keras.layers.core.Activation at 0x7f73d482b400>,\n",
       " <keras.layers.convolutional.Conv2D at 0x7f73d4837a58>,\n",
       " <keras.layers.normalization.batch_normalization.BatchNormalization at 0x7f73d47cf4e0>,\n",
       " <keras.layers.merge.Add at 0x7f73d47cf3c8>,\n",
       " <keras.layers.core.Activation at 0x7f73d47dbf60>,\n",
       " <keras.layers.convolutional.Conv2D at 0x7f73d47dbb38>,\n",
       " <keras.layers.normalization.batch_normalization.BatchNormalization at 0x7f73d47e9908>,\n",
       " <keras.layers.core.Activation at 0x7f73d47e9e10>,\n",
       " <keras.layers.convolutional.Conv2D at 0x7f73d47efbe0>,\n",
       " <keras.layers.normalization.batch_normalization.BatchNormalization at 0x7f73d47ef940>,\n",
       " <keras.layers.core.Activation at 0x7f73d4801860>,\n",
       " <keras.layers.convolutional.Conv2D at 0x7f73d47897b8>,\n",
       " <keras.layers.normalization.batch_normalization.BatchNormalization at 0x7f73d47efcf8>,\n",
       " <keras.layers.merge.Add at 0x7f73d47ef320>,\n",
       " <keras.layers.core.Activation at 0x7f73d47dbb70>,\n",
       " <keras.layers.convolutional.Conv2D at 0x7f73d483e940>,\n",
       " <keras.layers.normalization.batch_normalization.BatchNormalization at 0x7f73d482b588>,\n",
       " <keras.layers.core.Activation at 0x7f73d4811f60>,\n",
       " <keras.layers.convolutional.Conv2D at 0x7f73d4902668>,\n",
       " <keras.layers.normalization.batch_normalization.BatchNormalization at 0x7f73d4859208>,\n",
       " <keras.layers.core.Activation at 0x7f73d485e6a0>,\n",
       " <keras.layers.convolutional.Conv2D at 0x7f73d47abdd8>,\n",
       " <keras.layers.normalization.batch_normalization.BatchNormalization at 0x7f73d47ab898>,\n",
       " <keras.layers.merge.Add at 0x7f73d47b4da0>,\n",
       " <keras.layers.core.Activation at 0x7f73d47b48d0>,\n",
       " <keras.layers.convolutional.Conv2D at 0x7f73d47bae48>,\n",
       " <keras.layers.normalization.batch_normalization.BatchNormalization at 0x7f73d47b4ef0>,\n",
       " <keras.layers.core.Activation at 0x7f73d47c22e8>,\n",
       " <keras.layers.convolutional.Conv2D at 0x7f73d4753dd8>,\n",
       " <keras.layers.normalization.batch_normalization.BatchNormalization at 0x7f73d4767ef0>,\n",
       " <keras.layers.core.Activation at 0x7f73d4763ac8>,\n",
       " <keras.layers.convolutional.Conv2D at 0x7f73d477cbe0>,\n",
       " <keras.layers.normalization.batch_normalization.BatchNormalization at 0x7f73d477c860>,\n",
       " <keras.layers.merge.Add at 0x7f73d4770630>,\n",
       " <keras.layers.core.Activation at 0x7f73d4782b70>,\n",
       " <keras.layers.convolutional.Conv2D at 0x7f73d4718240>,\n",
       " <keras.layers.normalization.batch_normalization.BatchNormalization at 0x7f73d47180b8>,\n",
       " <keras.layers.core.Activation at 0x7f73d470a908>,\n",
       " <keras.layers.convolutional.Conv2D at 0x7f73d47825f8>,\n",
       " <keras.layers.normalization.batch_normalization.BatchNormalization at 0x7f73d47c2e80>,\n",
       " <keras.layers.core.Activation at 0x7f73d474bef0>,\n",
       " <keras.layers.convolutional.Conv2D at 0x7f73d4859198>,\n",
       " <keras.layers.normalization.batch_normalization.BatchNormalization at 0x7f73d4849978>,\n",
       " <keras.layers.merge.Add at 0x7f73d478f2b0>,\n",
       " <keras.layers.core.Activation at 0x7f73d4811978>,\n",
       " <keras.layers.convolutional.Conv2D at 0x7f73d4789320>,\n",
       " <keras.layers.normalization.batch_normalization.BatchNormalization at 0x7f73d48280f0>,\n",
       " <keras.layers.core.Activation at 0x7f73d471ff60>,\n",
       " <keras.layers.convolutional.Conv2D at 0x7f73d472fb70>,\n",
       " <keras.layers.normalization.batch_normalization.BatchNormalization at 0x7f73d46c71d0>,\n",
       " <keras.layers.core.Activation at 0x7f73d46c75c0>,\n",
       " <keras.layers.convolutional.Conv2D at 0x7f73d46d6e10>,\n",
       " <keras.layers.normalization.batch_normalization.BatchNormalization at 0x7f73d46d6a90>,\n",
       " <keras.layers.merge.Add at 0x7f73d46df9b0>,\n",
       " <keras.layers.core.Activation at 0x7f73d46e8550>,\n",
       " <keras.layers.convolutional.Conv2D at 0x7f73d46efc88>,\n",
       " <keras.layers.normalization.batch_normalization.BatchNormalization at 0x7f73d46effd0>,\n",
       " <keras.layers.core.Activation at 0x7f73d46fa898>,\n",
       " <keras.layers.convolutional.Conv2D at 0x7f73d4703e10>,\n",
       " <keras.layers.normalization.batch_normalization.BatchNormalization at 0x7f73d469fd30>,\n",
       " <keras.layers.core.Activation at 0x7f73d4697908>,\n",
       " <keras.layers.convolutional.Conv2D at 0x7f73d46fa3c8>,\n",
       " <keras.layers.normalization.batch_normalization.BatchNormalization at 0x7f73d4703d30>,\n",
       " <keras.layers.merge.Add at 0x7f73d46e8160>,\n",
       " <keras.layers.core.Activation at 0x7f73d46e8780>,\n",
       " <keras.layers.convolutional.Conv2D at 0x7f73d47359e8>,\n",
       " <keras.layers.normalization.batch_normalization.BatchNormalization at 0x7f73d494d9b0>,\n",
       " <keras.layers.core.Activation at 0x7f73d47a1208>,\n",
       " <keras.layers.convolutional.Conv2D at 0x7f73d4763d68>,\n",
       " <keras.layers.normalization.batch_normalization.BatchNormalization at 0x7f73d46abda0>,\n",
       " <keras.layers.core.Activation at 0x7f73d46bf4e0>,\n",
       " <keras.layers.convolutional.Conv2D at 0x7f73d46d0668>,\n",
       " <keras.layers.convolutional.Conv2D at 0x7f73d4649b38>,\n",
       " <keras.layers.normalization.batch_normalization.BatchNormalization at 0x7f73d46dfdd8>,\n",
       " <keras.layers.normalization.batch_normalization.BatchNormalization at 0x7f73d465c5c0>,\n",
       " <keras.layers.merge.Add at 0x7f73d465c710>,\n",
       " <keras.layers.core.Activation at 0x7f73d4670b70>,\n",
       " <keras.layers.convolutional.Conv2D at 0x7f73d4670ef0>,\n",
       " <keras.layers.normalization.batch_normalization.BatchNormalization at 0x7f73d46789b0>,\n",
       " <keras.layers.core.Activation at 0x7f73d4678160>,\n",
       " <keras.layers.convolutional.Conv2D at 0x7f73d4673cc0>,\n",
       " <keras.layers.normalization.batch_normalization.BatchNormalization at 0x7f73d4673518>,\n",
       " <keras.layers.core.Activation at 0x7f73d4611ac8>,\n",
       " <keras.layers.convolutional.Conv2D at 0x7f73d4617f60>,\n",
       " <keras.layers.normalization.batch_normalization.BatchNormalization at 0x7f73d4673630>,\n",
       " <keras.layers.merge.Add at 0x7f73d4670c18>,\n",
       " <keras.layers.core.Activation at 0x7f73d465c9b0>,\n",
       " <keras.layers.convolutional.Conv2D at 0x7f73d4650748>,\n",
       " <keras.layers.normalization.batch_normalization.BatchNormalization at 0x7f73d46bfbe0>,\n",
       " <keras.layers.core.Activation at 0x7f73d48b3048>,\n",
       " <keras.layers.convolutional.Conv2D at 0x7f73d4763fd0>,\n",
       " <keras.layers.normalization.batch_normalization.BatchNormalization at 0x7f73d46c7d30>,\n",
       " <keras.layers.core.Activation at 0x7f73d46d0748>,\n",
       " <keras.layers.convolutional.Conv2D at 0x7f73d46ef4e0>,\n",
       " <keras.layers.normalization.batch_normalization.BatchNormalization at 0x7f73d4636588>,\n",
       " <keras.layers.merge.Add at 0x7f73d461cfd0>,\n",
       " <keras.layers.core.Activation at 0x7f73d463af98>,\n",
       " <keras.layers.convolutional.Conv2D at 0x7f73d45cd080>,\n",
       " <keras.layers.normalization.batch_normalization.BatchNormalization at 0x7f73d45cd748>,\n",
       " <keras.layers.core.Activation at 0x7f73d45d64a8>,\n",
       " <keras.layers.convolutional.Conv2D at 0x7f73d45ddcc0>,\n",
       " <keras.layers.normalization.batch_normalization.BatchNormalization at 0x7f73d45f1ac8>,\n",
       " <keras.layers.core.Activation at 0x7f73d45ebda0>,\n",
       " <keras.layers.convolutional.Conv2D at 0x7f73d4585d68>,\n",
       " <keras.layers.normalization.batch_normalization.BatchNormalization at 0x7f73d4585828>,\n",
       " <keras.layers.merge.Add at 0x7f73d458d5c0>,\n",
       " <keras.layers.core.Activation at 0x7f73d458dd68>,\n",
       " <keras.layers.convolutional.Conv2D at 0x7f73d45a1518>,\n",
       " <keras.layers.normalization.batch_normalization.BatchNormalization at 0x7f73d45a46a0>,\n",
       " <keras.layers.core.Activation at 0x7f73d45a1b00>,\n",
       " <keras.layers.convolutional.Conv2D at 0x7f73d458df98>,\n",
       " <keras.layers.normalization.batch_normalization.BatchNormalization at 0x7f73d45dde48>,\n",
       " <keras.layers.core.Activation at 0x7f73d45d6da0>,\n",
       " <keras.layers.convolutional.Conv2D at 0x7f73d4735e10>,\n",
       " <keras.layers.normalization.batch_normalization.BatchNormalization at 0x7f73d46ef080>,\n",
       " <keras.layers.merge.Add at 0x7f73d45e41d0>,\n",
       " <keras.layers.core.Activation at 0x7f73d46ab470>,\n",
       " <keras.layers.convolutional.Conv2D at 0x7f73d4650710>,\n",
       " <keras.layers.normalization.batch_normalization.BatchNormalization at 0x7f73d4665080>,\n",
       " <keras.layers.core.Activation at 0x7f73d4650d68>,\n",
       " <keras.layers.convolutional.Conv2D at 0x7f73d45bad68>,\n",
       " <keras.layers.normalization.batch_normalization.BatchNormalization at 0x7f73d4559ba8>,\n",
       " <keras.layers.core.Activation at 0x7f73d4559c18>,\n",
       " <keras.layers.convolutional.Conv2D at 0x7f73d45682e8>,\n",
       " <keras.layers.normalization.batch_normalization.BatchNormalization at 0x7f73d45682b0>,\n",
       " <keras.layers.merge.Add at 0x7f73d4561278>,\n",
       " <keras.layers.core.Activation at 0x7f73d456f860>,\n",
       " <keras.layers.convolutional.Conv2D at 0x7f73d457ae80>,\n",
       " <keras.layers.normalization.batch_normalization.BatchNormalization at 0x7f73d4505da0>,\n",
       " <keras.layers.core.Activation at 0x7f73d4505320>,\n",
       " <keras.layers.convolutional.Conv2D at 0x7f73d4513f28>,\n",
       " <keras.layers.normalization.batch_normalization.BatchNormalization at 0x7f73d4528908>,\n",
       " <keras.layers.core.Activation at 0x7f73d4523be0>,\n",
       " <keras.layers.convolutional.Conv2D at 0x7f73d8dd3cf8>,\n",
       " <keras.layers.normalization.batch_normalization.BatchNormalization at 0x7f73d48e2c50>,\n",
       " <keras.layers.merge.Add at 0x7f73d4912c50>,\n",
       " <keras.layers.core.Activation at 0x7f73d4942588>,\n",
       " <keras.layers.convolutional.Conv2D at 0x7f73d48b3a20>,\n",
       " <keras.layers.normalization.batch_normalization.BatchNormalization at 0x7f73d4927390>,\n",
       " <keras.layers.core.Activation at 0x7f73d4753400>,\n",
       " <keras.layers.convolutional.Conv2D at 0x7f73d4828dd8>,\n",
       " <keras.layers.normalization.batch_normalization.BatchNormalization at 0x7f73d46faf28>,\n",
       " <keras.layers.core.Activation at 0x7f73d46d6fd0>,\n",
       " <keras.layers.convolutional.Conv2D at 0x7f73d4735668>,\n",
       " <keras.layers.normalization.batch_normalization.BatchNormalization at 0x7f73d47cf240>,\n",
       " <keras.layers.merge.Add at 0x7f73d4509f60>,\n",
       " <keras.layers.core.Activation at 0x7f73d4509048>,\n",
       " <keras.layers.convolutional.Conv2D at 0x7f73d451c940>,\n",
       " <keras.layers.normalization.batch_normalization.BatchNormalization at 0x7f73d45236a0>,\n",
       " <keras.layers.core.Activation at 0x7f73d45a4c50>,\n",
       " <keras.layers.convolutional.Conv2D at 0x7f73d4617e10>,\n",
       " <keras.layers.normalization.batch_normalization.BatchNormalization at 0x7f73d471fc50>,\n",
       " <keras.layers.core.Activation at 0x7f73d47fa160>,\n",
       " <keras.layers.convolutional.Conv2D at 0x7f73d4617ba8>,\n",
       " <keras.layers.normalization.batch_normalization.BatchNormalization at 0x7f73d4801358>,\n",
       " <keras.layers.merge.Add at 0x7f73d48815f8>,\n",
       " <keras.layers.core.Activation at 0x7f73d48f1240>,\n",
       " <keras.layers.convolutional.Conv2D at 0x7f73d456f3c8>,\n",
       " <keras.layers.normalization.batch_normalization.BatchNormalization at 0x7f73d4561c88>,\n",
       " <keras.layers.core.Activation at 0x7f73d456f470>,\n",
       " <keras.layers.convolutional.Conv2D at 0x7f73d4801550>,\n",
       " <keras.layers.normalization.batch_normalization.BatchNormalization at 0x7f73d4617048>,\n",
       " <keras.layers.core.Activation at 0x7f73d4528588>,\n",
       " <keras.layers.convolutional.Conv2D at 0x7f73d4849da0>,\n",
       " <keras.layers.normalization.batch_normalization.BatchNormalization at 0x7f73d4670748>,\n",
       " <keras.layers.merge.Add at 0x7f73d45234a8>,\n",
       " <keras.layers.core.Activation at 0x7f73d4918978>,\n",
       " <keras.layers.convolutional.Conv2D at 0x7f73d48d1dd8>,\n",
       " <keras.layers.normalization.batch_normalization.BatchNormalization at 0x7f73d48a7470>,\n",
       " <keras.layers.core.Activation at 0x7f73d45590f0>,\n",
       " <keras.layers.convolutional.Conv2D at 0x7f73d454a9b0>,\n",
       " <keras.layers.normalization.batch_normalization.BatchNormalization at 0x7f73d4649ef0>,\n",
       " <keras.layers.core.Activation at 0x7f73d46bf668>,\n",
       " <keras.layers.convolutional.Conv2D at 0x7f73d4703c88>,\n",
       " <keras.layers.normalization.batch_normalization.BatchNormalization at 0x7f73d46c7550>,\n",
       " <keras.layers.merge.Add at 0x7f73d46efc50>,\n",
       " <keras.layers.core.Activation at 0x7f73d463ada0>,\n",
       " <keras.layers.convolutional.Conv2D at 0x7f73d461cdd8>,\n",
       " <keras.layers.normalization.batch_normalization.BatchNormalization at 0x7f73d4636518>,\n",
       " <keras.layers.core.Activation at 0x7f73d45dd198>,\n",
       " <keras.layers.convolutional.Conv2D at 0x7f73d45e4208>,\n",
       " <keras.layers.normalization.batch_normalization.BatchNormalization at 0x7f73d45a1da0>,\n",
       " <keras.layers.core.Activation at 0x7f73d45965f8>,\n",
       " <keras.layers.convolutional.Conv2D at 0x7f73d483e208>,\n",
       " <keras.layers.normalization.batch_normalization.BatchNormalization at 0x7f73d461c518>,\n",
       " <keras.layers.merge.Add at 0x7f73d45d6828>,\n",
       " <keras.layers.core.Activation at 0x7f73d475c048>,\n",
       " <keras.layers.convolutional.Conv2D at 0x7f73d4657080>,\n",
       " <keras.layers.normalization.batch_normalization.BatchNormalization at 0x7f73d454a518>,\n",
       " <keras.layers.core.Activation at 0x7f73d454f588>,\n",
       " <keras.layers.convolutional.Conv2D at 0x7f73d48595c0>,\n",
       " <keras.layers.normalization.batch_normalization.BatchNormalization at 0x7f73d4609cf8>,\n",
       " <keras.layers.core.Activation at 0x7f73d478fd30>,\n",
       " <keras.layers.convolutional.Conv2D at 0x7f73d4407fd0>,\n",
       " <keras.layers.normalization.batch_normalization.BatchNormalization at 0x7f73d4407588>,\n",
       " <keras.layers.merge.Add at 0x7f73d4416898>,\n",
       " <keras.layers.core.Activation at 0x7f73d44164e0>,\n",
       " <keras.layers.convolutional.Conv2D at 0x7f73d4421940>,\n",
       " <keras.layers.normalization.batch_normalization.BatchNormalization at 0x7f73d44169e8>,\n",
       " <keras.layers.core.Activation at 0x7f73d4428940>,\n",
       " <keras.layers.convolutional.Conv2D at 0x7f73d442fc88>,\n",
       " <keras.layers.normalization.batch_normalization.BatchNormalization at 0x7f73d43ca358>,\n",
       " <keras.layers.core.Activation at 0x7f73d43ca240>,\n",
       " <keras.layers.convolutional.Conv2D at 0x7f73d43e3d30>,\n",
       " <keras.layers.normalization.batch_normalization.BatchNormalization at 0x7f73d43e36d8>,\n",
       " <keras.layers.merge.Add at 0x7f73d43eb630>,\n",
       " <keras.layers.core.Activation at 0x7f73d43eb6a0>,\n",
       " <keras.layers.convolutional.Conv2D at 0x7f73d43cf710>,\n",
       " <keras.layers.normalization.batch_normalization.BatchNormalization at 0x7f73d443e438>,\n",
       " <keras.layers.core.Activation at 0x7f73d4438da0>,\n",
       " <keras.layers.convolutional.Conv2D at 0x7f73d442f748>,\n",
       " <keras.layers.normalization.batch_normalization.BatchNormalization at 0x7f73d48f8dd8>,\n",
       " <keras.layers.core.Activation at 0x7f73d4523668>,\n",
       " <keras.layers.convolutional.Conv2D at 0x7f73d4596438>,\n",
       " <keras.layers.normalization.batch_normalization.BatchNormalization at 0x7f73d45dd9e8>,\n",
       " <keras.layers.merge.Add at 0x7f73d4585cc0>,\n",
       " <keras.layers.core.Activation at 0x7f73d45850b8>,\n",
       " <keras.layers.convolutional.Conv2D at 0x7f73d4384908>,\n",
       " <keras.layers.normalization.batch_normalization.BatchNormalization at 0x7f73d438e9e8>,\n",
       " <keras.layers.core.Activation at 0x7f73d43849b0>,\n",
       " <keras.layers.convolutional.Conv2D at 0x7f73d4394c50>,\n",
       " <keras.layers.normalization.batch_normalization.BatchNormalization at 0x7f73d43ad320>,\n",
       " <keras.layers.core.Activation at 0x7f73d43ad208>,\n",
       " <keras.layers.convolutional.Conv2D at 0x7f73d43bc748>,\n",
       " <keras.layers.normalization.batch_normalization.BatchNormalization at 0x7f73d43bcb38>,\n",
       " <keras.layers.merge.Add at 0x7f73d4344cc0>,\n",
       " <keras.layers.core.Activation at 0x7f73d434f630>,\n",
       " <keras.layers.convolutional.Conv2D at 0x7f73d4354e48>,\n",
       " <keras.layers.normalization.batch_normalization.BatchNormalization at 0x7f73d434f898>,\n",
       " <keras.layers.core.Activation at 0x7f73d436c400>,\n",
       " <keras.layers.convolutional.Conv2D at 0x7f73d436c160>,\n",
       " <keras.layers.normalization.batch_normalization.BatchNormalization at 0x7f73d4354128>,\n",
       " <keras.layers.core.Activation at 0x7f73d4344518>,\n",
       " <keras.layers.convolutional.Conv2D at 0x7f73d43adda0>,\n",
       " <keras.layers.normalization.batch_normalization.BatchNormalization at 0x7f73d439ac50>,\n",
       " <keras.layers.merge.Add at 0x7f73d4394278>,\n",
       " <keras.layers.core.Activation at 0x7f73d45852e8>,\n",
       " <keras.layers.convolutional.Conv2D at 0x7f73d47fa9b0>,\n",
       " <keras.layers.normalization.batch_normalization.BatchNormalization at 0x7f73d4421438>,\n",
       " <keras.layers.core.Activation at 0x7f73d43ca470>,\n",
       " <keras.layers.convolutional.Conv2D at 0x7f73d4438ef0>,\n",
       " <keras.layers.normalization.batch_normalization.BatchNormalization at 0x7f73d43059b0>,\n",
       " <keras.layers.core.Activation at 0x7f73d430e4a8>,\n",
       " <keras.layers.convolutional.Conv2D at 0x7f73d430e5c0>,\n",
       " <keras.layers.normalization.batch_normalization.BatchNormalization at 0x7f73d4321ac8>,\n",
       " <keras.layers.merge.Add at 0x7f73d43282e8>,\n",
       " <keras.layers.core.Activation at 0x7f73d4338a58>,\n",
       " <keras.layers.convolutional.Conv2D at 0x7f73d43304e0>,\n",
       " <keras.layers.normalization.batch_normalization.BatchNormalization at 0x7f73d4328710>,\n",
       " <keras.layers.core.Activation at 0x7f73d433f908>,\n",
       " <keras.layers.convolutional.Conv2D at 0x7f73d42c9eb8>,\n",
       " <keras.layers.normalization.batch_normalization.BatchNormalization at 0x7f73d42d2f60>,\n",
       " <keras.layers.core.Activation at 0x7f73d42d85c0>,\n",
       " <keras.layers.convolutional.Conv2D at 0x7f73d42e29b0>,\n",
       " <keras.layers.normalization.batch_normalization.BatchNormalization at 0x7f73d42ed6a0>,\n",
       " <keras.layers.merge.Add at 0x7f73d42ed400>,\n",
       " <keras.layers.core.Activation at 0x7f73d42d8f28>,\n",
       " <keras.layers.convolutional.Conv2D at 0x7f73d42d8b38>,\n",
       " <keras.layers.normalization.batch_normalization.BatchNormalization at 0x7f73d42f2438>,\n",
       " <keras.layers.core.Activation at 0x7f73d42d2128>,\n",
       " <keras.layers.convolutional.Conv2D at 0x7f73d4330390>,\n",
       " <keras.layers.normalization.batch_normalization.BatchNormalization at 0x7f73d431ad30>,\n",
       " <keras.layers.core.Activation at 0x7f73d430e400>,\n",
       " <keras.layers.convolutional.Conv2D at 0x7f73d4908ef0>,\n",
       " <keras.layers.normalization.batch_normalization.BatchNormalization at 0x7f73d43940b8>,\n",
       " <keras.layers.merge.Add at 0x7f73d439a9e8>,\n",
       " <keras.layers.core.Activation at 0x7f73d442fb70>,\n",
       " <keras.layers.convolutional.Conv2D at 0x7f73d4298cf8>,\n",
       " <keras.layers.normalization.batch_normalization.BatchNormalization at 0x7f73d42a0438>,\n",
       " <keras.layers.core.Activation at 0x7f73d42a08d0>,\n",
       " <keras.layers.convolutional.Conv2D at 0x7f73d42a99e8>,\n",
       " <keras.layers.normalization.batch_normalization.BatchNormalization at 0x7f73d42a92e8>,\n",
       " <keras.layers.core.Activation at 0x7f73d42bac50>,\n",
       " <keras.layers.convolutional.Conv2D at 0x7f73d42bfb70>,\n",
       " <keras.layers.normalization.batch_normalization.BatchNormalization at 0x7f73d42571d0>,\n",
       " <keras.layers.merge.Add at 0x7f73d4257630>,\n",
       " <keras.layers.core.Activation at 0x7f73d4264cc0>,\n",
       " <keras.layers.convolutional.Conv2D at 0x7f73d4264828>,\n",
       " <keras.layers.normalization.batch_normalization.BatchNormalization at 0x7f73d4272518>,\n",
       " <keras.layers.core.Activation at 0x7f73d4272048>,\n",
       " <keras.layers.convolutional.Conv2D at 0x7f73d42718d0>,\n",
       " <keras.layers.normalization.batch_normalization.BatchNormalization at 0x7f73d42506a0>,\n",
       " <keras.layers.core.Activation at 0x7f73d42487f0>,\n",
       " <keras.layers.convolutional.Conv2D at 0x7f73d42b49e8>,\n",
       " <keras.layers.normalization.batch_normalization.BatchNormalization at 0x7f73d43549e8>,\n",
       " <keras.layers.merge.Add at 0x7f73d43845c0>,\n",
       " <keras.layers.core.Activation at 0x7f73d433f710>,\n",
       " <keras.layers.convolutional.Conv2D at 0x7f73d4338f60>,\n",
       " <keras.layers.normalization.batch_normalization.BatchNormalization at 0x7f73d431aa20>,\n",
       " <keras.layers.core.Activation at 0x7f73d42f24e0>,\n",
       " <keras.layers.convolutional.Conv2D at 0x7f73d4280898>,\n",
       " <keras.layers.normalization.batch_normalization.BatchNormalization at 0x7f73d4280ba8>,\n",
       " <keras.layers.core.Activation at 0x7f73d421e630>,\n",
       " <keras.layers.convolutional.Conv2D at 0x7f73d4225a20>,\n",
       " <keras.layers.normalization.batch_normalization.BatchNormalization at 0x7f73d4236eb8>,\n",
       " <keras.layers.merge.Add at 0x7f73d423a860>,\n",
       " <keras.layers.core.Activation at 0x7f73d41476d8>,\n",
       " <keras.layers.convolutional.Conv2D at 0x7f73d4147fd0>,\n",
       " <keras.layers.normalization.batch_normalization.BatchNormalization at 0x7f73d4151cc0>,\n",
       " <keras.layers.core.Activation at 0x7f73d4147358>,\n",
       " <keras.layers.convolutional.Conv2D at 0x7f73d415ad68>,\n",
       " <keras.layers.normalization.batch_normalization.BatchNormalization at 0x7f73d416b710>,\n",
       " <keras.layers.core.Activation at 0x7f73d417b2e8>,\n",
       " <keras.layers.convolutional.Conv2D at 0x7f73d417bb00>,\n",
       " <keras.layers.normalization.batch_normalization.BatchNormalization at 0x7f73d4164908>,\n",
       " <keras.layers.merge.Add at 0x7f73d41477f0>,\n",
       " <keras.layers.core.Activation at 0x7f73d4147a90>,\n",
       " <keras.layers.convolutional.Conv2D at 0x7f73d4225e80>,\n",
       " <keras.layers.normalization.batch_normalization.BatchNormalization at 0x7f73d422b908>,\n",
       " <keras.layers.core.Activation at 0x7f73d4280550>,\n",
       " <keras.layers.convolutional.Conv2D at 0x7f73d42800f0>,\n",
       " <keras.layers.normalization.batch_normalization.BatchNormalization at 0x7f73d4303898>,\n",
       " <keras.layers.core.Activation at 0x7f73d42a9710>,\n",
       " <keras.layers.convolutional.Conv2D at 0x7f73d4105f28>,\n",
       " <keras.layers.normalization.batch_normalization.BatchNormalization at 0x7f73d4105240>,\n",
       " <keras.layers.merge.Add at 0x7f73d4121128>,\n",
       " <keras.layers.core.Activation at 0x7f73d41214a8>,\n",
       " <keras.layers.convolutional.Conv2D at 0x7f73d4129780>,\n",
       " <keras.layers.normalization.batch_normalization.BatchNormalization at 0x7f73d4129e80>,\n",
       " <keras.layers.core.Activation at 0x7f73d412ec50>,\n",
       " <keras.layers.convolutional.Conv2D at 0x7f73d4138ac8>,\n",
       " <keras.layers.normalization.batch_normalization.BatchNormalization at 0x7f73d40d1080>,\n",
       " <keras.layers.core.Activation at 0x7f73d40d16a0>,\n",
       " <keras.layers.convolutional.Conv2D at 0x7f73d40e0eb8>,\n",
       " <keras.layers.normalization.batch_normalization.BatchNormalization at 0x7f73d40e09b0>,\n",
       " <keras.layers.merge.Add at 0x7f73d40e99e8>,\n",
       " <keras.layers.core.Activation at 0x7f73d40e96a0>,\n",
       " <keras.layers.convolutional.Conv2D at 0x7f73d40f9be0>,\n",
       " <keras.layers.normalization.batch_normalization.BatchNormalization at 0x7f73d4084cc0>,\n",
       " <keras.layers.core.Activation at 0x7f73d40f97b8>,\n",
       " <keras.layers.convolutional.Conv2D at 0x7f73d40d8f60>,\n",
       " <keras.layers.normalization.batch_normalization.BatchNormalization at 0x7f73d412e278>,\n",
       " <keras.layers.core.Activation at 0x7f73d41380f0>,\n",
       " <keras.layers.convolutional.Conv2D at 0x7f73d45ba588>,\n",
       " <keras.layers.normalization.batch_normalization.BatchNormalization at 0x7f73d42ba160>,\n",
       " <keras.layers.merge.Add at 0x7f73d421eef0>,\n",
       " <keras.layers.core.Activation at 0x7f73d42164e0>,\n",
       " <keras.layers.convolutional.Conv2D at 0x7f73d4236400>,\n",
       " <keras.layers.normalization.batch_normalization.BatchNormalization at 0x7f73d42162b0>,\n",
       " <keras.layers.core.Activation at 0x7f73d40892e8>,\n",
       " <keras.layers.convolutional.Conv2D at 0x7f73d409fcc0>,\n",
       " <keras.layers.normalization.batch_normalization.BatchNormalization at 0x7f73d40b5ac8>,\n",
       " <keras.layers.core.Activation at 0x7f73d40afda0>,\n",
       " <keras.layers.convolutional.Conv2D at 0x7f73d4045d68>,\n",
       " <keras.layers.normalization.batch_normalization.BatchNormalization at 0x7f73d4045828>,\n",
       " <keras.layers.merge.Add at 0x7f73d404d5c0>,\n",
       " <keras.layers.core.Activation at 0x7f73d404d438>,\n",
       " <keras.layers.convolutional.Conv2D at 0x7f73d4060518>,\n",
       " <keras.layers.normalization.batch_normalization.BatchNormalization at 0x7f73d40686a0>,\n",
       " <keras.layers.core.Activation at 0x7f73d4060b00>,\n",
       " <keras.layers.convolutional.Conv2D at 0x7f73d4071ac8>,\n",
       " <keras.layers.normalization.batch_normalization.BatchNormalization at 0x7f73d40055f8>,\n",
       " <keras.layers.core.Activation at 0x7f73d4005748>,\n",
       " <keras.layers.convolutional.Conv2D at 0x7f73d4060ac8>,\n",
       " <keras.layers.normalization.batch_normalization.BatchNormalization at 0x7f73d4068550>,\n",
       " <keras.layers.merge.Add at 0x7f73d4071f28>,\n",
       " <keras.layers.core.Activation at 0x7f73d404d668>,\n",
       " <keras.layers.convolutional.Conv2D at 0x7f73d40b5dd8>,\n",
       " <keras.layers.normalization.batch_normalization.BatchNormalization at 0x7f73d40a76a0>,\n",
       " <keras.layers.core.Activation at 0x7f73d40b5fd0>,\n",
       " <keras.layers.convolutional.Conv2D at 0x7f73d40895c0>,\n",
       " <keras.layers.normalization.batch_normalization.BatchNormalization at 0x7f73d41424e0>,\n",
       " <keras.layers.core.Activation at 0x7f73d40ca320>,\n",
       " <keras.layers.convolutional.Conv2D at 0x7f73d4089048>,\n",
       " <keras.layers.normalization.batch_normalization.BatchNormalization at 0x7f73d40248d0>,\n",
       " <keras.layers.merge.Add at 0x7f73d402d5f8>,\n",
       " <keras.layers.core.Activation at 0x7f73d402dc18>,\n",
       " <keras.layers.convolutional.Conv2D at 0x7f73d4024630>,\n",
       " <keras.layers.normalization.batch_normalization.BatchNormalization at 0x7f73d40245c0>,\n",
       " <keras.layers.core.Activation at 0x7f73cc7b96a0>,\n",
       " <keras.layers.convolutional.Conv2D at 0x7f73cc7c31d0>,\n",
       " <keras.layers.normalization.batch_normalization.BatchNormalization at 0x7f73d4129400>,\n",
       " <keras.layers.core.Activation at 0x7f73cc7dd898>,\n",
       " <keras.layers.convolutional.Conv2D at 0x7f73cc7f0cf8>,\n",
       " <keras.layers.normalization.batch_normalization.BatchNormalization at 0x7f73d40054a8>,\n",
       " <keras.layers.merge.Add at 0x7f73cc7f02b0>,\n",
       " <keras.layers.core.Activation at 0x7f73cc7f66a0>,\n",
       " <keras.layers.convolutional.Conv2D at 0x7f73cc7f0cc0>,\n",
       " <keras.layers.normalization.batch_normalization.BatchNormalization at 0x7f73cc7f06d8>,\n",
       " <keras.layers.core.Activation at 0x7f73cc7e60f0>,\n",
       " <keras.layers.convolutional.Conv2D at 0x7f73d402d9e8>,\n",
       " <keras.layers.normalization.batch_normalization.BatchNormalization at 0x7f73d402d278>,\n",
       " <keras.layers.core.Activation at 0x7f73d4024828>,\n",
       " <keras.layers.convolutional.Conv2D at 0x7f73d40ca438>,\n",
       " <keras.layers.normalization.batch_normalization.BatchNormalization at 0x7f73cc7ce048>,\n",
       " <keras.layers.merge.Add at 0x7f73d4118cf8>,\n",
       " <keras.layers.core.Activation at 0x7f73d421ec88>,\n",
       " <keras.layers.convolutional.Conv2D at 0x7f73d4075e80>,\n",
       " <keras.layers.normalization.batch_normalization.BatchNormalization at 0x7f73d4118e80>,\n",
       " <keras.layers.core.Activation at 0x7f73d404d470>,\n",
       " <keras.layers.convolutional.Conv2D at 0x7f73cc781400>,\n",
       " <keras.layers.normalization.batch_normalization.BatchNormalization at 0x7f73cc7ddc50>,\n",
       " <keras.layers.core.Activation at 0x7f73cc781320>,\n",
       " <keras.layers.convolutional.Conv2D at 0x7f73cc7b6908>,\n",
       " <keras.layers.normalization.batch_normalization.BatchNormalization at 0x7f73d402df28>,\n",
       " <keras.layers.merge.Add at 0x7f73cc747b70>,\n",
       " <keras.layers.core.Activation at 0x7f73cc7b6f28>,\n",
       " <keras.layers.convolutional.Conv2D at 0x7f73cc7b6940>,\n",
       " <keras.layers.normalization.batch_normalization.BatchNormalization at 0x7f73cc750390>,\n",
       " <keras.layers.core.Activation at 0x7f73cc750d68>,\n",
       " <keras.layers.convolutional.Conv2D at 0x7f73cc769908>,\n",
       " <keras.layers.normalization.batch_normalization.BatchNormalization at 0x7f73cc6fd6a0>,\n",
       " <keras.layers.core.Activation at 0x7f73cc6fda90>,\n",
       " <keras.layers.convolutional.Conv2D at 0x7f73cc777400>,\n",
       " <keras.layers.normalization.batch_normalization.BatchNormalization at 0x7f73cc7567f0>,\n",
       " <keras.layers.merge.Add at 0x7f73cc73bfd0>,\n",
       " <keras.layers.core.Activation at 0x7f73cc7474a8>,\n",
       " <keras.layers.convolutional.Conv2D at 0x7f73cc750908>,\n",
       " <keras.layers.normalization.batch_normalization.BatchNormalization at 0x7f73cc73b7b8>,\n",
       " <keras.layers.core.Activation at 0x7f73d412eda0>,\n",
       " <keras.layers.convolutional.Conv2D at 0x7f73d403fd68>,\n",
       " <keras.layers.normalization.batch_normalization.BatchNormalization at 0x7f73cc756da0>,\n",
       " <keras.layers.core.Activation at 0x7f73cc7ce550>,\n",
       " <keras.layers.convolutional.Conv2D at 0x7f73cc7ce978>,\n",
       " <keras.layers.normalization.batch_normalization.BatchNormalization at 0x7f73cc777470>,\n",
       " <keras.layers.merge.Add at 0x7f73cc71fb38>,\n",
       " <keras.layers.core.Activation at 0x7f73cc734358>,\n",
       " <keras.layers.convolutional.Conv2D at 0x7f73cc729e80>,\n",
       " <keras.layers.normalization.batch_normalization.BatchNormalization at 0x7f73cc704d30>,\n",
       " <keras.layers.core.Activation at 0x7f73cc729f98>,\n",
       " <keras.layers.convolutional.Conv2D at 0x7f73cc6d1128>,\n",
       " <keras.layers.normalization.batch_normalization.BatchNormalization at 0x7f73d4075828>,\n",
       " <keras.layers.core.Activation at 0x7f73cc6e8470>,\n",
       " <keras.layers.convolutional.Conv2D at 0x7f73cc7349b0>,\n",
       " <keras.layers.normalization.batch_normalization.BatchNormalization at 0x7f73cc781fd0>,\n",
       " <keras.layers.merge.Add at 0x7f73cc67a6d8>,\n",
       " <keras.layers.core.Activation at 0x7f73cc685400>,\n",
       " <keras.layers.convolutional.Conv2D at 0x7f73cc6f1828>,\n",
       " <keras.layers.normalization.batch_normalization.BatchNormalization at 0x7f73cc7341d0>,\n",
       " <keras.layers.core.Activation at 0x7f73cc6d1cc0>,\n",
       " <keras.layers.convolutional.Conv2D at 0x7f73cc6bcac8>,\n",
       " <keras.layers.normalization.batch_normalization.BatchNormalization at 0x7f73cc7047f0>,\n",
       " <keras.layers.core.Activation at 0x7f73cc7f6be0>,\n",
       " <keras.layers.convolutional.Conv2D at 0x7f73cc6f1dd8>,\n",
       " <keras.layers.convolutional.Conv2D at 0x7f73cc7adf28>,\n",
       " <keras.layers.normalization.batch_normalization.BatchNormalization at 0x7f73cc67a0b8>,\n",
       " <keras.layers.normalization.batch_normalization.BatchNormalization at 0x7f73cc67a278>,\n",
       " <keras.layers.merge.Add at 0x7f73cc7562e8>,\n",
       " <keras.layers.core.Activation at 0x7f73cc6a8b00>,\n",
       " <keras.layers.convolutional.Conv2D at 0x7f73cc67a978>,\n",
       " <keras.layers.normalization.batch_normalization.BatchNormalization at 0x7f73cc7563c8>,\n",
       " <keras.layers.core.Activation at 0x7f73cc63bba8>,\n",
       " <keras.layers.convolutional.Conv2D at 0x7f73cc6a87b8>,\n",
       " <keras.layers.normalization.batch_normalization.BatchNormalization at 0x7f73cc6df7b8>,\n",
       " <keras.layers.core.Activation at 0x7f73cc644710>,\n",
       " <keras.layers.convolutional.Conv2D at 0x7f73cc65e240>,\n",
       " <keras.layers.normalization.batch_normalization.BatchNormalization at 0x7f73cc781828>,\n",
       " <keras.layers.merge.Add at 0x7f73cc66cb70>,\n",
       " <keras.layers.core.Activation at 0x7f73cc608748>,\n",
       " <keras.layers.convolutional.Conv2D at 0x7f73cc65e208>,\n",
       " <keras.layers.normalization.batch_normalization.BatchNormalization at 0x7f73cc6084e0>,\n",
       " <keras.layers.core.Activation at 0x7f73cc608908>,\n",
       " <keras.layers.convolutional.Conv2D at 0x7f73cc60ae10>,\n",
       " <keras.layers.normalization.batch_normalization.BatchNormalization at 0x7f73cc608b70>,\n",
       " <keras.layers.core.Activation at 0x7f73cc60a1d0>,\n",
       " <keras.layers.convolutional.Conv2D at 0x7f73cc655780>,\n",
       " <keras.layers.normalization.batch_normalization.BatchNormalization at 0x7f73cc63b828>,\n",
       " <keras.layers.merge.Add at 0x7f73cc7562b0>,\n",
       " <keras.layers.core.Activation at 0x7f73cc7ada90>,\n",
       " <keras.layers.pooling.GlobalAveragePooling2D at 0x7f73d4055f98>]"
      ]
     },
     "execution_count": 12,
     "metadata": {},
     "output_type": "execute_result"
    }
   ],
   "source": [
    "model.layers[0].layers"
   ]
  },
  {
   "cell_type": "code",
   "execution_count": 13,
   "metadata": {
    "button": false,
    "new_sheet": false,
    "run_control": {
     "read_only": false
    }
   },
   "outputs": [],
   "source": [
    "model.layers[0].trainable = False"
   ]
  },
  {
   "cell_type": "code",
   "execution_count": 14,
   "metadata": {
    "button": false,
    "new_sheet": false,
    "run_control": {
     "read_only": false
    }
   },
   "outputs": [
    {
     "name": "stdout",
     "output_type": "stream",
     "text": [
      "Model: \"sequential\"\n",
      "_________________________________________________________________\n",
      "Layer (type)                 Output Shape              Param #   \n",
      "=================================================================\n",
      "resnet152 (Functional)       (None, 2048)              58370944  \n",
      "_________________________________________________________________\n",
      "dense (Dense)                (None, 2)                 4098      \n",
      "=================================================================\n",
      "Total params: 58,375,042\n",
      "Trainable params: 4,098\n",
      "Non-trainable params: 58,370,944\n",
      "_________________________________________________________________\n"
     ]
    }
   ],
   "source": [
    "model.summary()"
   ]
  },
  {
   "cell_type": "code",
   "execution_count": 15,
   "metadata": {
    "button": false,
    "new_sheet": false,
    "run_control": {
     "read_only": false
    }
   },
   "outputs": [],
   "source": [
    "model.compile(optimizer='adam', loss='categorical_crossentropy', metrics=['accuracy'])"
   ]
  },
  {
   "cell_type": "code",
   "execution_count": 16,
   "metadata": {
    "button": false,
    "new_sheet": false,
    "run_control": {
     "read_only": false
    }
   },
   "outputs": [],
   "source": [
    "steps_per_epoch_training = len(train_generator)\n",
    "steps_per_epoch_validation = len(validation_generator)\n",
    "num_epochs = 2"
   ]
  },
  {
   "cell_type": "code",
   "execution_count": 17,
   "metadata": {
    "button": false,
    "new_sheet": false,
    "run_control": {
     "read_only": false
    }
   },
   "outputs": [
    {
     "name": "stdout",
     "output_type": "stream",
     "text": [
      "Epoch 1/2\n",
      "25/25 [==============================] - 391s 15s/step - loss: 0.2697 - accuracy: 0.8850 - val_loss: 0.0553 - val_accuracy: 0.9808\n",
      "Epoch 2/2\n",
      "25/25 [==============================] - 371s 15s/step - loss: 0.0334 - accuracy: 0.9888 - val_loss: 0.0443 - val_accuracy: 0.9808\n"
     ]
    }
   ],
   "source": [
    "#fit_history = model.fit_generator(\n",
    "fit_history = model.fit(    \n",
    "    train_generator,\n",
    "    steps_per_epoch=steps_per_epoch_training,\n",
    "    epochs=num_epochs,\n",
    "    validation_data=validation_generator,\n",
    "    validation_steps=steps_per_epoch_validation,\n",
    "    verbose=1,\n",
    ")"
   ]
  },
  {
   "cell_type": "code",
   "execution_count": 18,
   "metadata": {
    "button": false,
    "new_sheet": false,
    "run_control": {
     "read_only": false
    }
   },
   "outputs": [
    {
     "name": "stderr",
     "output_type": "stream",
     "text": [
      "/home/alexandr/.local/lib/python3.6/site-packages/keras/utils/generic_utils.py:497: CustomMaskWarning: Custom mask layers require a config and must override get_config. When loading, the custom mask layer must be passed to the custom_objects argument.\n",
      "  category=CustomMaskWarning)\n"
     ]
    }
   ],
   "source": [
    "model.save('classifier_resnet_152_model.h5')"
   ]
  }
 ],
 "metadata": {
  "kernelspec": {
   "display_name": "Python 3",
   "language": "python",
   "name": "python3"
  },
  "language_info": {
   "codemirror_mode": {
    "name": "ipython",
    "version": 3
   },
   "file_extension": ".py",
   "mimetype": "text/x-python",
   "name": "python",
   "nbconvert_exporter": "python",
   "pygments_lexer": "ipython3",
   "version": "3.8.10"
  }
 },
 "nbformat": 4,
 "nbformat_minor": 4
}
