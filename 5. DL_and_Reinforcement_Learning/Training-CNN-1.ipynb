{
 "cells": [
  {
   "cell_type": "markdown",
   "id": "1eb02d11",
   "metadata": {},
   "source": [
    "<h1>Training CNN (examples = 3899, epochs = 15, no augmentation, activation = sigmoid)</h1>"
   ]
  },
  {
   "cell_type": "code",
   "execution_count": 1,
   "id": "1fec6e77",
   "metadata": {},
   "outputs": [],
   "source": [
    "import tensorflow as tf"
   ]
  },
  {
   "cell_type": "code",
   "execution_count": 2,
   "id": "e18c2f05",
   "metadata": {},
   "outputs": [],
   "source": [
    "model = tf.keras.models.Sequential([\n",
    "    # Note the input shape is the desired size of the image 300x300 with 3 bytes color\n",
    "    # This is the first convolution\n",
    "    tf.keras.layers.Conv2D(16, (3,3), activation='relu', input_shape=(256, 256, 3)),\n",
    "    tf.keras.layers.MaxPooling2D(2, 2),\n",
    "    # The second convolution\n",
    "    tf.keras.layers.Conv2D(32, (3,3), activation='relu'),\n",
    "    tf.keras.layers.MaxPooling2D(2,2),\n",
    "    # The third convolution\n",
    "    tf.keras.layers.Conv2D(64, (3,3), activation='relu'),\n",
    "    tf.keras.layers.MaxPooling2D(2,2),\n",
    "    # The fourth convolution\n",
    "    tf.keras.layers.Conv2D(64, (3,3), activation='relu'),\n",
    "    tf.keras.layers.MaxPooling2D(2,2),\n",
    "    # The fifth convolution\n",
    "    tf.keras.layers.Conv2D(64, (3,3), activation='relu'),\n",
    "    tf.keras.layers.MaxPooling2D(2,2),\n",
    "    # Flatten the results to feed into a DNN\n",
    "    tf.keras.layers.Flatten(),\n",
    "    # 512 neuron hidden layer\n",
    "    tf.keras.layers.Dense(512, activation='relu'),\n",
    "    # Only 1 output neuron. It will contain a value from 0-1 where 0 for 1 class ('horses') and 1 for the other ('humans')\n",
    "    tf.keras.layers.Dense(1, activation='sigmoid')\n",
    "])"
   ]
  },
  {
   "cell_type": "code",
   "execution_count": 3,
   "id": "c3d1fa3f",
   "metadata": {},
   "outputs": [
    {
     "name": "stderr",
     "output_type": "stream",
     "text": [
      "/home/alexandr/.local/lib/python3.6/site-packages/keras/optimizer_v2/optimizer_v2.py:356: UserWarning: The `lr` argument is deprecated, use `learning_rate` instead.\n",
      "  \"The `lr` argument is deprecated, use `learning_rate` instead.\")\n"
     ]
    }
   ],
   "source": [
    "from tensorflow.keras.optimizers import RMSprop\n",
    "\n",
    "model.compile(loss='binary_crossentropy',\n",
    "              optimizer=RMSprop(lr=0.001),\n",
    "              metrics=['acc'])"
   ]
  },
  {
   "cell_type": "code",
   "execution_count": 4,
   "id": "352fc85d",
   "metadata": {},
   "outputs": [
    {
     "name": "stdout",
     "output_type": "stream",
     "text": [
      "Found 3899 images belonging to 2 classes.\n",
      "Found 513 images belonging to 2 classes.\n"
     ]
    }
   ],
   "source": [
    "from tensorflow.keras.preprocessing.image import ImageDataGenerator\n",
    "\n",
    "# All images will be augmented\n",
    "train_datagen = ImageDataGenerator(\n",
    "      rescale=1./255,\n",
    ")\n",
    "\n",
    "# Flow training images in batches of 128 using train_datagen generator\n",
    "train_generator = train_datagen.flow_from_directory(\n",
    "        'horse2zebra/training',  # This is the source directory for training images\n",
    "        target_size=(256, 256),  # All images will be resized to 150x150\n",
    "        batch_size=128,\n",
    "        # Since we use binary_crossentropy loss, we need binary labels\n",
    "        class_mode='binary')\n",
    "\n",
    "validation_datagen = ImageDataGenerator(rescale=1/255)\n",
    "\n",
    "validation_generator = train_datagen.flow_from_directory(\n",
    "        'horse2zebra/validation',\n",
    "        target_size=(256, 256),\n",
    "        class_mode='binary')"
   ]
  },
  {
   "cell_type": "code",
   "execution_count": 5,
   "id": "bff0ec0e",
   "metadata": {},
   "outputs": [
    {
     "name": "stderr",
     "output_type": "stream",
     "text": [
      "/home/alexandr/.local/lib/python3.6/site-packages/keras/engine/training.py:1972: UserWarning: `Model.fit_generator` is deprecated and will be removed in a future version. Please use `Model.fit`, which supports generators.\n",
      "  warnings.warn('`Model.fit_generator` is deprecated and '\n"
     ]
    },
    {
     "name": "stdout",
     "output_type": "stream",
     "text": [
      "Epoch 1/15\n",
      "8/8 [==============================] - 49s 6s/step - loss: 0.7318 - acc: 0.5393 - val_loss: 0.6720 - val_acc: 0.5263\n",
      "Epoch 2/15\n",
      "8/8 [==============================] - 58s 7s/step - loss: 0.6857 - acc: 0.5801 - val_loss: 0.6515 - val_acc: 0.8207\n",
      "Epoch 3/15\n",
      "8/8 [==============================] - 45s 5s/step - loss: 0.6670 - acc: 0.7275 - val_loss: 0.5178 - val_acc: 0.7583\n",
      "Epoch 4/15\n",
      "8/8 [==============================] - 39s 5s/step - loss: 0.6040 - acc: 0.7285 - val_loss: 0.5162 - val_acc: 0.7368\n",
      "Epoch 5/15\n",
      "8/8 [==============================] - 53s 7s/step - loss: 0.4662 - acc: 0.7754 - val_loss: 0.4151 - val_acc: 0.8441\n",
      "Epoch 6/15\n",
      "8/8 [==============================] - 42s 5s/step - loss: 0.3745 - acc: 0.8223 - val_loss: 0.3181 - val_acc: 0.8635\n",
      "Epoch 7/15\n",
      "8/8 [==============================] - 45s 6s/step - loss: 0.3647 - acc: 0.8271 - val_loss: 0.3331 - val_acc: 0.8402\n",
      "Epoch 8/15\n",
      "8/8 [==============================] - 55s 7s/step - loss: 0.3566 - acc: 0.8320 - val_loss: 0.4200 - val_acc: 0.8012\n",
      "Epoch 9/15\n",
      "8/8 [==============================] - 56s 7s/step - loss: 0.3251 - acc: 0.8545 - val_loss: 0.3207 - val_acc: 0.8460\n",
      "Epoch 10/15\n",
      "8/8 [==============================] - 55s 7s/step - loss: 0.4197 - acc: 0.8174 - val_loss: 0.3590 - val_acc: 0.8187\n",
      "Epoch 11/15\n",
      "8/8 [==============================] - 49s 6s/step - loss: 0.2737 - acc: 0.8859 - val_loss: 0.6497 - val_acc: 0.7856\n",
      "Epoch 12/15\n",
      "8/8 [==============================] - 56s 7s/step - loss: 0.4796 - acc: 0.8154 - val_loss: 0.2436 - val_acc: 0.9045\n",
      "Epoch 13/15\n",
      "8/8 [==============================] - 56s 7s/step - loss: 0.2764 - acc: 0.8779 - val_loss: 0.2330 - val_acc: 0.9123\n",
      "Epoch 14/15\n",
      "8/8 [==============================] - 67s 9s/step - loss: 0.2719 - acc: 0.8770 - val_loss: 0.2294 - val_acc: 0.9162\n",
      "Epoch 15/15\n",
      "8/8 [==============================] - 40s 5s/step - loss: 0.3665 - acc: 0.8377 - val_loss: 0.2669 - val_acc: 0.8752\n"
     ]
    }
   ],
   "source": [
    "history = model.fit_generator(\n",
    "      train_generator,\n",
    "      steps_per_epoch=8,  \n",
    "      epochs=15,\n",
    "      verbose=1,\n",
    "      validation_data=validation_generator)"
   ]
  },
  {
   "cell_type": "code",
   "execution_count": 6,
   "id": "0d0f3ae2",
   "metadata": {},
   "outputs": [
    {
     "name": "stdout",
     "output_type": "stream",
     "text": [
      "Found 742 images belonging to 2 classes.\n"
     ]
    }
   ],
   "source": [
    "test_generator = train_datagen.flow_from_directory(\n",
    "    'horse2zebra/testing',\n",
    "#    target_size=(image_resize, image_resize),\n",
    "    shuffle=False)"
   ]
  },
  {
   "cell_type": "code",
   "execution_count": 7,
   "id": "f83724a4",
   "metadata": {},
   "outputs": [
    {
     "name": "stderr",
     "output_type": "stream",
     "text": [
      "/home/alexandr/.local/lib/python3.6/site-packages/keras/engine/training.py:2006: UserWarning: `Model.evaluate_generator` is deprecated and will be removed in a future version. Please use `Model.evaluate`, which supports generators.\n",
      "  warnings.warn('`Model.evaluate_generator` is deprecated and '\n"
     ]
    },
    {
     "name": "stdout",
     "output_type": "stream",
     "text": [
      "Loss =  1.5989593267440796\n",
      "Accuracy =  0.5\n"
     ]
    }
   ],
   "source": [
    "scores = model.evaluate_generator(test_generator,len(test_generator)) \n",
    "print(\"Loss = \", scores[0])\n",
    "print(\"Accuracy = \", scores[1])"
   ]
  },
  {
   "cell_type": "markdown",
   "id": "1612903b",
   "metadata": {},
   "source": [
    "| Model                                               | Loss     | Accuracy |\n",
    "|-----------------------------------------------------|----------|----------|\n",
    "| CNN (examples = 2401, epochs = 15, no augmentation) | 581.121338 | 0.5      |\n",
    "| CNN (examples = 3899, epochs = 15, no augmentation) | 310.087402 | 0.5      |"
   ]
  },
  {
   "cell_type": "code",
   "execution_count": 8,
   "id": "b0bb39a4",
   "metadata": {},
   "outputs": [],
   "source": [
    "model.save('classifier_CNN_model_1.h5')"
   ]
  },
  {
   "cell_type": "code",
   "execution_count": 9,
   "id": "45232a18",
   "metadata": {},
   "outputs": [],
   "source": [
    "testing_datagen = ImageDataGenerator()"
   ]
  },
  {
   "cell_type": "code",
   "execution_count": 10,
   "id": "e0e89d83",
   "metadata": {},
   "outputs": [
    {
     "name": "stdout",
     "output_type": "stream",
     "text": [
      "Found 742 images belonging to 2 classes.\n"
     ]
    }
   ],
   "source": [
    "test_generator = testing_datagen.flow_from_directory(\n",
    "    'horse2zebra/testing',\n",
    "#    target_size=(image_resize, image_resize),\n",
    "    shuffle=False)"
   ]
  },
  {
   "cell_type": "code",
   "execution_count": 11,
   "id": "1a7c52e7",
   "metadata": {},
   "outputs": [
    {
     "name": "stdout",
     "output_type": "stream",
     "text": [
      "Loss =  310.08740234375\n",
      "Accuracy =  0.5\n"
     ]
    }
   ],
   "source": [
    "scores = model.evaluate_generator(test_generator,len(test_generator)) \n",
    "print(\"Loss = \", scores[0])\n",
    "print(\"Accuracy = \", scores[1])"
   ]
  },
  {
   "cell_type": "code",
   "execution_count": null,
   "id": "107449cd",
   "metadata": {},
   "outputs": [],
   "source": []
  }
 ],
 "metadata": {
  "kernelspec": {
   "display_name": "Python 3",
   "language": "python",
   "name": "python3"
  },
  "language_info": {
   "codemirror_mode": {
    "name": "ipython",
    "version": 3
   },
   "file_extension": ".py",
   "mimetype": "text/x-python",
   "name": "python",
   "nbconvert_exporter": "python",
   "pygments_lexer": "ipython3",
   "version": "3.8.10"
  }
 },
 "nbformat": 4,
 "nbformat_minor": 5
}
