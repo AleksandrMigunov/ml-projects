{
 "cells": [
  {
   "cell_type": "markdown",
   "metadata": {},
   "source": [
    "<h1>Pre-Trained Model ResNet101</h1>"
   ]
  },
  {
   "cell_type": "code",
   "execution_count": 1,
   "metadata": {
    "button": false,
    "new_sheet": false,
    "run_control": {
     "read_only": false
    }
   },
   "outputs": [],
   "source": [
    "from tensorflow.keras.preprocessing.image import ImageDataGenerator"
   ]
  },
  {
   "cell_type": "code",
   "execution_count": 2,
   "metadata": {
    "button": false,
    "new_sheet": false,
    "run_control": {
     "read_only": false
    }
   },
   "outputs": [],
   "source": [
    "import tensorflow.keras\n",
    "from tensorflow.keras.models import Sequential\n",
    "from tensorflow.keras.layers import Dense"
   ]
  },
  {
   "cell_type": "code",
   "execution_count": 5,
   "metadata": {
    "button": false,
    "new_sheet": false,
    "run_control": {
     "read_only": false
    }
   },
   "outputs": [],
   "source": [
    "from tensorflow.keras.applications.resnet import ResNet101\n",
    "from tensorflow.keras.applications.resnet import preprocess_input"
   ]
  },
  {
   "cell_type": "code",
   "execution_count": 6,
   "metadata": {
    "button": false,
    "new_sheet": false,
    "run_control": {
     "read_only": false
    }
   },
   "outputs": [],
   "source": [
    "num_classes = 2\n",
    "\n",
    "image_resize = 224\n",
    "\n",
    "batch_size_training = 100\n",
    "batch_size_validation = 100"
   ]
  },
  {
   "cell_type": "code",
   "execution_count": 7,
   "metadata": {
    "button": false,
    "new_sheet": false,
    "run_control": {
     "read_only": false
    }
   },
   "outputs": [],
   "source": [
    "data_generator = ImageDataGenerator(\n",
    "    preprocessing_function=preprocess_input,\n",
    ")"
   ]
  },
  {
   "cell_type": "code",
   "execution_count": 8,
   "metadata": {
    "button": false,
    "new_sheet": false,
    "run_control": {
     "read_only": false
    }
   },
   "outputs": [
    {
     "name": "stdout",
     "output_type": "stream",
     "text": [
      "Found 2401 images belonging to 2 classes.\n"
     ]
    }
   ],
   "source": [
    "train_generator = data_generator.flow_from_directory(\n",
    "    'horse2zebra/train',\n",
    "    target_size=(image_resize, image_resize),\n",
    "    batch_size=batch_size_training,\n",
    "    class_mode='categorical')"
   ]
  },
  {
   "cell_type": "code",
   "execution_count": 9,
   "metadata": {
    "button": false,
    "new_sheet": false,
    "run_control": {
     "read_only": false
    }
   },
   "outputs": [
    {
     "name": "stdout",
     "output_type": "stream",
     "text": [
      "Found 260 images belonging to 2 classes.\n"
     ]
    }
   ],
   "source": [
    "validation_generator = data_generator.flow_from_directory(\n",
    "    'horse2zebra/test',\n",
    "    target_size=(image_resize, image_resize),\n",
    "    batch_size=batch_size_validation,\n",
    "    class_mode='categorical')"
   ]
  },
  {
   "cell_type": "code",
   "execution_count": 10,
   "metadata": {
    "button": false,
    "new_sheet": false,
    "run_control": {
     "read_only": false
    }
   },
   "outputs": [],
   "source": [
    "model = Sequential()"
   ]
  },
  {
   "cell_type": "code",
   "execution_count": 11,
   "metadata": {
    "button": false,
    "new_sheet": false,
    "run_control": {
     "read_only": false
    }
   },
   "outputs": [
    {
     "name": "stdout",
     "output_type": "stream",
     "text": [
      "Downloading data from https://storage.googleapis.com/tensorflow/keras-applications/resnet/resnet101_weights_tf_dim_ordering_tf_kernels_notop.h5\n",
      "171450368/171446536 [==============================] - 30s 0us/step\n",
      "171458560/171446536 [==============================] - 30s 0us/step\n"
     ]
    }
   ],
   "source": [
    "model.add(ResNet101(\n",
    "    include_top=False,\n",
    "    pooling='avg',\n",
    "    weights='imagenet',\n",
    "    ))"
   ]
  },
  {
   "cell_type": "code",
   "execution_count": 12,
   "metadata": {
    "button": false,
    "new_sheet": false,
    "run_control": {
     "read_only": false
    }
   },
   "outputs": [],
   "source": [
    "model.add(Dense(num_classes, activation='softmax'))"
   ]
  },
  {
   "cell_type": "code",
   "execution_count": 13,
   "metadata": {
    "button": false,
    "new_sheet": false,
    "run_control": {
     "read_only": false
    }
   },
   "outputs": [
    {
     "data": {
      "text/plain": [
       "[<keras.engine.functional.Functional at 0x7fae9431ea20>,\n",
       " <keras.layers.core.Dense at 0x7faeb7b7a828>]"
      ]
     },
     "execution_count": 13,
     "metadata": {},
     "output_type": "execute_result"
    }
   ],
   "source": [
    "model.layers"
   ]
  },
  {
   "cell_type": "code",
   "execution_count": 14,
   "metadata": {
    "button": false,
    "new_sheet": false,
    "run_control": {
     "read_only": false
    },
    "scrolled": true
   },
   "outputs": [
    {
     "data": {
      "text/plain": [
       "[<keras.engine.input_layer.InputLayer at 0x7faf683227f0>,\n",
       " <keras.layers.convolutional.ZeroPadding2D at 0x7faeb420ca58>,\n",
       " <keras.layers.convolutional.Conv2D at 0x7faeb420cbe0>,\n",
       " <keras.layers.normalization.batch_normalization.BatchNormalization at 0x7faeb41ec048>,\n",
       " <keras.layers.core.Activation at 0x7faeb41a4860>,\n",
       " <keras.layers.convolutional.ZeroPadding2D at 0x7faeb4149c18>,\n",
       " <keras.layers.pooling.MaxPooling2D at 0x7faeb4153780>,\n",
       " <keras.layers.convolutional.Conv2D at 0x7faeb41620f0>,\n",
       " <keras.layers.normalization.batch_normalization.BatchNormalization at 0x7faeb415d898>,\n",
       " <keras.layers.core.Activation at 0x7faeb40fb2b0>,\n",
       " <keras.layers.convolutional.Conv2D at 0x7faeb4102d68>,\n",
       " <keras.layers.normalization.batch_normalization.BatchNormalization at 0x7faeb41134e0>,\n",
       " <keras.layers.core.Activation at 0x7faeb4113b00>,\n",
       " <keras.layers.convolutional.Conv2D at 0x7faeb415d240>,\n",
       " <keras.layers.convolutional.Conv2D at 0x7faeb411bd68>,\n",
       " <keras.layers.normalization.batch_normalization.BatchNormalization at 0x7faeb415dc18>,\n",
       " <keras.layers.normalization.batch_normalization.BatchNormalization at 0x7faeb40b3438>,\n",
       " <keras.layers.merge.Add at 0x7faeb40b3278>,\n",
       " <keras.layers.core.Activation at 0x7faeb40caf60>,\n",
       " <keras.layers.convolutional.Conv2D at 0x7faeb40caeb8>,\n",
       " <keras.layers.normalization.batch_normalization.BatchNormalization at 0x7faeb40d7c18>,\n",
       " <keras.layers.core.Activation at 0x7faeb40ca7f0>,\n",
       " <keras.layers.convolutional.Conv2D at 0x7faeb4121240>,\n",
       " <keras.layers.normalization.batch_normalization.BatchNormalization at 0x7faeb4121f28>,\n",
       " <keras.layers.core.Activation at 0x7faeb40b3518>,\n",
       " <keras.layers.convolutional.Conv2D at 0x7faeb4113358>,\n",
       " <keras.layers.normalization.batch_normalization.BatchNormalization at 0x7faeb416afd0>,\n",
       " <keras.layers.merge.Add at 0x7faeb416a908>,\n",
       " <keras.layers.core.Activation at 0x7faeb40debe0>,\n",
       " <keras.layers.convolutional.Conv2D at 0x7faeb40decf8>,\n",
       " <keras.layers.normalization.batch_normalization.BatchNormalization at 0x7faeb4137d68>,\n",
       " <keras.layers.core.Activation at 0x7faeb40dec88>,\n",
       " <keras.layers.convolutional.Conv2D at 0x7faeb4070f60>,\n",
       " <keras.layers.normalization.batch_normalization.BatchNormalization at 0x7faeb4084ac8>,\n",
       " <keras.layers.core.Activation at 0x7faeb408a0f0>,\n",
       " <keras.layers.convolutional.Conv2D at 0x7faeb4092d68>,\n",
       " <keras.layers.normalization.batch_normalization.BatchNormalization at 0x7faeb40a9908>,\n",
       " <keras.layers.merge.Add at 0x7faeb40a3c88>,\n",
       " <keras.layers.core.Activation at 0x7faeb4038c88>,\n",
       " <keras.layers.convolutional.Conv2D at 0x7faeb403e240>,\n",
       " <keras.layers.normalization.batch_normalization.BatchNormalization at 0x7faeb4038780>,\n",
       " <keras.layers.core.Activation at 0x7faeb4058470>,\n",
       " <keras.layers.convolutional.Conv2D at 0x7faeb406aeb8>,\n",
       " <keras.layers.normalization.batch_normalization.BatchNormalization at 0x7faeb406a278>,\n",
       " <keras.layers.core.Activation at 0x7faeb4054208>,\n",
       " <keras.layers.convolutional.Conv2D at 0x7faeb40387b8>,\n",
       " <keras.layers.convolutional.Conv2D at 0x7faeb4054278>,\n",
       " <keras.layers.normalization.batch_normalization.BatchNormalization at 0x7faeb40925f8>,\n",
       " <keras.layers.normalization.batch_normalization.BatchNormalization at 0x7faeb40a3b70>,\n",
       " <keras.layers.merge.Add at 0x7faeb404b438>,\n",
       " <keras.layers.core.Activation at 0x7faeb4079630>,\n",
       " <keras.layers.convolutional.Conv2D at 0x7faeb4079a58>,\n",
       " <keras.layers.normalization.batch_normalization.BatchNormalization at 0x7faeb40845f8>,\n",
       " <keras.layers.core.Activation at 0x7faeb40de710>,\n",
       " <keras.layers.convolutional.Conv2D at 0x7faeb4162c18>,\n",
       " <keras.layers.normalization.batch_normalization.BatchNormalization at 0x7faeb40bb9e8>,\n",
       " <keras.layers.core.Activation at 0x7faeb40b76d8>,\n",
       " <keras.layers.convolutional.Conv2D at 0x7fae947d0da0>,\n",
       " <keras.layers.normalization.batch_normalization.BatchNormalization at 0x7fae947e8eb8>,\n",
       " <keras.layers.merge.Add at 0x7fae947e2a90>,\n",
       " <keras.layers.core.Activation at 0x7fae947f8da0>,\n",
       " <keras.layers.convolutional.Conv2D at 0x7fae947f85f8>,\n",
       " <keras.layers.normalization.batch_normalization.BatchNormalization at 0x7fae947eff28>,\n",
       " <keras.layers.core.Activation at 0x7fae9477e128>,\n",
       " <keras.layers.convolutional.Conv2D at 0x7fae9477ecf8>,\n",
       " <keras.layers.normalization.batch_normalization.BatchNormalization at 0x7fae94794e48>,\n",
       " <keras.layers.core.Activation at 0x7fae9479a9b0>,\n",
       " <keras.layers.convolutional.Conv2D at 0x7fae947a2f28>,\n",
       " <keras.layers.normalization.batch_normalization.BatchNormalization at 0x7fae947399e8>,\n",
       " <keras.layers.merge.Add at 0x7fae947392b0>,\n",
       " <keras.layers.core.Activation at 0x7fae94794da0>,\n",
       " <keras.layers.convolutional.Conv2D at 0x7fae94794be0>,\n",
       " <keras.layers.normalization.batch_normalization.BatchNormalization at 0x7fae947a2860>,\n",
       " <keras.layers.core.Activation at 0x7fae947a2320>,\n",
       " <keras.layers.convolutional.Conv2D at 0x7fae947ef208>,\n",
       " <keras.layers.normalization.batch_normalization.BatchNormalization at 0x7fae947d9d30>,\n",
       " <keras.layers.core.Activation at 0x7fae947d99e8>,\n",
       " <keras.layers.convolutional.Conv2D at 0x7faeb410d5c0>,\n",
       " <keras.layers.normalization.batch_normalization.BatchNormalization at 0x7faeb403e978>,\n",
       " <keras.layers.merge.Add at 0x7faeb40a9e80>,\n",
       " <keras.layers.core.Activation at 0x7faeb4058d68>,\n",
       " <keras.layers.convolutional.Conv2D at 0x7fae9475e1d0>,\n",
       " <keras.layers.normalization.batch_normalization.BatchNormalization at 0x7fae947692b0>,\n",
       " <keras.layers.core.Activation at 0x7fae94777470>,\n",
       " <keras.layers.convolutional.Conv2D at 0x7fae94707d68>,\n",
       " <keras.layers.normalization.batch_normalization.BatchNormalization at 0x7fae94707780>,\n",
       " <keras.layers.core.Activation at 0x7fae947094a8>,\n",
       " <keras.layers.convolutional.Conv2D at 0x7fae9475ada0>,\n",
       " <keras.layers.convolutional.Conv2D at 0x7fae947097f0>,\n",
       " <keras.layers.normalization.batch_normalization.BatchNormalization at 0x7fae94742e48>,\n",
       " <keras.layers.normalization.batch_normalization.BatchNormalization at 0x7fae94725c88>,\n",
       " <keras.layers.merge.Add at 0x7fae9472b438>,\n",
       " <keras.layers.core.Activation at 0x7fae946ba908>,\n",
       " <keras.layers.convolutional.Conv2D at 0x7fae946baac8>,\n",
       " <keras.layers.normalization.batch_normalization.BatchNormalization at 0x7fae9472b048>,\n",
       " <keras.layers.core.Activation at 0x7fae94725dd8>,\n",
       " <keras.layers.convolutional.Conv2D at 0x7fae94709908>,\n",
       " <keras.layers.normalization.batch_normalization.BatchNormalization at 0x7fae947771d0>,\n",
       " <keras.layers.core.Activation at 0x7fae94709b70>,\n",
       " <keras.layers.convolutional.Conv2D at 0x7faeb4070860>,\n",
       " <keras.layers.normalization.batch_normalization.BatchNormalization at 0x7fae947e2fd0>,\n",
       " <keras.layers.merge.Add at 0x7fae947b99b0>,\n",
       " <keras.layers.core.Activation at 0x7fae947944a8>,\n",
       " <keras.layers.convolutional.Conv2D at 0x7fae946c2278>,\n",
       " <keras.layers.normalization.batch_normalization.BatchNormalization at 0x7fae947aa7b8>,\n",
       " <keras.layers.core.Activation at 0x7fae946d3320>,\n",
       " <keras.layers.convolutional.Conv2D at 0x7fae946d3b38>,\n",
       " <keras.layers.normalization.batch_normalization.BatchNormalization at 0x7fae946e6cf8>,\n",
       " <keras.layers.core.Activation at 0x7fae946ed860>,\n",
       " <keras.layers.convolutional.Conv2D at 0x7fae946f4ac8>,\n",
       " <keras.layers.normalization.batch_normalization.BatchNormalization at 0x7fae94681d30>,\n",
       " <keras.layers.merge.Add at 0x7fae94681470>,\n",
       " <keras.layers.core.Activation at 0x7fae9469ec88>,\n",
       " <keras.layers.convolutional.Conv2D at 0x7fae9469ed30>,\n",
       " <keras.layers.normalization.batch_normalization.BatchNormalization at 0x7fae946a6438>,\n",
       " <keras.layers.core.Activation at 0x7fae946a6780>,\n",
       " <keras.layers.convolutional.Conv2D at 0x7fae946ae9b0>,\n",
       " <keras.layers.normalization.batch_normalization.BatchNormalization at 0x7fae9463b160>,\n",
       " <keras.layers.core.Activation at 0x7fae946ae470>,\n",
       " <keras.layers.convolutional.Conv2D at 0x7fae94696358>,\n",
       " <keras.layers.normalization.batch_normalization.BatchNormalization at 0x7fae946e6358>,\n",
       " <keras.layers.merge.Add at 0x7fae946edd30>,\n",
       " <keras.layers.core.Activation at 0x7faeb4079a20>,\n",
       " <keras.layers.convolutional.Conv2D at 0x7fae947d9c88>,\n",
       " <keras.layers.normalization.batch_normalization.BatchNormalization at 0x7fae947b9c50>,\n",
       " <keras.layers.core.Activation at 0x7fae94769780>,\n",
       " <keras.layers.convolutional.Conv2D at 0x7fae946dd710>,\n",
       " <keras.layers.normalization.batch_normalization.BatchNormalization at 0x7fae94734400>,\n",
       " <keras.layers.core.Activation at 0x7fae94641518>,\n",
       " <keras.layers.convolutional.Conv2D at 0x7fae94654fd0>,\n",
       " <keras.layers.normalization.batch_normalization.BatchNormalization at 0x7fae9466add8>,\n",
       " <keras.layers.merge.Add at 0x7fae9466a518>,\n",
       " <keras.layers.core.Activation at 0x7fae945fac50>,\n",
       " <keras.layers.convolutional.Conv2D at 0x7fae945fa978>,\n",
       " <keras.layers.normalization.batch_normalization.BatchNormalization at 0x7fae94604668>,\n",
       " <keras.layers.core.Activation at 0x7fae94604940>,\n",
       " <keras.layers.convolutional.Conv2D at 0x7fae9460ba58>,\n",
       " <keras.layers.normalization.batch_normalization.BatchNormalization at 0x7fae9460be48>,\n",
       " <keras.layers.core.Activation at 0x7fae9461d860>,\n",
       " <keras.layers.convolutional.Conv2D at 0x7fae94621be0>,\n",
       " <keras.layers.normalization.batch_normalization.BatchNormalization at 0x7fae945bf278>,\n",
       " <keras.layers.merge.Add at 0x7fae945bfef0>,\n",
       " <keras.layers.core.Activation at 0x7fae9461dcf8>,\n",
       " <keras.layers.convolutional.Conv2D at 0x7fae9461d198>,\n",
       " <keras.layers.normalization.batch_normalization.BatchNormalization at 0x7fae945bf630>,\n",
       " <keras.layers.core.Activation at 0x7fae9460b128>,\n",
       " <keras.layers.convolutional.Conv2D at 0x7fae94671550>,\n",
       " <keras.layers.normalization.batch_normalization.BatchNormalization at 0x7fae94654438>,\n",
       " <keras.layers.core.Activation at 0x7fae9465a4a8>,\n",
       " <keras.layers.convolutional.Conv2D at 0x7fae947776a0>,\n",
       " <keras.layers.normalization.batch_normalization.BatchNormalization at 0x7fae946ed9e8>,\n",
       " <keras.layers.merge.Add at 0x7fae9467bba8>,\n",
       " <keras.layers.core.Activation at 0x7fae945d8cf8>,\n",
       " <keras.layers.convolutional.Conv2D at 0x7fae945d8be0>,\n",
       " <keras.layers.normalization.batch_normalization.BatchNormalization at 0x7fae945e14a8>,\n",
       " <keras.layers.core.Activation at 0x7fae945e1f28>,\n",
       " <keras.layers.convolutional.Conv2D at 0x7fae945ea908>,\n",
       " <keras.layers.normalization.batch_normalization.BatchNormalization at 0x7fae945ea710>,\n",
       " <keras.layers.core.Activation at 0x7fae9457a748>,\n",
       " <keras.layers.convolutional.Conv2D at 0x7fae94581c88>,\n",
       " <keras.layers.normalization.batch_normalization.BatchNormalization at 0x7fae94590ef0>,\n",
       " <keras.layers.merge.Add at 0x7fae94598b38>,\n",
       " <keras.layers.core.Activation at 0x7fae945a6160>,\n",
       " <keras.layers.convolutional.Conv2D at 0x7fae945a6eb8>,\n",
       " <keras.layers.normalization.batch_normalization.BatchNormalization at 0x7fae945af6d8>,\n",
       " <keras.layers.core.Activation at 0x7fae945af908>,\n",
       " <keras.layers.convolutional.Conv2D at 0x7fae945b79e8>,\n",
       " <keras.layers.normalization.batch_normalization.BatchNormalization at 0x7faeb40b39e8>,\n",
       " <keras.layers.core.Activation at 0x7faeb420cf28>,\n",
       " <keras.layers.convolutional.Conv2D at 0x7faeb4121860>,\n",
       " <keras.layers.normalization.batch_normalization.BatchNormalization at 0x7faeb403e278>,\n",
       " <keras.layers.merge.Add at 0x7fae947195f8>,\n",
       " <keras.layers.core.Activation at 0x7faeb415da20>,\n",
       " <keras.layers.convolutional.Conv2D at 0x7fae947a2198>,\n",
       " <keras.layers.normalization.batch_normalization.BatchNormalization at 0x7fae94777b00>,\n",
       " <keras.layers.core.Activation at 0x7faeb408acf8>,\n",
       " <keras.layers.convolutional.Conv2D at 0x7fae945983c8>,\n",
       " <keras.layers.normalization.batch_normalization.BatchNormalization at 0x7fae945b7e10>,\n",
       " <keras.layers.core.Activation at 0x7fae945a6e10>,\n",
       " <keras.layers.convolutional.Conv2D at 0x7fae946babe0>,\n",
       " <keras.layers.normalization.batch_normalization.BatchNormalization at 0x7faeb40ca5f8>,\n",
       " <keras.layers.merge.Add at 0x7faeb40dee10>,\n",
       " <keras.layers.core.Activation at 0x7faeb41ece48>,\n",
       " <keras.layers.convolutional.Conv2D at 0x7faeb41eca58>,\n",
       " <keras.layers.normalization.batch_normalization.BatchNormalization at 0x7faeb406aba8>,\n",
       " <keras.layers.core.Activation at 0x7fae9457af28>,\n",
       " <keras.layers.convolutional.Conv2D at 0x7fae9457ac18>,\n",
       " <keras.layers.normalization.batch_normalization.BatchNormalization at 0x7fae945e1a20>,\n",
       " <keras.layers.core.Activation at 0x7fae945d8978>,\n",
       " <keras.layers.convolutional.Conv2D at 0x7fae9469e9e8>,\n",
       " <keras.layers.normalization.batch_normalization.BatchNormalization at 0x7fae946ddf28>,\n",
       " <keras.layers.merge.Add at 0x7fae947aaf60>,\n",
       " <keras.layers.core.Activation at 0x7fae9469eba8>,\n",
       " <keras.layers.convolutional.Conv2D at 0x7fae945d8080>,\n",
       " <keras.layers.normalization.batch_normalization.BatchNormalization at 0x7faeb416c860>,\n",
       " <keras.layers.core.Activation at 0x7fae945f5b00>,\n",
       " <keras.layers.convolutional.Conv2D at 0x7fae945811d0>,\n",
       " <keras.layers.normalization.batch_normalization.BatchNormalization at 0x7fae947396d8>,\n",
       " <keras.layers.core.Activation at 0x7fae947420b8>,\n",
       " <keras.layers.convolutional.Conv2D at 0x7fae945af828>,\n",
       " <keras.layers.normalization.batch_normalization.BatchNormalization at 0x7faeb403e6d8>,\n",
       " <keras.layers.merge.Add at 0x7fae947d9080>,\n",
       " <keras.layers.core.Activation at 0x7fae94734a58>,\n",
       " <keras.layers.convolutional.Conv2D at 0x7faeb40793c8>,\n",
       " <keras.layers.normalization.batch_normalization.BatchNormalization at 0x7fae9479add8>,\n",
       " <keras.layers.core.Activation at 0x7fae94604320>,\n",
       " <keras.layers.convolutional.Conv2D at 0x7fae94654668>,\n",
       " <keras.layers.normalization.batch_normalization.BatchNormalization at 0x7fae94663f28>,\n",
       " <keras.layers.core.Activation at 0x7fae9466af98>,\n",
       " <keras.layers.convolutional.Conv2D at 0x7fae94621c18>,\n",
       " <keras.layers.normalization.batch_normalization.BatchNormalization at 0x7fae94636668>,\n",
       " <keras.layers.merge.Add at 0x7fae944cf1d0>,\n",
       " <keras.layers.core.Activation at 0x7fae944dfc18>,\n",
       " <keras.layers.convolutional.Conv2D at 0x7fae944df898>,\n",
       " <keras.layers.normalization.batch_normalization.BatchNormalization at 0x7fae944e75c0>,\n",
       " <keras.layers.core.Activation at 0x7fae944e7dd8>,\n",
       " <keras.layers.convolutional.Conv2D at 0x7fae944ef978>,\n",
       " <keras.layers.normalization.batch_normalization.BatchNormalization at 0x7fae946364e0>,\n",
       " <keras.layers.core.Activation at 0x7fae9461de10>,\n",
       " <keras.layers.convolutional.Conv2D at 0x7fae9465a978>,\n",
       " <keras.layers.normalization.batch_normalization.BatchNormalization at 0x7faeb40924e0>,\n",
       " <keras.layers.merge.Add at 0x7fae94590550>,\n",
       " <keras.layers.core.Activation at 0x7fae946ed6a0>,\n",
       " <keras.layers.convolutional.Conv2D at 0x7fae945d8400>,\n",
       " <keras.layers.normalization.batch_normalization.BatchNormalization at 0x7fae946a6710>,\n",
       " <keras.layers.core.Activation at 0x7fae946ba8d0>,\n",
       " <keras.layers.convolutional.Conv2D at 0x7fae9447af28>,\n",
       " <keras.layers.normalization.batch_normalization.BatchNormalization at 0x7fae9447a438>,\n",
       " <keras.layers.core.Activation at 0x7fae94494710>,\n",
       " <keras.layers.convolutional.Conv2D at 0x7fae9449cac8>,\n",
       " <keras.layers.normalization.batch_normalization.BatchNormalization at 0x7fae944b7080>,\n",
       " <keras.layers.merge.Add at 0x7fae944b76a0>,\n",
       " <keras.layers.core.Activation at 0x7fae94443748>,\n",
       " <keras.layers.convolutional.Conv2D at 0x7fae94443d68>,\n",
       " <keras.layers.normalization.batch_normalization.BatchNormalization at 0x7fae9444bda0>,\n",
       " <keras.layers.core.Activation at 0x7fae94443518>,\n",
       " <keras.layers.convolutional.Conv2D at 0x7fae94453f28>,\n",
       " <keras.layers.normalization.batch_normalization.BatchNormalization at 0x7fae944677b8>,\n",
       " <keras.layers.core.Activation at 0x7fae94474898>,\n",
       " <keras.layers.convolutional.Conv2D at 0x7fae94474160>,\n",
       " <keras.layers.normalization.batch_normalization.BatchNormalization at 0x7fae9445d9b0>,\n",
       " <keras.layers.merge.Add at 0x7fae944b7c88>,\n",
       " <keras.layers.core.Activation at 0x7fae944b7cf8>,\n",
       " <keras.layers.convolutional.Conv2D at 0x7fae944a1d68>,\n",
       " <keras.layers.normalization.batch_normalization.BatchNormalization at 0x7fae9449c3c8>,\n",
       " <keras.layers.core.Activation at 0x7fae9448b4e0>,\n",
       " <keras.layers.convolutional.Conv2D at 0x7fae94739828>,\n",
       " <keras.layers.normalization.batch_normalization.BatchNormalization at 0x7fae946542b0>,\n",
       " <keras.layers.core.Activation at 0x7fae94641e48>,\n",
       " <keras.layers.convolutional.Conv2D at 0x7fae943fefd0>,\n",
       " <keras.layers.normalization.batch_normalization.BatchNormalization at 0x7fae943fe438>,\n",
       " <keras.layers.merge.Add at 0x7fae9441a6d8>,\n",
       " <keras.layers.core.Activation at 0x7fae9441af98>,\n",
       " <keras.layers.convolutional.Conv2D at 0x7fae94421828>,\n",
       " <keras.layers.normalization.batch_normalization.BatchNormalization at 0x7fae9442a908>,\n",
       " <keras.layers.core.Activation at 0x7fae94421e10>,\n",
       " <keras.layers.convolutional.Conv2D at 0x7fae94430b70>,\n",
       " <keras.layers.normalization.batch_normalization.BatchNormalization at 0x7fae943cc1d0>,\n",
       " <keras.layers.core.Activation at 0x7fae943cc5c0>,\n",
       " <keras.layers.convolutional.Conv2D at 0x7fae943dbeb8>,\n",
       " <keras.layers.normalization.batch_normalization.BatchNormalization at 0x7fae943dba90>,\n",
       " <keras.layers.merge.Add at 0x7fae943e69b0>,\n",
       " <keras.layers.core.Activation at 0x7fae943ec550>,\n",
       " <keras.layers.convolutional.Conv2D at 0x7fae943f3c88>,\n",
       " <keras.layers.normalization.batch_normalization.BatchNormalization at 0x7fae9437cd68>,\n",
       " <keras.layers.core.Activation at 0x7fae943f3710>,\n",
       " <keras.layers.convolutional.Conv2D at 0x7fae943cc048>,\n",
       " <keras.layers.normalization.batch_normalization.BatchNormalization at 0x7fae9442aa58>,\n",
       " <keras.layers.core.Activation at 0x7fae94430198>,\n",
       " <keras.layers.convolutional.Conv2D at 0x7fae94641a58>,\n",
       " <keras.layers.normalization.batch_normalization.BatchNormalization at 0x7fae9459f668>,\n",
       " <keras.layers.merge.Add at 0x7fae94410c88>,\n",
       " <keras.layers.core.Activation at 0x7fae9448b588>,\n",
       " <keras.layers.convolutional.Conv2D at 0x7fae9444b860>,\n",
       " <keras.layers.normalization.batch_normalization.BatchNormalization at 0x7fae9448b550>,\n",
       " <keras.layers.core.Activation at 0x7fae943825f8>,\n",
       " <keras.layers.convolutional.Conv2D at 0x7fae94398860>,\n",
       " <keras.layers.normalization.batch_normalization.BatchNormalization at 0x7fae943afc18>,\n",
       " <keras.layers.core.Activation at 0x7fae943a8e10>,\n",
       " <keras.layers.convolutional.Conv2D at 0x7fae9433fe10>,\n",
       " <keras.layers.normalization.batch_normalization.BatchNormalization at 0x7fae9433f0f0>,\n",
       " <keras.layers.merge.Add at 0x7fae943485f8>,\n",
       " <keras.layers.core.Activation at 0x7fae94348278>,\n",
       " <keras.layers.convolutional.Conv2D at 0x7fae9435b588>,\n",
       " <keras.layers.normalization.batch_normalization.BatchNormalization at 0x7fae9435d748>,\n",
       " <keras.layers.core.Activation at 0x7fae9435d668>,\n",
       " <keras.layers.convolutional.Conv2D at 0x7fae943699b0>,\n",
       " <keras.layers.normalization.batch_normalization.BatchNormalization at 0x7fae943026a0>,\n",
       " <keras.layers.core.Activation at 0x7fae94302400>,\n",
       " <keras.layers.convolutional.Conv2D at 0x7fae9435bba8>,\n",
       " <keras.layers.normalization.batch_normalization.BatchNormalization at 0x7fae9435d7b8>,\n",
       " <keras.layers.merge.Add at 0x7fae94348d30>,\n",
       " <keras.layers.core.Activation at 0x7fae94348b00>,\n",
       " <keras.layers.convolutional.Conv2D at 0x7fae943afeb8>,\n",
       " <keras.layers.normalization.batch_normalization.BatchNormalization at 0x7fae943a05f8>,\n",
       " <keras.layers.core.Activation at 0x7fae94398198>,\n",
       " <keras.layers.convolutional.Conv2D at 0x7fae94382a90>,\n",
       " <keras.layers.normalization.batch_normalization.BatchNormalization at 0x7fae943ba550>,\n",
       " <keras.layers.core.Activation at 0x7fae943c53c8>,\n",
       " <keras.layers.convolutional.Conv2D at 0x7fae94382c88>,\n",
       " <keras.layers.normalization.batch_normalization.BatchNormalization at 0x7fae9431e2b0>,\n",
       " <keras.layers.merge.Add at 0x7fae9432f5c0>,\n",
       " <keras.layers.core.Activation at 0x7fae9432fef0>,\n",
       " <keras.layers.convolutional.Conv2D at 0x7fae942bb710>,\n",
       " <keras.layers.normalization.batch_normalization.BatchNormalization at 0x7fae942c07f0>,\n",
       " <keras.layers.core.Activation at 0x7fae942c0b70>,\n",
       " <keras.layers.convolutional.Conv2D at 0x7fae942c4a58>,\n",
       " <keras.layers.normalization.batch_normalization.BatchNormalization at 0x7fae942d9f60>,\n",
       " <keras.layers.core.Activation at 0x7fae942dea20>,\n",
       " <keras.layers.convolutional.Conv2D at 0x7fae942eedd8>,\n",
       " <keras.layers.normalization.batch_normalization.BatchNormalization at 0x7fae942ee978>,\n",
       " <keras.layers.merge.Add at 0x7fae94282ac8>,\n",
       " <keras.layers.core.Activation at 0x7fae94282cf8>,\n",
       " <keras.layers.convolutional.Conv2D at 0x7fae942cc5f8>,\n",
       " <keras.layers.normalization.batch_normalization.BatchNormalization at 0x7fae94327588>,\n",
       " <keras.layers.core.Activation at 0x7fae94309160>,\n",
       " <keras.layers.convolutional.Conv2D at 0x7fae9431e828>,\n",
       " <keras.layers.normalization.batch_normalization.BatchNormalization at 0x7fae943af6a0>,\n",
       " <keras.layers.core.Activation at 0x7fae9433f080>,\n",
       " <keras.layers.convolutional.Conv2D at 0x7fae942e65c0>,\n",
       " <keras.layers.convolutional.Conv2D at 0x7fae942f94e0>,\n",
       " <keras.layers.normalization.batch_normalization.BatchNormalization at 0x7fae942d9320>,\n",
       " <keras.layers.normalization.batch_normalization.BatchNormalization at 0x7fae942a8f98>,\n",
       " <keras.layers.merge.Add at 0x7fae942a5b70>,\n",
       " <keras.layers.core.Activation at 0x7fae9423cdd8>,\n",
       " <keras.layers.convolutional.Conv2D at 0x7fae9423cef0>,\n",
       " <keras.layers.normalization.batch_normalization.BatchNormalization at 0x7fae942b1860>,\n",
       " <keras.layers.core.Activation at 0x7fae9423f080>,\n",
       " <keras.layers.convolutional.Conv2D at 0x7fae9423f438>,\n",
       " <keras.layers.normalization.batch_normalization.BatchNormalization at 0x7fae94254f28>,\n",
       " <keras.layers.core.Activation at 0x7fae94259400>,\n",
       " <keras.layers.convolutional.Conv2D at 0x7fae94264a58>,\n",
       " <keras.layers.normalization.batch_normalization.BatchNormalization at 0x7fae941f94e0>,\n",
       " <keras.layers.merge.Add at 0x7fae941f93c8>,\n",
       " <keras.layers.core.Activation at 0x7fae94209a20>,\n",
       " <keras.layers.convolutional.Conv2D at 0x7fae94209cf8>,\n",
       " <keras.layers.normalization.batch_normalization.BatchNormalization at 0x7fae941f9978>,\n",
       " <keras.layers.core.Activation at 0x7fae9426b710>,\n",
       " <keras.layers.convolutional.Conv2D at 0x7fae942042e8>,\n",
       " <keras.layers.normalization.batch_normalization.BatchNormalization at 0x7fae94254240>,\n",
       " <keras.layers.core.Activation at 0x7fae9424dcf8>,\n",
       " <keras.layers.convolutional.Conv2D at 0x7fae942a5710>,\n",
       " <keras.layers.normalization.batch_normalization.BatchNormalization at 0x7fae94369630>,\n",
       " <keras.layers.merge.Add at 0x7fae943afba8>,\n",
       " <keras.layers.core.Activation at 0x7fae942826a0>,\n",
       " <keras.layers.pooling.GlobalAveragePooling2D at 0x7fae942c4ba8>]"
      ]
     },
     "execution_count": 14,
     "metadata": {},
     "output_type": "execute_result"
    }
   ],
   "source": [
    "model.layers[0].layers"
   ]
  },
  {
   "cell_type": "code",
   "execution_count": 15,
   "metadata": {
    "button": false,
    "new_sheet": false,
    "run_control": {
     "read_only": false
    }
   },
   "outputs": [],
   "source": [
    "model.layers[0].trainable = False"
   ]
  },
  {
   "cell_type": "code",
   "execution_count": 16,
   "metadata": {
    "button": false,
    "new_sheet": false,
    "run_control": {
     "read_only": false
    }
   },
   "outputs": [
    {
     "name": "stdout",
     "output_type": "stream",
     "text": [
      "Model: \"sequential\"\n",
      "_________________________________________________________________\n",
      "Layer (type)                 Output Shape              Param #   \n",
      "=================================================================\n",
      "resnet101 (Functional)       (None, 2048)              42658176  \n",
      "_________________________________________________________________\n",
      "dense (Dense)                (None, 2)                 4098      \n",
      "=================================================================\n",
      "Total params: 42,662,274\n",
      "Trainable params: 4,098\n",
      "Non-trainable params: 42,658,176\n",
      "_________________________________________________________________\n"
     ]
    }
   ],
   "source": [
    "model.summary()"
   ]
  },
  {
   "cell_type": "code",
   "execution_count": 17,
   "metadata": {
    "button": false,
    "new_sheet": false,
    "run_control": {
     "read_only": false
    }
   },
   "outputs": [],
   "source": [
    "model.compile(optimizer='adam', loss='categorical_crossentropy', metrics=['accuracy'])"
   ]
  },
  {
   "cell_type": "code",
   "execution_count": 18,
   "metadata": {
    "button": false,
    "new_sheet": false,
    "run_control": {
     "read_only": false
    }
   },
   "outputs": [],
   "source": [
    "steps_per_epoch_training = len(train_generator)\n",
    "steps_per_epoch_validation = len(validation_generator)\n",
    "num_epochs = 2"
   ]
  },
  {
   "cell_type": "code",
   "execution_count": 19,
   "metadata": {
    "button": false,
    "new_sheet": false,
    "run_control": {
     "read_only": false
    }
   },
   "outputs": [
    {
     "name": "stdout",
     "output_type": "stream",
     "text": [
      "Epoch 1/2\n",
      "25/25 [==============================] - 263s 10s/step - loss: 0.2369 - accuracy: 0.8905 - val_loss: 0.0310 - val_accuracy: 0.9885\n",
      "Epoch 2/2\n",
      "25/25 [==============================] - 256s 10s/step - loss: 0.0294 - accuracy: 0.9908 - val_loss: 0.0212 - val_accuracy: 0.9885\n"
     ]
    }
   ],
   "source": [
    "#fit_history = model.fit_generator(\n",
    "fit_history = model.fit(    \n",
    "    train_generator,\n",
    "    steps_per_epoch=steps_per_epoch_training,\n",
    "    epochs=num_epochs,\n",
    "    validation_data=validation_generator,\n",
    "    validation_steps=steps_per_epoch_validation,\n",
    "    verbose=1,\n",
    ")"
   ]
  },
  {
   "cell_type": "code",
   "execution_count": 20,
   "metadata": {
    "button": false,
    "new_sheet": false,
    "run_control": {
     "read_only": false
    }
   },
   "outputs": [
    {
     "name": "stderr",
     "output_type": "stream",
     "text": [
      "/home/alexandr/.local/lib/python3.6/site-packages/keras/utils/generic_utils.py:497: CustomMaskWarning: Custom mask layers require a config and must override get_config. When loading, the custom mask layer must be passed to the custom_objects argument.\n",
      "  category=CustomMaskWarning)\n"
     ]
    }
   ],
   "source": [
    "model.save('classifier_resnet_101_model.h5')"
   ]
  }
 ],
 "metadata": {
  "kernelspec": {
   "display_name": "Python 3",
   "language": "python",
   "name": "python3"
  },
  "language_info": {
   "codemirror_mode": {
    "name": "ipython",
    "version": 3
   },
   "file_extension": ".py",
   "mimetype": "text/x-python",
   "name": "python",
   "nbconvert_exporter": "python",
   "pygments_lexer": "ipython3",
   "version": "3.8.10"
  }
 },
 "nbformat": 4,
 "nbformat_minor": 4
}
