{
 "cells": [
  {
   "cell_type": "markdown",
   "metadata": {},
   "source": [
    "<h1>Pre-Trained Model ResNet50</h1>"
   ]
  },
  {
   "cell_type": "markdown",
   "metadata": {
    "button": false,
    "new_sheet": false,
    "run_control": {
     "read_only": false
    }
   },
   "source": [
    "<a id='item31'></a>\n"
   ]
  },
  {
   "cell_type": "code",
   "execution_count": 5,
   "metadata": {
    "button": false,
    "new_sheet": false,
    "run_control": {
     "read_only": false
    }
   },
   "outputs": [],
   "source": [
    "from tensorflow.keras.preprocessing.image import ImageDataGenerator"
   ]
  },
  {
   "cell_type": "code",
   "execution_count": 7,
   "metadata": {
    "button": false,
    "new_sheet": false,
    "run_control": {
     "read_only": false
    }
   },
   "outputs": [],
   "source": [
    "import tensorflow.keras\n",
    "from tensorflow.keras.models import Sequential\n",
    "from tensorflow.keras.layers import Dense"
   ]
  },
  {
   "cell_type": "code",
   "execution_count": 8,
   "metadata": {
    "button": false,
    "new_sheet": false,
    "run_control": {
     "read_only": false
    }
   },
   "outputs": [],
   "source": [
    "from tensorflow.keras.applications.resnet50 import ResNet50\n",
    "from tensorflow.keras.applications.resnet50 import preprocess_input"
   ]
  },
  {
   "cell_type": "markdown",
   "metadata": {
    "button": false,
    "new_sheet": false,
    "run_control": {
     "read_only": false
    }
   },
   "source": [
    "<a id='item32'></a>\n"
   ]
  },
  {
   "cell_type": "markdown",
   "metadata": {
    "button": false,
    "new_sheet": false,
    "run_control": {
     "read_only": false
    }
   },
   "source": [
    "<a id='item33'></a>\n"
   ]
  },
  {
   "cell_type": "markdown",
   "metadata": {
    "button": false,
    "new_sheet": false,
    "run_control": {
     "read_only": false
    }
   },
   "source": [
    "<a id='item34'></a>\n"
   ]
  },
  {
   "cell_type": "code",
   "execution_count": 10,
   "metadata": {
    "button": false,
    "new_sheet": false,
    "run_control": {
     "read_only": false
    }
   },
   "outputs": [],
   "source": [
    "data_generator = ImageDataGenerator(\n",
    "    preprocessing_function=preprocess_input,\n",
    ")"
   ]
  },
  {
   "cell_type": "code",
   "execution_count": 11,
   "metadata": {
    "button": false,
    "new_sheet": false,
    "run_control": {
     "read_only": false
    }
   },
   "outputs": [
    {
     "name": "stdout",
     "output_type": "stream",
     "text": [
      "Found 2401 images belonging to 2 classes.\n"
     ]
    }
   ],
   "source": [
    "train_generator = data_generator.flow_from_directory(\n",
    "    'horse2zebra/train',\n",
    "    target_size=(image_resize, image_resize),\n",
    "    batch_size=batch_size_training,\n",
    "    class_mode='categorical')"
   ]
  },
  {
   "cell_type": "code",
   "execution_count": 13,
   "metadata": {
    "button": false,
    "new_sheet": false,
    "run_control": {
     "read_only": false
    }
   },
   "outputs": [
    {
     "name": "stdout",
     "output_type": "stream",
     "text": [
      "Found 260 images belonging to 2 classes.\n"
     ]
    }
   ],
   "source": [
    "validation_generator = data_generator.flow_from_directory(\n",
    "    'horse2zebra/test',\n",
    "    target_size=(image_resize, image_resize),\n",
    "    batch_size=batch_size_validation,\n",
    "    class_mode='categorical')"
   ]
  },
  {
   "cell_type": "markdown",
   "metadata": {
    "button": false,
    "new_sheet": false,
    "run_control": {
     "read_only": false
    }
   },
   "source": [
    "<a id='item35'></a>\n"
   ]
  },
  {
   "cell_type": "code",
   "execution_count": 15,
   "metadata": {
    "button": false,
    "new_sheet": false,
    "run_control": {
     "read_only": false
    }
   },
   "outputs": [],
   "source": [
    "model.add(ResNet50(\n",
    "    include_top=False,\n",
    "    pooling='avg',\n",
    "    weights='imagenet',\n",
    "    ))"
   ]
  },
  {
   "cell_type": "code",
   "execution_count": 16,
   "metadata": {
    "button": false,
    "new_sheet": false,
    "run_control": {
     "read_only": false
    }
   },
   "outputs": [],
   "source": [
    "model.add(Dense(num_classes, activation='softmax'))"
   ]
  },
  {
   "cell_type": "code",
   "execution_count": 17,
   "metadata": {
    "button": false,
    "new_sheet": false,
    "run_control": {
     "read_only": false
    }
   },
   "outputs": [
    {
     "data": {
      "text/plain": [
       "[<keras.engine.functional.Functional at 0x7f9a8bb051d0>,\n",
       " <keras.layers.core.Dense at 0x7f9a8bd73cf8>]"
      ]
     },
     "execution_count": 17,
     "metadata": {},
     "output_type": "execute_result"
    }
   ],
   "source": [
    "model.layers"
   ]
  },
  {
   "cell_type": "code",
   "execution_count": 18,
   "metadata": {
    "button": false,
    "new_sheet": false,
    "run_control": {
     "read_only": false
    },
    "scrolled": true
   },
   "outputs": [
    {
     "data": {
      "text/plain": [
       "[<keras.engine.input_layer.InputLayer at 0x7f9a8bd73c88>,\n",
       " <keras.layers.convolutional.ZeroPadding2D at 0x7f9aab98a3c8>,\n",
       " <keras.layers.convolutional.Conv2D at 0x7f9aab98a550>,\n",
       " <keras.layers.normalization.batch_normalization.BatchNormalization at 0x7f9a8bd309b0>,\n",
       " <keras.layers.core.Activation at 0x7f9a8bcef7f0>,\n",
       " <keras.layers.convolutional.ZeroPadding2D at 0x7f9a8bc9d748>,\n",
       " <keras.layers.pooling.MaxPooling2D at 0x7f9a8bca32b0>,\n",
       " <keras.layers.convolutional.Conv2D at 0x7f9a8bcc1ac8>,\n",
       " <keras.layers.normalization.batch_normalization.BatchNormalization at 0x7f9a8bcb9748>,\n",
       " <keras.layers.core.Activation at 0x7f9a8bccc898>,\n",
       " <keras.layers.convolutional.Conv2D at 0x7f9a8bccc940>,\n",
       " <keras.layers.normalization.batch_normalization.BatchNormalization at 0x7f9a8bc61f98>,\n",
       " <keras.layers.core.Activation at 0x7f9a8bc66470>,\n",
       " <keras.layers.convolutional.Conv2D at 0x7f9b3d881d30>,\n",
       " <keras.layers.convolutional.Conv2D at 0x7f9a8bc6fac8>,\n",
       " <keras.layers.normalization.batch_normalization.BatchNormalization at 0x7f9a8bcb2320>,\n",
       " <keras.layers.normalization.batch_normalization.BatchNormalization at 0x7f9a8bc81ef0>,\n",
       " <keras.layers.merge.Add at 0x7f9a8bc84438>,\n",
       " <keras.layers.core.Activation at 0x7f9a8bc96470>,\n",
       " <keras.layers.convolutional.Conv2D at 0x7f9a8bc96358>,\n",
       " <keras.layers.normalization.batch_normalization.BatchNormalization at 0x7f9a8bc29d68>,\n",
       " <keras.layers.core.Activation at 0x7f9a8bc1f550>,\n",
       " <keras.layers.convolutional.Conv2D at 0x7f9a8bc967b8>,\n",
       " <keras.layers.normalization.batch_normalization.BatchNormalization at 0x7f9a8bc3ab38>,\n",
       " <keras.layers.core.Activation at 0x7f9a8bc40f60>,\n",
       " <keras.layers.convolutional.Conv2D at 0x7f9a8bc40160>,\n",
       " <keras.layers.normalization.batch_normalization.BatchNormalization at 0x7f9a8bc849b0>,\n",
       " <keras.layers.merge.Add at 0x7f9a8bc96278>,\n",
       " <keras.layers.core.Activation at 0x7f9a8bc66eb8>,\n",
       " <keras.layers.convolutional.Conv2D at 0x7f9a8bc66a58>,\n",
       " <keras.layers.normalization.batch_normalization.BatchNormalization at 0x7f9a8bc77898>,\n",
       " <keras.layers.core.Activation at 0x7f9a8bcd8be0>,\n",
       " <keras.layers.convolutional.Conv2D at 0x7f9a8bc81f28>,\n",
       " <keras.layers.normalization.batch_normalization.BatchNormalization at 0x7f9a8bca3c50>,\n",
       " <keras.layers.core.Activation at 0x7f9a8bc9da20>,\n",
       " <keras.layers.convolutional.Conv2D at 0x7f9a8bc4bb00>,\n",
       " <keras.layers.normalization.batch_normalization.BatchNormalization at 0x7f9a8bbe80b8>,\n",
       " <keras.layers.merge.Add at 0x7f9a8bbe8710>,\n",
       " <keras.layers.core.Activation at 0x7f9a8bbfd828>,\n",
       " <keras.layers.convolutional.Conv2D at 0x7f9a8bbfd780>,\n",
       " <keras.layers.normalization.batch_normalization.BatchNormalization at 0x7f9a8bc151d0>,\n",
       " <keras.layers.core.Activation at 0x7f9a8bba02b0>,\n",
       " <keras.layers.convolutional.Conv2D at 0x7f9a8bbb8e10>,\n",
       " <keras.layers.normalization.batch_normalization.BatchNormalization at 0x7f9a8bbb89b0>,\n",
       " <keras.layers.core.Activation at 0x7f9a8bbaeeb8>,\n",
       " <keras.layers.convolutional.Conv2D at 0x7f9a8bbfdf98>,\n",
       " <keras.layers.convolutional.Conv2D at 0x7f9a8bbc0d30>,\n",
       " <keras.layers.normalization.batch_normalization.BatchNormalization at 0x7f9a8bc055f8>,\n",
       " <keras.layers.normalization.batch_normalization.BatchNormalization at 0x7f9a8bbd0588>,\n",
       " <keras.layers.merge.Add at 0x7f9a8bbc4cc0>,\n",
       " <keras.layers.core.Activation at 0x7f9a8bba0b70>,\n",
       " <keras.layers.convolutional.Conv2D at 0x7f9a8bbaee80>,\n",
       " <keras.layers.normalization.batch_normalization.BatchNormalization at 0x7f9a8bc0d630>,\n",
       " <keras.layers.core.Activation at 0x7f9a8bbb86d8>,\n",
       " <keras.layers.convolutional.Conv2D at 0x7f9a8bbfde80>,\n",
       " <keras.layers.normalization.batch_normalization.BatchNormalization at 0x7f9a8bbfd8d0>,\n",
       " <keras.layers.core.Activation at 0x7f9aab98a748>,\n",
       " <keras.layers.convolutional.Conv2D at 0x7f9a8bcc18d0>,\n",
       " <keras.layers.normalization.batch_normalization.BatchNormalization at 0x7f9a8bc81fd0>,\n",
       " <keras.layers.merge.Add at 0x7f9a8bbd92b0>,\n",
       " <keras.layers.core.Activation at 0x7f9a8bb73da0>,\n",
       " <keras.layers.convolutional.Conv2D at 0x7f9a8bb73ef0>,\n",
       " <keras.layers.normalization.batch_normalization.BatchNormalization at 0x7f9a8bb7a9b0>,\n",
       " <keras.layers.core.Activation at 0x7f9a8bb7a320>,\n",
       " <keras.layers.convolutional.Conv2D at 0x7f9a8bb80cf8>,\n",
       " <keras.layers.normalization.batch_normalization.BatchNormalization at 0x7f9a8bb80470>,\n",
       " <keras.layers.core.Activation at 0x7f9a8bb93d68>,\n",
       " <keras.layers.convolutional.Conv2D at 0x7f9a8bb1bda0>,\n",
       " <keras.layers.normalization.batch_normalization.BatchNormalization at 0x7f9a8bb33550>,\n",
       " <keras.layers.merge.Add at 0x7f9a8bb33400>,\n",
       " <keras.layers.core.Activation at 0x7f9a8bb4fd30>,\n",
       " <keras.layers.convolutional.Conv2D at 0x7f9a8bb4fc50>,\n",
       " <keras.layers.normalization.batch_normalization.BatchNormalization at 0x7f9a8bb3ecc0>,\n",
       " <keras.layers.core.Activation at 0x7f9a8bb4ffd0>,\n",
       " <keras.layers.convolutional.Conv2D at 0x7f9a8bb4f668>,\n",
       " <keras.layers.normalization.batch_normalization.BatchNormalization at 0x7f9a8bb2d6d8>,\n",
       " <keras.layers.core.Activation at 0x7f9a8bb23978>,\n",
       " <keras.layers.convolutional.Conv2D at 0x7f9a8bb8dbe0>,\n",
       " <keras.layers.normalization.batch_normalization.BatchNormalization at 0x7f9a8bc8f2b0>,\n",
       " <keras.layers.merge.Add at 0x7f9a8bc66d30>,\n",
       " <keras.layers.core.Activation at 0x7f9a8bba7390>,\n",
       " <keras.layers.convolutional.Conv2D at 0x7f9a8bc15048>,\n",
       " <keras.layers.normalization.batch_normalization.BatchNormalization at 0x7f9a8baf33c8>,\n",
       " <keras.layers.core.Activation at 0x7f9a8baf7320>,\n",
       " <keras.layers.convolutional.Conv2D at 0x7f9a8bb05eb8>,\n",
       " <keras.layers.normalization.batch_normalization.BatchNormalization at 0x7f9a8bb05940>,\n",
       " <keras.layers.core.Activation at 0x7f9a8bb19a90>,\n",
       " <keras.layers.convolutional.Conv2D at 0x7f9a8bbfd2b0>,\n",
       " <keras.layers.convolutional.Conv2D at 0x7f9a8bb19240>,\n",
       " <keras.layers.normalization.batch_normalization.BatchNormalization at 0x7f9a8bbded68>,\n",
       " <keras.layers.normalization.batch_normalization.BatchNormalization at 0x7f9a8baa2f98>,\n",
       " <keras.layers.merge.Add at 0x7f9a8baaa5c0>,\n",
       " <keras.layers.core.Activation at 0x7f9a8bab9c50>,\n",
       " <keras.layers.convolutional.Conv2D at 0x7f9a8bab9668>,\n",
       " <keras.layers.normalization.batch_normalization.BatchNormalization at 0x7f9a8bac1518>,\n",
       " <keras.layers.core.Activation at 0x7f9a8bab9cc0>,\n",
       " <keras.layers.convolutional.Conv2D at 0x7f9a8babf8d0>,\n",
       " <keras.layers.normalization.batch_normalization.BatchNormalization at 0x7f9a8ba5c860>,\n",
       " <keras.layers.core.Activation at 0x7f9a8bad4cf8>,\n",
       " <keras.layers.convolutional.Conv2D at 0x7f9a8bab3550>,\n",
       " <keras.layers.normalization.batch_normalization.BatchNormalization at 0x7f9a8baff8d0>,\n",
       " <keras.layers.merge.Add at 0x7f9a8bab9940>,\n",
       " <keras.layers.core.Activation at 0x7f9a8bcb96a0>,\n",
       " <keras.layers.convolutional.Conv2D at 0x7f9a8bcc7908>,\n",
       " <keras.layers.normalization.batch_normalization.BatchNormalization at 0x7f9a8bade278>,\n",
       " <keras.layers.core.Activation at 0x7f9a8bbd9ba8>,\n",
       " <keras.layers.convolutional.Conv2D at 0x7f9a8bbfdd30>,\n",
       " <keras.layers.normalization.batch_normalization.BatchNormalization at 0x7f9a8bb8d160>,\n",
       " <keras.layers.core.Activation at 0x7f9a8ba61898>,\n",
       " <keras.layers.convolutional.Conv2D at 0x7f9a8ba76b38>,\n",
       " <keras.layers.normalization.batch_normalization.BatchNormalization at 0x7f9a8ba8b128>,\n",
       " <keras.layers.merge.Add at 0x7f9a8ba8b588>,\n",
       " <keras.layers.core.Activation at 0x7f9a8ba1bc88>,\n",
       " <keras.layers.convolutional.Conv2D at 0x7f9a8ba1beb8>,\n",
       " <keras.layers.normalization.batch_normalization.BatchNormalization at 0x7f9a8ba254e0>,\n",
       " <keras.layers.core.Activation at 0x7f9a8ba1b860>,\n",
       " <keras.layers.convolutional.Conv2D at 0x7f9a8ba2d630>,\n",
       " <keras.layers.normalization.batch_normalization.BatchNormalization at 0x7f9a8ba3f828>,\n",
       " <keras.layers.core.Activation at 0x7f9a8ba3f668>,\n",
       " <keras.layers.convolutional.Conv2D at 0x7f9a8ba4ecf8>,\n",
       " <keras.layers.normalization.batch_normalization.BatchNormalization at 0x7f9a8b9e5e10>,\n",
       " <keras.layers.merge.Add at 0x7f9a8b9db9e8>,\n",
       " <keras.layers.core.Activation at 0x7f9a8ba3f940>,\n",
       " <keras.layers.convolutional.Conv2D at 0x7f9a8ba3f8d0>,\n",
       " <keras.layers.normalization.batch_normalization.BatchNormalization at 0x7f9a8ba4eb70>,\n",
       " <keras.layers.core.Activation at 0x7f9a8ba37ef0>,\n",
       " <keras.layers.convolutional.Conv2D at 0x7f9a8ba1bc50>,\n",
       " <keras.layers.normalization.batch_normalization.BatchNormalization at 0x7f9a8ba84518>,\n",
       " <keras.layers.core.Activation at 0x7f9a8ba7f6a0>,\n",
       " <keras.layers.convolutional.Conv2D at 0x7f9a8bbfd710>,\n",
       " <keras.layers.normalization.batch_normalization.BatchNormalization at 0x7f9a8baa27b8>,\n",
       " <keras.layers.merge.Add at 0x7f9a8bb19160>,\n",
       " <keras.layers.core.Activation at 0x7f9a8ba61c18>,\n",
       " <keras.layers.convolutional.Conv2D at 0x7f9a8b9fbf60>,\n",
       " <keras.layers.normalization.batch_normalization.BatchNormalization at 0x7f9a8ba05f28>,\n",
       " <keras.layers.core.Activation at 0x7f9a8b9fbb70>,\n",
       " <keras.layers.convolutional.Conv2D at 0x7f9a8ba00940>,\n",
       " <keras.layers.normalization.batch_normalization.BatchNormalization at 0x7f9a8b99e8d0>,\n",
       " <keras.layers.core.Activation at 0x7f9a8b99e780>,\n",
       " <keras.layers.convolutional.Conv2D at 0x7f9a8b9acda0>,\n",
       " <keras.layers.normalization.batch_normalization.BatchNormalization at 0x7f9a8b9c1eb8>,\n",
       " <keras.layers.merge.Add at 0x7f9a8b9bca90>,\n",
       " <keras.layers.core.Activation at 0x7f9a8b9d4da0>,\n",
       " <keras.layers.convolutional.Conv2D at 0x7f9a8b95b128>,\n",
       " <keras.layers.normalization.batch_normalization.BatchNormalization at 0x7f9a8b9c1240>,\n",
       " <keras.layers.core.Activation at 0x7f9a8b9b63c8>,\n",
       " <keras.layers.convolutional.Conv2D at 0x7f9a8bab36d8>,\n",
       " <keras.layers.normalization.batch_normalization.BatchNormalization at 0x7f9a8b9fb9e8>,\n",
       " <keras.layers.core.Activation at 0x7f9a8ba00da0>,\n",
       " <keras.layers.convolutional.Conv2D at 0x7f9a8b9d45f8>,\n",
       " <keras.layers.convolutional.Conv2D at 0x7f9a8bcd8588>,\n",
       " <keras.layers.normalization.batch_normalization.BatchNormalization at 0x7f9a8b9cdf28>,\n",
       " <keras.layers.normalization.batch_normalization.BatchNormalization at 0x7f9a8ba76160>,\n",
       " <keras.layers.merge.Add at 0x7f9a8ba8b358>,\n",
       " <keras.layers.core.Activation at 0x7f9a8ba56c50>,\n",
       " <keras.layers.convolutional.Conv2D at 0x7f9a8b968eb8>,\n",
       " <keras.layers.normalization.batch_normalization.BatchNormalization at 0x7f9a8b97b9b0>,\n",
       " <keras.layers.core.Activation at 0x7f9a8b97b240>,\n",
       " <keras.layers.convolutional.Conv2D at 0x7f9a8b985cc0>,\n",
       " <keras.layers.normalization.batch_normalization.BatchNormalization at 0x7f9a8b985e48>,\n",
       " <keras.layers.core.Activation at 0x7f9a8b993ac8>,\n",
       " <keras.layers.convolutional.Conv2D at 0x7f9a8b91ad68>,\n",
       " <keras.layers.normalization.batch_normalization.BatchNormalization at 0x7f9a8b930518>,\n",
       " <keras.layers.merge.Add at 0x7f9a8b930d30>,\n",
       " <keras.layers.core.Activation at 0x7f9a8b94bcf8>,\n",
       " <keras.layers.convolutional.Conv2D at 0x7f9a8b94bc18>,\n",
       " <keras.layers.normalization.batch_normalization.BatchNormalization at 0x7f9a8b941c88>,\n",
       " <keras.layers.core.Activation at 0x7f9a8b941a90>,\n",
       " <keras.layers.convolutional.Conv2D at 0x7f9a8b954278>,\n",
       " <keras.layers.normalization.batch_normalization.BatchNormalization at 0x7f9a8b8e7b38>,\n",
       " <keras.layers.core.Activation at 0x7f9a8854af28>,\n",
       " <keras.layers.convolutional.Conv2D at 0x7f9b3c60d320>,\n",
       " <keras.layers.normalization.batch_normalization.BatchNormalization at 0x7f9a8bb80c18>,\n",
       " <keras.layers.merge.Add at 0x7f9a8bca3b70>,\n",
       " <keras.layers.core.Activation at 0x7f9a8bc77f60>,\n",
       " <keras.layers.pooling.GlobalAveragePooling2D at 0x7f9a8bc615c0>]"
      ]
     },
     "execution_count": 18,
     "metadata": {},
     "output_type": "execute_result"
    }
   ],
   "source": [
    "model.layers[0].layers"
   ]
  },
  {
   "cell_type": "code",
   "execution_count": 19,
   "metadata": {
    "button": false,
    "new_sheet": false,
    "run_control": {
     "read_only": false
    }
   },
   "outputs": [],
   "source": [
    "model.layers[0].trainable = False"
   ]
  },
  {
   "cell_type": "code",
   "execution_count": 20,
   "metadata": {
    "button": false,
    "new_sheet": false,
    "run_control": {
     "read_only": false
    }
   },
   "outputs": [
    {
     "name": "stdout",
     "output_type": "stream",
     "text": [
      "Model: \"sequential\"\n",
      "_________________________________________________________________\n",
      "Layer (type)                 Output Shape              Param #   \n",
      "=================================================================\n",
      "resnet50 (Functional)        (None, 2048)              23587712  \n",
      "_________________________________________________________________\n",
      "dense (Dense)                (None, 2)                 4098      \n",
      "=================================================================\n",
      "Total params: 23,591,810\n",
      "Trainable params: 4,098\n",
      "Non-trainable params: 23,587,712\n",
      "_________________________________________________________________\n"
     ]
    }
   ],
   "source": [
    "model.summary()"
   ]
  },
  {
   "cell_type": "code",
   "execution_count": 21,
   "metadata": {
    "button": false,
    "new_sheet": false,
    "run_control": {
     "read_only": false
    }
   },
   "outputs": [],
   "source": [
    "model.compile(optimizer='adam', loss='categorical_crossentropy', metrics=['accuracy'])"
   ]
  },
  {
   "cell_type": "code",
   "execution_count": 22,
   "metadata": {
    "button": false,
    "new_sheet": false,
    "run_control": {
     "read_only": false
    }
   },
   "outputs": [],
   "source": [
    "steps_per_epoch_training = len(train_generator)\n",
    "steps_per_epoch_validation = len(validation_generator)\n",
    "num_epochs = 2"
   ]
  },
  {
   "cell_type": "code",
   "execution_count": 23,
   "metadata": {
    "button": false,
    "new_sheet": false,
    "run_control": {
     "read_only": false
    }
   },
   "outputs": [
    {
     "name": "stderr",
     "output_type": "stream",
     "text": [
      "/home/alexandr/.local/lib/python3.6/site-packages/keras/engine/training.py:1972: UserWarning: `Model.fit_generator` is deprecated and will be removed in a future version. Please use `Model.fit`, which supports generators.\n",
      "  warnings.warn('`Model.fit_generator` is deprecated and '\n"
     ]
    },
    {
     "name": "stdout",
     "output_type": "stream",
     "text": [
      "Epoch 1/2\n",
      "25/25 [==============================] - 155s 6s/step - loss: 0.1778 - accuracy: 0.9242 - val_loss: 0.0425 - val_accuracy: 0.9885\n",
      "Epoch 2/2\n",
      "25/25 [==============================] - 145s 6s/step - loss: 0.0318 - accuracy: 0.9892 - val_loss: 0.0415 - val_accuracy: 0.9885\n"
     ]
    }
   ],
   "source": [
    "#fit_history = model.fit_generator(\n",
    "fit_history = model.fit(    \n",
    "    train_generator,\n",
    "    steps_per_epoch=steps_per_epoch_training,\n",
    "    epochs=num_epochs,\n",
    "    validation_data=validation_generator,\n",
    "    validation_steps=steps_per_epoch_validation,\n",
    "    verbose=1,\n",
    ")"
   ]
  },
  {
   "cell_type": "code",
   "execution_count": 24,
   "metadata": {
    "button": false,
    "new_sheet": false,
    "run_control": {
     "read_only": false
    }
   },
   "outputs": [
    {
     "name": "stderr",
     "output_type": "stream",
     "text": [
      "/home/alexandr/.local/lib/python3.6/site-packages/keras/utils/generic_utils.py:497: CustomMaskWarning: Custom mask layers require a config and must override get_config. When loading, the custom mask layer must be passed to the custom_objects argument.\n",
      "  category=CustomMaskWarning)\n"
     ]
    }
   ],
   "source": [
    "model.save('classifier_resnet_50_model.h5')"
   ]
  }
 ],
 "metadata": {
  "kernelspec": {
   "display_name": "Python 3",
   "language": "python",
   "name": "python3"
  },
  "language_info": {
   "codemirror_mode": {
    "name": "ipython",
    "version": 3
   },
   "file_extension": ".py",
   "mimetype": "text/x-python",
   "name": "python",
   "nbconvert_exporter": "python",
   "pygments_lexer": "ipython3",
   "version": "3.8.10"
  }
 },
 "nbformat": 4,
 "nbformat_minor": 4
}
