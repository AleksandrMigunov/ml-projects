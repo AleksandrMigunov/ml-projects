{
 "cells": [
  {
   "cell_type": "markdown",
   "metadata": {},
   "source": [
    "<h1>Evaluation of Pre-Trained Models</h1>"
   ]
  },
  {
   "cell_type": "markdown",
   "metadata": {
    "id": "rtZz6Xb0ahjM"
   },
   "source": [
    "<a id=\"item41\"></a>"
   ]
  },
  {
   "cell_type": "code",
   "execution_count": 1,
   "metadata": {},
   "outputs": [],
   "source": [
    "from tensorflow.keras.preprocessing.image import ImageDataGenerator\n",
    "import tensorflow.keras\n",
    "from tensorflow.keras.models import Sequential\n",
    "from tensorflow.keras.layers import Dense\n",
    "#from tensorflow.keras.applications import VGG16\n",
    "#from tensorflow.keras.applications.vgg16 import VGG16\n",
    "from tensorflow.keras.applications.resnet50 import preprocess_input"
   ]
  },
  {
   "cell_type": "code",
   "execution_count": 2,
   "metadata": {
    "id": "EeYSiCERahjV"
   },
   "outputs": [],
   "source": [
    "model_resnet50 = tensorflow.keras.models.load_model('classifier_resnet_50_model.h5')"
   ]
  },
  {
   "cell_type": "code",
   "execution_count": 3,
   "metadata": {},
   "outputs": [],
   "source": [
    "data_generator = ImageDataGenerator(\n",
    "    preprocessing_function=preprocess_input,\n",
    ")"
   ]
  },
  {
   "cell_type": "code",
   "execution_count": 4,
   "metadata": {},
   "outputs": [],
   "source": [
    "image_resize = 224\n",
    "num_classes = 2"
   ]
  },
  {
   "cell_type": "code",
   "execution_count": 5,
   "metadata": {
    "colab": {
     "base_uri": "https://localhost:8080/"
    },
    "id": "6SMc52bKahjV",
    "outputId": "38f0d439-5bce-4931-b0ee-f980594cfcda"
   },
   "outputs": [
    {
     "name": "stdout",
     "output_type": "stream",
     "text": [
      "Found 742 images belonging to 2 classes.\n"
     ]
    }
   ],
   "source": [
    "test_generator = data_generator.flow_from_directory(\n",
    "    'horse2zebra/testing',\n",
    "    target_size=(image_resize, image_resize),\n",
    "    shuffle=False)"
   ]
  },
  {
   "cell_type": "code",
   "execution_count": 6,
   "metadata": {
    "id": "QmypU6s-CsKi"
   },
   "outputs": [
    {
     "name": "stderr",
     "output_type": "stream",
     "text": [
      "/home/alexandr/.local/lib/python3.6/site-packages/keras/engine/training.py:2006: UserWarning: `Model.evaluate_generator` is deprecated and will be removed in a future version. Please use `Model.evaluate`, which supports generators.\n",
      "  warnings.warn('`Model.evaluate_generator` is deprecated and '\n"
     ]
    },
    {
     "name": "stdout",
     "output_type": "stream",
     "text": [
      "Loss =  0.02468941919505596\n",
      "Accuracy =  0.9905660152435303\n"
     ]
    }
   ],
   "source": [
    "#scores = model.evaluate_generator(test_generator,len(test_generator)) \n",
    "scores = model_resnet50.evaluate_generator(test_generator, len(test_generator))\n",
    "print(\"Loss = \", scores[0])\n",
    "print(\"Accuracy = \", scores[1])\n",
    "scores_resnet50 = scores"
   ]
  },
  {
   "cell_type": "code",
   "execution_count": 7,
   "metadata": {},
   "outputs": [
    {
     "name": "stdout",
     "output_type": "stream",
     "text": [
      "Found 742 images belonging to 2 classes.\n"
     ]
    }
   ],
   "source": [
    "from tensorflow.keras.applications.resnet import preprocess_input\n",
    "data_generator = ImageDataGenerator(\n",
    "    preprocessing_function=preprocess_input,\n",
    ")\n",
    "image_resize = 224\n",
    "num_classes = 2\n",
    "test_generator = data_generator.flow_from_directory(\n",
    "    'horse2zebra/testing',\n",
    "    target_size=(image_resize, image_resize),\n",
    "    shuffle=False)"
   ]
  },
  {
   "cell_type": "code",
   "execution_count": 8,
   "metadata": {},
   "outputs": [],
   "source": [
    "model_resnet101 = tensorflow.keras.models.load_model('classifier_resnet_101_model.h5')"
   ]
  },
  {
   "cell_type": "code",
   "execution_count": 9,
   "metadata": {
    "colab": {
     "base_uri": "https://localhost:8080/"
    },
    "id": "84ddsdAo_pwV",
    "outputId": "41219096-3b1d-4925-d75b-a298d6870ec5"
   },
   "outputs": [
    {
     "name": "stderr",
     "output_type": "stream",
     "text": [
      "/home/alexandr/.local/lib/python3.6/site-packages/keras/engine/training.py:2006: UserWarning: `Model.evaluate_generator` is deprecated and will be removed in a future version. Please use `Model.evaluate`, which supports generators.\n",
      "  warnings.warn('`Model.evaluate_generator` is deprecated and '\n"
     ]
    },
    {
     "name": "stdout",
     "output_type": "stream",
     "text": [
      "Loss =  0.022429844364523888\n",
      "Accuracy =  0.993261456489563\n"
     ]
    }
   ],
   "source": [
    "scores = model_resnet101.evaluate_generator(test_generator,len(test_generator)) \n",
    "print(\"Loss = \", scores[0])\n",
    "print(\"Accuracy = \", scores[1])\n",
    "scores_resnet101 = scores"
   ]
  },
  {
   "cell_type": "code",
   "execution_count": 10,
   "metadata": {},
   "outputs": [
    {
     "name": "stdout",
     "output_type": "stream",
     "text": [
      "Found 742 images belonging to 2 classes.\n"
     ]
    }
   ],
   "source": [
    "from tensorflow.keras.applications.resnet import preprocess_input\n",
    "data_generator = ImageDataGenerator(\n",
    "    preprocessing_function=preprocess_input,\n",
    ")\n",
    "image_resize = 224\n",
    "num_classes = 2\n",
    "test_generator = data_generator.flow_from_directory(\n",
    "    'horse2zebra/testing',\n",
    "    target_size=(image_resize, image_resize),\n",
    "    shuffle=False)"
   ]
  },
  {
   "cell_type": "code",
   "execution_count": 11,
   "metadata": {},
   "outputs": [],
   "source": [
    "model_resnet152 = tensorflow.keras.models.load_model('classifier_resnet_152_model.h5')"
   ]
  },
  {
   "cell_type": "code",
   "execution_count": 12,
   "metadata": {},
   "outputs": [
    {
     "name": "stdout",
     "output_type": "stream",
     "text": [
      "Loss =  0.036423079669475555\n",
      "Accuracy =  0.986522912979126\n"
     ]
    }
   ],
   "source": [
    "scores = model_resnet152.evaluate_generator(test_generator,len(test_generator)) \n",
    "print(\"Loss = \", scores[0])\n",
    "print(\"Accuracy = \", scores[1])\n",
    "scores_resnet152 = scores"
   ]
  },
  {
   "cell_type": "code",
   "execution_count": 13,
   "metadata": {},
   "outputs": [
    {
     "name": "stdout",
     "output_type": "stream",
     "text": [
      "Found 742 images belonging to 2 classes.\n"
     ]
    }
   ],
   "source": [
    "from tensorflow.keras.applications.vgg16 import preprocess_input\n",
    "data_generator = ImageDataGenerator(\n",
    "    preprocessing_function=preprocess_input,\n",
    ")\n",
    "image_resize = 224\n",
    "num_classes = 2\n",
    "test_generator = data_generator.flow_from_directory(\n",
    "    'horse2zebra/testing',\n",
    "    target_size=(image_resize, image_resize),\n",
    "    shuffle=False)"
   ]
  },
  {
   "cell_type": "code",
   "execution_count": 14,
   "metadata": {},
   "outputs": [],
   "source": [
    "model_vgg16 = tensorflow.keras.models.load_model('classifier_vgg16_model.h5')"
   ]
  },
  {
   "cell_type": "code",
   "execution_count": 15,
   "metadata": {},
   "outputs": [
    {
     "name": "stdout",
     "output_type": "stream",
     "text": [
      "Loss =  0.3364546000957489\n",
      "Accuracy =  0.9218328595161438\n"
     ]
    }
   ],
   "source": [
    "scores = model_vgg16.evaluate_generator(test_generator,len(test_generator)) \n",
    "print(\"Loss = \", scores[0])\n",
    "print(\"Accuracy = \", scores[1])\n",
    "scores_vgg16 = scores"
   ]
  },
  {
   "cell_type": "code",
   "execution_count": 16,
   "metadata": {},
   "outputs": [
    {
     "name": "stdout",
     "output_type": "stream",
     "text": [
      "Found 742 images belonging to 2 classes.\n"
     ]
    }
   ],
   "source": [
    "from tensorflow.keras.applications.vgg19 import preprocess_input\n",
    "data_generator = ImageDataGenerator(\n",
    "    preprocessing_function=preprocess_input,\n",
    ")\n",
    "image_resize = 224\n",
    "num_classes = 2\n",
    "test_generator = data_generator.flow_from_directory(\n",
    "    'horse2zebra/testing',\n",
    "    target_size=(image_resize, image_resize),\n",
    "    shuffle=False)"
   ]
  },
  {
   "cell_type": "code",
   "execution_count": 17,
   "metadata": {},
   "outputs": [],
   "source": [
    "model_vgg19 = tensorflow.keras.models.load_model('classifier_vgg19_model.h5')"
   ]
  },
  {
   "cell_type": "code",
   "execution_count": 18,
   "metadata": {},
   "outputs": [
    {
     "name": "stdout",
     "output_type": "stream",
     "text": [
      "Loss =  0.28541600704193115\n",
      "Accuracy =  0.9231805801391602\n"
     ]
    }
   ],
   "source": [
    "scores = model_vgg19.evaluate_generator(test_generator,len(test_generator)) \n",
    "print(\"Loss = \", scores[0])\n",
    "print(\"Accuracy = \", scores[1])\n",
    "scores_vgg19 = scores"
   ]
  },
  {
   "cell_type": "code",
   "execution_count": 19,
   "metadata": {},
   "outputs": [
    {
     "name": "stdout",
     "output_type": "stream",
     "text": [
      "Found 742 images belonging to 2 classes.\n"
     ]
    }
   ],
   "source": [
    "from tensorflow.keras.applications.inception_v3 import preprocess_input\n",
    "data_generator = ImageDataGenerator(\n",
    "    preprocessing_function=preprocess_input,\n",
    ")\n",
    "image_resize = 224\n",
    "num_classes = 2\n",
    "test_generator = data_generator.flow_from_directory(\n",
    "    'horse2zebra/testing',\n",
    "    target_size=(image_resize, image_resize),\n",
    "    shuffle=False)"
   ]
  },
  {
   "cell_type": "code",
   "execution_count": 20,
   "metadata": {},
   "outputs": [],
   "source": [
    "model_inception_v3 = tensorflow.keras.models.load_model('classifier_inception_v3_model.h5')"
   ]
  },
  {
   "cell_type": "code",
   "execution_count": 21,
   "metadata": {},
   "outputs": [
    {
     "name": "stdout",
     "output_type": "stream",
     "text": [
      "Loss =  0.03982914984226227\n",
      "Accuracy =  0.9851751923561096\n"
     ]
    }
   ],
   "source": [
    "scores = model_inception_v3.evaluate_generator(test_generator,len(test_generator)) \n",
    "print(\"Loss = \", scores[0])\n",
    "print(\"Accuracy = \", scores[1])\n",
    "scores_inception_v3 = scores"
   ]
  },
  {
   "cell_type": "code",
   "execution_count": 22,
   "metadata": {},
   "outputs": [
    {
     "name": "stdout",
     "output_type": "stream",
     "text": [
      "Found 742 images belonging to 2 classes.\n"
     ]
    }
   ],
   "source": [
    "from tensorflow.keras.applications.inception_resnet_v2 import preprocess_input\n",
    "data_generator = ImageDataGenerator(\n",
    "    preprocessing_function=preprocess_input,\n",
    ")\n",
    "image_resize = 224\n",
    "num_classes = 2\n",
    "test_generator = data_generator.flow_from_directory(\n",
    "    'horse2zebra/testing',\n",
    "    target_size=(image_resize, image_resize),\n",
    "    shuffle=False)"
   ]
  },
  {
   "cell_type": "code",
   "execution_count": 23,
   "metadata": {},
   "outputs": [],
   "source": [
    "model_inception_resnet_v2 = tensorflow.keras.models.load_model('classifier_inception_resnet_v2_model.h5')"
   ]
  },
  {
   "cell_type": "code",
   "execution_count": 24,
   "metadata": {},
   "outputs": [
    {
     "name": "stdout",
     "output_type": "stream",
     "text": [
      "Loss =  0.016801562160253525\n",
      "Accuracy =  0.993261456489563\n"
     ]
    }
   ],
   "source": [
    "scores = model_inception_resnet_v2.evaluate_generator(test_generator,len(test_generator)) \n",
    "print(\"Loss = \", scores[0])\n",
    "print(\"Accuracy = \", scores[1])\n",
    "scores_inception_resnet_v2 = scores"
   ]
  },
  {
   "cell_type": "code",
   "execution_count": 25,
   "metadata": {},
   "outputs": [],
   "source": [
    "loss = list()\n",
    "\n",
    "loss.append(scores_resnet50[0])\n",
    "loss.append(scores_resnet101[0])\n",
    "loss.append(scores_resnet152[0])\n",
    "loss.append(scores_vgg16[0])\n",
    "loss.append(scores_vgg19[0])\n",
    "loss.append(scores_inception_v3[0])\n",
    "loss.append(scores_inception_resnet_v2[0])\n",
    "\n",
    "accuracy = list()\n",
    "\n",
    "accuracy.append(scores_resnet50[1])\n",
    "accuracy.append(scores_resnet101[1])\n",
    "accuracy.append(scores_resnet152[1])\n",
    "accuracy.append(scores_vgg16[1])\n",
    "accuracy.append(scores_vgg19[1])\n",
    "accuracy.append(scores_inception_v3[1])\n",
    "accuracy.append(scores_inception_resnet_v2[1])\n",
    "\n",
    "labels = ['resnet50', 'resnet101', 'resnet152', 'vgg16', 'vgg19', 'inception_v3', 'inception_resnet_v2']"
   ]
  },
  {
   "cell_type": "code",
   "execution_count": 26,
   "metadata": {},
   "outputs": [
    {
     "data": {
      "text/html": [
       "<div>\n",
       "<style scoped>\n",
       "    .dataframe tbody tr th:only-of-type {\n",
       "        vertical-align: middle;\n",
       "    }\n",
       "\n",
       "    .dataframe tbody tr th {\n",
       "        vertical-align: top;\n",
       "    }\n",
       "\n",
       "    .dataframe thead th {\n",
       "        text-align: right;\n",
       "    }\n",
       "</style>\n",
       "<table border=\"1\" class=\"dataframe\">\n",
       "  <thead>\n",
       "    <tr style=\"text-align: right;\">\n",
       "      <th></th>\n",
       "      <th>Model</th>\n",
       "      <th>Loss</th>\n",
       "      <th>Accuracy</th>\n",
       "    </tr>\n",
       "  </thead>\n",
       "  <tbody>\n",
       "    <tr>\n",
       "      <th>0</th>\n",
       "      <td>resnet50</td>\n",
       "      <td>0.024689</td>\n",
       "      <td>0.990566</td>\n",
       "    </tr>\n",
       "    <tr>\n",
       "      <th>1</th>\n",
       "      <td>resnet101</td>\n",
       "      <td>0.022430</td>\n",
       "      <td>0.993261</td>\n",
       "    </tr>\n",
       "    <tr>\n",
       "      <th>2</th>\n",
       "      <td>resnet152</td>\n",
       "      <td>0.036423</td>\n",
       "      <td>0.986523</td>\n",
       "    </tr>\n",
       "    <tr>\n",
       "      <th>3</th>\n",
       "      <td>vgg16</td>\n",
       "      <td>0.336455</td>\n",
       "      <td>0.921833</td>\n",
       "    </tr>\n",
       "    <tr>\n",
       "      <th>4</th>\n",
       "      <td>vgg19</td>\n",
       "      <td>0.285416</td>\n",
       "      <td>0.923181</td>\n",
       "    </tr>\n",
       "    <tr>\n",
       "      <th>5</th>\n",
       "      <td>inception_v3</td>\n",
       "      <td>0.039829</td>\n",
       "      <td>0.985175</td>\n",
       "    </tr>\n",
       "    <tr>\n",
       "      <th>6</th>\n",
       "      <td>inception_resnet_v2</td>\n",
       "      <td>0.016802</td>\n",
       "      <td>0.993261</td>\n",
       "    </tr>\n",
       "  </tbody>\n",
       "</table>\n",
       "</div>"
      ],
      "text/plain": [
       "                 Model      Loss  Accuracy\n",
       "0             resnet50  0.024689  0.990566\n",
       "1            resnet101  0.022430  0.993261\n",
       "2            resnet152  0.036423  0.986523\n",
       "3                vgg16  0.336455  0.921833\n",
       "4                vgg19  0.285416  0.923181\n",
       "5         inception_v3  0.039829  0.985175\n",
       "6  inception_resnet_v2  0.016802  0.993261"
      ]
     },
     "execution_count": 26,
     "metadata": {},
     "output_type": "execute_result"
    }
   ],
   "source": [
    "import pandas as pd\n",
    "data = {'Model':labels, 'Loss':loss, 'Accuracy':accuracy}\n",
    "test_df = pd.DataFrame(data)\n",
    "test_df"
   ]
  },
  {
   "cell_type": "markdown",
   "metadata": {},
   "source": [
    "| Model           \t  | Loss \t | Accuracy |\n",
    "|---------------------|----------|----------|\n",
    "| resnet50  \t      | 0.024689 | 0.990566 |\n",
    "| resnet101  \t      | 0.022430 | 0.993261 |\n",
    "| resnet152  \t      | 0.036423 | 0.986523 |\n",
    "| vgg16  \t          | 0.336455 | 0.921833 |\n",
    "| vgg19  \t          | 0.285416 | 0.923181 |\n",
    "| inception_v3  \t  | 0.039829 | 0.985175 |\n",
    "| inception_resnet_v2 |\t0.016802 | 0.993261 |"
   ]
  },
  {
   "cell_type": "markdown",
   "metadata": {
    "id": "ggrkwa8kahjW"
   },
   "source": [
    "   "
   ]
  }
 ],
 "metadata": {
  "colab": {
   "collapsed_sections": [],
   "name": "DL0321EN-4-1-Comparing-Models-py-v1.0-checkpoint.ipynb",
   "provenance": []
  },
  "kernelspec": {
   "display_name": "Python 3",
   "language": "python",
   "name": "python3"
  },
  "language_info": {
   "codemirror_mode": {
    "name": "ipython",
    "version": 3
   },
   "file_extension": ".py",
   "mimetype": "text/x-python",
   "name": "python",
   "nbconvert_exporter": "python",
   "pygments_lexer": "ipython3",
   "version": "3.8.10"
  }
 },
 "nbformat": 4,
 "nbformat_minor": 1
}
