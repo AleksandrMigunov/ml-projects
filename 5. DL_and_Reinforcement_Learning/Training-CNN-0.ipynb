{
 "cells": [
  {
   "cell_type": "markdown",
   "id": "eadee620",
   "metadata": {},
   "source": [
    "<h1>Training CNN (examples = 2401, epochs = 15, no augmentation, activation = sigmoid)</h1>"
   ]
  },
  {
   "cell_type": "code",
   "execution_count": 1,
   "id": "fd7a5103",
   "metadata": {},
   "outputs": [],
   "source": [
    "import tensorflow as tf"
   ]
  },
  {
   "cell_type": "code",
   "execution_count": 2,
   "id": "03374e6a",
   "metadata": {},
   "outputs": [],
   "source": [
    "model = tf.keras.models.Sequential([\n",
    "    # Note the input shape is the desired size of the image 300x300 with 3 bytes color\n",
    "    # This is the first convolution\n",
    "    tf.keras.layers.Conv2D(16, (3,3), activation='relu', input_shape=(256, 256, 3)),\n",
    "    tf.keras.layers.MaxPooling2D(2, 2),\n",
    "    # The second convolution\n",
    "    tf.keras.layers.Conv2D(32, (3,3), activation='relu'),\n",
    "    tf.keras.layers.MaxPooling2D(2,2),\n",
    "    # The third convolution\n",
    "    tf.keras.layers.Conv2D(64, (3,3), activation='relu'),\n",
    "    tf.keras.layers.MaxPooling2D(2,2),\n",
    "    # The fourth convolution\n",
    "    tf.keras.layers.Conv2D(64, (3,3), activation='relu'),\n",
    "    tf.keras.layers.MaxPooling2D(2,2),\n",
    "    # The fifth convolution\n",
    "    tf.keras.layers.Conv2D(64, (3,3), activation='relu'),\n",
    "    tf.keras.layers.MaxPooling2D(2,2),\n",
    "    # Flatten the results to feed into a DNN\n",
    "    tf.keras.layers.Flatten(),\n",
    "    # 512 neuron hidden layer\n",
    "    tf.keras.layers.Dense(512, activation='relu'),\n",
    "    # Only 1 output neuron. It will contain a value from 0-1 where 0 for 1 class ('horses') and 1 for the other ('humans')\n",
    "    tf.keras.layers.Dense(1, activation='sigmoid')\n",
    "])"
   ]
  },
  {
   "cell_type": "code",
   "execution_count": 5,
   "id": "3788dd0c",
   "metadata": {},
   "outputs": [
    {
     "name": "stderr",
     "output_type": "stream",
     "text": [
      "/home/alexandr/.local/lib/python3.6/site-packages/keras/optimizer_v2/optimizer_v2.py:356: UserWarning: The `lr` argument is deprecated, use `learning_rate` instead.\n",
      "  \"The `lr` argument is deprecated, use `learning_rate` instead.\")\n"
     ]
    }
   ],
   "source": [
    "from tensorflow.keras.optimizers import RMSprop\n",
    "\n",
    "model.compile(loss='binary_crossentropy',\n",
    "              optimizer=RMSprop(lr=0.001),\n",
    "              metrics=['acc'])"
   ]
  },
  {
   "cell_type": "code",
   "execution_count": 6,
   "id": "b345e526",
   "metadata": {},
   "outputs": [
    {
     "name": "stdout",
     "output_type": "stream",
     "text": [
      "Found 2401 images belonging to 2 classes.\n",
      "Found 260 images belonging to 2 classes.\n"
     ]
    }
   ],
   "source": [
    "from tensorflow.keras.preprocessing.image import ImageDataGenerator\n",
    "\n",
    "# All images will be augmented\n",
    "train_datagen = ImageDataGenerator(\n",
    "      rescale=1./255,\n",
    ")\n",
    "\n",
    "# Flow training images in batches of 128 using train_datagen generator\n",
    "train_generator = train_datagen.flow_from_directory(\n",
    "        'horse2zebra/train',  # This is the source directory for training images\n",
    "        target_size=(256, 256),  # All images will be resized to 150x150\n",
    "        batch_size=128,\n",
    "        # Since we use binary_crossentropy loss, we need binary labels\n",
    "        class_mode='binary')\n",
    "\n",
    "validation_datagen = ImageDataGenerator(rescale=1/255)\n",
    "\n",
    "validation_generator = train_datagen.flow_from_directory(\n",
    "        'horse2zebra/test',\n",
    "        target_size=(256, 256),\n",
    "        class_mode='binary')"
   ]
  },
  {
   "cell_type": "code",
   "execution_count": 7,
   "id": "606db3fe",
   "metadata": {},
   "outputs": [
    {
     "name": "stdout",
     "output_type": "stream",
     "text": [
      "Epoch 1/15\n",
      "8/8 [==============================] - 36s 4s/step - loss: 0.7217 - acc: 0.5448 - val_loss: 1.0293 - val_acc: 0.5385\n",
      "Epoch 2/15\n",
      "8/8 [==============================] - 27s 3s/step - loss: 0.7152 - acc: 0.5720 - val_loss: 0.5561 - val_acc: 0.5808\n",
      "Epoch 3/15\n",
      "8/8 [==============================] - 28s 3s/step - loss: 0.6019 - acc: 0.6264 - val_loss: 0.6052 - val_acc: 0.7423\n",
      "Epoch 4/15\n",
      "8/8 [==============================] - 28s 3s/step - loss: 0.5727 - acc: 0.7246 - val_loss: 0.4768 - val_acc: 0.8115\n",
      "Epoch 5/15\n",
      "8/8 [==============================] - 27s 3s/step - loss: 0.4777 - acc: 0.7724 - val_loss: 0.3957 - val_acc: 0.8577\n",
      "Epoch 6/15\n",
      "8/8 [==============================] - 28s 3s/step - loss: 0.4814 - acc: 0.7822 - val_loss: 0.4001 - val_acc: 0.8654\n",
      "Epoch 7/15\n",
      "8/8 [==============================] - 27s 3s/step - loss: 0.3542 - acc: 0.8570 - val_loss: 0.5935 - val_acc: 0.7077\n",
      "Epoch 8/15\n",
      "8/8 [==============================] - 28s 3s/step - loss: 0.4408 - acc: 0.8154 - val_loss: 0.5015 - val_acc: 0.7423\n",
      "Epoch 9/15\n",
      "8/8 [==============================] - 27s 3s/step - loss: 0.3521 - acc: 0.8580 - val_loss: 0.3140 - val_acc: 0.8615\n",
      "Epoch 10/15\n",
      "8/8 [==============================] - 27s 3s/step - loss: 0.3480 - acc: 0.8540 - val_loss: 0.3393 - val_acc: 0.8577\n",
      "Epoch 11/15\n",
      "8/8 [==============================] - 28s 3s/step - loss: 0.3499 - acc: 0.8496 - val_loss: 0.3131 - val_acc: 0.8577\n",
      "Epoch 12/15\n",
      "8/8 [==============================] - 27s 3s/step - loss: 0.3152 - acc: 0.8741 - val_loss: 0.2848 - val_acc: 0.8885\n",
      "Epoch 13/15\n",
      "8/8 [==============================] - 27s 3s/step - loss: 0.3503 - acc: 0.8540 - val_loss: 0.4687 - val_acc: 0.8231\n",
      "Epoch 14/15\n",
      "8/8 [==============================] - 26s 3s/step - loss: 0.3664 - acc: 0.8479 - val_loss: 0.2511 - val_acc: 0.9115\n",
      "Epoch 15/15\n",
      "8/8 [==============================] - 27s 3s/step - loss: 0.2728 - acc: 0.8896 - val_loss: 0.2734 - val_acc: 0.8962\n"
     ]
    }
   ],
   "source": [
    "history = model.fit_generator(\n",
    "      train_generator,\n",
    "      steps_per_epoch=8,  \n",
    "      epochs=15,\n",
    "      verbose=1,\n",
    "      validation_data=validation_generator)"
   ]
  },
  {
   "cell_type": "code",
   "execution_count": 10,
   "id": "7d5e4b3c",
   "metadata": {},
   "outputs": [
    {
     "name": "stdout",
     "output_type": "stream",
     "text": [
      "Found 742 images belonging to 2 classes.\n"
     ]
    }
   ],
   "source": [
    "test_generator = train_datagen.flow_from_directory(\n",
    "    'horse2zebra/testing',\n",
    "#    target_size=(image_resize, image_resize),\n",
    "    shuffle=False)"
   ]
  },
  {
   "cell_type": "code",
   "execution_count": 11,
   "id": "6cdc1ff3",
   "metadata": {},
   "outputs": [
    {
     "name": "stderr",
     "output_type": "stream",
     "text": [
      "/home/alexandr/.local/lib/python3.6/site-packages/keras/engine/training.py:2006: UserWarning: `Model.evaluate_generator` is deprecated and will be removed in a future version. Please use `Model.evaluate`, which supports generators.\n",
      "  warnings.warn('`Model.evaluate_generator` is deprecated and '\n"
     ]
    },
    {
     "name": "stdout",
     "output_type": "stream",
     "text": [
      "Loss =  2.037815570831299\n",
      "Accuracy =  0.5\n"
     ]
    }
   ],
   "source": [
    "scores = model.evaluate_generator(test_generator,len(test_generator)) \n",
    "print(\"Loss = \", scores[0])\n",
    "print(\"Accuracy = \", scores[1])"
   ]
  },
  {
   "cell_type": "markdown",
   "id": "f13103bc",
   "metadata": {},
   "source": [
    "| Model                                               | Loss     | Accuracy |\n",
    "|-----------------------------------------------------|----------|----------|\n",
    "| CNN (examples = 2401, epochs = 15, no augmentation) | 581.121338 | 0.5      |\n"
   ]
  },
  {
   "cell_type": "code",
   "execution_count": 12,
   "id": "805628bf",
   "metadata": {},
   "outputs": [],
   "source": [
    "model.save('classifier_CNN_model.h5')"
   ]
  },
  {
   "cell_type": "code",
   "execution_count": 13,
   "id": "40f436d3",
   "metadata": {},
   "outputs": [],
   "source": [
    "testing_datagen = ImageDataGenerator()"
   ]
  },
  {
   "cell_type": "code",
   "execution_count": 14,
   "id": "cbb48471",
   "metadata": {},
   "outputs": [
    {
     "name": "stdout",
     "output_type": "stream",
     "text": [
      "Found 742 images belonging to 2 classes.\n"
     ]
    }
   ],
   "source": [
    "test_generator = testing_datagen.flow_from_directory(\n",
    "    'horse2zebra/testing',\n",
    "#    target_size=(image_resize, image_resize),\n",
    "    shuffle=False)"
   ]
  },
  {
   "cell_type": "code",
   "execution_count": 15,
   "id": "f3e5220e",
   "metadata": {},
   "outputs": [
    {
     "name": "stdout",
     "output_type": "stream",
     "text": [
      "Loss =  581.121337890625\n",
      "Accuracy =  0.5\n"
     ]
    }
   ],
   "source": [
    "scores = model.evaluate_generator(test_generator,len(test_generator)) \n",
    "print(\"Loss = \", scores[0])\n",
    "print(\"Accuracy = \", scores[1])"
   ]
  },
  {
   "cell_type": "code",
   "execution_count": null,
   "id": "92ff2afc",
   "metadata": {},
   "outputs": [],
   "source": []
  }
 ],
 "metadata": {
  "kernelspec": {
   "display_name": "Python 3",
   "language": "python",
   "name": "python3"
  },
  "language_info": {
   "codemirror_mode": {
    "name": "ipython",
    "version": 3
   },
   "file_extension": ".py",
   "mimetype": "text/x-python",
   "name": "python",
   "nbconvert_exporter": "python",
   "pygments_lexer": "ipython3",
   "version": "3.8.10"
  }
 },
 "nbformat": 4,
 "nbformat_minor": 5
}
