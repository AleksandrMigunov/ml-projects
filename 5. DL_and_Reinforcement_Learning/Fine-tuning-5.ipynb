{
 "cells": [
  {
   "cell_type": "markdown",
   "metadata": {},
   "source": [
    "<h1>Pre-Trained Model InceptionV3</h1>"
   ]
  },
  {
   "cell_type": "code",
   "execution_count": 2,
   "metadata": {
    "id": "2-xG3cwaahjR"
   },
   "outputs": [],
   "source": [
    "from tensorflow.keras.preprocessing.image import ImageDataGenerator\n",
    "import tensorflow.keras\n",
    "from tensorflow.keras.models import Sequential\n",
    "from tensorflow.keras.layers import Dense\n",
    "#from tensorflow.keras.applications import InceptionV3\n",
    "from tensorflow.keras.applications.inception_v3 import InceptionV3\n",
    "from tensorflow.keras.applications.inception_v3 import preprocess_input"
   ]
  },
  {
   "cell_type": "code",
   "execution_count": 3,
   "metadata": {
    "id": "7fAtF6jCahjS"
   },
   "outputs": [],
   "source": [
    "batch_size_training = 100\n",
    "batch_size_validation = 100"
   ]
  },
  {
   "cell_type": "code",
   "execution_count": 4,
   "metadata": {
    "id": "qqEQUfxjahjS",
    "scrolled": true
   },
   "outputs": [],
   "source": [
    "image_resize = 224\n",
    "num_classes = 2"
   ]
  },
  {
   "cell_type": "code",
   "execution_count": 5,
   "metadata": {
    "id": "w-w_GRYNahjS"
   },
   "outputs": [],
   "source": [
    "data_generator = ImageDataGenerator(\n",
    "    preprocessing_function=preprocess_input,\n",
    ")"
   ]
  },
  {
   "cell_type": "code",
   "execution_count": 6,
   "metadata": {
    "colab": {
     "base_uri": "https://localhost:8080/"
    },
    "id": "Td5IMBVIahjS",
    "outputId": "00c30cc3-7a00-413d-887f-13a62e7e31d8"
   },
   "outputs": [
    {
     "name": "stdout",
     "output_type": "stream",
     "text": [
      "Found 2401 images belonging to 2 classes.\n"
     ]
    }
   ],
   "source": [
    "train_generator = data_generator.flow_from_directory(\n",
    "    'horse2zebra/train',\n",
    "    target_size=(image_resize, image_resize),\n",
    "    batch_size=batch_size_training,\n",
    "    class_mode='categorical')"
   ]
  },
  {
   "cell_type": "code",
   "execution_count": 7,
   "metadata": {
    "colab": {
     "base_uri": "https://localhost:8080/"
    },
    "id": "e31prYJXahjS",
    "outputId": "9dd10e6c-c87b-43e5-9014-21a0e25dc5ef"
   },
   "outputs": [
    {
     "name": "stdout",
     "output_type": "stream",
     "text": [
      "Found 260 images belonging to 2 classes.\n"
     ]
    }
   ],
   "source": [
    "validation_generator = data_generator.flow_from_directory(\n",
    "    'horse2zebra/test',\n",
    "    target_size=(image_resize, image_resize),\n",
    "    batch_size=batch_size_validation,\n",
    "    class_mode='categorical')"
   ]
  },
  {
   "cell_type": "code",
   "execution_count": 8,
   "metadata": {
    "id": "yDF1uV2yahjS"
   },
   "outputs": [],
   "source": [
    "model = Sequential()"
   ]
  },
  {
   "cell_type": "code",
   "execution_count": 10,
   "metadata": {
    "colab": {
     "base_uri": "https://localhost:8080/"
    },
    "id": "Uer8slDaahjT",
    "outputId": "b774a815-80cd-4064-e498-5a8d578b868a"
   },
   "outputs": [
    {
     "name": "stdout",
     "output_type": "stream",
     "text": [
      "Downloading data from https://storage.googleapis.com/tensorflow/keras-applications/inception_v3/inception_v3_weights_tf_dim_ordering_tf_kernels_notop.h5\n",
      "87916544/87910968 [==============================] - 16s 0us/step\n",
      "87924736/87910968 [==============================] - 16s 0us/step\n"
     ]
    }
   ],
   "source": [
    "model.add(InceptionV3(\n",
    "    include_top=False,\n",
    "    pooling='avg',\n",
    "    weights='imagenet',\n",
    "    ))"
   ]
  },
  {
   "cell_type": "code",
   "execution_count": 11,
   "metadata": {
    "colab": {
     "base_uri": "https://localhost:8080/"
    },
    "id": "_qgvVNlZahjT",
    "outputId": "6b653348-c3e5-489d-d191-ddacdc0007b6"
   },
   "outputs": [
    {
     "data": {
      "text/plain": [
       "[<keras.engine.functional.Functional at 0x7f444908dc88>,\n",
       " <keras.layers.core.Dense at 0x7f444075cac8>]"
      ]
     },
     "execution_count": 11,
     "metadata": {},
     "output_type": "execute_result"
    }
   ],
   "source": [
    "model.add(Dense(num_classes, activation='softmax'))\n",
    "model.layers"
   ]
  },
  {
   "cell_type": "code",
   "execution_count": 12,
   "metadata": {
    "colab": {
     "base_uri": "https://localhost:8080/"
    },
    "id": "URT1Ew9EahjT",
    "outputId": "08ba16f3-7b07-48a1-bfd4-fbc5096690a2"
   },
   "outputs": [
    {
     "data": {
      "text/plain": [
       "[<keras.engine.input_layer.InputLayer at 0x7f4449693eb8>,\n",
       " <keras.layers.convolutional.Conv2D at 0x7f444970d588>,\n",
       " <keras.layers.normalization.batch_normalization.BatchNormalization at 0x7f444970dbe0>,\n",
       " <keras.layers.core.Activation at 0x7f4449b557f0>,\n",
       " <keras.layers.convolutional.Conv2D at 0x7f44495ba588>,\n",
       " <keras.layers.normalization.batch_normalization.BatchNormalization at 0x7f44495cb550>,\n",
       " <keras.layers.core.Activation at 0x7f44495c55f8>,\n",
       " <keras.layers.convolutional.Conv2D at 0x7f444970dcc0>,\n",
       " <keras.layers.normalization.batch_normalization.BatchNormalization at 0x7f444960e2b0>,\n",
       " <keras.layers.core.Activation at 0x7f44495ab400>,\n",
       " <keras.layers.pooling.MaxPooling2D at 0x7f44495d2080>,\n",
       " <keras.layers.convolutional.Conv2D at 0x7f44495606d8>,\n",
       " <keras.layers.normalization.batch_normalization.BatchNormalization at 0x7f44495d2d30>,\n",
       " <keras.layers.core.Activation at 0x7f444956f940>,\n",
       " <keras.layers.convolutional.Conv2D at 0x7f4449575cf8>,\n",
       " <keras.layers.normalization.batch_normalization.BatchNormalization at 0x7f4449585b38>,\n",
       " <keras.layers.core.Activation at 0x7f444958a470>,\n",
       " <keras.layers.pooling.MaxPooling2D at 0x7f444958acf8>,\n",
       " <keras.layers.convolutional.Conv2D at 0x7f4449550d68>,\n",
       " <keras.layers.normalization.batch_normalization.BatchNormalization at 0x7f44494e8a20>,\n",
       " <keras.layers.core.Activation at 0x7f44494f3390>,\n",
       " <keras.layers.convolutional.Conv2D at 0x7f444952c358>,\n",
       " <keras.layers.convolutional.Conv2D at 0x7f44494f7b70>,\n",
       " <keras.layers.normalization.batch_normalization.BatchNormalization at 0x7f444953b198>,\n",
       " <keras.layers.normalization.batch_normalization.BatchNormalization at 0x7f44494f7710>,\n",
       " <keras.layers.core.Activation at 0x7f444953bd68>,\n",
       " <keras.layers.core.Activation at 0x7f44495584e0>,\n",
       " <keras.layers.pooling.AveragePooling2D at 0x7f4449585240>,\n",
       " <keras.layers.convolutional.Conv2D at 0x7f444959e358>,\n",
       " <keras.layers.convolutional.Conv2D at 0x7f4449548fd0>,\n",
       " <keras.layers.convolutional.Conv2D at 0x7f44494e1b38>,\n",
       " <keras.layers.convolutional.Conv2D at 0x7f444958ac18>,\n",
       " <keras.layers.normalization.batch_normalization.BatchNormalization at 0x7f444959e9e8>,\n",
       " <keras.layers.normalization.batch_normalization.BatchNormalization at 0x7f44495486d8>,\n",
       " <keras.layers.normalization.batch_normalization.BatchNormalization at 0x7f444953b9b0>,\n",
       " <keras.layers.normalization.batch_normalization.BatchNormalization at 0x7f444959e860>,\n",
       " <keras.layers.core.Activation at 0x7f4449528390>,\n",
       " <keras.layers.core.Activation at 0x7f4449550be0>,\n",
       " <keras.layers.core.Activation at 0x7f44495487b8>,\n",
       " <keras.layers.core.Activation at 0x7f444956f198>,\n",
       " <keras.layers.merge.Concatenate at 0x7f4449593550>,\n",
       " <keras.layers.convolutional.Conv2D at 0x7f44494c9dd8>,\n",
       " <keras.layers.normalization.batch_normalization.BatchNormalization at 0x7f44494c9a20>,\n",
       " <keras.layers.core.Activation at 0x7f44494befd0>,\n",
       " <keras.layers.convolutional.Conv2D at 0x7f4449518eb8>,\n",
       " <keras.layers.convolutional.Conv2D at 0x7f44494ce898>,\n",
       " <keras.layers.normalization.batch_normalization.BatchNormalization at 0x7f4449518be0>,\n",
       " <keras.layers.normalization.batch_normalization.BatchNormalization at 0x7f44494654e0>,\n",
       " <keras.layers.core.Activation at 0x7f44494ffe10>,\n",
       " <keras.layers.core.Activation at 0x7f44494d7e10>,\n",
       " <keras.layers.pooling.AveragePooling2D at 0x7f44494b1b38>,\n",
       " <keras.layers.convolutional.Conv2D at 0x7f44495abb38>,\n",
       " <keras.layers.convolutional.Conv2D at 0x7f444949f978>,\n",
       " <keras.layers.convolutional.Conv2D at 0x7f44494b7eb8>,\n",
       " <keras.layers.convolutional.Conv2D at 0x7f4449518358>,\n",
       " <keras.layers.normalization.batch_normalization.BatchNormalization at 0x7f44495baac8>,\n",
       " <keras.layers.normalization.batch_normalization.BatchNormalization at 0x7f44494b7e48>,\n",
       " <keras.layers.normalization.batch_normalization.BatchNormalization at 0x7f44494bef98>,\n",
       " <keras.layers.normalization.batch_normalization.BatchNormalization at 0x7f44494ff390>,\n",
       " <keras.layers.core.Activation at 0x7f4449560ba8>,\n",
       " <keras.layers.core.Activation at 0x7f44494be518>,\n",
       " <keras.layers.core.Activation at 0x7f44494ce588>,\n",
       " <keras.layers.core.Activation at 0x7f444957f278>,\n",
       " <keras.layers.merge.Concatenate at 0x7f44494e8710>,\n",
       " <keras.layers.convolutional.Conv2D at 0x7f444942cf98>,\n",
       " <keras.layers.normalization.batch_normalization.BatchNormalization at 0x7f444942cb00>,\n",
       " <keras.layers.core.Activation at 0x7f444941ffd0>,\n",
       " <keras.layers.convolutional.Conv2D at 0x7f4449479cc0>,\n",
       " <keras.layers.convolutional.Conv2D at 0x7f44494318d0>,\n",
       " <keras.layers.normalization.batch_normalization.BatchNormalization at 0x7f4449479b70>,\n",
       " <keras.layers.normalization.batch_normalization.BatchNormalization at 0x7f44494494a8>,\n",
       " <keras.layers.core.Activation at 0x7f4449482a90>,\n",
       " <keras.layers.core.Activation at 0x7f4449449f98>,\n",
       " <keras.layers.pooling.AveragePooling2D at 0x7f4449449e48>,\n",
       " <keras.layers.convolutional.Conv2D at 0x7f44494e87f0>,\n",
       " <keras.layers.convolutional.Conv2D at 0x7f4449482f98>,\n",
       " <keras.layers.convolutional.Conv2D at 0x7f4449458cf8>,\n",
       " <keras.layers.convolutional.Conv2D at 0x7f44494310b8>,\n",
       " <keras.layers.normalization.batch_normalization.BatchNormalization at 0x7f44494f3dd8>,\n",
       " <keras.layers.normalization.batch_normalization.BatchNormalization at 0x7f4449499d30>,\n",
       " <keras.layers.normalization.batch_normalization.BatchNormalization at 0x7f4449458898>,\n",
       " <keras.layers.normalization.batch_normalization.BatchNormalization at 0x7f4449499f98>,\n",
       " <keras.layers.core.Activation at 0x7f44494e8160>,\n",
       " <keras.layers.core.Activation at 0x7f444941f4e0>,\n",
       " <keras.layers.core.Activation at 0x7f4449452518>,\n",
       " <keras.layers.core.Activation at 0x7f444948b2b0>,\n",
       " <keras.layers.merge.Concatenate at 0x7f444956fc18>,\n",
       " <keras.layers.convolutional.Conv2D at 0x7f4449482780>,\n",
       " <keras.layers.normalization.batch_normalization.BatchNormalization at 0x7f44494c9668>,\n",
       " <keras.layers.core.Activation at 0x7f44493e62b0>,\n",
       " <keras.layers.convolutional.Conv2D at 0x7f44493ec710>,\n",
       " <keras.layers.normalization.batch_normalization.BatchNormalization at 0x7f44493fe1d0>,\n",
       " <keras.layers.core.Activation at 0x7f4449407908>,\n",
       " <keras.layers.convolutional.Conv2D at 0x7f4449518208>,\n",
       " <keras.layers.convolutional.Conv2D at 0x7f4449407668>,\n",
       " <keras.layers.normalization.batch_normalization.BatchNormalization at 0x7f44494b1940>,\n",
       " <keras.layers.normalization.batch_normalization.BatchNormalization at 0x7f4449407e48>,\n",
       " <keras.layers.core.Activation at 0x7f44495d22e8>,\n",
       " <keras.layers.core.Activation at 0x7f4449412c50>,\n",
       " <keras.layers.pooling.MaxPooling2D at 0x7f4449417be0>,\n",
       " <keras.layers.merge.Concatenate at 0x7f44493ab5f8>,\n",
       " <keras.layers.convolutional.Conv2D at 0x7f4449465da0>,\n",
       " <keras.layers.normalization.batch_normalization.BatchNormalization at 0x7f444948b9e8>,\n",
       " <keras.layers.core.Activation at 0x7f444948b208>,\n",
       " <keras.layers.convolutional.Conv2D at 0x7f4449431278>,\n",
       " <keras.layers.normalization.batch_normalization.BatchNormalization at 0x7f4449360dd8>,\n",
       " <keras.layers.core.Activation at 0x7f4449362978>,\n",
       " <keras.layers.convolutional.Conv2D at 0x7f44493bff28>,\n",
       " <keras.layers.convolutional.Conv2D at 0x7f444936acc0>,\n",
       " <keras.layers.normalization.batch_normalization.BatchNormalization at 0x7f44493bf780>,\n",
       " <keras.layers.normalization.batch_normalization.BatchNormalization at 0x7f444937bb00>,\n",
       " <keras.layers.core.Activation at 0x7f44493c9780>,\n",
       " <keras.layers.core.Activation at 0x7f444936ab38>,\n",
       " <keras.layers.convolutional.Conv2D at 0x7f44493d1dd8>,\n",
       " <keras.layers.convolutional.Conv2D at 0x7f4449380198>,\n",
       " <keras.layers.normalization.batch_normalization.BatchNormalization at 0x7f44493ab4a8>,\n",
       " <keras.layers.normalization.batch_normalization.BatchNormalization at 0x7f4449390b00>,\n",
       " <keras.layers.core.Activation at 0x7f44493a38d0>,\n",
       " <keras.layers.core.Activation at 0x7f444939d9e8>,\n",
       " <keras.layers.pooling.AveragePooling2D at 0x7f4449336128>,\n",
       " <keras.layers.convolutional.Conv2D at 0x7f44493ae0b8>,\n",
       " <keras.layers.convolutional.Conv2D at 0x7f4449417940>,\n",
       " <keras.layers.convolutional.Conv2D at 0x7f444939d7b8>,\n",
       " <keras.layers.convolutional.Conv2D at 0x7f444933e550>,\n",
       " <keras.layers.normalization.batch_normalization.BatchNormalization at 0x7f44493ae8d0>,\n",
       " <keras.layers.normalization.batch_normalization.BatchNormalization at 0x7f44493fee48>,\n",
       " <keras.layers.normalization.batch_normalization.BatchNormalization at 0x7f444932a5c0>,\n",
       " <keras.layers.normalization.batch_normalization.BatchNormalization at 0x7f4449347978>,\n",
       " <keras.layers.core.Activation at 0x7f44493ab940>,\n",
       " <keras.layers.core.Activation at 0x7f44493f73c8>,\n",
       " <keras.layers.core.Activation at 0x7f444932aba8>,\n",
       " <keras.layers.core.Activation at 0x7f44493472e8>,\n",
       " <keras.layers.merge.Concatenate at 0x7f444934d2e8>,\n",
       " <keras.layers.convolutional.Conv2D at 0x7f444940e898>,\n",
       " <keras.layers.normalization.batch_normalization.BatchNormalization at 0x7f4449354160>,\n",
       " <keras.layers.core.Activation at 0x7f44492eb978>,\n",
       " <keras.layers.convolutional.Conv2D at 0x7f44492f7eb8>,\n",
       " <keras.layers.normalization.batch_normalization.BatchNormalization at 0x7f44492f7518>,\n",
       " <keras.layers.core.Activation at 0x7f44492eb2e8>,\n",
       " <keras.layers.convolutional.Conv2D at 0x7f444934d908>,\n",
       " <keras.layers.convolutional.Conv2D at 0x7f44492efd30>,\n",
       " <keras.layers.normalization.batch_normalization.BatchNormalization at 0x7f444937b208>,\n",
       " <keras.layers.normalization.batch_normalization.BatchNormalization at 0x7f444930f470>,\n",
       " <keras.layers.core.Activation at 0x7f44493886a0>,\n",
       " <keras.layers.core.Activation at 0x7f444930fa58>,\n",
       " <keras.layers.convolutional.Conv2D at 0x7f444936a940>,\n",
       " <keras.layers.convolutional.Conv2D at 0x7f4449317b00>,\n",
       " <keras.layers.normalization.batch_normalization.BatchNormalization at 0x7f4449372b70>,\n",
       " <keras.layers.normalization.batch_normalization.BatchNormalization at 0x7f4449317f60>,\n",
       " <keras.layers.core.Activation at 0x7f4449362b00>,\n",
       " <keras.layers.core.Activation at 0x7f44492a9a58>,\n",
       " <keras.layers.pooling.AveragePooling2D at 0x7f44492c2f98>,\n",
       " <keras.layers.convolutional.Conv2D at 0x7f444933ea20>,\n",
       " <keras.layers.convolutional.Conv2D at 0x7f4449452828>,\n",
       " <keras.layers.convolutional.Conv2D at 0x7f44492ae358>,\n",
       " <keras.layers.convolutional.Conv2D at 0x7f44492ae5c0>,\n",
       " <keras.layers.normalization.batch_normalization.BatchNormalization at 0x7f44493279e8>,\n",
       " <keras.layers.normalization.batch_normalization.BatchNormalization at 0x7f44493e6ef0>,\n",
       " <keras.layers.normalization.batch_normalization.BatchNormalization at 0x7f44492be8d0>,\n",
       " <keras.layers.normalization.batch_normalization.BatchNormalization at 0x7f44492c2b70>,\n",
       " <keras.layers.core.Activation at 0x7f444939db70>,\n",
       " <keras.layers.core.Activation at 0x7f444940e4a8>,\n",
       " <keras.layers.core.Activation at 0x7f44492c23c8>,\n",
       " <keras.layers.core.Activation at 0x7f444929f2b0>,\n",
       " <keras.layers.merge.Concatenate at 0x7f4449317400>,\n",
       " <keras.layers.convolutional.Conv2D at 0x7f4449274a58>,\n",
       " <keras.layers.normalization.batch_normalization.BatchNormalization at 0x7f4449284c18>,\n",
       " <keras.layers.core.Activation at 0x7f44492908d0>,\n",
       " <keras.layers.convolutional.Conv2D at 0x7f444928a0f0>,\n",
       " <keras.layers.normalization.batch_normalization.BatchNormalization at 0x7f444929e3c8>,\n",
       " <keras.layers.core.Activation at 0x7f444929e7b8>,\n",
       " <keras.layers.convolutional.Conv2D at 0x7f4449412cf8>,\n",
       " <keras.layers.convolutional.Conv2D at 0x7f4449227a58>,\n",
       " <keras.layers.normalization.batch_normalization.BatchNormalization at 0x7f4449380c50>,\n",
       " <keras.layers.normalization.batch_normalization.BatchNormalization at 0x7f444922ce10>,\n",
       " <keras.layers.core.Activation at 0x7f4449372e80>,\n",
       " <keras.layers.core.Activation at 0x7f444923e5c0>,\n",
       " <keras.layers.convolutional.Conv2D at 0x7f44493725c0>,\n",
       " <keras.layers.convolutional.Conv2D at 0x7f444923e5f8>,\n",
       " <keras.layers.normalization.batch_normalization.BatchNormalization at 0x7f44492cc7f0>,\n",
       " <keras.layers.normalization.batch_normalization.BatchNormalization at 0x7f444922c390>,\n",
       " <keras.layers.core.Activation at 0x7f44492646d8>,\n",
       " <keras.layers.core.Activation at 0x7f444970df60>,\n",
       " <keras.layers.pooling.AveragePooling2D at 0x7f444957f668>,\n",
       " <keras.layers.convolutional.Conv2D at 0x7f44492ebc50>,\n",
       " <keras.layers.convolutional.Conv2D at 0x7f4449264470>,\n",
       " <keras.layers.convolutional.Conv2D at 0x7f4449c48ac8>,\n",
       " <keras.layers.convolutional.Conv2D at 0x7f4449593518>,\n",
       " <keras.layers.normalization.batch_normalization.BatchNormalization at 0x7f444949f630>,\n",
       " <keras.layers.normalization.batch_normalization.BatchNormalization at 0x7f444926bf28>,\n",
       " <keras.layers.normalization.batch_normalization.BatchNormalization at 0x7f44495684e0>,\n",
       " <keras.layers.normalization.batch_normalization.BatchNormalization at 0x7f44494c97b8>,\n",
       " <keras.layers.core.Activation at 0x7f4449360d30>,\n",
       " <keras.layers.core.Activation at 0x7f4449274860>,\n",
       " <keras.layers.core.Activation at 0x7f44494e1ac8>,\n",
       " <keras.layers.core.Activation at 0x7f44493a3d30>,\n",
       " <keras.layers.merge.Concatenate at 0x7f444952c128>,\n",
       " <keras.layers.convolutional.Conv2D at 0x7f4449460710>,\n",
       " <keras.layers.normalization.batch_normalization.BatchNormalization at 0x7f44495cbef0>,\n",
       " <keras.layers.core.Activation at 0x7f44495c52b0>,\n",
       " <keras.layers.convolutional.Conv2D at 0x7f4449284278>,\n",
       " <keras.layers.normalization.batch_normalization.BatchNormalization at 0x7f44492642e8>,\n",
       " <keras.layers.core.Activation at 0x7f44492dc0f0>,\n",
       " <keras.layers.convolutional.Conv2D at 0x7f44492906d8>,\n",
       " <keras.layers.convolutional.Conv2D at 0x7f444933e710>,\n",
       " <keras.layers.normalization.batch_normalization.BatchNormalization at 0x7f444923e4e0>,\n",
       " <keras.layers.normalization.batch_normalization.BatchNormalization at 0x7f4449284080>,\n",
       " <keras.layers.core.Activation at 0x7f4449227240>,\n",
       " <keras.layers.core.Activation at 0x7f44495cbe10>,\n",
       " <keras.layers.convolutional.Conv2D at 0x7f444922c470>,\n",
       " <keras.layers.convolutional.Conv2D at 0x7f4449347e80>,\n",
       " <keras.layers.normalization.batch_normalization.BatchNormalization at 0x7f4449347da0>,\n",
       " <keras.layers.normalization.batch_normalization.BatchNormalization at 0x7f44492bee48>,\n",
       " <keras.layers.core.Activation at 0x7f44492be470>,\n",
       " <keras.layers.core.Activation at 0x7f44493c9630>,\n",
       " <keras.layers.pooling.AveragePooling2D at 0x7f44494942e8>,\n",
       " <keras.layers.convolutional.Conv2D at 0x7f44494171d0>,\n",
       " <keras.layers.convolutional.Conv2D at 0x7f44493bf6d8>,\n",
       " <keras.layers.convolutional.Conv2D at 0x7f4449298748>,\n",
       " <keras.layers.convolutional.Conv2D at 0x7f444958a1d0>,\n",
       " <keras.layers.normalization.batch_normalization.BatchNormalization at 0x7f44493f7be0>,\n",
       " <keras.layers.normalization.batch_normalization.BatchNormalization at 0x7f4449458c18>,\n",
       " <keras.layers.normalization.batch_normalization.BatchNormalization at 0x7f4449499048>,\n",
       " <keras.layers.normalization.batch_normalization.BatchNormalization at 0x7f4449390dd8>,\n",
       " <keras.layers.core.Activation at 0x7f44495755f8>,\n",
       " <keras.layers.core.Activation at 0x7f4449460a58>,\n",
       " <keras.layers.core.Activation at 0x7f444943a400>,\n",
       " <keras.layers.core.Activation at 0x7f44495f1f60>,\n",
       " <keras.layers.merge.Concatenate at 0x7f444934d240>,\n",
       " <keras.layers.convolutional.Conv2D at 0x7f444949f5c0>,\n",
       " <keras.layers.normalization.batch_normalization.BatchNormalization at 0x7f44492ae668>,\n",
       " <keras.layers.core.Activation at 0x7f444930f2b0>,\n",
       " <keras.layers.convolutional.Conv2D at 0x7f44491ce550>,\n",
       " <keras.layers.normalization.batch_normalization.BatchNormalization at 0x7f44491dc3c8>,\n",
       " <keras.layers.core.Activation at 0x7f44491dc7b8>,\n",
       " <keras.layers.convolutional.Conv2D at 0x7f4449327668>,\n",
       " <keras.layers.convolutional.Conv2D at 0x7f44491654e0>,\n",
       " <keras.layers.normalization.batch_normalization.BatchNormalization at 0x7f4449407898>,\n",
       " <keras.layers.normalization.batch_normalization.BatchNormalization at 0x7f444929f7f0>,\n",
       " <keras.layers.core.Activation at 0x7f4449482c18>,\n",
       " <keras.layers.core.Activation at 0x7f44492ae7f0>,\n",
       " <keras.layers.convolutional.Conv2D at 0x7f44493276d8>,\n",
       " <keras.layers.convolutional.Conv2D at 0x7f4449327048>,\n",
       " <keras.layers.normalization.batch_normalization.BatchNormalization at 0x7f4449412160>,\n",
       " <keras.layers.normalization.batch_normalization.BatchNormalization at 0x7f4449452278>,\n",
       " <keras.layers.core.Activation at 0x7f44492ef208>,\n",
       " <keras.layers.core.Activation at 0x7f444940e160>,\n",
       " <keras.layers.pooling.MaxPooling2D at 0x7f44492ff278>,\n",
       " <keras.layers.merge.Concatenate at 0x7f44493906a0>,\n",
       " <keras.layers.convolutional.Conv2D at 0x7f4449131a90>,\n",
       " <keras.layers.normalization.batch_normalization.BatchNormalization at 0x7f444913dc18>,\n",
       " <keras.layers.core.Activation at 0x7f44491317f0>,\n",
       " <keras.layers.convolutional.Conv2D at 0x7f44492841d0>,\n",
       " <keras.layers.convolutional.Conv2D at 0x7f44491427b8>,\n",
       " <keras.layers.normalization.batch_normalization.BatchNormalization at 0x7f44492b7780>,\n",
       " <keras.layers.normalization.batch_normalization.BatchNormalization at 0x7f4449155b70>,\n",
       " <keras.layers.core.Activation at 0x7f444917e668>,\n",
       " <keras.layers.core.Activation at 0x7f444914a550>,\n",
       " <keras.layers.convolutional.Conv2D at 0x7f444917e4e0>,\n",
       " <keras.layers.convolutional.Conv2D at 0x7f444918dc88>,\n",
       " <keras.layers.convolutional.Conv2D at 0x7f444914dac8>,\n",
       " <keras.layers.convolutional.Conv2D at 0x7f4449131710>,\n",
       " <keras.layers.pooling.AveragePooling2D at 0x7f444916eb00>,\n",
       " <keras.layers.convolutional.Conv2D at 0x7f44494b74e0>,\n",
       " <keras.layers.normalization.batch_normalization.BatchNormalization at 0x7f4449186b70>,\n",
       " <keras.layers.normalization.batch_normalization.BatchNormalization at 0x7f444919b860>,\n",
       " <keras.layers.normalization.batch_normalization.BatchNormalization at 0x7f444914d860>,\n",
       " <keras.layers.normalization.batch_normalization.BatchNormalization at 0x7f444919bbe0>,\n",
       " <keras.layers.convolutional.Conv2D at 0x7f44495750b8>,\n",
       " <keras.layers.normalization.batch_normalization.BatchNormalization at 0x7f44493d1f60>,\n",
       " <keras.layers.core.Activation at 0x7f444918d4a8>,\n",
       " <keras.layers.core.Activation at 0x7f4449122978>,\n",
       " <keras.layers.core.Activation at 0x7f44491292b0>,\n",
       " <keras.layers.core.Activation at 0x7f444918d5f8>,\n",
       " <keras.layers.normalization.batch_normalization.BatchNormalization at 0x7f4449390518>,\n",
       " <keras.layers.core.Activation at 0x7f44492987f0>,\n",
       " <keras.layers.merge.Concatenate at 0x7f4449122e10>,\n",
       " <keras.layers.merge.Concatenate at 0x7f4449193cc0>,\n",
       " <keras.layers.core.Activation at 0x7f44493ec2e8>,\n",
       " <keras.layers.merge.Concatenate at 0x7f444929f240>,\n",
       " <keras.layers.convolutional.Conv2D at 0x7f44490c3d68>,\n",
       " <keras.layers.normalization.batch_normalization.BatchNormalization at 0x7f44490cf9b0>,\n",
       " <keras.layers.core.Activation at 0x7f44490d6550>,\n",
       " <keras.layers.convolutional.Conv2D at 0x7f44490fe7f0>,\n",
       " <keras.layers.convolutional.Conv2D at 0x7f44490cf470>,\n",
       " <keras.layers.normalization.batch_normalization.BatchNormalization at 0x7f444910d128>,\n",
       " <keras.layers.normalization.batch_normalization.BatchNormalization at 0x7f44490b5048>,\n",
       " <keras.layers.core.Activation at 0x7f4449106ac8>,\n",
       " <keras.layers.core.Activation at 0x7f44490a2588>,\n",
       " <keras.layers.convolutional.Conv2D at 0x7f44490fe518>,\n",
       " <keras.layers.convolutional.Conv2D at 0x7f444911a4a8>,\n",
       " <keras.layers.convolutional.Conv2D at 0x7f44490a2550>,\n",
       " <keras.layers.convolutional.Conv2D at 0x7f444937b160>,\n",
       " <keras.layers.pooling.AveragePooling2D at 0x7f4449131780>,\n",
       " <keras.layers.convolutional.Conv2D at 0x7f44490e49b0>,\n",
       " <keras.layers.normalization.batch_normalization.BatchNormalization at 0x7f444911aba8>,\n",
       " <keras.layers.normalization.batch_normalization.BatchNormalization at 0x7f44490b5630>,\n",
       " <keras.layers.normalization.batch_normalization.BatchNormalization at 0x7f44491060f0>,\n",
       " <keras.layers.normalization.batch_normalization.BatchNormalization at 0x7f44493fe860>,\n",
       " <keras.layers.convolutional.Conv2D at 0x7f444913dbe0>,\n",
       " <keras.layers.normalization.batch_normalization.BatchNormalization at 0x7f44490f1630>,\n",
       " <keras.layers.core.Activation at 0x7f4449113e48>,\n",
       " <keras.layers.core.Activation at 0x7f44490b5c18>,\n",
       " <keras.layers.core.Activation at 0x7f44490fe748>,\n",
       " <keras.layers.core.Activation at 0x7f44490fe208>,\n",
       " <keras.layers.normalization.batch_normalization.BatchNormalization at 0x7f444906c198>,\n",
       " <keras.layers.core.Activation at 0x7f44490fe668>,\n",
       " <keras.layers.merge.Concatenate at 0x7f44490bc198>,\n",
       " <keras.layers.merge.Concatenate at 0x7f444917eda0>,\n",
       " <keras.layers.core.Activation at 0x7f44491312e8>,\n",
       " <keras.layers.merge.Concatenate at 0x7f4449131128>,\n",
       " <keras.layers.pooling.GlobalAveragePooling2D at 0x7f44490808d0>]"
      ]
     },
     "execution_count": 12,
     "metadata": {},
     "output_type": "execute_result"
    }
   ],
   "source": [
    "model.layers[0].layers"
   ]
  },
  {
   "cell_type": "code",
   "execution_count": 13,
   "metadata": {
    "colab": {
     "base_uri": "https://localhost:8080/"
    },
    "id": "DZJAiJdpahjT",
    "outputId": "044595de-28ca-4f06-d116-3f927890c91a"
   },
   "outputs": [
    {
     "name": "stdout",
     "output_type": "stream",
     "text": [
      "Model: \"sequential\"\n",
      "_________________________________________________________________\n",
      "Layer (type)                 Output Shape              Param #   \n",
      "=================================================================\n",
      "inception_v3 (Functional)    (None, 2048)              21802784  \n",
      "_________________________________________________________________\n",
      "dense (Dense)                (None, 2)                 4098      \n",
      "=================================================================\n",
      "Total params: 21,806,882\n",
      "Trainable params: 4,098\n",
      "Non-trainable params: 21,802,784\n",
      "_________________________________________________________________\n"
     ]
    }
   ],
   "source": [
    "model.layers[0].trainable = False\n",
    "model.summary()"
   ]
  },
  {
   "cell_type": "code",
   "execution_count": 14,
   "metadata": {
    "id": "hbKytRdexJ4g"
   },
   "outputs": [],
   "source": [
    "model.compile(optimizer='adam', loss='categorical_crossentropy', metrics=['accuracy'])"
   ]
  },
  {
   "cell_type": "code",
   "execution_count": 15,
   "metadata": {
    "id": "5q8kv4gUxPGF"
   },
   "outputs": [],
   "source": [
    "steps_per_epoch_training = len(train_generator)\n",
    "steps_per_epoch_validation = len(validation_generator)\n",
    "num_epochs = 2"
   ]
  },
  {
   "cell_type": "code",
   "execution_count": 16,
   "metadata": {
    "colab": {
     "base_uri": "https://localhost:8080/"
    },
    "id": "3pvNfZSDxrCL",
    "outputId": "44e25eb1-01c9-4918-9cbc-d5a1ce9073b1"
   },
   "outputs": [
    {
     "name": "stdout",
     "output_type": "stream",
     "text": [
      "Epoch 1/2\n",
      "25/25 [==============================] - 134s 5s/step - loss: 0.2083 - accuracy: 0.9025 - val_loss: 0.0696 - val_accuracy: 0.9808\n",
      "Epoch 2/2\n",
      "25/25 [==============================] - 79s 3s/step - loss: 0.0471 - accuracy: 0.9858 - val_loss: 0.0592 - val_accuracy: 0.9846\n"
     ]
    }
   ],
   "source": [
    "#fit_history = model.fit_generator(\n",
    "fit_history = model.fit(    \n",
    "    train_generator,\n",
    "    steps_per_epoch=steps_per_epoch_training,\n",
    "    epochs=num_epochs,\n",
    "    validation_data=validation_generator,\n",
    "    validation_steps=steps_per_epoch_validation,\n",
    "    verbose=1,\n",
    ")"
   ]
  },
  {
   "cell_type": "code",
   "execution_count": 17,
   "metadata": {
    "id": "YCOMt5_s-xox"
   },
   "outputs": [],
   "source": [
    "model.save('classifier_inception_v3_model.h5')"
   ]
  },
  {
   "cell_type": "markdown",
   "metadata": {
    "id": "stLxDcETahjT"
   },
   "source": [
    "   "
   ]
  }
 ],
 "metadata": {
  "colab": {
   "collapsed_sections": [],
   "name": "DL0321EN-4-1-Comparing-Models-py-v1.0-checkpoint.ipynb",
   "provenance": []
  },
  "kernelspec": {
   "display_name": "Python 3",
   "language": "python",
   "name": "python3"
  },
  "language_info": {
   "codemirror_mode": {
    "name": "ipython",
    "version": 3
   },
   "file_extension": ".py",
   "mimetype": "text/x-python",
   "name": "python",
   "nbconvert_exporter": "python",
   "pygments_lexer": "ipython3",
   "version": "3.8.10"
  }
 },
 "nbformat": 4,
 "nbformat_minor": 1
}
