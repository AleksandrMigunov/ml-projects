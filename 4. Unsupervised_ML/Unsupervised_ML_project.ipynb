{
 "cells": [
  {
   "cell_type": "markdown",
   "id": "5d1734c5",
   "metadata": {},
   "source": [
    "<h1>Unsupervised Machine Learning (ML Professional Sertificate) - Final Project</h1>"
   ]
  },
  {
   "cell_type": "code",
   "execution_count": 1,
   "id": "50cb950b",
   "metadata": {},
   "outputs": [],
   "source": [
    "import itertools\n",
    "import numpy as np\n",
    "import matplotlib.pyplot as plt\n",
    "from matplotlib.ticker import NullFormatter\n",
    "import pandas as pd\n",
    "import numpy as np\n",
    "import matplotlib.ticker as ticker\n",
    "from sklearn import preprocessing\n",
    "%matplotlib inline"
   ]
  },
  {
   "cell_type": "code",
   "execution_count": 3,
   "id": "fa904392",
   "metadata": {},
   "outputs": [
    {
     "data": {
      "text/html": [
       "<div>\n",
       "<style scoped>\n",
       "    .dataframe tbody tr th:only-of-type {\n",
       "        vertical-align: middle;\n",
       "    }\n",
       "\n",
       "    .dataframe tbody tr th {\n",
       "        vertical-align: top;\n",
       "    }\n",
       "\n",
       "    .dataframe thead th {\n",
       "        text-align: right;\n",
       "    }\n",
       "</style>\n",
       "<table border=\"1\" class=\"dataframe\">\n",
       "  <thead>\n",
       "    <tr style=\"text-align: right;\">\n",
       "      <th></th>\n",
       "      <th>ID</th>\n",
       "      <th>Clump</th>\n",
       "      <th>UnifSize</th>\n",
       "      <th>UnifShape</th>\n",
       "      <th>MargAdh</th>\n",
       "      <th>SingEpiSize</th>\n",
       "      <th>BareNuc</th>\n",
       "      <th>BlandChrom</th>\n",
       "      <th>NormNucl</th>\n",
       "      <th>Mit</th>\n",
       "      <th>Class</th>\n",
       "    </tr>\n",
       "  </thead>\n",
       "  <tbody>\n",
       "    <tr>\n",
       "      <th>0</th>\n",
       "      <td>1000025</td>\n",
       "      <td>5</td>\n",
       "      <td>1</td>\n",
       "      <td>1</td>\n",
       "      <td>1</td>\n",
       "      <td>2</td>\n",
       "      <td>1</td>\n",
       "      <td>3</td>\n",
       "      <td>1</td>\n",
       "      <td>1</td>\n",
       "      <td>2</td>\n",
       "    </tr>\n",
       "    <tr>\n",
       "      <th>1</th>\n",
       "      <td>1002945</td>\n",
       "      <td>5</td>\n",
       "      <td>4</td>\n",
       "      <td>4</td>\n",
       "      <td>5</td>\n",
       "      <td>7</td>\n",
       "      <td>10</td>\n",
       "      <td>3</td>\n",
       "      <td>2</td>\n",
       "      <td>1</td>\n",
       "      <td>2</td>\n",
       "    </tr>\n",
       "    <tr>\n",
       "      <th>2</th>\n",
       "      <td>1015425</td>\n",
       "      <td>3</td>\n",
       "      <td>1</td>\n",
       "      <td>1</td>\n",
       "      <td>1</td>\n",
       "      <td>2</td>\n",
       "      <td>2</td>\n",
       "      <td>3</td>\n",
       "      <td>1</td>\n",
       "      <td>1</td>\n",
       "      <td>2</td>\n",
       "    </tr>\n",
       "    <tr>\n",
       "      <th>3</th>\n",
       "      <td>1016277</td>\n",
       "      <td>6</td>\n",
       "      <td>8</td>\n",
       "      <td>8</td>\n",
       "      <td>1</td>\n",
       "      <td>3</td>\n",
       "      <td>4</td>\n",
       "      <td>3</td>\n",
       "      <td>7</td>\n",
       "      <td>1</td>\n",
       "      <td>2</td>\n",
       "    </tr>\n",
       "    <tr>\n",
       "      <th>4</th>\n",
       "      <td>1017023</td>\n",
       "      <td>4</td>\n",
       "      <td>1</td>\n",
       "      <td>1</td>\n",
       "      <td>3</td>\n",
       "      <td>2</td>\n",
       "      <td>1</td>\n",
       "      <td>3</td>\n",
       "      <td>1</td>\n",
       "      <td>1</td>\n",
       "      <td>2</td>\n",
       "    </tr>\n",
       "  </tbody>\n",
       "</table>\n",
       "</div>"
      ],
      "text/plain": [
       "        ID  Clump  UnifSize  UnifShape  MargAdh  SingEpiSize BareNuc  \\\n",
       "0  1000025      5         1          1        1            2       1   \n",
       "1  1002945      5         4          4        5            7      10   \n",
       "2  1015425      3         1          1        1            2       2   \n",
       "3  1016277      6         8          8        1            3       4   \n",
       "4  1017023      4         1          1        3            2       1   \n",
       "\n",
       "   BlandChrom  NormNucl  Mit  Class  \n",
       "0           3         1    1      2  \n",
       "1           3         2    1      2  \n",
       "2           3         1    1      2  \n",
       "3           3         7    1      2  \n",
       "4           3         1    1      2  "
      ]
     },
     "execution_count": 3,
     "metadata": {},
     "output_type": "execute_result"
    }
   ],
   "source": [
    "df = pd.read_csv('cell_samples.csv')\n",
    "df.head()"
   ]
  },
  {
   "cell_type": "code",
   "execution_count": 4,
   "id": "f0397a32",
   "metadata": {},
   "outputs": [
    {
     "data": {
      "text/plain": [
       "(699, 11)"
      ]
     },
     "execution_count": 4,
     "metadata": {},
     "output_type": "execute_result"
    }
   ],
   "source": [
    "df.shape"
   ]
  },
  {
   "cell_type": "code",
   "execution_count": 5,
   "id": "674a933f",
   "metadata": {},
   "outputs": [
    {
     "data": {
      "text/plain": [
       "ID              int64\n",
       "Clump           int64\n",
       "UnifSize        int64\n",
       "UnifShape       int64\n",
       "MargAdh         int64\n",
       "SingEpiSize     int64\n",
       "BareNuc        object\n",
       "BlandChrom      int64\n",
       "NormNucl        int64\n",
       "Mit             int64\n",
       "Class           int64\n",
       "dtype: object"
      ]
     },
     "execution_count": 5,
     "metadata": {},
     "output_type": "execute_result"
    }
   ],
   "source": [
    "df.dtypes"
   ]
  },
  {
   "cell_type": "code",
   "execution_count": 6,
   "id": "4020a48d",
   "metadata": {},
   "outputs": [
    {
     "data": {
      "text/plain": [
       "ID             0\n",
       "Clump          0\n",
       "UnifSize       0\n",
       "UnifShape      0\n",
       "MargAdh        0\n",
       "SingEpiSize    0\n",
       "BareNuc        0\n",
       "BlandChrom     0\n",
       "NormNucl       0\n",
       "Mit            0\n",
       "Class          0\n",
       "dtype: int64"
      ]
     },
     "execution_count": 6,
     "metadata": {},
     "output_type": "execute_result"
    }
   ],
   "source": [
    "df.isna().sum()"
   ]
  },
  {
   "cell_type": "code",
   "execution_count": 7,
   "id": "a58d5281",
   "metadata": {},
   "outputs": [
    {
     "data": {
      "text/plain": [
       "2    458\n",
       "4    241\n",
       "Name: Class, dtype: int64"
      ]
     },
     "execution_count": 7,
     "metadata": {},
     "output_type": "execute_result"
    }
   ],
   "source": [
    "df['Class'].value_counts()"
   ]
  },
  {
   "cell_type": "code",
   "execution_count": 8,
   "id": "08acfc7c",
   "metadata": {},
   "outputs": [
    {
     "data": {
      "text/plain": [
       "ID             int64\n",
       "Clump          int64\n",
       "UnifSize       int64\n",
       "UnifShape      int64\n",
       "MargAdh        int64\n",
       "SingEpiSize    int64\n",
       "BareNuc        int64\n",
       "BlandChrom     int64\n",
       "NormNucl       int64\n",
       "Mit            int64\n",
       "Class          int64\n",
       "dtype: object"
      ]
     },
     "execution_count": 8,
     "metadata": {},
     "output_type": "execute_result"
    }
   ],
   "source": [
    "df = df[pd.to_numeric(df['BareNuc'], errors='coerce').notnull()]\n",
    "df['BareNuc'] = df['BareNuc'].astype('int')\n",
    "df.dtypes"
   ]
  },
  {
   "cell_type": "code",
   "execution_count": 9,
   "id": "e9bf5c08",
   "metadata": {},
   "outputs": [
    {
     "data": {
      "text/plain": [
       "ID             0\n",
       "Clump          0\n",
       "UnifSize       0\n",
       "UnifShape      0\n",
       "MargAdh        0\n",
       "SingEpiSize    0\n",
       "BareNuc        0\n",
       "BlandChrom     0\n",
       "NormNucl       0\n",
       "Mit            0\n",
       "Class          0\n",
       "dtype: int64"
      ]
     },
     "execution_count": 9,
     "metadata": {},
     "output_type": "execute_result"
    }
   ],
   "source": [
    "df.isna().sum()"
   ]
  },
  {
   "cell_type": "code",
   "execution_count": 10,
   "id": "4b103bf3",
   "metadata": {},
   "outputs": [
    {
     "name": "stdout",
     "output_type": "stream",
     "text": [
      "<class 'pandas.core.frame.DataFrame'>\n",
      "Int64Index: 683 entries, 0 to 698\n",
      "Data columns (total 11 columns):\n",
      " #   Column       Non-Null Count  Dtype\n",
      "---  ------       --------------  -----\n",
      " 0   ID           683 non-null    int64\n",
      " 1   Clump        683 non-null    int64\n",
      " 2   UnifSize     683 non-null    int64\n",
      " 3   UnifShape    683 non-null    int64\n",
      " 4   MargAdh      683 non-null    int64\n",
      " 5   SingEpiSize  683 non-null    int64\n",
      " 6   BareNuc      683 non-null    int64\n",
      " 7   BlandChrom   683 non-null    int64\n",
      " 8   NormNucl     683 non-null    int64\n",
      " 9   Mit          683 non-null    int64\n",
      " 10  Class        683 non-null    int64\n",
      "dtypes: int64(11)\n",
      "memory usage: 64.0 KB\n"
     ]
    }
   ],
   "source": [
    "df.info()"
   ]
  },
  {
   "cell_type": "code",
   "execution_count": 11,
   "id": "96673d07",
   "metadata": {},
   "outputs": [
    {
     "data": {
      "text/html": [
       "<div>\n",
       "<style scoped>\n",
       "    .dataframe tbody tr th:only-of-type {\n",
       "        vertical-align: middle;\n",
       "    }\n",
       "\n",
       "    .dataframe tbody tr th {\n",
       "        vertical-align: top;\n",
       "    }\n",
       "\n",
       "    .dataframe thead th {\n",
       "        text-align: right;\n",
       "    }\n",
       "</style>\n",
       "<table border=\"1\" class=\"dataframe\">\n",
       "  <thead>\n",
       "    <tr style=\"text-align: right;\">\n",
       "      <th></th>\n",
       "      <th>ID</th>\n",
       "      <th>Clump</th>\n",
       "      <th>UnifSize</th>\n",
       "      <th>UnifShape</th>\n",
       "      <th>MargAdh</th>\n",
       "      <th>SingEpiSize</th>\n",
       "      <th>BareNuc</th>\n",
       "      <th>BlandChrom</th>\n",
       "      <th>NormNucl</th>\n",
       "      <th>Mit</th>\n",
       "      <th>Class</th>\n",
       "    </tr>\n",
       "  </thead>\n",
       "  <tbody>\n",
       "    <tr>\n",
       "      <th>count</th>\n",
       "      <td>6.830000e+02</td>\n",
       "      <td>683.000000</td>\n",
       "      <td>683.000000</td>\n",
       "      <td>683.000000</td>\n",
       "      <td>683.000000</td>\n",
       "      <td>683.000000</td>\n",
       "      <td>683.000000</td>\n",
       "      <td>683.000000</td>\n",
       "      <td>683.000000</td>\n",
       "      <td>683.000000</td>\n",
       "      <td>683.000000</td>\n",
       "    </tr>\n",
       "    <tr>\n",
       "      <th>mean</th>\n",
       "      <td>1.076720e+06</td>\n",
       "      <td>4.442167</td>\n",
       "      <td>3.150805</td>\n",
       "      <td>3.215227</td>\n",
       "      <td>2.830161</td>\n",
       "      <td>3.234261</td>\n",
       "      <td>3.544656</td>\n",
       "      <td>3.445095</td>\n",
       "      <td>2.869693</td>\n",
       "      <td>1.603221</td>\n",
       "      <td>2.699854</td>\n",
       "    </tr>\n",
       "    <tr>\n",
       "      <th>std</th>\n",
       "      <td>6.206440e+05</td>\n",
       "      <td>2.820761</td>\n",
       "      <td>3.065145</td>\n",
       "      <td>2.988581</td>\n",
       "      <td>2.864562</td>\n",
       "      <td>2.223085</td>\n",
       "      <td>3.643857</td>\n",
       "      <td>2.449697</td>\n",
       "      <td>3.052666</td>\n",
       "      <td>1.732674</td>\n",
       "      <td>0.954592</td>\n",
       "    </tr>\n",
       "    <tr>\n",
       "      <th>min</th>\n",
       "      <td>6.337500e+04</td>\n",
       "      <td>1.000000</td>\n",
       "      <td>1.000000</td>\n",
       "      <td>1.000000</td>\n",
       "      <td>1.000000</td>\n",
       "      <td>1.000000</td>\n",
       "      <td>1.000000</td>\n",
       "      <td>1.000000</td>\n",
       "      <td>1.000000</td>\n",
       "      <td>1.000000</td>\n",
       "      <td>2.000000</td>\n",
       "    </tr>\n",
       "    <tr>\n",
       "      <th>25%</th>\n",
       "      <td>8.776170e+05</td>\n",
       "      <td>2.000000</td>\n",
       "      <td>1.000000</td>\n",
       "      <td>1.000000</td>\n",
       "      <td>1.000000</td>\n",
       "      <td>2.000000</td>\n",
       "      <td>1.000000</td>\n",
       "      <td>2.000000</td>\n",
       "      <td>1.000000</td>\n",
       "      <td>1.000000</td>\n",
       "      <td>2.000000</td>\n",
       "    </tr>\n",
       "    <tr>\n",
       "      <th>50%</th>\n",
       "      <td>1.171795e+06</td>\n",
       "      <td>4.000000</td>\n",
       "      <td>1.000000</td>\n",
       "      <td>1.000000</td>\n",
       "      <td>1.000000</td>\n",
       "      <td>2.000000</td>\n",
       "      <td>1.000000</td>\n",
       "      <td>3.000000</td>\n",
       "      <td>1.000000</td>\n",
       "      <td>1.000000</td>\n",
       "      <td>2.000000</td>\n",
       "    </tr>\n",
       "    <tr>\n",
       "      <th>75%</th>\n",
       "      <td>1.238705e+06</td>\n",
       "      <td>6.000000</td>\n",
       "      <td>5.000000</td>\n",
       "      <td>5.000000</td>\n",
       "      <td>4.000000</td>\n",
       "      <td>4.000000</td>\n",
       "      <td>6.000000</td>\n",
       "      <td>5.000000</td>\n",
       "      <td>4.000000</td>\n",
       "      <td>1.000000</td>\n",
       "      <td>4.000000</td>\n",
       "    </tr>\n",
       "    <tr>\n",
       "      <th>max</th>\n",
       "      <td>1.345435e+07</td>\n",
       "      <td>10.000000</td>\n",
       "      <td>10.000000</td>\n",
       "      <td>10.000000</td>\n",
       "      <td>10.000000</td>\n",
       "      <td>10.000000</td>\n",
       "      <td>10.000000</td>\n",
       "      <td>10.000000</td>\n",
       "      <td>10.000000</td>\n",
       "      <td>10.000000</td>\n",
       "      <td>4.000000</td>\n",
       "    </tr>\n",
       "  </tbody>\n",
       "</table>\n",
       "</div>"
      ],
      "text/plain": [
       "                 ID       Clump    UnifSize   UnifShape     MargAdh  \\\n",
       "count  6.830000e+02  683.000000  683.000000  683.000000  683.000000   \n",
       "mean   1.076720e+06    4.442167    3.150805    3.215227    2.830161   \n",
       "std    6.206440e+05    2.820761    3.065145    2.988581    2.864562   \n",
       "min    6.337500e+04    1.000000    1.000000    1.000000    1.000000   \n",
       "25%    8.776170e+05    2.000000    1.000000    1.000000    1.000000   \n",
       "50%    1.171795e+06    4.000000    1.000000    1.000000    1.000000   \n",
       "75%    1.238705e+06    6.000000    5.000000    5.000000    4.000000   \n",
       "max    1.345435e+07   10.000000   10.000000   10.000000   10.000000   \n",
       "\n",
       "       SingEpiSize     BareNuc  BlandChrom    NormNucl         Mit       Class  \n",
       "count   683.000000  683.000000  683.000000  683.000000  683.000000  683.000000  \n",
       "mean      3.234261    3.544656    3.445095    2.869693    1.603221    2.699854  \n",
       "std       2.223085    3.643857    2.449697    3.052666    1.732674    0.954592  \n",
       "min       1.000000    1.000000    1.000000    1.000000    1.000000    2.000000  \n",
       "25%       2.000000    1.000000    2.000000    1.000000    1.000000    2.000000  \n",
       "50%       2.000000    1.000000    3.000000    1.000000    1.000000    2.000000  \n",
       "75%       4.000000    6.000000    5.000000    4.000000    1.000000    4.000000  \n",
       "max      10.000000   10.000000   10.000000   10.000000   10.000000    4.000000  "
      ]
     },
     "execution_count": 11,
     "metadata": {},
     "output_type": "execute_result"
    }
   ],
   "source": [
    "df.describe()"
   ]
  },
  {
   "cell_type": "code",
   "execution_count": 12,
   "id": "43d187d1",
   "metadata": {},
   "outputs": [
    {
     "data": {
      "text/plain": [
       "2    444\n",
       "4    239\n",
       "Name: Class, dtype: int64"
      ]
     },
     "execution_count": 12,
     "metadata": {},
     "output_type": "execute_result"
    }
   ],
   "source": [
    "df['Class'].value_counts()"
   ]
  },
  {
   "cell_type": "code",
   "execution_count": 57,
   "id": "01de3431",
   "metadata": {},
   "outputs": [
    {
     "data": {
      "image/png": "[encoded data removed]",
      "text/plain": [
       "<Figure size 432x288 with 1 Axes>"
      ]
     },
     "metadata": {
      "needs_background": "light"
     },
     "output_type": "display_data"
    }
   ],
   "source": [
    "ax = df[df['Class'] == 4].plot(kind='scatter', x='Clump', y='UnifSize', color='DarkBlue', label='malignant');\n",
    "df[df['Class'] == 2].plot(kind='scatter', x='Clump', y='UnifSize', color='Yellow', label='benign', ax=ax);\n",
    "plt.title('Clump thickness and Uniformity of cell size vs Class (benign or malignant)')\n",
    "plt.xlabel('Clump thickness')\n",
    "plt.ylabel('Uniformity of cell size')\n",
    "plt.show()"
   ]
  },
  {
   "cell_type": "code",
   "execution_count": 58,
   "id": "f44cf08e",
   "metadata": {},
   "outputs": [
    {
     "data": {
      "image/png": "[encoded data removed]",
      "text/plain": [
       "<Figure size 432x288 with 1 Axes>"
      ]
     },
     "metadata": {
      "needs_background": "light"
     },
     "output_type": "display_data"
    }
   ],
   "source": [
    "ax = df[df['Class'] == 4].plot(kind='scatter', x='UnifSize', y='UnifShape', color='Red', label='malignant');\n",
    "df[df['Class'] == 2].plot(kind='scatter', x='UnifSize', y='UnifShape', color='Green', label='benign', ax=ax);\n",
    "plt.title('Uniformity of cell size and Uniformity of cell shape vs Class (benign or malignant)')\n",
    "plt.xlabel('Uniformity of cell size')\n",
    "plt.ylabel('Uniformity of cell shape')\n",
    "plt.show()"
   ]
  },
  {
   "cell_type": "code",
   "execution_count": 59,
   "id": "beaf1fe4",
   "metadata": {},
   "outputs": [
    {
     "data": {
      "text/plain": [
       "(0.7147899263221598, 7.292503838467768e-108)"
      ]
     },
     "execution_count": 59,
     "metadata": {},
     "output_type": "execute_result"
    }
   ],
   "source": [
    "import scipy.stats\n",
    "scipy.stats.pearsonr(df['Clump'], df['Class'])"
   ]
  },
  {
   "cell_type": "code",
   "execution_count": 60,
   "id": "a7045a37",
   "metadata": {},
   "outputs": [
    {
     "data": {
      "text/plain": [
       "(0.8208014428258759, 8.922226282455344e-168)"
      ]
     },
     "execution_count": 60,
     "metadata": {},
     "output_type": "execute_result"
    }
   ],
   "source": [
    "scipy.stats.pearsonr(df['UnifSize'], df['Class'])"
   ]
  },
  {
   "cell_type": "code",
   "execution_count": 61,
   "id": "74a05c61",
   "metadata": {},
   "outputs": [
    {
     "data": {
      "text/plain": [
       "(0.8218909476888686, 1.3694249229285485e-168)"
      ]
     },
     "execution_count": 61,
     "metadata": {},
     "output_type": "execute_result"
    }
   ],
   "source": [
    "scipy.stats.pearsonr(df['UnifShape'], df['Class'])"
   ]
  },
  {
   "cell_type": "code",
   "execution_count": 62,
   "id": "643e2569",
   "metadata": {},
   "outputs": [
    {
     "data": {
      "text/plain": [
       "(0.7062941354660847, 2.979777609009213e-104)"
      ]
     },
     "execution_count": 62,
     "metadata": {},
     "output_type": "execute_result"
    }
   ],
   "source": [
    "scipy.stats.pearsonr(df['MargAdh'], df['Class'])"
   ]
  },
  {
   "cell_type": "code",
   "execution_count": 63,
   "id": "9c83fafc",
   "metadata": {},
   "outputs": [
    {
     "data": {
      "text/plain": [
       "(0.6909581590873207, 4.733539740955148e-98)"
      ]
     },
     "execution_count": 63,
     "metadata": {},
     "output_type": "execute_result"
    }
   ],
   "source": [
    "scipy.stats.pearsonr(df['SingEpiSize'], df['Class'])"
   ]
  },
  {
   "cell_type": "code",
   "execution_count": 64,
   "id": "73c11cbc",
   "metadata": {},
   "outputs": [
    {
     "data": {
      "text/plain": [
       "(0.8226958729964621, 3.401103273246691e-169)"
      ]
     },
     "execution_count": 64,
     "metadata": {},
     "output_type": "execute_result"
    }
   ],
   "source": [
    "scipy.stats.pearsonr(df['BareNuc'], df['Class'])"
   ]
  },
  {
   "cell_type": "code",
   "execution_count": 65,
   "id": "77107ca8",
   "metadata": {},
   "outputs": [
    {
     "data": {
      "text/plain": [
       "(0.7582275545334312, 1.267711791682159e-128)"
      ]
     },
     "execution_count": 65,
     "metadata": {},
     "output_type": "execute_result"
    }
   ],
   "source": [
    "scipy.stats.pearsonr(df['BlandChrom'], df['Class'])"
   ]
  },
  {
   "cell_type": "code",
   "execution_count": 66,
   "id": "d8eb7bf1",
   "metadata": {},
   "outputs": [
    {
     "data": {
      "text/plain": [
       "(0.7186771878756352, 1.465645368097008e-109)"
      ]
     },
     "execution_count": 66,
     "metadata": {},
     "output_type": "execute_result"
    }
   ],
   "source": [
    "scipy.stats.pearsonr(df['NormNucl'], df['Class'])"
   ]
  },
  {
   "cell_type": "code",
   "execution_count": 67,
   "id": "56ebcd96",
   "metadata": {},
   "outputs": [
    {
     "data": {
      "text/plain": [
       "(0.42344792129521247, 4.304039950943738e-31)"
      ]
     },
     "execution_count": 67,
     "metadata": {},
     "output_type": "execute_result"
    }
   ],
   "source": [
    "scipy.stats.pearsonr(df['Mit'], df['Class'])"
   ]
  },
  {
   "cell_type": "code",
   "execution_count": 75,
   "id": "b343d448",
   "metadata": {},
   "outputs": [],
   "source": [
    "from scipy.stats import pearsonr\n",
    "corr = list()\n",
    "\n",
    "corr.append(pearsonr(df['Clump'], df['Class'])[0])\n",
    "corr.append(pearsonr(df['UnifSize'], df['Class'])[0])\n",
    "corr.append(pearsonr(df['UnifShape'], df['Class'])[0])\n",
    "corr.append(pearsonr(df['MargAdh'], df['Class'])[0])\n",
    "corr.append(pearsonr(df['SingEpiSize'], df['Class'])[0])\n",
    "corr.append(pearsonr(df['BareNuc'], df['Class'])[0])\n",
    "corr.append(pearsonr(df['BlandChrom'], df['Class'])[0])\n",
    "corr.append(pearsonr(df['NormNucl'], df['Class'])[0])\n",
    "corr.append(pearsonr(df['Mit'], df['Class'])[0])\n",
    "\n",
    "p_value = list()\n",
    "\n",
    "p_value.append(pearsonr(df['Clump'], df['Class'])[1])\n",
    "p_value.append(pearsonr(df['UnifSize'], df['Class'])[1])\n",
    "p_value.append(pearsonr(df['UnifShape'], df['Class'])[1])\n",
    "p_value.append(pearsonr(df['MargAdh'], df['Class'])[1])\n",
    "p_value.append(pearsonr(df['SingEpiSize'], df['Class'])[1])\n",
    "p_value.append(pearsonr(df['BareNuc'], df['Class'])[1])\n",
    "p_value.append(pearsonr(df['BlandChrom'], df['Class'])[1])\n",
    "p_value.append(pearsonr(df['NormNucl'], df['Class'])[1])\n",
    "p_value.append(pearsonr(df['Mit'], df['Class'])[1])\n",
    "\n",
    "labels = ['Clump', 'UnifSize', 'UnifShape', 'MargAdh', 'SingEpiSize', 'BareNuc', 'BlandChrom', 'NormNucl', 'Mit']"
   ]
  },
  {
   "cell_type": "code",
   "execution_count": 76,
   "id": "c0d88892",
   "metadata": {},
   "outputs": [
    {
     "data": {
      "text/html": [
       "<div>\n",
       "<style scoped>\n",
       "    .dataframe tbody tr th:only-of-type {\n",
       "        vertical-align: middle;\n",
       "    }\n",
       "\n",
       "    .dataframe tbody tr th {\n",
       "        vertical-align: top;\n",
       "    }\n",
       "\n",
       "    .dataframe thead th {\n",
       "        text-align: right;\n",
       "    }\n",
       "</style>\n",
       "<table border=\"1\" class=\"dataframe\">\n",
       "  <thead>\n",
       "    <tr style=\"text-align: right;\">\n",
       "      <th></th>\n",
       "      <th>Feature</th>\n",
       "      <th>Pearson correlation</th>\n",
       "      <th>P-value</th>\n",
       "    </tr>\n",
       "  </thead>\n",
       "  <tbody>\n",
       "    <tr>\n",
       "      <th>0</th>\n",
       "      <td>Clump</td>\n",
       "      <td>0.714790</td>\n",
       "      <td>7.292504e-108</td>\n",
       "    </tr>\n",
       "    <tr>\n",
       "      <th>1</th>\n",
       "      <td>UnifSize</td>\n",
       "      <td>0.820801</td>\n",
       "      <td>8.922226e-168</td>\n",
       "    </tr>\n",
       "    <tr>\n",
       "      <th>2</th>\n",
       "      <td>UnifShape</td>\n",
       "      <td>0.821891</td>\n",
       "      <td>1.369425e-168</td>\n",
       "    </tr>\n",
       "    <tr>\n",
       "      <th>3</th>\n",
       "      <td>MargAdh</td>\n",
       "      <td>0.706294</td>\n",
       "      <td>2.979778e-104</td>\n",
       "    </tr>\n",
       "    <tr>\n",
       "      <th>4</th>\n",
       "      <td>SingEpiSize</td>\n",
       "      <td>0.690958</td>\n",
       "      <td>4.733540e-98</td>\n",
       "    </tr>\n",
       "    <tr>\n",
       "      <th>5</th>\n",
       "      <td>BareNuc</td>\n",
       "      <td>0.822696</td>\n",
       "      <td>3.401103e-169</td>\n",
       "    </tr>\n",
       "    <tr>\n",
       "      <th>6</th>\n",
       "      <td>BlandChrom</td>\n",
       "      <td>0.758228</td>\n",
       "      <td>1.267712e-128</td>\n",
       "    </tr>\n",
       "    <tr>\n",
       "      <th>7</th>\n",
       "      <td>NormNucl</td>\n",
       "      <td>0.718677</td>\n",
       "      <td>1.465645e-109</td>\n",
       "    </tr>\n",
       "    <tr>\n",
       "      <th>8</th>\n",
       "      <td>Mit</td>\n",
       "      <td>0.423448</td>\n",
       "      <td>4.304040e-31</td>\n",
       "    </tr>\n",
       "  </tbody>\n",
       "</table>\n",
       "</div>"
      ],
      "text/plain": [
       "       Feature  Pearson correlation        P-value\n",
       "0        Clump             0.714790  7.292504e-108\n",
       "1     UnifSize             0.820801  8.922226e-168\n",
       "2    UnifShape             0.821891  1.369425e-168\n",
       "3      MargAdh             0.706294  2.979778e-104\n",
       "4  SingEpiSize             0.690958   4.733540e-98\n",
       "5      BareNuc             0.822696  3.401103e-169\n",
       "6   BlandChrom             0.758228  1.267712e-128\n",
       "7     NormNucl             0.718677  1.465645e-109\n",
       "8          Mit             0.423448   4.304040e-31"
      ]
     },
     "execution_count": 76,
     "metadata": {},
     "output_type": "execute_result"
    }
   ],
   "source": [
    "import pandas as pd\n",
    "data = {'Feature':labels, 'Pearson correlation':corr, 'P-value':p_value}\n",
    "corr_df = pd.DataFrame(data)\n",
    "corr_df"
   ]
  },
  {
   "cell_type": "code",
   "execution_count": 44,
   "id": "32b5998b",
   "metadata": {},
   "outputs": [
    {
     "data": {
      "text/html": [
       "<div>\n",
       "<style scoped>\n",
       "    .dataframe tbody tr th:only-of-type {\n",
       "        vertical-align: middle;\n",
       "    }\n",
       "\n",
       "    .dataframe tbody tr th {\n",
       "        vertical-align: top;\n",
       "    }\n",
       "\n",
       "    .dataframe thead th {\n",
       "        text-align: right;\n",
       "    }\n",
       "</style>\n",
       "<table border=\"1\" class=\"dataframe\">\n",
       "  <thead>\n",
       "    <tr style=\"text-align: right;\">\n",
       "      <th></th>\n",
       "      <th>ID</th>\n",
       "      <th>Clump</th>\n",
       "      <th>UnifSize</th>\n",
       "      <th>UnifShape</th>\n",
       "      <th>MargAdh</th>\n",
       "      <th>SingEpiSize</th>\n",
       "      <th>BareNuc</th>\n",
       "      <th>BlandChrom</th>\n",
       "      <th>NormNucl</th>\n",
       "      <th>Mit</th>\n",
       "      <th>Class</th>\n",
       "      <th>kmeans</th>\n",
       "      <th>agglom-w</th>\n",
       "      <th>agglom-c</th>\n",
       "      <th>agglom-a</th>\n",
       "      <th>agglom-s</th>\n",
       "      <th>class</th>\n",
       "    </tr>\n",
       "  </thead>\n",
       "  <tbody>\n",
       "    <tr>\n",
       "      <th>0</th>\n",
       "      <td>1000025</td>\n",
       "      <td>5</td>\n",
       "      <td>1</td>\n",
       "      <td>1</td>\n",
       "      <td>1</td>\n",
       "      <td>2</td>\n",
       "      <td>1</td>\n",
       "      <td>3</td>\n",
       "      <td>1</td>\n",
       "      <td>1</td>\n",
       "      <td>2</td>\n",
       "      <td>0</td>\n",
       "      <td>1</td>\n",
       "      <td>0</td>\n",
       "      <td>1</td>\n",
       "      <td>0</td>\n",
       "      <td>benign</td>\n",
       "    </tr>\n",
       "    <tr>\n",
       "      <th>1</th>\n",
       "      <td>1002945</td>\n",
       "      <td>5</td>\n",
       "      <td>4</td>\n",
       "      <td>4</td>\n",
       "      <td>5</td>\n",
       "      <td>7</td>\n",
       "      <td>10</td>\n",
       "      <td>3</td>\n",
       "      <td>2</td>\n",
       "      <td>1</td>\n",
       "      <td>2</td>\n",
       "      <td>1</td>\n",
       "      <td>0</td>\n",
       "      <td>0</td>\n",
       "      <td>0</td>\n",
       "      <td>0</td>\n",
       "      <td>benign</td>\n",
       "    </tr>\n",
       "    <tr>\n",
       "      <th>2</th>\n",
       "      <td>1015425</td>\n",
       "      <td>3</td>\n",
       "      <td>1</td>\n",
       "      <td>1</td>\n",
       "      <td>1</td>\n",
       "      <td>2</td>\n",
       "      <td>2</td>\n",
       "      <td>3</td>\n",
       "      <td>1</td>\n",
       "      <td>1</td>\n",
       "      <td>2</td>\n",
       "      <td>0</td>\n",
       "      <td>1</td>\n",
       "      <td>0</td>\n",
       "      <td>1</td>\n",
       "      <td>0</td>\n",
       "      <td>benign</td>\n",
       "    </tr>\n",
       "    <tr>\n",
       "      <th>3</th>\n",
       "      <td>1016277</td>\n",
       "      <td>6</td>\n",
       "      <td>8</td>\n",
       "      <td>8</td>\n",
       "      <td>1</td>\n",
       "      <td>3</td>\n",
       "      <td>4</td>\n",
       "      <td>3</td>\n",
       "      <td>7</td>\n",
       "      <td>1</td>\n",
       "      <td>2</td>\n",
       "      <td>1</td>\n",
       "      <td>0</td>\n",
       "      <td>1</td>\n",
       "      <td>0</td>\n",
       "      <td>0</td>\n",
       "      <td>benign</td>\n",
       "    </tr>\n",
       "    <tr>\n",
       "      <th>4</th>\n",
       "      <td>1017023</td>\n",
       "      <td>4</td>\n",
       "      <td>1</td>\n",
       "      <td>1</td>\n",
       "      <td>3</td>\n",
       "      <td>2</td>\n",
       "      <td>1</td>\n",
       "      <td>3</td>\n",
       "      <td>1</td>\n",
       "      <td>1</td>\n",
       "      <td>2</td>\n",
       "      <td>0</td>\n",
       "      <td>1</td>\n",
       "      <td>0</td>\n",
       "      <td>1</td>\n",
       "      <td>0</td>\n",
       "      <td>benign</td>\n",
       "    </tr>\n",
       "  </tbody>\n",
       "</table>\n",
       "</div>"
      ],
      "text/plain": [
       "        ID  Clump  UnifSize  UnifShape  MargAdh  SingEpiSize  BareNuc  \\\n",
       "0  1000025      5         1          1        1            2        1   \n",
       "1  1002945      5         4          4        5            7       10   \n",
       "2  1015425      3         1          1        1            2        2   \n",
       "3  1016277      6         8          8        1            3        4   \n",
       "4  1017023      4         1          1        3            2        1   \n",
       "\n",
       "   BlandChrom  NormNucl  Mit  Class  kmeans  agglom-w  agglom-c  agglom-a  \\\n",
       "0           3         1    1      2       0         1         0         1   \n",
       "1           3         2    1      2       1         0         0         0   \n",
       "2           3         1    1      2       0         1         0         1   \n",
       "3           3         7    1      2       1         0         1         0   \n",
       "4           3         1    1      2       0         1         0         1   \n",
       "\n",
       "   agglom-s   class  \n",
       "0         0  benign  \n",
       "1         0  benign  \n",
       "2         0  benign  \n",
       "3         0  benign  \n",
       "4         0  benign  "
      ]
     },
     "execution_count": 44,
     "metadata": {},
     "output_type": "execute_result"
    }
   ],
   "source": [
    "df['class'] = df['Class'].apply(lambda x: 'benign' if (x==2)  else 'malignant')\n",
    "df.head()"
   ]
  },
  {
   "cell_type": "code",
   "execution_count": 45,
   "id": "d722e9f2",
   "metadata": {},
   "outputs": [],
   "source": [
    "tr_columns = [x for x in df.columns if x not in ['ID', 'Class', 'class']]"
   ]
  },
  {
   "cell_type": "markdown",
   "id": "227eca2c",
   "metadata": {},
   "source": [
    "<h2>1. K-Means</h2>"
   ]
  },
  {
   "cell_type": "code",
   "execution_count": 46,
   "id": "2cc6db92",
   "metadata": {},
   "outputs": [],
   "source": [
    "from sklearn.cluster import KMeans\n",
    "km = KMeans(init = \"k-means++\", n_clusters = 2, n_init = 12)\n",
    "km = km.fit(df[tr_columns])\n",
    "\n",
    "df['kmeans'] = km.predict(df[tr_columns])"
   ]
  },
  {
   "cell_type": "code",
   "execution_count": 47,
   "id": "41853ea6",
   "metadata": {},
   "outputs": [
    {
     "data": {
      "text/html": [
       "<div>\n",
       "<style scoped>\n",
       "    .dataframe tbody tr th:only-of-type {\n",
       "        vertical-align: middle;\n",
       "    }\n",
       "\n",
       "    .dataframe tbody tr th {\n",
       "        vertical-align: top;\n",
       "    }\n",
       "\n",
       "    .dataframe thead th {\n",
       "        text-align: right;\n",
       "    }\n",
       "</style>\n",
       "<table border=\"1\" class=\"dataframe\">\n",
       "  <thead>\n",
       "    <tr style=\"text-align: right;\">\n",
       "      <th></th>\n",
       "      <th></th>\n",
       "      <th>number</th>\n",
       "    </tr>\n",
       "    <tr>\n",
       "      <th>class</th>\n",
       "      <th>kmeans</th>\n",
       "      <th></th>\n",
       "    </tr>\n",
       "  </thead>\n",
       "  <tbody>\n",
       "    <tr>\n",
       "      <th rowspan=\"2\" valign=\"top\">benign</th>\n",
       "      <th>0</th>\n",
       "      <td>9</td>\n",
       "    </tr>\n",
       "    <tr>\n",
       "      <th>1</th>\n",
       "      <td>435</td>\n",
       "    </tr>\n",
       "    <tr>\n",
       "      <th rowspan=\"2\" valign=\"top\">malignant</th>\n",
       "      <th>0</th>\n",
       "      <td>221</td>\n",
       "    </tr>\n",
       "    <tr>\n",
       "      <th>1</th>\n",
       "      <td>18</td>\n",
       "    </tr>\n",
       "  </tbody>\n",
       "</table>\n",
       "</div>"
      ],
      "text/plain": [
       "                  number\n",
       "class     kmeans        \n",
       "benign    0            9\n",
       "          1          435\n",
       "malignant 0          221\n",
       "          1           18"
      ]
     },
     "execution_count": 47,
     "metadata": {},
     "output_type": "execute_result"
    }
   ],
   "source": [
    "(df[['class','kmeans']]\n",
    " .groupby(['class','kmeans'])\n",
    " .size()\n",
    " .to_frame()\n",
    " .rename(columns={0:'number'}))"
   ]
  },
  {
   "cell_type": "code",
   "execution_count": 18,
   "id": "1994635f",
   "metadata": {},
   "outputs": [],
   "source": [
    "km_list = list()\n",
    "\n",
    "for clust in range(1,21):\n",
    "    km2 = KMeans(n_clusters=clust, random_state=42)\n",
    "    km2 = km2.fit(df[tr_columns])\n",
    "    \n",
    "    km_list.append(pd.Series({'clusters': clust, \n",
    "                              'inertia': km2.inertia_,\n",
    "                              'model': km2}))"
   ]
  },
  {
   "cell_type": "code",
   "execution_count": 19,
   "id": "c4c92b2a",
   "metadata": {},
   "outputs": [
    {
     "data": {
      "image/png": "[encoded data removed]",
      "text/plain": [
       "<Figure size 432x288 with 1 Axes>"
      ]
     },
     "metadata": {
      "needs_background": "light"
     },
     "output_type": "display_data"
    }
   ],
   "source": [
    "plot_data = (pd.concat(km_list, axis=1)\n",
    "             .T\n",
    "             [['clusters','inertia']]\n",
    "             .set_index('clusters'))\n",
    "\n",
    "ax = plot_data.plot(marker='o',ls='-')\n",
    "ax.set_xticks(range(0,21,2))\n",
    "ax.set_xlim(0,21)\n",
    "ax.set(xlabel='Cluster', ylabel='Inertia');"
   ]
  },
  {
   "cell_type": "markdown",
   "id": "7193955d",
   "metadata": {},
   "source": [
    "<h2>2. Hierarchical Agglomerative Clustering (HAC)</h2>"
   ]
  },
  {
   "cell_type": "markdown",
   "id": "07433aee",
   "metadata": {},
   "source": [
    "<h3>2.1. HAC with ward linkage</h3>"
   ]
  },
  {
   "cell_type": "code",
   "execution_count": 20,
   "id": "06260a11",
   "metadata": {},
   "outputs": [],
   "source": [
    "from sklearn.cluster import AgglomerativeClustering\n",
    "ag_1 = AgglomerativeClustering(n_clusters=2, linkage='ward', compute_full_tree=True)\n",
    "ag_1 = ag_1.fit(df[tr_columns])\n",
    "df['agglom-w'] = ag_1.fit_predict(df[tr_columns])"
   ]
  },
  {
   "cell_type": "code",
   "execution_count": 48,
   "id": "9f6eb4f3",
   "metadata": {},
   "outputs": [
    {
     "data": {
      "text/html": [
       "<div>\n",
       "<style scoped>\n",
       "    .dataframe tbody tr th:only-of-type {\n",
       "        vertical-align: middle;\n",
       "    }\n",
       "\n",
       "    .dataframe tbody tr th {\n",
       "        vertical-align: top;\n",
       "    }\n",
       "\n",
       "    .dataframe thead th {\n",
       "        text-align: right;\n",
       "    }\n",
       "</style>\n",
       "<table border=\"1\" class=\"dataframe\">\n",
       "  <thead>\n",
       "    <tr style=\"text-align: right;\">\n",
       "      <th></th>\n",
       "      <th></th>\n",
       "      <th>number</th>\n",
       "    </tr>\n",
       "    <tr>\n",
       "      <th>class</th>\n",
       "      <th>agglom-w</th>\n",
       "      <th></th>\n",
       "    </tr>\n",
       "  </thead>\n",
       "  <tbody>\n",
       "    <tr>\n",
       "      <th rowspan=\"2\" valign=\"top\">benign</th>\n",
       "      <th>0</th>\n",
       "      <td>22</td>\n",
       "    </tr>\n",
       "    <tr>\n",
       "      <th>1</th>\n",
       "      <td>422</td>\n",
       "    </tr>\n",
       "    <tr>\n",
       "      <th rowspan=\"2\" valign=\"top\">malignant</th>\n",
       "      <th>0</th>\n",
       "      <td>238</td>\n",
       "    </tr>\n",
       "    <tr>\n",
       "      <th>1</th>\n",
       "      <td>1</td>\n",
       "    </tr>\n",
       "  </tbody>\n",
       "</table>\n",
       "</div>"
      ],
      "text/plain": [
       "                    number\n",
       "class     agglom-w        \n",
       "benign    0             22\n",
       "          1            422\n",
       "malignant 0            238\n",
       "          1              1"
      ]
     },
     "execution_count": 48,
     "metadata": {},
     "output_type": "execute_result"
    }
   ],
   "source": [
    "(df[['class','agglom-w']]\n",
    " .groupby(['class','agglom-w'])\n",
    " .size()\n",
    " .to_frame()\n",
    " .rename(columns={0:'number'}))"
   ]
  },
  {
   "cell_type": "markdown",
   "id": "564e18d7",
   "metadata": {},
   "source": [
    "<h3>2.2. HAC with complete linkage</h3>"
   ]
  },
  {
   "cell_type": "code",
   "execution_count": 22,
   "id": "3aab8cad",
   "metadata": {},
   "outputs": [],
   "source": [
    "ag_2 = AgglomerativeClustering(n_clusters=2, linkage='complete', compute_full_tree=True)\n",
    "ag_2 = ag_2.fit(df[tr_columns])\n",
    "df['agglom-c'] = ag_2.fit_predict(df[tr_columns])"
   ]
  },
  {
   "cell_type": "code",
   "execution_count": 51,
   "id": "7b109270",
   "metadata": {},
   "outputs": [
    {
     "data": {
      "text/html": [
       "<div>\n",
       "<style scoped>\n",
       "    .dataframe tbody tr th:only-of-type {\n",
       "        vertical-align: middle;\n",
       "    }\n",
       "\n",
       "    .dataframe tbody tr th {\n",
       "        vertical-align: top;\n",
       "    }\n",
       "\n",
       "    .dataframe thead th {\n",
       "        text-align: right;\n",
       "    }\n",
       "</style>\n",
       "<table border=\"1\" class=\"dataframe\">\n",
       "  <thead>\n",
       "    <tr style=\"text-align: right;\">\n",
       "      <th></th>\n",
       "      <th></th>\n",
       "      <th>number</th>\n",
       "    </tr>\n",
       "    <tr>\n",
       "      <th>class</th>\n",
       "      <th>agglom-c</th>\n",
       "      <th></th>\n",
       "    </tr>\n",
       "  </thead>\n",
       "  <tbody>\n",
       "    <tr>\n",
       "      <th rowspan=\"2\" valign=\"top\">benign</th>\n",
       "      <th>0</th>\n",
       "      <td>443</td>\n",
       "    </tr>\n",
       "    <tr>\n",
       "      <th>1</th>\n",
       "      <td>1</td>\n",
       "    </tr>\n",
       "    <tr>\n",
       "      <th rowspan=\"2\" valign=\"top\">malignant</th>\n",
       "      <th>0</th>\n",
       "      <td>128</td>\n",
       "    </tr>\n",
       "    <tr>\n",
       "      <th>1</th>\n",
       "      <td>111</td>\n",
       "    </tr>\n",
       "  </tbody>\n",
       "</table>\n",
       "</div>"
      ],
      "text/plain": [
       "                    number\n",
       "class     agglom-c        \n",
       "benign    0            443\n",
       "          1              1\n",
       "malignant 0            128\n",
       "          1            111"
      ]
     },
     "execution_count": 51,
     "metadata": {},
     "output_type": "execute_result"
    }
   ],
   "source": [
    "(df[['class','agglom-c']]\n",
    " .groupby(['class','agglom-c'])\n",
    " .size()\n",
    " .to_frame()\n",
    " .rename(columns={0:'number'}))"
   ]
  },
  {
   "cell_type": "markdown",
   "id": "5fdd01f3",
   "metadata": {},
   "source": [
    "<h3>2.3. HAC with average linkage</h3>"
   ]
  },
  {
   "cell_type": "code",
   "execution_count": 24,
   "id": "b5f97b31",
   "metadata": {},
   "outputs": [],
   "source": [
    "ag_3 = AgglomerativeClustering(n_clusters=2, linkage='average', compute_full_tree=True)\n",
    "ag_3 = ag_3.fit(df[tr_columns])\n",
    "df['agglom-a'] = ag_3.fit_predict(df[tr_columns])"
   ]
  },
  {
   "cell_type": "code",
   "execution_count": 50,
   "id": "5d91613b",
   "metadata": {},
   "outputs": [
    {
     "data": {
      "text/html": [
       "<div>\n",
       "<style scoped>\n",
       "    .dataframe tbody tr th:only-of-type {\n",
       "        vertical-align: middle;\n",
       "    }\n",
       "\n",
       "    .dataframe tbody tr th {\n",
       "        vertical-align: top;\n",
       "    }\n",
       "\n",
       "    .dataframe thead th {\n",
       "        text-align: right;\n",
       "    }\n",
       "</style>\n",
       "<table border=\"1\" class=\"dataframe\">\n",
       "  <thead>\n",
       "    <tr style=\"text-align: right;\">\n",
       "      <th></th>\n",
       "      <th></th>\n",
       "      <th>number</th>\n",
       "    </tr>\n",
       "    <tr>\n",
       "      <th>class</th>\n",
       "      <th>agglom-a</th>\n",
       "      <th></th>\n",
       "    </tr>\n",
       "  </thead>\n",
       "  <tbody>\n",
       "    <tr>\n",
       "      <th rowspan=\"2\" valign=\"top\">benign</th>\n",
       "      <th>0</th>\n",
       "      <td>8</td>\n",
       "    </tr>\n",
       "    <tr>\n",
       "      <th>1</th>\n",
       "      <td>436</td>\n",
       "    </tr>\n",
       "    <tr>\n",
       "      <th rowspan=\"2\" valign=\"top\">malignant</th>\n",
       "      <th>0</th>\n",
       "      <td>208</td>\n",
       "    </tr>\n",
       "    <tr>\n",
       "      <th>1</th>\n",
       "      <td>31</td>\n",
       "    </tr>\n",
       "  </tbody>\n",
       "</table>\n",
       "</div>"
      ],
      "text/plain": [
       "                    number\n",
       "class     agglom-a        \n",
       "benign    0              8\n",
       "          1            436\n",
       "malignant 0            208\n",
       "          1             31"
      ]
     },
     "execution_count": 50,
     "metadata": {},
     "output_type": "execute_result"
    }
   ],
   "source": [
    "(df[['class','agglom-a']]\n",
    " .groupby(['class','agglom-a'])\n",
    " .size()\n",
    " .to_frame()\n",
    " .rename(columns={0:'number'}))"
   ]
  },
  {
   "cell_type": "markdown",
   "id": "4bdd20da",
   "metadata": {},
   "source": [
    "<h3>3.4. HAC with single linkage</h3>"
   ]
  },
  {
   "cell_type": "code",
   "execution_count": 26,
   "id": "2cc9bab9",
   "metadata": {},
   "outputs": [],
   "source": [
    "ag_4 = AgglomerativeClustering(n_clusters=2, linkage='single', compute_full_tree=True)\n",
    "ag_4 = ag_4.fit(df[tr_columns])\n",
    "df['agglom-s'] = ag_4.fit_predict(df[tr_columns])"
   ]
  },
  {
   "cell_type": "code",
   "execution_count": 52,
   "id": "e87e52a7",
   "metadata": {},
   "outputs": [
    {
     "data": {
      "text/html": [
       "<div>\n",
       "<style scoped>\n",
       "    .dataframe tbody tr th:only-of-type {\n",
       "        vertical-align: middle;\n",
       "    }\n",
       "\n",
       "    .dataframe tbody tr th {\n",
       "        vertical-align: top;\n",
       "    }\n",
       "\n",
       "    .dataframe thead th {\n",
       "        text-align: right;\n",
       "    }\n",
       "</style>\n",
       "<table border=\"1\" class=\"dataframe\">\n",
       "  <thead>\n",
       "    <tr style=\"text-align: right;\">\n",
       "      <th></th>\n",
       "      <th></th>\n",
       "      <th>number</th>\n",
       "    </tr>\n",
       "    <tr>\n",
       "      <th>class</th>\n",
       "      <th>agglom-s</th>\n",
       "      <th></th>\n",
       "    </tr>\n",
       "  </thead>\n",
       "  <tbody>\n",
       "    <tr>\n",
       "      <th>benign</th>\n",
       "      <th>0</th>\n",
       "      <td>444</td>\n",
       "    </tr>\n",
       "    <tr>\n",
       "      <th rowspan=\"2\" valign=\"top\">malignant</th>\n",
       "      <th>0</th>\n",
       "      <td>238</td>\n",
       "    </tr>\n",
       "    <tr>\n",
       "      <th>1</th>\n",
       "      <td>1</td>\n",
       "    </tr>\n",
       "  </tbody>\n",
       "</table>\n",
       "</div>"
      ],
      "text/plain": [
       "                    number\n",
       "class     agglom-s        \n",
       "benign    0            444\n",
       "malignant 0            238\n",
       "          1              1"
      ]
     },
     "execution_count": 52,
     "metadata": {},
     "output_type": "execute_result"
    }
   ],
   "source": [
    "(df[['class','agglom-s']]\n",
    " .groupby(['class','agglom-s'])\n",
    " .size()\n",
    " .to_frame()\n",
    " .rename(columns={0:'number'}))"
   ]
  },
  {
   "cell_type": "code",
   "execution_count": 55,
   "id": "305af1b4",
   "metadata": {},
   "outputs": [
    {
     "data": {
      "text/html": [
       "<div>\n",
       "<style scoped>\n",
       "    .dataframe tbody tr th:only-of-type {\n",
       "        vertical-align: middle;\n",
       "    }\n",
       "\n",
       "    .dataframe tbody tr th {\n",
       "        vertical-align: top;\n",
       "    }\n",
       "\n",
       "    .dataframe thead th {\n",
       "        text-align: right;\n",
       "    }\n",
       "</style>\n",
       "<table border=\"1\" class=\"dataframe\">\n",
       "  <thead>\n",
       "    <tr style=\"text-align: right;\">\n",
       "      <th></th>\n",
       "      <th></th>\n",
       "      <th></th>\n",
       "      <th></th>\n",
       "      <th></th>\n",
       "      <th></th>\n",
       "      <th>number</th>\n",
       "    </tr>\n",
       "    <tr>\n",
       "      <th>class</th>\n",
       "      <th>kmeans</th>\n",
       "      <th>agglom-w</th>\n",
       "      <th>agglom-c</th>\n",
       "      <th>agglom-a</th>\n",
       "      <th>agglom-s</th>\n",
       "      <th></th>\n",
       "    </tr>\n",
       "  </thead>\n",
       "  <tbody>\n",
       "    <tr>\n",
       "      <th rowspan=\"6\" valign=\"top\">benign</th>\n",
       "      <th rowspan=\"3\" valign=\"top\">0</th>\n",
       "      <th rowspan=\"3\" valign=\"top\">0</th>\n",
       "      <th rowspan=\"2\" valign=\"top\">0</th>\n",
       "      <th>0</th>\n",
       "      <th>0</th>\n",
       "      <td>6</td>\n",
       "    </tr>\n",
       "    <tr>\n",
       "      <th>1</th>\n",
       "      <th>0</th>\n",
       "      <td>2</td>\n",
       "    </tr>\n",
       "    <tr>\n",
       "      <th>1</th>\n",
       "      <th>0</th>\n",
       "      <th>0</th>\n",
       "      <td>1</td>\n",
       "    </tr>\n",
       "    <tr>\n",
       "      <th rowspan=\"3\" valign=\"top\">1</th>\n",
       "      <th>0</th>\n",
       "      <th>0</th>\n",
       "      <th>1</th>\n",
       "      <th>0</th>\n",
       "      <td>13</td>\n",
       "    </tr>\n",
       "    <tr>\n",
       "      <th rowspan=\"2\" valign=\"top\">1</th>\n",
       "      <th rowspan=\"2\" valign=\"top\">0</th>\n",
       "      <th>0</th>\n",
       "      <th>0</th>\n",
       "      <td>1</td>\n",
       "    </tr>\n",
       "    <tr>\n",
       "      <th>1</th>\n",
       "      <th>0</th>\n",
       "      <td>421</td>\n",
       "    </tr>\n",
       "    <tr>\n",
       "      <th rowspan=\"6\" valign=\"top\">malignant</th>\n",
       "      <th rowspan=\"4\" valign=\"top\">0</th>\n",
       "      <th rowspan=\"4\" valign=\"top\">0</th>\n",
       "      <th rowspan=\"2\" valign=\"top\">0</th>\n",
       "      <th>0</th>\n",
       "      <th>0</th>\n",
       "      <td>97</td>\n",
       "    </tr>\n",
       "    <tr>\n",
       "      <th>1</th>\n",
       "      <th>0</th>\n",
       "      <td>13</td>\n",
       "    </tr>\n",
       "    <tr>\n",
       "      <th rowspan=\"2\" valign=\"top\">1</th>\n",
       "      <th rowspan=\"2\" valign=\"top\">0</th>\n",
       "      <th>0</th>\n",
       "      <td>110</td>\n",
       "    </tr>\n",
       "    <tr>\n",
       "      <th>1</th>\n",
       "      <td>1</td>\n",
       "    </tr>\n",
       "    <tr>\n",
       "      <th rowspan=\"2\" valign=\"top\">1</th>\n",
       "      <th>0</th>\n",
       "      <th>0</th>\n",
       "      <th>1</th>\n",
       "      <th>0</th>\n",
       "      <td>17</td>\n",
       "    </tr>\n",
       "    <tr>\n",
       "      <th>1</th>\n",
       "      <th>0</th>\n",
       "      <th>1</th>\n",
       "      <th>0</th>\n",
       "      <td>1</td>\n",
       "    </tr>\n",
       "  </tbody>\n",
       "</table>\n",
       "</div>"
      ],
      "text/plain": [
       "                                                      number\n",
       "class     kmeans agglom-w agglom-c agglom-a agglom-s        \n",
       "benign    0      0        0        0        0              6\n",
       "                                   1        0              2\n",
       "                          1        0        0              1\n",
       "          1      0        0        1        0             13\n",
       "                 1        0        0        0              1\n",
       "                                   1        0            421\n",
       "malignant 0      0        0        0        0             97\n",
       "                                   1        0             13\n",
       "                          1        0        0            110\n",
       "                                            1              1\n",
       "          1      0        0        1        0             17\n",
       "                 1        0        1        0              1"
      ]
     },
     "execution_count": 55,
     "metadata": {},
     "output_type": "execute_result"
    }
   ],
   "source": [
    "(df[['class','kmeans', 'agglom-w', 'agglom-c', 'agglom-a', 'agglom-s']]\n",
    " .groupby(['class','kmeans', 'agglom-w', 'agglom-c', 'agglom-a', 'agglom-s'])\n",
    " .size()\n",
    " .to_frame()\n",
    " .rename(columns={0:'number'}))"
   ]
  },
  {
   "cell_type": "code",
   "execution_count": 29,
   "id": "80d1641d",
   "metadata": {},
   "outputs": [],
   "source": [
    "from sklearn import metrics"
   ]
  },
  {
   "cell_type": "code",
   "execution_count": 54,
   "id": "85d03e12",
   "metadata": {},
   "outputs": [
    {
     "data": {
      "text/plain": [
       "0.8464675664733539"
      ]
     },
     "execution_count": 54,
     "metadata": {},
     "output_type": "execute_result"
    }
   ],
   "source": [
    "metrics.adjusted_rand_score(df['kmeans'], df['Class'])"
   ]
  },
  {
   "cell_type": "code",
   "execution_count": 31,
   "id": "1eb30546",
   "metadata": {},
   "outputs": [
    {
     "data": {
      "text/plain": [
       "0.8689991723757481"
      ]
     },
     "execution_count": 31,
     "metadata": {},
     "output_type": "execute_result"
    }
   ],
   "source": [
    "metrics.adjusted_rand_score(df['agglom-w'], df['Class'])"
   ]
  },
  {
   "cell_type": "code",
   "execution_count": 32,
   "id": "92797543",
   "metadata": {},
   "outputs": [
    {
     "data": {
      "text/plain": [
       "0.3607233480946612"
      ]
     },
     "execution_count": 32,
     "metadata": {},
     "output_type": "execute_result"
    }
   ],
   "source": [
    "metrics.adjusted_rand_score(df['agglom-c'], df['Class'])"
   ]
  },
  {
   "cell_type": "code",
   "execution_count": 33,
   "id": "b115fae9",
   "metadata": {},
   "outputs": [
    {
     "data": {
      "text/plain": [
       "0.7817305098400615"
      ]
     },
     "execution_count": 33,
     "metadata": {},
     "output_type": "execute_result"
    }
   ],
   "source": [
    "metrics.adjusted_rand_score(df['agglom-a'], df['Class'])"
   ]
  },
  {
   "cell_type": "code",
   "execution_count": 34,
   "id": "d1fe0d09",
   "metadata": {},
   "outputs": [
    {
     "data": {
      "text/plain": [
       "0.00251025358056564"
      ]
     },
     "execution_count": 34,
     "metadata": {},
     "output_type": "execute_result"
    }
   ],
   "source": [
    "metrics.adjusted_rand_score(df['agglom-s'], df['Class'])"
   ]
  },
  {
   "cell_type": "code",
   "execution_count": 35,
   "id": "ab2b9089",
   "metadata": {},
   "outputs": [
    {
     "data": {
      "text/plain": [
       "0.9307035471794133"
      ]
     },
     "execution_count": 35,
     "metadata": {},
     "output_type": "execute_result"
    }
   ],
   "source": [
    "metrics.fowlkes_mallows_score(df['kmeans'], df['Class'])"
   ]
  },
  {
   "cell_type": "code",
   "execution_count": 36,
   "id": "1a8b260e",
   "metadata": {},
   "outputs": [
    {
     "data": {
      "text/plain": [
       "0.9393219468225392"
      ]
     },
     "execution_count": 36,
     "metadata": {},
     "output_type": "execute_result"
    }
   ],
   "source": [
    "metrics.fowlkes_mallows_score(df['agglom-w'], df['Class'])"
   ]
  },
  {
   "cell_type": "code",
   "execution_count": 37,
   "id": "de45af1a",
   "metadata": {},
   "outputs": [
    {
     "data": {
      "text/plain": [
       "0.7661738305070623"
      ]
     },
     "execution_count": 37,
     "metadata": {},
     "output_type": "execute_result"
    }
   ],
   "source": [
    "metrics.fowlkes_mallows_score(df['agglom-c'], df['Class'])"
   ]
  },
  {
   "cell_type": "code",
   "execution_count": 38,
   "id": "75820c54",
   "metadata": {},
   "outputs": [
    {
     "data": {
      "text/plain": [
       "0.9031442352470486"
      ]
     },
     "execution_count": 38,
     "metadata": {},
     "output_type": "execute_result"
    }
   ],
   "source": [
    "metrics.fowlkes_mallows_score(df['agglom-a'], df['Class'])"
   ]
  },
  {
   "cell_type": "code",
   "execution_count": 39,
   "id": "d1823a70",
   "metadata": {},
   "outputs": [
    {
     "data": {
      "text/plain": [
       "0.7375145782650321"
      ]
     },
     "execution_count": 39,
     "metadata": {},
     "output_type": "execute_result"
    }
   ],
   "source": [
    "metrics.fowlkes_mallows_score(df['agglom-s'], df['Class'])"
   ]
  },
  {
   "cell_type": "markdown",
   "id": "3a6f1229",
   "metadata": {},
   "source": [
    "| Model                  | Adjusted Rand | Fowlkes Mallows  |\n",
    "| ---------------------- | ------------- | ---------------- |\n",
    "| K-Means                |     0.8465    |     0.9307       |\n",
    "| HAC (ward linkage)     |     0.8690    |     0.9393       |\n",
    "| HAC (complete linkage) |     0.3607    |     0.7662       |\n",
    "| HAC (average linkage)  |     0.7817    |     0.9031       |\n",
    "| HAC (single linkage)   |     0.0025    |     0.7375       |"
   ]
  }
 ],
 "metadata": {
  "kernelspec": {
   "display_name": "Python 3",
   "language": "python",
   "name": "python3"
  },
  "language_info": {
   "codemirror_mode": {
    "name": "ipython",
    "version": 3
   },
   "file_extension": ".py",
   "mimetype": "text/x-python",
   "name": "python",
   "nbconvert_exporter": "python",
   "pygments_lexer": "ipython3",
   "version": "3.8.10"
  }
 },
 "nbformat": 4,
 "nbformat_minor": 5
}
